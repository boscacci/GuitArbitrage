{
 "cells": [
  {
   "cell_type": "code",
   "execution_count": 1,
   "metadata": {},
   "outputs": [
    {
     "name": "stdout",
     "output_type": "stream",
     "text": [
      "**************\n",
      "Importing modules\n",
      "**************\n",
      "Importing JSON Guitars\n",
      "Getting started training model on 14473 historical auctions\n"
     ]
    },
    {
     "data": {
      "text/plain": [
       "<Figure size 1800x600 with 1 Axes>"
      ]
     },
     "metadata": {},
     "output_type": "display_data"
    }
   ],
   "source": [
    "stars = '**************'\n",
    "print(stars)\n",
    "print('Importing modules')\n",
    "\n",
    "import os, operator, itertools, pickle, sys, string\n",
    "from copy import copy\n",
    "\n",
    "import numpy as np\n",
    "import pandas as pd\n",
    "# pd.options.display.max_columns = 999\n",
    "pd.options.display.max_rows = 999\n",
    "\n",
    "import matplotlib.pyplot as plt\n",
    "import seaborn as sns\n",
    "\n",
    "from scipy.stats import boxcox\n",
    "from scipy.special import inv_boxcox\n",
    "\n",
    "import nltk\n",
    "from nltk.corpus import stopwords\n",
    "from nltk import word_tokenize, FreqDist\n",
    "from nltk.stem.snowball import SnowballStemmer\n",
    "from sklearn.feature_extraction.text import TfidfVectorizer\n",
    "\n",
    "from sklearn.preprocessing import StandardScaler, FunctionTransformer\n",
    "from sklearn.feature_selection import f_regression, SelectPercentile\n",
    "from sklearn.model_selection import train_test_split\n",
    "from sklearn.metrics import mean_squared_error, confusion_matrix\n",
    "from sklearn.pipeline import make_pipeline, make_union\n",
    "\n",
    "from sklearn.linear_model import LassoCV, RidgeCV\n",
    "from sklearn.ensemble import RandomForestRegressor\n",
    "from tpot.builtins import StackingEstimator\n",
    "import xgboost\n",
    "\n",
    "np.random.seed(0)\n",
    "\n",
    "sys.path.insert(0, 'objects')\n",
    "sys.path.insert(0, 'data')\n",
    "sys.path.insert(0, 'pickles')\n",
    "\n",
    "from Shade_Sale import Shade_Sale\n",
    "\n",
    "print(stars)\n",
    "print('Importing JSON Guitars')\n",
    "\n",
    "file_names = [name for name in os.listdir('data/specs/') if not name.startswith('.')] # Ignores hidden files on mac\n",
    "\n",
    "items = []\n",
    "for filename in file_names:\n",
    "    try:\n",
    "        this_item = Shade_Sale('data/listings', 'data/specs', filename)\n",
    "        if \"LOT\" not in this_item.title.upper() and this_item.country_seller == 'US' and this_item.price < 1500:# and this_item.price > 50:\n",
    "            items.append(this_item)\n",
    "    except ValueError:\n",
    "        print('valerror')\n",
    "        pass\n",
    "    \n",
    "print(f'Getting started training model on {len(items)} historical auctions')\n",
    "\n",
    "orig_prices = pd.Series([item.price for item in items], name = 'prices')\n",
    "\n",
    "bxcx_lam = .1\n",
    "prices = pd.Series(boxcox([item.price for item in items], lmbda=bxcx_lam), name = 'prices')\n",
    "plt.figure(figsize = (18,6))\n",
    "plt.hist(prices, bins=50)\n",
    "plt.ylabel('Frequency')\n",
    "plt.xlabel('Guitar Price in USD')\n",
    "plt.show()"
   ]
  },
  {
   "cell_type": "code",
   "execution_count": 2,
   "metadata": {},
   "outputs": [],
   "source": [
    "title_lengths       = pd.Series([item.len_title for item in items], name = 'title_lengths')\n",
    "auction_duration    = pd.cut(pd.Series([item.duration/24 for item in items], name = 'auction_duration'),[0,1,2,4,6,7])\n",
    "shipping_charged    = pd.Series([item.price_shipping for item in items], name = 'shipping_charged')\n",
    "autopay             = pd.Series([item.autopay for item in items], name = 'autopay')\n",
    "returns             = pd.Series([item.returns for item in items], name = 'returns')\n",
    "listing_type        = pd.Series([item.listing_type for item in items], name = 'listing_type')\n",
    "ship_type           = pd.Series([item.ship_type for item in items], name = 'ship_type')\n",
    "ship_expedite       = pd.Series([item.ship_expedite for item in items], name = 'ship_expedite')\n",
    "start_hour          = pd.cut(pd.Series([item.start_time.hour for item in items], name = 'start_hour'), 6)\n",
    "end_hour            = pd.cut(pd.Series([item.end_time.hour for item in items], name = 'end_hour'), 6)\n",
    "start_weekday       = pd.Series([item.start_weekday for item in items], name = 'start_weekday').astype('category')\n",
    "end_weekday         = pd.Series([item.end_weekday for item in items], name = 'end_weekday').astype('category')\n",
    "returns_time        = pd.Series([item.returns_time for item in items], name = \"returns_time\").astype('category')\n",
    "num_pics            = pd.cut(pd.Series([item.pic_quantity for item in items], name = \"num_pics\"),[0,3,5,7,9,12])\n",
    "brand               = pd.Series([item.brand for item in items], name = \"brand\")\n",
    "frame_color         = pd.Series([item.frame_color for item in items], name = \"frame_color\")\n",
    "lens_color          = pd.Series([item.lens_color for item in items], name = \"lens_color\")\n",
    "frame_material      = pd.Series([item.frame_material for item in items], name = \"frame_material\")\n",
    "lens_tech           = pd.Series([item.lens_tech for item in items], name = \"lens_tech\")\n",
    "best_offer_enabled  = pd.Series([item.best_offer_enabled for item in items], name = \"best_offer_enabled\")\n",
    "country_manufacture = pd.Series([item.country_manufacture for item in items], name = \"country_manufacture\")\n",
    "temple_length_listed= pd.Series([item.temple_length_binary for item in items], name = \"temple_length_listed\")\n",
    "style               = pd.Series([item.style for item in items], name = \"style\")\n",
    "protection          = pd.Series([item.protection for item in items], name = \"protection\")\n",
    "\n",
    "ship_handling_time = pd.cut(pd.Series([item.ship_handling_time for item in items], name = 'ship_handling_time'), [-1,0,1,2,3,50])\n",
    "\n",
    "feedback_lmbda = -.02\n",
    "seller_feedback_score_boxed = pd.Series(boxcox([item.seller_feedback_score + 5 for item in items], lmbda=feedback_lmbda), name='seller_feedback_score_boxed')"
   ]
  },
  {
   "cell_type": "code",
   "execution_count": 3,
   "metadata": {},
   "outputs": [],
   "source": [
    "# ## Text as a Regression Feature\n",
    "# http://www-stat.wharton.upenn.edu/~stine/research/regressor.pdf\n",
    "def assemble_guitar_document(item):\n",
    "    document = item.title + ' '\n",
    "    if item.frame_color != 'UNLISTED':\n",
    "        document += item.frame_color + ' '\n",
    "    if item.lens_color != 'UNLISTED':\n",
    "        document += item.lens_color + ' '\n",
    "    if item.frame_material != 'UNLISTED':\n",
    "        document += item.frame_material + ' '\n",
    "    if item.model != 'UNLISTED':\n",
    "        document += item.model + ' ' \n",
    "    if item.style != 'UNLISTED':\n",
    "        document += item.style + ' '\n",
    "    if item.brand != 'UNLISTED':\n",
    "        document += item.brand + ' '\n",
    "    if item.lens_tech != 'UNLISTED':\n",
    "        document += item.lens_tech + ' '\n",
    "    if item.protection != 'UNLISTED':\n",
    "        document += item.protection + ' '\n",
    "    if item.subtitle != None:\n",
    "        document += item.subtitle + ' '\n",
    "    if item.condition_description != None:\n",
    "        document += item.condition_description + ' '\n",
    "    if item.description != None:\n",
    "        document += item.description\n",
    "    return document"
   ]
  },
  {
   "cell_type": "code",
   "execution_count": 4,
   "metadata": {},
   "outputs": [
    {
     "name": "stdout",
     "output_type": "stream",
     "text": [
      "**************\n",
      "Processing Text Corpus...\n"
     ]
    }
   ],
   "source": [
    "raw_corpus = [assemble_guitar_document(item).lower() for item in items]\n",
    "\n",
    "stemmer = SnowballStemmer(\"english\")\n",
    "\n",
    "stopwords_list = stopwords.words('english') + list(string.punctuation)\n",
    "stopwords_list += [\"''\", '\"\"', '...', '``', \",\", \".\", \":\", \"'s\", \"--\",\"’\"]\n",
    "\n",
    "def process_doc(doc):\n",
    "    stopwords_removed = ''\n",
    "    tokens = nltk.word_tokenize(doc)\n",
    "    for i in range(len(tokens)):\n",
    "        if tokens[i].lower() not in stopwords_list and tokens[i] not in string.punctuation:\n",
    "            stopwords_removed += stemmer.stem(tokens[i]) + ' '\n",
    "    return stopwords_removed\n",
    "\n",
    "print(stars)\n",
    "print('Processing Text Corpus...')\n",
    "\n",
    "processed_text = pd.Series(list(map(process_doc, raw_corpus)), \n",
    "                           name = 'text')"
   ]
  },
  {
   "cell_type": "code",
   "execution_count": 5,
   "metadata": {},
   "outputs": [],
   "source": [
    "# ## Assemble the Feature Set\n",
    "X_dummies = pd.concat([title_lengths, \n",
    "                       brand, \n",
    "                       frame_color, \n",
    "                       frame_material, \n",
    "                       lens_color,\n",
    "                       lens_tech,\n",
    "                       country_manufacture, \n",
    "                       best_offer_enabled, \n",
    "                       shipping_charged, \n",
    "                       returns,\n",
    "                       returns_time,\n",
    "                       autopay, \n",
    "                       ship_handling_time, \n",
    "                       listing_type, \n",
    "                       ship_expedite,\n",
    "                       ship_type, \n",
    "                       num_pics, \n",
    "                       auction_duration, \n",
    "                       start_hour, \n",
    "                       end_hour, \n",
    "                       start_weekday, \n",
    "                       end_weekday, \n",
    "                       seller_feedback_score_boxed,\n",
    "                       style,\n",
    "                       protection,\n",
    "                       temple_length_listed],\n",
    "              axis = 1)\n",
    "\n",
    "X = pd.get_dummies(X_dummies, drop_first=True)"
   ]
  },
  {
   "cell_type": "code",
   "execution_count": 6,
   "metadata": {},
   "outputs": [
    {
     "name": "stdout",
     "output_type": "stream",
     "text": [
      "**************\n",
      "Splitting...\n"
     ]
    }
   ],
   "source": [
    "# ### SPLIT\n",
    "\n",
    "print(stars)\n",
    "print('Splitting...')\n",
    "\n",
    "X = pd.concat([X, processed_text], axis=1)\n",
    "X_train, X_test, y_train, y_test = train_test_split(X, prices, test_size=.20)#, random_state=42)"
   ]
  },
  {
   "cell_type": "code",
   "execution_count": 7,
   "metadata": {},
   "outputs": [
    {
     "name": "stdout",
     "output_type": "stream",
     "text": [
      "**************\n",
      "Vectorizing Text...\n"
     ]
    }
   ],
   "source": [
    "# Text Features vectorization\n",
    "\n",
    "print(stars)\n",
    "print('Vectorizing Text...')\n",
    "\n",
    "vectorizer = TfidfVectorizer(norm=None, ngram_range=(2,3), strip_accents='ascii',\n",
    "#                             max_df=0.8, min_df=2,\n",
    "                             max_features=300)\n",
    "\n",
    "vectorizer.fit(X_train['text'])\n",
    "\n",
    "outfile = open('pickles/saved_vectorizer','wb')\n",
    "pickle.dump(vectorizer,outfile)\n",
    "outfile.close()\n",
    "\n",
    "tfidf_train = vectorizer.transform(X_train['text'])\n",
    "tfidf_train_df = pd.DataFrame(tfidf_train.toarray(), columns=vectorizer.get_feature_names())\n",
    "\n",
    "tfidf_test = vectorizer.transform(X_test['text'])\n",
    "tfidf_test_df = pd.DataFrame(tfidf_test.toarray(), columns=vectorizer.get_feature_names())\n",
    "\n",
    "X_train_to_scale = pd.concat([X_train.reset_index(drop=True), tfidf_train_df], axis=1).drop('text',axis=1)\n",
    "X_test_to_scale = pd.concat([X_test.reset_index(drop=True), tfidf_test_df], axis=1).drop('text',axis=1)"
   ]
  },
  {
   "cell_type": "code",
   "execution_count": 8,
   "metadata": {},
   "outputs": [
    {
     "name": "stdout",
     "output_type": "stream",
     "text": [
      "**************\n",
      "Scaling...\n"
     ]
    },
    {
     "name": "stderr",
     "output_type": "stream",
     "text": [
      "/Users/rob/.local/share/virtualenvs/ebay_valuator-vRvGBMQn/lib/python3.7/site-packages/sklearn/preprocessing/data.py:645: DataConversionWarning: Data with input dtype bool, uint8, int64, float64 were all converted to float64 by StandardScaler.\n",
      "  return self.partial_fit(X, y)\n",
      "/Users/rob/.local/share/virtualenvs/ebay_valuator-vRvGBMQn/lib/python3.7/site-packages/sklearn/base.py:464: DataConversionWarning: Data with input dtype bool, uint8, int64, float64 were all converted to float64 by StandardScaler.\n",
      "  return self.fit(X, **fit_params).transform(X)\n",
      "/Users/rob/.local/share/virtualenvs/ebay_valuator-vRvGBMQn/lib/python3.7/site-packages/ipykernel_launcher.py:7: DataConversionWarning: Data with input dtype bool, uint8, int64, float64 were all converted to float64 by StandardScaler.\n",
      "  import sys\n"
     ]
    }
   ],
   "source": [
    "print(stars)\n",
    "print('Scaling...')\n",
    "\n",
    "# ### Scale It \n",
    "scaler = StandardScaler()\n",
    "X_train_scaled = pd.DataFrame(scaler.fit_transform(X_train_to_scale), columns=X_train_to_scale.columns)\n",
    "X_test_scaled  = pd.DataFrame(scaler.transform(X_test_to_scale), columns=X_test_to_scale.columns)\n",
    "\n",
    "outfile = open('pickles/saved_scaler','wb')\n",
    "pickle.dump(scaler,outfile)\n",
    "outfile.close()"
   ]
  },
  {
   "cell_type": "code",
   "execution_count": 9,
   "metadata": {},
   "outputs": [],
   "source": [
    "# ### Generate a Tensorboard Projector Visualization:\n",
    "\n",
    "# import tensorflow as tf\n",
    "# from tensorflow.contrib.tensorboard.plugins import projector\n",
    "# board_data = pd.DataFrame(vectorizer.transform(processed_text).toarray(), \n",
    "#                           columns = vectorizer.get_feature_names())\n",
    "# board_data.shape\n",
    "# LOG_DIR = 'logs'\n",
    "# board_data_tf = tf.Variable(board_data, name='board_data_tf')\n",
    "# metadata = os.path.join(LOG_DIR, 'metadata.tsv')\n",
    "# with open(metadata, 'w') as metadata_file:\n",
    "#     for row in [item.title[:25] for item in items]:\n",
    "#         metadata_file.write('%s\\n' % row)\n",
    "# with tf.Session() as sess:\n",
    "#     saver = tf.train.Saver([board_data_tf])\n",
    "#     sess.run(board_data_tf.initializer)\n",
    "#     saver.save(sess, os.path.join(LOG_DIR, 'board_data_tf.ckpt'))\n",
    "#     config = projector.ProjectorConfig()\n",
    "#     # One can add multiple embeddings.\n",
    "#     embedding = config.embeddings.add()\n",
    "#     embedding.tensor_name = board_data_tf.name\n",
    "#     # Link this tensor to its metadata file (e.g. labels).\n",
    "#     embedding.metadata_path = metadata\n",
    "#     # Saves a config file that TensorBoard will read during startup.\n",
    "#     projector.visualize_embeddings(tf.summary.FileWriter(LOG_DIR), config)"
   ]
  },
  {
   "cell_type": "code",
   "execution_count": 10,
   "metadata": {},
   "outputs": [
    {
     "name": "stdout",
     "output_type": "stream",
     "text": [
      "Baseline error to beat is $81.61 RMSE\n"
     ]
    }
   ],
   "source": [
    "# ### Baseline Naive Error - Guess the Mean Price\n",
    "price_mean = np.mean(y_train)\n",
    "price_mean_vector = inv_boxcox([price_mean for i in range(len(y_test))],bxcx_lam)\n",
    "baseline_error = np.sqrt(mean_squared_error(inv_boxcox(y_test, bxcx_lam), price_mean_vector))\n",
    "print(f'Baseline error to beat is ${round(baseline_error,2)} RMSE')"
   ]
  },
  {
   "cell_type": "code",
   "execution_count": 11,
   "metadata": {},
   "outputs": [
    {
     "name": "stdout",
     "output_type": "stream",
     "text": [
      "**************\n",
      "Pickling columns...\n"
     ]
    }
   ],
   "source": [
    "print(stars)\n",
    "print('Pickling columns...')\n",
    "\n",
    "filename = 'pickles/bonus_columns'\n",
    "outfile = open(filename, 'wb')\n",
    "pickle.dump(list(X_train_scaled.columns), outfile)\n",
    "outfile.close()"
   ]
  },
  {
   "cell_type": "code",
   "execution_count": 12,
   "metadata": {},
   "outputs": [
    {
     "data": {
      "text/plain": [
       "(11578, 399)"
      ]
     },
     "execution_count": 12,
     "metadata": {},
     "output_type": "execute_result"
    }
   ],
   "source": [
    "X_train_scaled.shape"
   ]
  },
  {
   "cell_type": "code",
   "execution_count": 13,
   "metadata": {
    "scrolled": true
   },
   "outputs": [
    {
     "name": "stdout",
     "output_type": "stream",
     "text": [
      "**************\n",
      "Training a Lasso Regressor...\n"
     ]
    },
    {
     "name": "stderr",
     "output_type": "stream",
     "text": [
      "/Users/rob/.local/share/virtualenvs/ebay_valuator-vRvGBMQn/lib/python3.7/site-packages/sklearn/linear_model/coordinate_descent.py:492: ConvergenceWarning: Objective did not converge. You might want to increase the number of iterations. Fitting data with very small alpha may cause precision problems.\n",
      "  ConvergenceWarning)\n",
      "/Users/rob/.local/share/virtualenvs/ebay_valuator-vRvGBMQn/lib/python3.7/site-packages/sklearn/linear_model/coordinate_descent.py:492: ConvergenceWarning: Objective did not converge. You might want to increase the number of iterations. Fitting data with very small alpha may cause precision problems.\n",
      "  ConvergenceWarning)\n",
      "/Users/rob/.local/share/virtualenvs/ebay_valuator-vRvGBMQn/lib/python3.7/site-packages/sklearn/linear_model/coordinate_descent.py:492: ConvergenceWarning: Objective did not converge. You might want to increase the number of iterations. Fitting data with very small alpha may cause precision problems.\n",
      "  ConvergenceWarning)\n",
      "/Users/rob/.local/share/virtualenvs/ebay_valuator-vRvGBMQn/lib/python3.7/site-packages/sklearn/linear_model/coordinate_descent.py:492: ConvergenceWarning: Objective did not converge. You might want to increase the number of iterations. Fitting data with very small alpha may cause precision problems.\n",
      "  ConvergenceWarning)\n",
      "/Users/rob/.local/share/virtualenvs/ebay_valuator-vRvGBMQn/lib/python3.7/site-packages/sklearn/linear_model/coordinate_descent.py:492: ConvergenceWarning: Objective did not converge. You might want to increase the number of iterations. Fitting data with very small alpha may cause precision problems.\n",
      "  ConvergenceWarning)\n",
      "/Users/rob/.local/share/virtualenvs/ebay_valuator-vRvGBMQn/lib/python3.7/site-packages/sklearn/linear_model/coordinate_descent.py:492: ConvergenceWarning: Objective did not converge. You might want to increase the number of iterations. Fitting data with very small alpha may cause precision problems.\n",
      "  ConvergenceWarning)\n",
      "/Users/rob/.local/share/virtualenvs/ebay_valuator-vRvGBMQn/lib/python3.7/site-packages/sklearn/linear_model/coordinate_descent.py:492: ConvergenceWarning: Objective did not converge. You might want to increase the number of iterations. Fitting data with very small alpha may cause precision problems.\n",
      "  ConvergenceWarning)\n",
      "/Users/rob/.local/share/virtualenvs/ebay_valuator-vRvGBMQn/lib/python3.7/site-packages/sklearn/linear_model/coordinate_descent.py:492: ConvergenceWarning: Objective did not converge. You might want to increase the number of iterations. Fitting data with very small alpha may cause precision problems.\n",
      "  ConvergenceWarning)\n",
      "/Users/rob/.local/share/virtualenvs/ebay_valuator-vRvGBMQn/lib/python3.7/site-packages/sklearn/linear_model/coordinate_descent.py:492: ConvergenceWarning: Objective did not converge. You might want to increase the number of iterations. Fitting data with very small alpha may cause precision problems.\n",
      "  ConvergenceWarning)\n",
      "/Users/rob/.local/share/virtualenvs/ebay_valuator-vRvGBMQn/lib/python3.7/site-packages/sklearn/linear_model/coordinate_descent.py:492: ConvergenceWarning: Objective did not converge. You might want to increase the number of iterations. Fitting data with very small alpha may cause precision problems.\n",
      "  ConvergenceWarning)\n",
      "/Users/rob/.local/share/virtualenvs/ebay_valuator-vRvGBMQn/lib/python3.7/site-packages/sklearn/linear_model/coordinate_descent.py:492: ConvergenceWarning: Objective did not converge. You might want to increase the number of iterations. Fitting data with very small alpha may cause precision problems.\n",
      "  ConvergenceWarning)\n",
      "/Users/rob/.local/share/virtualenvs/ebay_valuator-vRvGBMQn/lib/python3.7/site-packages/sklearn/linear_model/coordinate_descent.py:492: ConvergenceWarning: Objective did not converge. You might want to increase the number of iterations. Fitting data with very small alpha may cause precision problems.\n",
      "  ConvergenceWarning)\n",
      "/Users/rob/.local/share/virtualenvs/ebay_valuator-vRvGBMQn/lib/python3.7/site-packages/sklearn/linear_model/coordinate_descent.py:492: ConvergenceWarning: Objective did not converge. You might want to increase the number of iterations. Fitting data with very small alpha may cause precision problems.\n",
      "  ConvergenceWarning)\n",
      "/Users/rob/.local/share/virtualenvs/ebay_valuator-vRvGBMQn/lib/python3.7/site-packages/sklearn/linear_model/coordinate_descent.py:492: ConvergenceWarning: Objective did not converge. You might want to increase the number of iterations. Fitting data with very small alpha may cause precision problems.\n",
      "  ConvergenceWarning)\n",
      "/Users/rob/.local/share/virtualenvs/ebay_valuator-vRvGBMQn/lib/python3.7/site-packages/sklearn/linear_model/coordinate_descent.py:492: ConvergenceWarning: Objective did not converge. You might want to increase the number of iterations. Fitting data with very small alpha may cause precision problems.\n",
      "  ConvergenceWarning)\n",
      "/Users/rob/.local/share/virtualenvs/ebay_valuator-vRvGBMQn/lib/python3.7/site-packages/sklearn/linear_model/coordinate_descent.py:492: ConvergenceWarning: Objective did not converge. You might want to increase the number of iterations. Fitting data with very small alpha may cause precision problems.\n",
      "  ConvergenceWarning)\n",
      "/Users/rob/.local/share/virtualenvs/ebay_valuator-vRvGBMQn/lib/python3.7/site-packages/sklearn/linear_model/coordinate_descent.py:492: ConvergenceWarning: Objective did not converge. You might want to increase the number of iterations. Fitting data with very small alpha may cause precision problems.\n",
      "  ConvergenceWarning)\n",
      "/Users/rob/.local/share/virtualenvs/ebay_valuator-vRvGBMQn/lib/python3.7/site-packages/sklearn/linear_model/coordinate_descent.py:492: ConvergenceWarning: Objective did not converge. You might want to increase the number of iterations. Fitting data with very small alpha may cause precision problems.\n",
      "  ConvergenceWarning)\n",
      "/Users/rob/.local/share/virtualenvs/ebay_valuator-vRvGBMQn/lib/python3.7/site-packages/sklearn/linear_model/coordinate_descent.py:492: ConvergenceWarning: Objective did not converge. You might want to increase the number of iterations. Fitting data with very small alpha may cause precision problems.\n",
      "  ConvergenceWarning)\n",
      "/Users/rob/.local/share/virtualenvs/ebay_valuator-vRvGBMQn/lib/python3.7/site-packages/sklearn/linear_model/coordinate_descent.py:492: ConvergenceWarning: Objective did not converge. You might want to increase the number of iterations. Fitting data with very small alpha may cause precision problems.\n",
      "  ConvergenceWarning)\n",
      "/Users/rob/.local/share/virtualenvs/ebay_valuator-vRvGBMQn/lib/python3.7/site-packages/sklearn/linear_model/coordinate_descent.py:492: ConvergenceWarning: Objective did not converge. You might want to increase the number of iterations. Fitting data with very small alpha may cause precision problems.\n",
      "  ConvergenceWarning)\n",
      "/Users/rob/.local/share/virtualenvs/ebay_valuator-vRvGBMQn/lib/python3.7/site-packages/sklearn/linear_model/coordinate_descent.py:492: ConvergenceWarning: Objective did not converge. You might want to increase the number of iterations. Fitting data with very small alpha may cause precision problems.\n",
      "  ConvergenceWarning)\n",
      "/Users/rob/.local/share/virtualenvs/ebay_valuator-vRvGBMQn/lib/python3.7/site-packages/sklearn/linear_model/coordinate_descent.py:492: ConvergenceWarning: Objective did not converge. You might want to increase the number of iterations. Fitting data with very small alpha may cause precision problems.\n",
      "  ConvergenceWarning)\n",
      "/Users/rob/.local/share/virtualenvs/ebay_valuator-vRvGBMQn/lib/python3.7/site-packages/sklearn/linear_model/coordinate_descent.py:492: ConvergenceWarning: Objective did not converge. You might want to increase the number of iterations. Fitting data with very small alpha may cause precision problems.\n",
      "  ConvergenceWarning)\n",
      "/Users/rob/.local/share/virtualenvs/ebay_valuator-vRvGBMQn/lib/python3.7/site-packages/sklearn/linear_model/coordinate_descent.py:492: ConvergenceWarning: Objective did not converge. You might want to increase the number of iterations. Fitting data with very small alpha may cause precision problems.\n",
      "  ConvergenceWarning)\n",
      "/Users/rob/.local/share/virtualenvs/ebay_valuator-vRvGBMQn/lib/python3.7/site-packages/sklearn/linear_model/coordinate_descent.py:492: ConvergenceWarning: Objective did not converge. You might want to increase the number of iterations. Fitting data with very small alpha may cause precision problems.\n",
      "  ConvergenceWarning)\n",
      "/Users/rob/.local/share/virtualenvs/ebay_valuator-vRvGBMQn/lib/python3.7/site-packages/sklearn/linear_model/coordinate_descent.py:492: ConvergenceWarning: Objective did not converge. You might want to increase the number of iterations. Fitting data with very small alpha may cause precision problems.\n",
      "  ConvergenceWarning)\n",
      "/Users/rob/.local/share/virtualenvs/ebay_valuator-vRvGBMQn/lib/python3.7/site-packages/sklearn/linear_model/coordinate_descent.py:492: ConvergenceWarning: Objective did not converge. You might want to increase the number of iterations. Fitting data with very small alpha may cause precision problems.\n",
      "  ConvergenceWarning)\n"
     ]
    },
    {
     "name": "stderr",
     "output_type": "stream",
     "text": [
      "/Users/rob/.local/share/virtualenvs/ebay_valuator-vRvGBMQn/lib/python3.7/site-packages/sklearn/linear_model/coordinate_descent.py:492: ConvergenceWarning: Objective did not converge. You might want to increase the number of iterations. Fitting data with very small alpha may cause precision problems.\n",
      "  ConvergenceWarning)\n",
      "/Users/rob/.local/share/virtualenvs/ebay_valuator-vRvGBMQn/lib/python3.7/site-packages/sklearn/linear_model/coordinate_descent.py:492: ConvergenceWarning: Objective did not converge. You might want to increase the number of iterations. Fitting data with very small alpha may cause precision problems.\n",
      "  ConvergenceWarning)\n",
      "/Users/rob/.local/share/virtualenvs/ebay_valuator-vRvGBMQn/lib/python3.7/site-packages/sklearn/linear_model/coordinate_descent.py:492: ConvergenceWarning: Objective did not converge. You might want to increase the number of iterations. Fitting data with very small alpha may cause precision problems.\n",
      "  ConvergenceWarning)\n",
      "/Users/rob/.local/share/virtualenvs/ebay_valuator-vRvGBMQn/lib/python3.7/site-packages/sklearn/linear_model/coordinate_descent.py:492: ConvergenceWarning: Objective did not converge. You might want to increase the number of iterations. Fitting data with very small alpha may cause precision problems.\n",
      "  ConvergenceWarning)\n"
     ]
    }
   ],
   "source": [
    "print(stars)\n",
    "print('Training a Lasso Regressor...')\n",
    "\n",
    "# ### Lasso Regression\n",
    "lasso_model = LassoCV(cv=3).fit(X_train_scaled, y_train)\n",
    "\n",
    "outfile = open('pickles/lasso_model','wb')\n",
    "pickle.dump(lasso_model,outfile)\n",
    "outfile.close()"
   ]
  },
  {
   "cell_type": "code",
   "execution_count": 14,
   "metadata": {},
   "outputs": [
    {
     "name": "stdout",
     "output_type": "stream",
     "text": [
      "Lasso train_error is 69.66147884925408, lasso test_error is 70.43216921486594\n",
      "\n",
      "Lasso Train error is a 14.64% improvement over guessing the mean. \n",
      "\n",
      "Lasso Test error is a 13.69% improvement over guessing the mean.\n"
     ]
    },
    {
     "data": {
      "image/png": "[encoded data removed]",
      "text/plain": [
       "<Figure size 576x576 with 1 Axes>"
      ]
     },
     "metadata": {
      "needs_background": "light"
     },
     "output_type": "display_data"
    }
   ],
   "source": [
    "y_train_preds = lasso_model.predict(X_train_scaled)\n",
    "y_test_preds = lasso_model.predict(X_test_scaled)\n",
    "\n",
    "y_train_inv = inv_boxcox(y_train, bxcx_lam)\n",
    "y_test_inv = inv_boxcox(y_test, bxcx_lam)\n",
    "\n",
    "y_train_preds_inv = inv_boxcox(y_train_preds, bxcx_lam)\n",
    "y_test_preds_inv = inv_boxcox(y_test_preds, bxcx_lam)\n",
    "\n",
    "train_error = np.sqrt(mean_squared_error(y_train_inv, y_train_preds_inv))\n",
    "test_error = np.sqrt(mean_squared_error(y_test_inv, y_test_preds_inv))\n",
    "\n",
    "print(f'Lasso train_error is {train_error}, lasso test_error is {test_error}\\n')\n",
    "\n",
    "print(f'Lasso Train error is a {round((((baseline_error - train_error) / baseline_error) * 100),2)}% improvement over guessing the mean. \\n')\n",
    "\n",
    "print(f'Lasso Test error is a {round((((baseline_error - test_error) / baseline_error) * 100),2)}% improvement over guessing the mean.')\n",
    "\n",
    "plt.figure(figsize=(8,8))\n",
    "plt.scatter(y_test_inv, y_test_preds_inv, s=2)\n",
    "x = np.linspace(100,900, num=2)\n",
    "plt.plot(x,x)\n",
    "plt.plot(np.full(len(x),500),x)\n",
    "plt.plot(x,np.full(len(x),500))\n",
    "plt.show()"
   ]
  },
  {
   "cell_type": "code",
   "execution_count": 15,
   "metadata": {},
   "outputs": [
    {
     "data": {
      "image/png": "[encoded data removed]",
      "text/plain": [
       "<Figure size 1152x360 with 1 Axes>"
      ]
     },
     "metadata": {
      "needs_background": "light"
     },
     "output_type": "display_data"
    }
   ],
   "source": [
    "coef = pd.DataFrame(data = lasso_model.coef_, index=X_train_scaled.columns)\n",
    "model_coef = coef.sort_values(by=0).T\n",
    "model_coef.plot(kind='bar', title='Lasso Coefficients', legend=False, figsize=(16,5))\n",
    "plt.show()"
   ]
  },
  {
   "cell_type": "code",
   "execution_count": 16,
   "metadata": {},
   "outputs": [
    {
     "name": "stdout",
     "output_type": "stream",
     "text": [
      "**************\n",
      "Writing out Lasso Coefs...\n"
     ]
    }
   ],
   "source": [
    "print(stars)\n",
    "print('Writing out Lasso Coefs...')\n",
    "\n",
    "t_mod = model_coef.T\n",
    "lasso_feats = t_mod[abs(t_mod) > 0].dropna()\n",
    "lasso_feats.to_csv('lasso_coefs.csv')\n"
   ]
  },
  {
   "cell_type": "code",
   "execution_count": 17,
   "metadata": {},
   "outputs": [
    {
     "data": {
      "image/png": "[encoded data removed]",
      "text/plain": [
       "<Figure size 360x360 with 1 Axes>"
      ]
     },
     "metadata": {
      "needs_background": "light"
     },
     "output_type": "display_data"
    }
   ],
   "source": [
    "# Can I get a confusion matrix?\n",
    "\n",
    "price_thresh = 20\n",
    "\n",
    "high_actual = y_test_inv > price_thresh\n",
    "\n",
    "high_preds = y_test_preds_inv > price_thresh\n",
    "plt.figure(figsize=(5,5))\n",
    "cnf_matrix = confusion_matrix(high_actual, high_preds)\n",
    "plt.imshow(cnf_matrix,  cmap=plt.cm.Blues) #Create the basic matrix.\n",
    "\n",
    "#Add title and Axis Labels\n",
    "plt.title('Lasso Confusion Matrix')\n",
    "plt.ylabel('True label')\n",
    "plt.xlabel('Predicted label')\n",
    "\n",
    "#Add appropriate Axis Scales\n",
    "class_names = ['Under', 'Over'] #Get class labels to add to matrix\n",
    "tick_marks = np.arange(len(class_names))\n",
    "plt.xticks(tick_marks, class_names, rotation=45)\n",
    "plt.yticks(tick_marks, class_names)\n",
    "\n",
    "#Add Labels to Each Cell\n",
    "thresh = cnf_matrix.max() / 2. #Used for text coloring below\n",
    "#Here we iterate through the confusion matrix and append labels to our visualization.\n",
    "for i, j in itertools.product(range(cnf_matrix.shape[0]), range(cnf_matrix.shape[1])):\n",
    "        plt.text(j, i, cnf_matrix[i, j],\n",
    "                 horizontalalignment=\"center\",\n",
    "                 color=\"white\" if cnf_matrix[i, j] > thresh else \"black\")\n",
    "\n",
    "plt.show()"
   ]
  },
  {
   "cell_type": "code",
   "execution_count": null,
   "metadata": {
    "scrolled": true
   },
   "outputs": [
    {
     "name": "stdout",
     "output_type": "stream",
     "text": [
      "11 operators have been imported by TPOT.\n"
     ]
    },
    {
     "data": {
      "application/vnd.jupyter.widget-view+json": {
       "model_id": "bf0fa461549d48eca8350cff9640cf46",
       "version_major": 2,
       "version_minor": 0
      },
      "text/plain": [
       "HBox(children=(IntProgress(value=0, description='Optimization Progress', style=ProgressStyle(description_width…"
      ]
     },
     "metadata": {},
     "output_type": "display_data"
    },
    {
     "name": "stdout",
     "output_type": "stream",
     "text": [
      "Skipped pipeline #56 due to time out. Continuing to the next pipeline.\n",
      "Skipped pipeline #65 due to time out. Continuing to the next pipeline.\n",
      "Skipped pipeline #74 due to time out. Continuing to the next pipeline.\n",
      "_pre_test decorator: _random_mutation_operator: num_test=0 Unsupported set of arguments: The combination of penalty='l2' and loss='epsilon_insensitive' are not supported when dual=False, Parameters: penalty='l2', loss='epsilon_insensitive', dual=False\n",
      "_pre_test decorator: _random_mutation_operator: num_test=0 Expected n_neighbors <= n_samples,  but n_samples = 50, n_neighbors = 71\n",
      "_pre_test decorator: _random_mutation_operator: num_test=0 Unsupported set of arguments: The combination of penalty='l2' and loss='epsilon_insensitive' are not supported when dual=False, Parameters: penalty='l2', loss='epsilon_insensitive', dual=False\n",
      "_pre_test decorator: _random_mutation_operator: num_test=0 Unsupported set of arguments: The combination of penalty='l2' and loss='epsilon_insensitive' are not supported when dual=False, Parameters: penalty='l2', loss='epsilon_insensitive', dual=False\n",
      "_pre_test decorator: _random_mutation_operator: num_test=0 Unsupported set of arguments: The combination of penalty='l2' and loss='epsilon_insensitive' are not supported when dual=False, Parameters: penalty='l2', loss='epsilon_insensitive', dual=False\n",
      "_pre_test decorator: _random_mutation_operator: num_test=0 Automatic alpha grid generation is not supported for l1_ratio=0. Please supply a grid by providing your estimator with the appropriate `alphas=` argument.\n",
      "_pre_test decorator: _random_mutation_operator: num_test=0 Found array with 0 feature(s) (shape=(50, 0)) while a minimum of 1 is required.\n",
      "_pre_test decorator: _random_mutation_operator: num_test=1 Expected n_neighbors <= n_samples,  but n_samples = 50, n_neighbors = 78\n",
      "_pre_test decorator: _random_mutation_operator: num_test=0 Unsupported set of arguments: The combination of penalty='l2' and loss='epsilon_insensitive' are not supported when dual=False, Parameters: penalty='l2', loss='epsilon_insensitive', dual=False\n",
      "_pre_test decorator: _random_mutation_operator: num_test=0 Unsupported set of arguments: The combination of penalty='l2' and loss='epsilon_insensitive' are not supported when dual=False, Parameters: penalty='l2', loss='epsilon_insensitive', dual=False\n",
      "_pre_test decorator: _random_mutation_operator: num_test=0 Found array with 0 feature(s) (shape=(50, 0)) while a minimum of 1 is required.\n",
      "_pre_test decorator: _random_mutation_operator: num_test=0 Found array with 0 feature(s) (shape=(50, 0)) while a minimum of 1 is required.\n",
      "Skipped pipeline #125 due to time out. Continuing to the next pipeline.\n"
     ]
    }
   ],
   "source": [
    "## Fitting a TPOT Auto-ML Pipeline\n",
    "from tpot import TPOTRegressor\n",
    "pipeline_optimizer = TPOTRegressor(generations=80, population_size=100,\n",
    "                          offspring_size=None, mutation_rate=0.9,\n",
    "                          crossover_rate=0.1,\n",
    "                          scoring='neg_mean_squared_error', cv=5,\n",
    "                          subsample=1.0, n_jobs=8,\n",
    "                          max_time_mins=540, max_eval_time_mins=10,\n",
    "                          random_state=None, config_dict='TPOT sparse',\n",
    "                          warm_start=False,\n",
    "                          memory=None,\n",
    "                          use_dask=False,\n",
    "                          periodic_checkpoint_folder='TPOT_saves',\n",
    "                          early_stop=None,\n",
    "                          verbosity=3,\n",
    "                          disable_update_check=False)\n",
    "\n",
    "X_train_scaled_tpot = X_train_scaled.values.astype('float')\n",
    "\n",
    "### This is where you use TPOT to train a model\n",
    "pipeline_optimizer.fit(X_train_scaled_tpot, y_train)\n",
    "\n",
    "# # Export:\n",
    "pipeline_optimizer.export('pickles/tpot_guitar_pipeline.py')"
   ]
  },
  {
   "cell_type": "code",
   "execution_count": null,
   "metadata": {},
   "outputs": [],
   "source": [
    "# input(\"Press Enter to continue...\")\n",
    "\n",
    "# ### Import TPOT-Selected Model\n",
    "# (Copy paste ideal pipeline from tpot_guitar_pipeline.py file)\n",
    "\n",
    "tpot = make_pipeline(\n",
    "    make_union(\n",
    "        FunctionTransformer(copy),\n",
    "        StackingEstimator(estimator=RidgeCV())\n",
    "    ),\n",
    "    RandomForestRegressor(bootstrap=False, max_features=0.05, min_samples_leaf=1, min_samples_split=6, n_estimators=100)\n",
    ")\n",
    "\n",
    "print(stars)\n",
    "print('Training TPOT Pipeline...')\n",
    "\n",
    "tpot.fit(X_train_scaled_tpot, y_train)\n",
    "\n",
    "print(stars)\n",
    "print('Pickling the TPOT...')\n",
    "\n",
    "filename = 'pickles/tpot'\n",
    "outfile = open(filename, 'wb')\n",
    "pickle.dump(tpot, outfile)\n",
    "outfile.close()"
   ]
  },
  {
   "cell_type": "code",
   "execution_count": null,
   "metadata": {},
   "outputs": [],
   "source": [
    "y_train_preds_tpot = tpot.predict(X_train_scaled.values.astype('float'))\n",
    "y_test_preds_tpot = tpot.predict(X_test_scaled.values.astype('float'))\n",
    "\n",
    "y_train_preds_inv_tpot = inv_boxcox(y_train_preds_tpot, bxcx_lam)\n",
    "y_test_preds_inv_tpot = inv_boxcox(y_test_preds_tpot, bxcx_lam)\n",
    "\n",
    "train_error_tpot = np.sqrt(mean_squared_error(y_train_inv, y_train_preds_inv_tpot))\n",
    "test_error_tpot = np.sqrt(mean_squared_error(y_test_inv, y_test_preds_inv_tpot))\n",
    "\n",
    "print(f'TPOT Train RMSE: {round(train_error_tpot, 2)} --- Test RMSE: {round(test_error_tpot, 2)}\\n')\n",
    "\n",
    "print(f'TPOT Train error is a {round((((baseline_error - train_error_tpot) / baseline_error) * 100),2)}% improvement over guessing the mean. \\n')\n",
    "\n",
    "print(f'TPOT Test error is a {round((((baseline_error - test_error_tpot) / baseline_error) * 100),2)}% improvement over guessing the mean.')\n",
    "\n",
    "plt.figure(figsize=(8,8))\n",
    "plt.scatter(y_test_inv, y_test_preds_inv_tpot, s=2)\n",
    "x = np.linspace(100,900, num=2)\n",
    "plt.plot(x,x)\n",
    "plt.plot(np.full(len(x),500),x)\n",
    "plt.plot(x,np.full(len(x),500))\n",
    "plt.show()"
   ]
  },
  {
   "cell_type": "code",
   "execution_count": null,
   "metadata": {},
   "outputs": [],
   "source": [
    "price_thresh = 50\n",
    "\n",
    "high_preds_tpot = y_test_preds_inv_tpot > price_thresh\n",
    "plt.figure(figsize=(5,5))\n",
    "cnf_matrix_tpot = confusion_matrix(high_actual, high_preds_tpot)\n",
    "plt.imshow(cnf_matrix_tpot,  cmap=plt.cm.Blues) #Create the basic matrix.\n",
    "\n",
    "#Add title and Axis Labels\n",
    "plt.title('TPOT Confusion Matrix')\n",
    "plt.ylabel('True label')\n",
    "plt.xlabel('Predicted label')\n",
    "\n",
    "#Add appropriate Axis Scales\n",
    "class_names = ['Under', 'Over'] #Get class labels to add to matrix\n",
    "tick_marks = np.arange(len(class_names))\n",
    "plt.xticks(tick_marks, class_names, rotation=45)\n",
    "plt.yticks(tick_marks, class_names)\n",
    "\n",
    "#Add Labels to Each Cell\n",
    "thresh = cnf_matrix_tpot.max() / 2. #Used for text coloring below\n",
    "#Here we iterate through the confusion matrix and append labels to our visualization.\n",
    "for i, j in itertools.product(range(cnf_matrix_tpot.shape[0]), range(cnf_matrix_tpot.shape[1])):\n",
    "        plt.text(j, i, cnf_matrix_tpot[i, j],\n",
    "                 horizontalalignment=\"center\",\n",
    "                 color=\"white\" if cnf_matrix_tpot[i, j] > thresh else \"black\")\n",
    "\n",
    "plt.show()\n",
    "\n",
    "print(f'TPOT model only identifies {round(100 * cnf_matrix_tpot[1][1] / (cnf_matrix_tpot[1][0] + cnf_matrix_tpot[1][1]), 2)}% of the guitars that will sell above ${price_thresh}.')\n",
    "\n",
    "print(f'However, when TPOT guesses above ${price_thresh}, it\\'s correct {round((cnf_matrix_tpot[1][1] / (cnf_matrix_tpot[1][1] + cnf_matrix_tpot[0][1]))*100, 2)}% of the time.')"
   ]
  },
  {
   "cell_type": "code",
   "execution_count": null,
   "metadata": {},
   "outputs": [],
   "source": []
  }
 ],
 "metadata": {
  "kernelspec": {
   "display_name": "Python 3",
   "language": "python",
   "name": "python3"
  },
  "language_info": {
   "codemirror_mode": {
    "name": "ipython",
    "version": 3
   },
   "file_extension": ".py",
   "mimetype": "text/x-python",
   "name": "python",
   "nbconvert_exporter": "python",
   "pygments_lexer": "ipython3",
   "version": "3.7.2"
  }
 },
 "nbformat": 4,
 "nbformat_minor": 2
}
