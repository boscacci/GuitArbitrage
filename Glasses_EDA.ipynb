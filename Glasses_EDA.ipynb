{
 "cells": [
  {
   "cell_type": "markdown",
   "metadata": {},
   "source": [
    "# Guitar ETL and EDA"
   ]
  },
  {
   "cell_type": "code",
   "execution_count": 1,
   "metadata": {},
   "outputs": [],
   "source": [
    "import os, io, requests, csv, sys\n",
    "\n",
    "import pandas as pd\n",
    "import numpy as np\n",
    "pd.options.display.max_rows = 999\n",
    "np.set_printoptions(threshold=np.inf)\n",
    "\n",
    "import matplotlib.pyplot as plt\n",
    "\n",
    "from scipy.stats import boxcox\n",
    "from operator import itemgetter\n",
    "from datetime import datetime"
   ]
  },
  {
   "cell_type": "code",
   "execution_count": 2,
   "metadata": {},
   "outputs": [],
   "source": [
    "sys.path.insert(0, 'objects')\n",
    "sys.path.insert(0, 'data')\n",
    "sys.path.insert(0, 'pickles')"
   ]
  },
  {
   "cell_type": "markdown",
   "metadata": {},
   "source": [
    "### Here's a Class with *Lots* of Attributes (Features)"
   ]
  },
  {
   "cell_type": "markdown",
   "metadata": {},
   "source": [
    "Some ducking was required to handle auctions missing certain details."
   ]
  },
  {
   "cell_type": "code",
   "execution_count": 3,
   "metadata": {},
   "outputs": [],
   "source": [
    "from Shade_Sale import Shade_Sale"
   ]
  },
  {
   "cell_type": "markdown",
   "metadata": {},
   "source": [
    "### Loop Through All Item JSON Data Files, Instantiate Class Objects"
   ]
  },
  {
   "cell_type": "code",
   "execution_count": 4,
   "metadata": {},
   "outputs": [],
   "source": [
    "file_names = [name for name in os.listdir('data/specs/') if not name.startswith('.')] # Ignores hidden files on mac\n"
   ]
  },
  {
   "cell_type": "code",
   "execution_count": 5,
   "metadata": {
    "scrolled": false
   },
   "outputs": [
    {
     "name": "stdout",
     "output_type": "stream",
     "text": [
      "valerror\n",
      "valerror\n",
      "valerror\n",
      "valerror\n",
      "valerror\n",
      "valerror\n"
     ]
    }
   ],
   "source": [
    "items = []\n",
    "for filename in file_names:\n",
    "    try:\n",
    "        this_item = Shade_Sale('data/listings', 'data/specs', filename)\n",
    "        if \"LOT\" not in this_item.title.upper():# and this_item.price > 110 and this_item.price < 890:\n",
    "            items.append(this_item)\n",
    "    except ValueError:\n",
    "        print('valerror')\n",
    "        pass"
   ]
  },
  {
   "cell_type": "code",
   "execution_count": 6,
   "metadata": {},
   "outputs": [
    {
     "data": {
      "text/plain": [
       "173"
      ]
     },
     "execution_count": 6,
     "metadata": {},
     "output_type": "execute_result"
    }
   ],
   "source": [
    "len(items) # Our sample size."
   ]
  },
  {
   "cell_type": "markdown",
   "metadata": {},
   "source": [
    "********"
   ]
  },
  {
   "cell_type": "markdown",
   "metadata": {},
   "source": [
    "## EDA"
   ]
  },
  {
   "cell_type": "markdown",
   "metadata": {},
   "source": [
    "**********"
   ]
  },
  {
   "cell_type": "markdown",
   "metadata": {},
   "source": [
    "__Price Distribution:__"
   ]
  },
  {
   "cell_type": "code",
   "execution_count": 7,
   "metadata": {},
   "outputs": [],
   "source": [
    "orig_prices = pd.Series([item.price for item in items], name = 'prices')"
   ]
  },
  {
   "cell_type": "code",
   "execution_count": 8,
   "metadata": {},
   "outputs": [
    {
     "data": {
      "image/png": "[encoded data removed]",
      "text/plain": [
       "<Figure size 1296x432 with 1 Axes>"
      ]
     },
     "metadata": {
      "needs_background": "light"
     },
     "output_type": "display_data"
    }
   ],
   "source": [
    "plt.figure(figsize = (18,6))\n",
    "plt.hist(orig_prices, bins=200)\n",
    "plt.ylabel('Frequency')\n",
    "plt.xlabel('Item Price in USD')\n",
    "plt.show()"
   ]
  },
  {
   "cell_type": "code",
   "execution_count": 9,
   "metadata": {},
   "outputs": [
    {
     "data": {
      "image/png": "[encoded data removed]",
      "text/plain": [
       "<Figure size 1296x432 with 1 Axes>"
      ]
     },
     "metadata": {
      "needs_background": "light"
     },
     "output_type": "display_data"
    }
   ],
   "source": [
    "# prices = pd.Series([axe.price_usd for axe in axes])\n",
    "\n",
    "BOXCOX_LAM = -.3\n",
    "\n",
    "prices = pd.Series(boxcox([item.price for item in items], lmbda=BOXCOX_LAM), name = 'price')\n",
    "\n",
    "plt.figure(figsize = (18,6))\n",
    "plt.hist(prices, bins=50)\n",
    "plt.ylabel('Frequency')\n",
    "plt.xlabel('Item Price in USD')\n",
    "plt.show()"
   ]
  },
  {
   "cell_type": "markdown",
   "metadata": {},
   "source": [
    "Some of the most expensive guitars:"
   ]
  },
  {
   "cell_type": "code",
   "execution_count": 10,
   "metadata": {},
   "outputs": [
    {
     "data": {
      "text/plain": [
       "[{'name': 'Oakley x squared x metal Ruby Sunglasses',\n",
       "  'price': 360.0,\n",
       "  'year': None},\n",
       " {'name': 'Oakley X Metal X Squared', 'price': 361.0, 'year': None},\n",
       " {'name': 'Louis Vuitton X Supreme City Mask Sunglasses',\n",
       "  'price': 364.88,\n",
       "  'year': None},\n",
       " {'name': 'Super Rare OAKLEY JULIET X METAL  /  RUBY IRIDIUM LENS  # 04-116',\n",
       "  'price': 393.1,\n",
       "  'year': None},\n",
       " {'name': 'louis vuitton millionaire sunglasses 100 % authentic rare',\n",
       "  'price': 550.0,\n",
       "  'year': None}]"
      ]
     },
     "execution_count": 10,
     "metadata": {},
     "output_type": "execute_result"
    }
   ],
   "source": [
    "spensive = [{'name':item.title,\n",
    "             'price': item.price,\n",
    "            'year':item.year} for item in items]\n",
    "sorted(spensive, key=itemgetter('price'))[-5:]"
   ]
  },
  {
   "cell_type": "markdown",
   "metadata": {},
   "source": [
    "**********"
   ]
  },
  {
   "cell_type": "markdown",
   "metadata": {},
   "source": [
    "__Text Fields, for NLP:__"
   ]
  },
  {
   "cell_type": "markdown",
   "metadata": {},
   "source": [
    "Listing Title:"
   ]
  },
  {
   "cell_type": "code",
   "execution_count": 11,
   "metadata": {},
   "outputs": [
    {
     "data": {
      "text/plain": [
       "['Oakley Eye Patch 2 Polished Black Violet Iridium 009136-06 RARE',\n",
       " 'Kaenon Titanium Rhino Sunglasses | Unisex | Polarized | Made in Italy',\n",
       " 'MAUI JIM MJ Sport MJ-405   Made in Japan Brown',\n",
       " 'Oakley Crosshair Ti Titanium ',\n",
       " 'Oakley FMJ Red Scar Sunglasses',\n",
       " 'Oakley Targetline Sunglasses  Matte Black | Prizm Dark Golf ',\n",
       " 'Oakley Radar EV Path Team Colors Sunglasses Blue Plus Red Iridium Extra..',\n",
       " 'Oakley Eyepatch 2 Custom',\n",
       " 'Oakley Made In USA 03-474 60[]17 Gascan White Sunglasses / Frames',\n",
       " \"GUCCI AVIATOR MEN'S SUNGLASSES. \",\n",
       " 'Oakley Jawbreaker Sport Sky Sapphire Iridium Sunglasses',\n",
       " 'Oakley Crosshair Lead Polarized Prizm Black Iridium Sunglasses',\n",
       " 'Oakley Batwolf Sunglasses 009101 54  16-136',\n",
       " 'Oakley Crosshair 2.0 Silver',\n",
       " 'Oakley Batwolf Sunglasses',\n",
       " 'Oakley Deviation Sunglasses Polished Chrome / Fire Iridium ',\n",
       " \" PERSOL RATTI  61** Meflecto Sunglasses Massive Vintage Frame Eyeglasse 60'S\",\n",
       " 'Persol mens sunglasses: brown and light brown frame; dark lens & turquoise lens',\n",
       " 'EYEVAN 7285 - 750 (Black Tortoise) Sunglasses W/ Case and Original Box',\n",
       " 'Ray Ban RB4151 710 59[]17 140 3N Havana Designer Sunglasses, Made In Italy']"
      ]
     },
     "execution_count": 11,
     "metadata": {},
     "output_type": "execute_result"
    }
   ],
   "source": [
    "[item.title for item in items][:20] # All listings must have a title"
   ]
  },
  {
   "cell_type": "markdown",
   "metadata": {},
   "source": [
    "Mean Length of Title:"
   ]
  },
  {
   "cell_type": "code",
   "execution_count": 12,
   "metadata": {},
   "outputs": [
    {
     "name": "stdout",
     "output_type": "stream",
     "text": [
      "58 characters per title on average.\n"
     ]
    }
   ],
   "source": [
    "mean_title_len = sum(len(item.title) for item in items)/len(items)\n",
    "print(f'{round(mean_title_len)} characters per title on average.')"
   ]
  },
  {
   "cell_type": "code",
   "execution_count": 13,
   "metadata": {},
   "outputs": [
    {
     "name": "stdout",
     "output_type": "stream",
     "text": [
      "27.75% of listings have less than 46 characters in the title.\n"
     ]
    }
   ],
   "source": [
    "print(f'{round(sum(1 for item in items if len(item.title) < 46) / len(items)*100,2)}% of listings have less than 46 characters in the title.')\n"
   ]
  },
  {
   "cell_type": "markdown",
   "metadata": {},
   "source": [
    "Maybe \"title has length less than 46 characters\" should be a one-hot variable."
   ]
  },
  {
   "cell_type": "markdown",
   "metadata": {},
   "source": [
    "Listing __Sub__titles:"
   ]
  },
  {
   "cell_type": "code",
   "execution_count": 14,
   "metadata": {},
   "outputs": [
    {
     "name": "stdout",
     "output_type": "stream",
     "text": [
      "1.73% of listings include a subtitle.\n"
     ]
    }
   ],
   "source": [
    "[item.subtitle for item in items if item.subtitle != None][-5:]\n",
    "print(f'{round(((len([item.subtitle for item in items if item.subtitle != None]) / len(items))*100),2)}% of listings include a subtitle.')"
   ]
  },
  {
   "cell_type": "markdown",
   "metadata": {},
   "source": [
    "Condition Descriptions:"
   ]
  },
  {
   "cell_type": "code",
   "execution_count": 15,
   "metadata": {},
   "outputs": [
    {
     "name": "stdout",
     "output_type": "stream",
     "text": [
      "27.17% of listings include a condition description.\n"
     ]
    }
   ],
   "source": [
    "[item.condition_description for item in items if item.condition_description != None][-5:]\n",
    "print(f'{round(((len([item.condition_description for item in items if item.condition_description != None]) / len(items))*100),2)}% of listings include a condition description.')"
   ]
  },
  {
   "cell_type": "markdown",
   "metadata": {},
   "source": [
    "Example of Description Full Text:"
   ]
  },
  {
   "cell_type": "code",
   "execution_count": 16,
   "metadata": {},
   "outputs": [
    {
     "name": "stdout",
     "output_type": "stream",
     "text": [
      "['The frames are in good shape but the lenses are scratched. It was hard to photograph but the right lens is worse. Please review the photos before you purchase. Thanks!', 'Oakley TwoFace Polished Polarized Sunglasses - Black (Includes Spare Lenses). Two sets of lenses, both mirror style. Great condition, like new. Condition is Pre-owned. Dispatched with USPS First Class Package.']\n",
      "\n",
      "100.0% of listings include a text description.\n"
     ]
    }
   ],
   "source": [
    "print([item.description for item in items][20:22])\n",
    "print(f'\\n{round(((len([item.description for item in items if item.description != None]) / len(items))*100),2)}% of listings include a text description.')"
   ]
  },
  {
   "cell_type": "markdown",
   "metadata": {},
   "source": [
    "***********"
   ]
  },
  {
   "cell_type": "markdown",
   "metadata": {},
   "source": [
    "__Number of Pics on eBay listing:__"
   ]
  },
  {
   "cell_type": "code",
   "execution_count": 17,
   "metadata": {},
   "outputs": [
    {
     "data": {
      "image/png": "[encoded data removed]",
      "text/plain": [
       "<Figure size 1296x432 with 1 Axes>"
      ]
     },
     "metadata": {
      "needs_background": "light"
     },
     "output_type": "display_data"
    }
   ],
   "source": [
    "pic_quants = pd.Series([item.pic_quantity for item in items]).value_counts()\n",
    "plt.figure(figsize = (18,6))\n",
    "plt.bar(pic_quants.index, pic_quants.values/len(items))\n",
    "plt.xticks(pic_quants.index)\n",
    "plt.xlabel(\"Number of photos\")\n",
    "plt.ylabel(\"Percent of Listings\")\n",
    "plt.show()"
   ]
  },
  {
   "cell_type": "code",
   "execution_count": 18,
   "metadata": {},
   "outputs": [
    {
     "name": "stdout",
     "output_type": "stream",
     "text": [
      "100.0% of auctions have less than 13 photos.\n",
      "83.8% of auctions have less than 12 photos.\n",
      "79.8% of auctions have less than 11 photos.\n",
      "75.7% of auctions have less than 10 photos.\n",
      "67.1% of auctions have less than 9 photos.\n",
      "53.2% of auctions have less than 8 photos.\n",
      "41.6% of auctions have less than 7 photos.\n",
      "29.5% of auctions have less than 6 photos.\n",
      "20.8% of auctions have less than 5 photos.\n",
      "8.7% of auctions have less than 4 photos.\n",
      "2.3% of auctions have less than 3 photos.\n",
      "1.2% of auctions have less than 2 photos.\n",
      "0.0% of auctions have less than 1 photos.\n"
     ]
    }
   ],
   "source": [
    "for num_photos in range(13,0,-1):\n",
    "    print(f'{round(len([item.pic_quantity for item in items if item.pic_quantity < num_photos]) / len(items) * 100, 1)}% of auctions have less than {num_photos} photos.')"
   ]
  },
  {
   "cell_type": "markdown",
   "metadata": {},
   "source": [
    "__Thumbnail Image URLs__ — for Potential (CNN, maybe) Image Analysis as a factor in price"
   ]
  },
  {
   "cell_type": "code",
   "execution_count": 19,
   "metadata": {},
   "outputs": [
    {
     "data": {
      "text/plain": [
       "['http://thumbs4.ebaystatic.com/m/mf1pg4m4EoQT2zC6OX0pbgw/140.jpg',\n",
       " 'http://thumbs4.ebaystatic.com/m/m9Kjm23pLoQtrC97Xw3a1eQ/140.jpg',\n",
       " 'http://thumbs4.ebaystatic.com/m/mVUN-lMEqRdgDvgYejw5nsw/140.jpg',\n",
       " 'http://thumbs3.ebaystatic.com/m/mgg0LIPhN1GXcL4tPHQVClw/140.jpg',\n",
       " 'http://thumbs1.ebaystatic.com/m/mTYSF_T44FEch9JkZfti2yg/140.jpg']"
      ]
     },
     "execution_count": 19,
     "metadata": {},
     "output_type": "execute_result"
    }
   ],
   "source": [
    "[item.pic for item in items][:5] # Just first five. You get it"
   ]
  },
  {
   "cell_type": "markdown",
   "metadata": {},
   "source": [
    "**********"
   ]
  },
  {
   "cell_type": "markdown",
   "metadata": {},
   "source": [
    "**Shipping Type:**"
   ]
  },
  {
   "cell_type": "code",
   "execution_count": 20,
   "metadata": {},
   "outputs": [
    {
     "ename": "NameError",
     "evalue": "name 'axes' is not defined",
     "output_type": "error",
     "traceback": [
      "\u001b[0;31m---------------------------------------------------------------------------\u001b[0m",
      "\u001b[0;31mNameError\u001b[0m                                 Traceback (most recent call last)",
      "\u001b[0;32m<ipython-input-20-fd75c16c99ea>\u001b[0m in \u001b[0;36m<module>\u001b[0;34m\u001b[0m\n\u001b[1;32m      1\u001b[0m \u001b[0mplt\u001b[0m\u001b[0;34m.\u001b[0m\u001b[0mfigure\u001b[0m\u001b[0;34m(\u001b[0m\u001b[0mfigsize\u001b[0m \u001b[0;34m=\u001b[0m \u001b[0;34m(\u001b[0m\u001b[0;36m18\u001b[0m\u001b[0;34m,\u001b[0m\u001b[0;36m6\u001b[0m\u001b[0;34m)\u001b[0m\u001b[0;34m)\u001b[0m\u001b[0;34m\u001b[0m\u001b[0;34m\u001b[0m\u001b[0m\n\u001b[0;32m----> 2\u001b[0;31m \u001b[0mship_counts\u001b[0m \u001b[0;34m=\u001b[0m \u001b[0mpd\u001b[0m\u001b[0;34m.\u001b[0m\u001b[0mSeries\u001b[0m\u001b[0;34m(\u001b[0m\u001b[0;34m[\u001b[0m\u001b[0maxe\u001b[0m\u001b[0;34m.\u001b[0m\u001b[0mship_type\u001b[0m \u001b[0;32mfor\u001b[0m \u001b[0maxe\u001b[0m \u001b[0;32min\u001b[0m \u001b[0maxes\u001b[0m\u001b[0;34m]\u001b[0m\u001b[0;34m)\u001b[0m\u001b[0;34m.\u001b[0m\u001b[0mvalue_counts\u001b[0m\u001b[0;34m(\u001b[0m\u001b[0;34m)\u001b[0m\u001b[0;34m\u001b[0m\u001b[0;34m\u001b[0m\u001b[0m\n\u001b[0m\u001b[1;32m      3\u001b[0m \u001b[0mplt\u001b[0m\u001b[0;34m.\u001b[0m\u001b[0mbar\u001b[0m\u001b[0;34m(\u001b[0m\u001b[0mship_counts\u001b[0m\u001b[0;34m.\u001b[0m\u001b[0mindex\u001b[0m\u001b[0;34m,\u001b[0m \u001b[0mship_counts\u001b[0m\u001b[0;34m.\u001b[0m\u001b[0mvalues\u001b[0m\u001b[0;34m/\u001b[0m\u001b[0mlen\u001b[0m\u001b[0;34m(\u001b[0m\u001b[0maxes\u001b[0m\u001b[0;34m)\u001b[0m\u001b[0;34m)\u001b[0m\u001b[0;34m\u001b[0m\u001b[0;34m\u001b[0m\u001b[0m\n\u001b[1;32m      4\u001b[0m \u001b[0mplt\u001b[0m\u001b[0;34m.\u001b[0m\u001b[0mshow\u001b[0m\u001b[0;34m(\u001b[0m\u001b[0;34m)\u001b[0m\u001b[0;34m\u001b[0m\u001b[0;34m\u001b[0m\u001b[0m\n",
      "\u001b[0;31mNameError\u001b[0m: name 'axes' is not defined"
     ]
    },
    {
     "data": {
      "text/plain": [
       "<Figure size 1296x432 with 0 Axes>"
      ]
     },
     "metadata": {},
     "output_type": "display_data"
    }
   ],
   "source": [
    "plt.figure(figsize = (18,6))\n",
    "ship_counts = pd.Series([axe.ship_type for axe in axes]).value_counts()\n",
    "plt.bar(ship_counts.index, ship_counts.values/len(axes))\n",
    "plt.show()"
   ]
  },
  {
   "cell_type": "code",
   "execution_count": null,
   "metadata": {},
   "outputs": [],
   "source": [
    "free = pd.Series([axe.price_shipping == 0 for axe in axes]).value_counts()\n",
    "plt.figure(figsize = (8,8))\n",
    "plt.pie(free.values, explode=[.01,.01], labels=['Charge for Shipping', 'Free Shipping'], \n",
    "        autopct='%1.1f%%',\n",
    "       shadow = True,\n",
    "       startangle=90)\n",
    "plt.show()"
   ]
  },
  {
   "cell_type": "code",
   "execution_count": null,
   "metadata": {},
   "outputs": [],
   "source": [
    "print(f'${round(sum(axe.price_shipping for axe in axes) / len([axe.price_shipping for axe in axes]),2)} - Average shipping cost (including free shipping)')"
   ]
  },
  {
   "cell_type": "code",
   "execution_count": null,
   "metadata": {},
   "outputs": [],
   "source": [
    "print(f'${round(sum(axe.price_shipping for axe in axes if axe.price_shipping != 0) / len([axe.price_shipping for axe in axes if axe.price_shipping]),2)} - Average shipping cost (if charging for shipping)')"
   ]
  },
  {
   "cell_type": "markdown",
   "metadata": {},
   "source": [
    "**Offering Expedited Shipping:**"
   ]
  },
  {
   "cell_type": "code",
   "execution_count": null,
   "metadata": {},
   "outputs": [],
   "source": [
    "exp = pd.Series([axe.ship_expedite for axe in axes]).value_counts()\n",
    "plt.figure(figsize = (8,8))\n",
    "plt.pie(exp.values, explode=[.1,.1], labels=['Normal', 'Expeditable'], \n",
    "        autopct='%1.1f%%',\n",
    "       shadow = True,\n",
    "       startangle=90)\n",
    "plt.show()"
   ]
  },
  {
   "cell_type": "markdown",
   "metadata": {},
   "source": [
    "****"
   ]
  },
  {
   "cell_type": "markdown",
   "metadata": {},
   "source": [
    "__Listing Types:__"
   ]
  },
  {
   "cell_type": "code",
   "execution_count": null,
   "metadata": {},
   "outputs": [],
   "source": [
    "listing_types = pd.Series([axe.listing_type for axe in axes if axe.listing_type != None]).value_counts()\n",
    "plt.figure(figsize = (10,10))\n",
    "plt.pie(listing_types.values, \n",
    "        labels = listing_types.index,\n",
    "        autopct='%1.1f%%',\n",
    "        pctdistance = 1.3,\n",
    "       startangle=45,\n",
    "        explode = np.full(len(listing_types), .02))\n",
    "plt.show()"
   ]
  },
  {
   "cell_type": "markdown",
   "metadata": {},
   "source": [
    "****"
   ]
  },
  {
   "cell_type": "markdown",
   "metadata": {},
   "source": [
    "__TEMPORAL STUFF__"
   ]
  },
  {
   "cell_type": "markdown",
   "metadata": {},
   "source": [
    "**Handling Time in Days:**"
   ]
  },
  {
   "cell_type": "code",
   "execution_count": null,
   "metadata": {},
   "outputs": [],
   "source": [
    "plt.figure(figsize = (18,6))\n",
    "times = pd.Series([axe.ship_handling_time for axe in axes if axe.ship_handling_time != None])\n",
    "plt.hist(times, bins=np.arange(max(times))-.5)\n",
    "plt.xticks(sorted(times.value_counts().index))\n",
    "plt.xlabel('Days to Handle Package')\n",
    "plt.ylabel('# of Shippers')\n",
    "plt.show()"
   ]
  },
  {
   "cell_type": "markdown",
   "metadata": {},
   "source": [
    "__Duration of Auction in Days__:"
   ]
  },
  {
   "cell_type": "code",
   "execution_count": null,
   "metadata": {},
   "outputs": [],
   "source": [
    "plt.figure(figsize = (15,6))\n",
    "plt.hist([axe.duration/24 for axe in axes], bins = np.arange(10)+1.5)\n",
    "plt.xticks(range(11))\n",
    "plt.xlabel('Duration of Auction in Days')\n",
    "plt.show()"
   ]
  },
  {
   "cell_type": "markdown",
   "metadata": {},
   "source": [
    "**Weekday of Auction Start:**"
   ]
  },
  {
   "cell_type": "code",
   "execution_count": null,
   "metadata": {},
   "outputs": [],
   "source": [
    "days = pd.Series([axe.start_weekday for axe in axes]).value_counts()\n",
    "plt.figure(figsize = (15,5))\n",
    "plt.bar(days.index, days.values/len(axes))\n",
    "plt.xticks(range(7), 'M T W TH F SA SU'.split(' '))\n",
    "plt.xlabel(\"Listing Start Day\")\n",
    "plt.ylabel('Percentage')\n",
    "plt.show()"
   ]
  },
  {
   "cell_type": "markdown",
   "metadata": {},
   "source": [
    "**Weekday of Auction End:**"
   ]
  },
  {
   "cell_type": "code",
   "execution_count": null,
   "metadata": {},
   "outputs": [],
   "source": [
    "days = pd.Series([axe.end_weekday for axe in axes]).value_counts()\n",
    "plt.figure(figsize = (15,5))\n",
    "plt.bar(days.index, days.values/len(axes))\n",
    "plt.xticks(range(7), 'M T W TH F SA SU'.split(' '))\n",
    "plt.ylabel('Percentage')\n",
    "plt.xlabel(\"Auction Ending Weekday\")\n",
    "plt.show()"
   ]
  },
  {
   "cell_type": "code",
   "execution_count": null,
   "metadata": {},
   "outputs": [],
   "source": [
    "start_hours = pd.Series([axe.start_time.hour for axe in axes]).value_counts()\n",
    "plt.figure(figsize = (15,5))\n",
    "plt.bar((start_hours.index-5+24)%24, start_hours.values/len(axes))\n",
    "plt.xticks(range(0,24))\n",
    "plt.ylabel('Percentage')\n",
    "plt.xlabel(\"All Auctions Start Hour of Day — NYC Time\")\n",
    "plt.show()"
   ]
  },
  {
   "cell_type": "code",
   "execution_count": null,
   "metadata": {},
   "outputs": [],
   "source": [
    "end_hours = pd.Series([axe.end_time.hour for axe in axes]).value_counts()\n",
    "plt.figure(figsize = (15,5))\n",
    "plt.bar((end_hours.index - 5 + 24)%24, end_hours.values/len(axes))\n",
    "plt.xticks(range(0,24))\n",
    "plt.ylabel('Percentage')\n",
    "plt.xlabel(\"All Auctions End Hour of Day - NYC Time\")\n",
    "plt.show()"
   ]
  },
  {
   "cell_type": "markdown",
   "metadata": {},
   "source": [
    "**Percentage of Auctions Offering Returns:**"
   ]
  },
  {
   "cell_type": "code",
   "execution_count": null,
   "metadata": {},
   "outputs": [],
   "source": [
    "returns = pd.Series([axe.returns for axe in axes]).value_counts()\n",
    "plt.figure(figsize = (8,8))\n",
    "plt.pie(returns.values, explode=[.1,.1], labels=['Not offering Returns', 'Offering Returns'], \n",
    "        autopct='%1.1f%%',\n",
    "       shadow = True,\n",
    "       startangle=90)\n",
    "plt.show()"
   ]
  },
  {
   "cell_type": "markdown",
   "metadata": {},
   "source": [
    "**Return Time Window** (of those offering returns):"
   ]
  },
  {
   "cell_type": "code",
   "execution_count": null,
   "metadata": {},
   "outputs": [],
   "source": [
    "returns = pd.Series([axe.returns_time for axe in axes if axe.returns_time > 0]).value_counts()\n",
    "plt.figure(figsize = (10,10))\n",
    "plt.pie(returns.values, explode=np.full(len(returns), .1), labels = returns.index, \n",
    "        autopct='%1.1f%%',\n",
    "       shadow = True,\n",
    "       startangle=90)\n",
    "plt.show()"
   ]
  },
  {
   "cell_type": "markdown",
   "metadata": {},
   "source": [
    "**Offering AutoPay:**"
   ]
  },
  {
   "cell_type": "code",
   "execution_count": null,
   "metadata": {},
   "outputs": [],
   "source": [
    "auto = pd.Series([axe.autopay for axe in axes]).value_counts()\n",
    "plt.figure(figsize = (8,8))\n",
    "plt.pie(auto.values, explode=[.1,.1], \n",
    "        labels=['No AutoPay', 'AutoPay'], \n",
    "        autopct='%1.1f%%',\n",
    "       shadow = True,\n",
    "       startangle=90)\n",
    "plt.show()"
   ]
  },
  {
   "cell_type": "markdown",
   "metadata": {},
   "source": [
    "****"
   ]
  },
  {
   "cell_type": "markdown",
   "metadata": {},
   "source": [
    "__\"Best Offer\":__"
   ]
  },
  {
   "cell_type": "code",
   "execution_count": null,
   "metadata": {
    "scrolled": true
   },
   "outputs": [],
   "source": [
    "print(f'{round((sum(axe.best_offer_enabled for axe in axes) / len(axes)*100),2)}% of listings have \"Best Offer\" enabled. (Potential buyers are allowed to negotiate price)')"
   ]
  },
  {
   "cell_type": "markdown",
   "metadata": {},
   "source": [
    "***"
   ]
  },
  {
   "cell_type": "markdown",
   "metadata": {},
   "source": [
    "**Countries of Sellers:**"
   ]
  },
  {
   "cell_type": "code",
   "execution_count": null,
   "metadata": {},
   "outputs": [],
   "source": [
    "plt.figure(figsize = (10,10))\n",
    "countries = pd.Series([axe.country_seller for axe in axes]).value_counts()\n",
    "plt.pie(countries.values, labels=['USA', 'Japan', 'Canada', \n",
    "                                  'Other','Great Britain'], \n",
    "                            explode = np.full(len(countries), .5), \n",
    "        autopct='%1.1f%%',\n",
    "       shadow = True)\n",
    "plt.show()"
   ]
  },
  {
   "cell_type": "markdown",
   "metadata": {},
   "source": [
    "__Seller Karma:__"
   ]
  },
  {
   "cell_type": "markdown",
   "metadata": {},
   "source": [
    "Ebay Seller Feedback Score:"
   ]
  },
  {
   "cell_type": "code",
   "execution_count": null,
   "metadata": {},
   "outputs": [],
   "source": [
    "scores = pd.Series([axe.seller_feedback_score for axe in axes])\n",
    "plt.figure(figsize = (18,6))\n",
    "plt.hist(scores, bins=20)\n",
    "plt.show()"
   ]
  },
  {
   "cell_type": "code",
   "execution_count": null,
   "metadata": {},
   "outputs": [],
   "source": [
    "scores.min(), scores.max()"
   ]
  },
  {
   "cell_type": "markdown",
   "metadata": {},
   "source": [
    "eBay Positive Feedback Percentage:"
   ]
  },
  {
   "cell_type": "code",
   "execution_count": null,
   "metadata": {
    "scrolled": false
   },
   "outputs": [],
   "source": [
    "scores = pd.Series([axe.seller_positive_percent for axe in axes])\n",
    "plt.figure(figsize = (18,6))\n",
    "plt.hist(scores, bins=20)\n",
    "plt.show()"
   ]
  },
  {
   "cell_type": "markdown",
   "metadata": {},
   "source": [
    "***"
   ]
  },
  {
   "cell_type": "markdown",
   "metadata": {},
   "source": [
    "## ITEM DETAILS"
   ]
  },
  {
   "cell_type": "markdown",
   "metadata": {},
   "source": [
    "__Countries of Manufacture:__"
   ]
  },
  {
   "cell_type": "code",
   "execution_count": null,
   "metadata": {
    "scrolled": false
   },
   "outputs": [],
   "source": [
    "plt.figure(figsize = (8,8))\n",
    "countries = pd.Series([item.country_manufacture for item in items]).value_counts()\n",
    "plt.pie(countries.values, labels= countries.index, explode = np.full(len(countries), .1), \n",
    "        autopct='%1.1f%%',\n",
    "       shadow = True,\n",
    "       startangle=90)\n",
    "plt.show()"
   ]
  },
  {
   "cell_type": "code",
   "execution_count": null,
   "metadata": {},
   "outputs": [],
   "source": [
    "per = round(sum(pd.Series(len([axe.country_manufacture for axe in items if axe.country_manufacture != \"UNKNOWN\"]) / len(items))*100),2)\n",
    "print(f'{per}% of auctions list a country of manufacture where they\\'re supposed to.')"
   ]
  },
  {
   "cell_type": "code",
   "execution_count": null,
   "metadata": {
    "scrolled": true
   },
   "outputs": [],
   "source": [
    "items[10]._Shade_Sale__body"
   ]
  },
  {
   "cell_type": "markdown",
   "metadata": {},
   "source": [
    "**Properties:**\n",
    "\n",
    "* Temple length (?)\n",
    "* Country of mfctr\n",
    "* Modified Item (?)\n",
    "* Frame material\n",
    "* Frame color\n",
    "* Lens Color\n",
    "* Lens technology\n",
    "* Brand\n",
    "* Model (too many)\n",
    "* Style\n",
    "* Protection"
   ]
  },
  {
   "cell_type": "code",
   "execution_count": null,
   "metadata": {},
   "outputs": [],
   "source": [
    "years = pd.Series([axe.year for axe in axes if axe.year != None])\n",
    "plt.figure(figsize = (18,6))\n",
    "plt.hist(years, bins=30)\n",
    "plt.xticks(np.arange(1900,2021,5))\n",
    "plt.show()"
   ]
  },
  {
   "cell_type": "code",
   "execution_count": null,
   "metadata": {
    "scrolled": true
   },
   "outputs": [],
   "source": [
    "print(f'{round((len(years) / len(axes) * 100),2)}% of auctions include year data...')"
   ]
  },
  {
   "cell_type": "markdown",
   "metadata": {},
   "source": [
    "### What if we just bin years, drawing the line where it really matters?"
   ]
  },
  {
   "cell_type": "markdown",
   "metadata": {},
   "source": [
    "***"
   ]
  },
  {
   "cell_type": "markdown",
   "metadata": {},
   "source": [
    "__US Seller Locations, by Zip Code:__"
   ]
  },
  {
   "cell_type": "code",
   "execution_count": null,
   "metadata": {},
   "outputs": [],
   "source": [
    "sales = [(axe.zip[0], axe.start_time) for axe in axes if axe.country_seller == 'US' and axe.zip != None]"
   ]
  },
  {
   "cell_type": "code",
   "execution_count": null,
   "metadata": {},
   "outputs": [],
   "source": [
    "def get_usa_zips(url):\n",
    "    usa_zips = {}\n",
    "    census_zip_latlon = io.StringIO(requests.get(url).text)\n",
    "    dialect = csv.Sniffer().sniff(census_zip_latlon.read(1024))\n",
    "    census_zip_latlon.seek(0)\n",
    "    reader = csv.reader(census_zip_latlon, dialect)\n",
    "    for row in reader:\n",
    "        usa_zips[row[0]] = (row[1], row[2])\n",
    "    return usa_zips"
   ]
  },
  {
   "cell_type": "code",
   "execution_count": null,
   "metadata": {},
   "outputs": [],
   "source": [
    "usa_zips = get_usa_zips(r'https://goo.gl/oYwpRM')"
   ]
  },
  {
   "cell_type": "code",
   "execution_count": null,
   "metadata": {},
   "outputs": [],
   "source": [
    "sales = [sale for sale in sales if sale[1] > datetime.strptime('2018-08-01', '%Y-%m-%d')]"
   ]
  },
  {
   "cell_type": "code",
   "execution_count": null,
   "metadata": {},
   "outputs": [],
   "source": [
    "def write_kepler_csv():\n",
    "    with open('../_for_kepler.csv', mode='w') as sale_lat_long_datetime_file:\n",
    "\n",
    "        sales_writer = csv.writer(sale_lat_long_datetime_file, delimiter=',', \n",
    "                                                           quotechar='\"', \n",
    "                                                           quoting=csv.QUOTE_MINIMAL)\n",
    "\n",
    "        ## The sample data set I got from the kepler github repo had rows named like so:\n",
    "        sales_writer.writerow(['latitude','longitude','tpep_sale_datetime'])\n",
    "        omissions = 0\n",
    "        \n",
    "        for sale in sales:\n",
    "            try:\n",
    "                datetime = sale[1]\n",
    "                lat = usa_zips[sale[0]][0]\n",
    "                lon = usa_zips[sale[0]][1]\n",
    "                sales_writer.writerow([lat, lon,datetime])\n",
    "            except KeyError:\n",
    "                omissions += 1\n",
    "        print (f\"{round((omissions/len(sales))*100, 2)}% of zips were not found\")"
   ]
  },
  {
   "cell_type": "code",
   "execution_count": null,
   "metadata": {
    "scrolled": true
   },
   "outputs": [],
   "source": [
    "write_kepler_csv()"
   ]
  },
  {
   "cell_type": "markdown",
   "metadata": {},
   "source": [
    "***"
   ]
  },
  {
   "cell_type": "markdown",
   "metadata": {},
   "source": [
    "__Guitar Brands__"
   ]
  },
  {
   "cell_type": "code",
   "execution_count": 21,
   "metadata": {},
   "outputs": [],
   "source": [
    "brand_counts = pd.Series([item.brand for item in items]).value_counts()"
   ]
  },
  {
   "cell_type": "code",
   "execution_count": 22,
   "metadata": {
    "scrolled": false
   },
   "outputs": [
    {
     "data": {
      "image/png": "[encoded data removed]",
      "text/plain": [
       "<Figure size 720x720 with 1 Axes>"
      ]
     },
     "metadata": {},
     "output_type": "display_data"
    }
   ],
   "source": [
    "plt.figure(figsize = (10,10))\n",
    "plt.pie(brand_counts.values, \n",
    "        labels = brand_counts.index,\n",
    "        autopct='%1.1f%%',\n",
    "        pctdistance = 1.3,\n",
    "       startangle=90,\n",
    "        explode = np.full(len(brand_counts), .1))\n",
    "plt.show()"
   ]
  },
  {
   "cell_type": "code",
   "execution_count": null,
   "metadata": {},
   "outputs": [],
   "source": [
    "print(f'{round((len([axe.brand for axe in axes if axe.brand != None]) * 100 / len(axes) ),2)}% of auctions include brand data.')"
   ]
  },
  {
   "cell_type": "markdown",
   "metadata": {},
   "source": [
    "**Individual Guitar Models**"
   ]
  },
  {
   "cell_type": "code",
   "execution_count": null,
   "metadata": {},
   "outputs": [],
   "source": [
    "model_counts = pd.Series([axe.model for axe in axes if axe.brand != None]).value_counts()"
   ]
  },
  {
   "cell_type": "markdown",
   "metadata": {},
   "source": [
    "There is such a great variety of guitar models. Slivers of the pie smaller than \"SQUIER\" (rightmost tiny sliver) have been lumped into \"OTHER\"."
   ]
  },
  {
   "cell_type": "code",
   "execution_count": null,
   "metadata": {},
   "outputs": [],
   "source": [
    "plt.figure(figsize = (10,10))\n",
    "plt.pie(model_counts.values, labels = model_counts.index,\n",
    "                            explode = np.full(len(model_counts), .01))\n",
    "plt.show()"
   ]
  },
  {
   "cell_type": "markdown",
   "metadata": {},
   "source": [
    "***"
   ]
  },
  {
   "cell_type": "markdown",
   "metadata": {},
   "source": [
    "__Right or Left Handed:__"
   ]
  },
  {
   "cell_type": "code",
   "execution_count": null,
   "metadata": {},
   "outputs": [],
   "source": [
    "RL = pd.Series([axe.right_left_handed for axe in axes if axe.right_left_handed != None]).value_counts()\n",
    "plt.figure(figsize = (10,10))\n",
    "plt.pie(RL.values, labels = RL.index,\n",
    "                            explode = np.full(len(RL), .1))\n",
    "plt.show()"
   ]
  },
  {
   "cell_type": "code",
   "execution_count": null,
   "metadata": {},
   "outputs": [],
   "source": [
    "print(f'{round((len([axe.right_left_handed for axe in axes if axe.right_left_handed != None]) / len(axes)),2)}% of auctions include dexterity.')"
   ]
  },
  {
   "cell_type": "markdown",
   "metadata": {},
   "source": [
    "***"
   ]
  },
  {
   "cell_type": "markdown",
   "metadata": {},
   "source": [
    "__Body Types:__"
   ]
  },
  {
   "cell_type": "code",
   "execution_count": null,
   "metadata": {},
   "outputs": [],
   "source": [
    "plt.figure(figsize=(10,10))\n",
    "bodies = pd.Series([axe.body_type for axe in axes if axe.body_type != None]).value_counts()\n",
    "plt.pie(bodies.values, \n",
    "        labels = bodies.index,\n",
    "       explode = np.full(len(bodies), .1))\n",
    "plt.show()"
   ]
  },
  {
   "cell_type": "code",
   "execution_count": null,
   "metadata": {},
   "outputs": [],
   "source": [
    "print(f'{sum(bodies.values)} aka {round(sum(bodies.values) / len(axes) * 100, 2)}% of listings provide a body type.')"
   ]
  },
  {
   "cell_type": "markdown",
   "metadata": {},
   "source": [
    "****"
   ]
  },
  {
   "cell_type": "markdown",
   "metadata": {},
   "source": [
    "__Number of Strings:__"
   ]
  },
  {
   "cell_type": "code",
   "execution_count": null,
   "metadata": {},
   "outputs": [],
   "source": [
    "strings = pd.Series([axe.string_config for axe in axes if axe.string_config != None]).value_counts()\n",
    "plt.figure(figsize = (10,10))\n",
    "plt.pie(strings.values, \n",
    "        labels = strings.index,\n",
    "        autopct='%1.1f%%',\n",
    "        pctdistance = 1.3,\n",
    "       startangle=0,\n",
    "        explode = np.full(len(strings), .8))\n",
    "plt.show()"
   ]
  },
  {
   "cell_type": "code",
   "execution_count": null,
   "metadata": {
    "scrolled": true
   },
   "outputs": [],
   "source": [
    "print(f'{sum(strings.values)} aka {round(sum(strings.values) / len(axes) * 100, 2)}% of listings provide a string count.')"
   ]
  }
 ],
 "metadata": {
  "kernelspec": {
   "display_name": "Python 3",
   "language": "python",
   "name": "python3"
  },
  "language_info": {
   "codemirror_mode": {
    "name": "ipython",
    "version": 3
   },
   "file_extension": ".py",
   "mimetype": "text/x-python",
   "name": "python",
   "nbconvert_exporter": "python",
   "pygments_lexer": "ipython3",
   "version": "3.7.2"
  }
 },
 "nbformat": 4,
 "nbformat_minor": 2
}
