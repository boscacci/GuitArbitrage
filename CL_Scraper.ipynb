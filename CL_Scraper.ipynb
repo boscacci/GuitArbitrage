{
 "cells": [
  {
   "cell_type": "markdown",
   "metadata": {},
   "source": [
    "Here we'll try to create a new datapoint for the model to predict on, from a CraigsList post."
   ]
  },
  {
   "cell_type": "code",
   "execution_count": 5,
   "metadata": {},
   "outputs": [],
   "source": [
    "import requests\n",
    "from bs4 import BeautifulSoup"
   ]
  },
  {
   "cell_type": "code",
   "execution_count": 48,
   "metadata": {},
   "outputs": [],
   "source": [
    "nyc_guitars_raw = requests.get('https://newyork.craigslist.org/search/msg?query='\n",
    "                               'electric+guitar&'\n",
    "                               'srchType=T&'\n",
    "                               'hasPic=1&'\n",
    "                               'search_distance=5&'\n",
    "                               'postal=11225&'\n",
    "                               'max_price=350')"
   ]
  },
  {
   "cell_type": "code",
   "execution_count": 49,
   "metadata": {},
   "outputs": [],
   "source": [
    "soup = BeautifulSoup(nyc_guitars_raw.text)"
   ]
  },
  {
   "cell_type": "code",
   "execution_count": 50,
   "metadata": {
    "scrolled": false
   },
   "outputs": [],
   "source": [
    "rows = soup.find_all(\"ul\", class_=\"rows\")[0].find_all(\"li\")"
   ]
  },
  {
   "cell_type": "code",
   "execution_count": 56,
   "metadata": {},
   "outputs": [],
   "source": [
    "guitar_urls = [row.a.get('href') for row in rows]"
   ]
  },
  {
   "cell_type": "code",
   "execution_count": 57,
   "metadata": {},
   "outputs": [],
   "source": [
    "guitar_0 = requests.get(guitar_urls[0]).text"
   ]
  },
  {
   "cell_type": "code",
   "execution_count": 58,
   "metadata": {},
   "outputs": [
    {
     "data": {
      "text/plain": [
       "'<!DOCTYPE html>\\n<html class=\"no-js\">\\n<head>\\n<title>Electric Guitar - BC Rich Ironbird Platinum (2001) - musical instruments - by owner - sale</title>\\n    \\t<link rel=\"canonical\" href=\"https://newyork.craigslist.org/brk/msg/d/brooklyn-electric-guitar-bc-rich/6809769482.html\">\\n\\t<meta name=\"description\" content=\"Barely played; edge is chipped\">\\n\\t<meta name=\"geo.placename\" content=\"Brooklyn\">\\n\\t<meta name=\"geo.position\" content=\"40.645084;-73.984829\">\\n\\t<meta name=\"geo.region\" content=\"US-NY\">\\n\\t<meta name=\"robots\" content=\"noarchive,nofollow,unavailable_after: 09-Feb-19 09:19:58 EST\">\\n\\t<meta name=\"twitter:card\" content=\"preview\">\\n\\t<meta property=\"og:description\" content=\"Barely played; edge is chipped\">\\n\\t<meta property=\"og:image\" content=\"https://images.craigslist.org/00d0d_3FCnODek96t_600x450.jpg\">\\n\\t<meta property=\"og:site_name\" content=\"craigslist\">\\n\\t<meta property=\"og:title\" content=\"Electric Guitar - BC Rich Ironbird Platinum (2001)\">\\n\\t<meta property=\"og:type\" content=\"article\">\\n\\t<meta property=\"og:url\" content=\"https://newyork.craigslist.org/brk/msg/d/brooklyn-electric-guitar-bc-rich/6809769482.html\">\\n<meta name=\"viewport\" content=\"width=device-width,initial-scale=1\"><link type=\"text/css\" rel=\"stylesheet\" media=\"all\" href=\"//www.craigslist.org/styles/cl.css?v=93aa8b9183682fd14ca12ff38c0d801c\"><link type=\"text/css\" rel=\"stylesheet\" media=\"all\" href=\"//www.craigslist.org/styles/postings.css?v=cbdbfa15a1d35ac9c18c3245be5e5941\">    <link type=\"text/css\" rel=\"stylesheet\" media=\"all\" href=\"//www.craigslist.org/styles/leaflet.css?v=33e3dd14c7deed955c83b6927c5e1f07\">\\n<!--[if lt IE 9]>\\n<script src=\"//www.craigslist.org/js/html5shiv.min.js?v=c0739b14a84b052680cdee44fea07435\" type=\"text/javascript\" ></script>\\n\\n<script src=\"//www.craigslist.org/js/respond-fork.min.js?v=247e877d69233f6f77bff30aca7b5473\" type=\"text/javascript\" ></script>\\n\\n<![endif]-->\\n<!--[if lte IE 7]>\\n<script src=\"//www.craigslist.org/js/json2.min.js?v=6e47a4bb061d538548771024390aa00b\" type=\"text/javascript\" ></script>\\n\\n<![endif]--></head>\\n\\n<body class=\"posting en\">\\n<script type=\"text/javascript\"><!--\\n    function C(k){return(document.cookie.match(\\'(^|; )\\'+k+\\'=([^;]*)\\')||0)[2]}\\n    var pagetype, pagemode;\\n    (function(){\\n        var h = document.documentElement;\\n        h.className = h.className.replace(\\'no-js\\', \\'js\\');\\n        var b = document.body;\\n        var bodyClassList = b.className.split(/\\\\s+/);;\\n        pagetype = bodyClassList[0]; // dangerous assumption\\n        var fmt = C(\\'cl_fmt\\');\\n        if ( fmt === \\'regular\\' || fmt === \\'mobile\\' ) {\\n            pagemode = fmt;\\n        } else if (screen.width <= 480) {\\n            pagemode = \\'mobile\\';\\n        } else {\\n            pagemode = \\'regular\\';\\n        }\\n        pagemode = pagemode === \\'mobile\\' ? \\'mobile\\' : \\'desktop\\';\\n        bodyClassList.push(pagemode);\\n        if (C(\\'hidesearch\\') === \\'1\\' && pagemode !== \\'mobile\\') {\\n            bodyClassList.push(\\'hide-search\\');\\n        }\\n        var width = window.innerWidth || document.documentElement.clientWidth;\\n        if (width > 1000) { bodyClassList.push(\\'w1024\\'); }\\n        if (typeof window.sectionBase !== \\'undefined\\') {\\n            var mode = (decodeURIComponent(C(\\'cl_tocmode\\') || \\'\\').match(new RegExp(window.sectionBase + \\':([^,]+)\\', \\'i\\')) || {})[1] || window.defaultView;\\n            if (mode) {\\n                bodyClassList.push(mode);\\n            }\\n        }\\n        b.className = bodyClassList.join(\\' \\');\\n    }());\\n--></script>\\n\\n    <section class=\"page-container\">\\n        <div class=\"bglogo\"></div>\\n<header class=\"global-header wide\">\\n   <a class=\"header-logo\" name=\"logoLink\" href=\"/\">CL</a>\\n\\n    <nav class=\"breadcrumbs-container\">\\n\\n<ul class=\"breadcrumbs\">\\n        <li class=\"crumb area\">\\n            <p>\\n                    <a href=\"/\">new york</a>\\n\\n                    <span class=\"breadcrumb-arrow\">&gt;</span>\\n            </p>\\n        </li>\\n\\n        <li class=\"crumb subarea\">\\n            <p>\\n                    <a href=\"/brk/\">brooklyn</a>\\n                    <span class=\"breadcrumb-arrow\">&gt;</span>\\n            </p>\\n        </li>\\n\\n        <li class=\"crumb section\">\\n            <p>\\n                    <a href=\"/search/brk/sss\">for sale</a>\\n\\n                    <span class=\"breadcrumb-arrow\">&gt;</span>\\n            </p>\\n        </li>\\n\\n        <li class=\"crumb category\">\\n            <p>\\n                <a href=\"/search/brk/msg\">musical instruments - by owner</a>\\n\\n            </p>\\n        </li>\\n\\n</ul>\\n    </nav>\\n\\n<div class=\"userlinks\">\\n    <ul class=\"user-actions\">\\n        <li class=\"user post\">\\n            <a href=\"https://post.craigslist.org/c/nyc\">post</a>\\n        </li>\\n        <li class=\"user account\">\\n            <a href=\"https://accounts.craigslist.org/login/home\">account</a>\\n        </li>\\n    </ul>\\n    <ul class=\"user-favs-discards\">\\n        <li class=\"user\">\\n            <div class=\"favorites\">\\n                <a href=\"#\" class=\"favlink\"><span class=\"icon icon-star fav\" aria-hidden=\"true\"></span><span class=\"fav-number\"></span><span class=\"fav-label\"> favorites</span></a>\\n            </div>\\n        </li>\\n        <li class=\"user discards\">\\n          <form class=\"unfavform js-only\" method=\"POST\" action=\"/favorites\">\\n            <div class=\"to-banish-page\">\\n              <input type=\"hidden\" class=\"lastLink\" name=\"lastLink\" value=\"/brk/msg/6809769482.html\">\\n              <input type=\"hidden\" class=\"lastTitle\" name=\"lastTitle\" value=\"Electric Guitar - BC Rich Ironbird Platinum (2001)\">\\n              <input type=\"hidden\" class=\"unfaves\" name=\"fl\">\\n              <input type=\"hidden\" name=\"uf\" value=\"1\">\\n              <a href=\"#\" class=\"to-banish-page-link\">\\n                <span class=\"icon icon-trash red\" aria-hidden=\"true\"></span>\\n                <span class=\"banished_count\"></span>\\n                <span class=\"discards-label\"> hidden</span>\\n              </a>\\n            </div>\\n          </form>\\n        </li>\\n    </ul>\\n</div>\\n\\n</header>\\n<header class=\"global-header narrow\">\\n   <a class=\"header-logo\" href=\"/\">CL</a>\\n    <nav class=\"breadcrumbs-container\">\\n\\n<ul class=\"breadcrumbs\">\\n\\n\\nbrooklyn            &gt;\\n\\nmusical instruments - by owner\\n\\n</ul>\\n\\n\\n    </nav>\\n    <span class=\"linklike show-wide-header\">...</span>\\n</header>\\n        <section class=\"body\">\\n<header class=\"dateReplyBar\">\\n    <div class=\"prevnext-sec\">\\n        <div class=\"prevnext js-only\">\\n    <a class=\"prev\">&#9664;  prev </a>\\n    <a class=\"backup\" title=\"back to search\">&#9650;</a>\\n    <a class=\"next\"> next &#9654; </a>\\n</div>\\n\\n    </div>\\n\\n    <div class=\"reply-button-row\">\\n    <button class=\"reply_button js-only\">reply\\n      <span class=\"envelope\">&#9993;</span>\\n      <span class=\"phone\">&#9742;</span>\\n    </button>\\n    <span class=\"replylink\">\\n      <a id=\"replylink\" href=\"/reply/nyc/msg/6809769482\">\\nreply      </a>\\n    </span>\\n      <div class=\"returnemail js-only\"></div>\\n\\n<aside class=\"flags\">\\n    <a class=\"flaglink\" data-flag=\"28\" href=\"https://post.craigslist.org/flag?flagCode=28&amp;postingID=6809769482&amp;cat=msg&amp;area=nyc\" title=\"flag as prohibited / spam / miscategorized\"><span class=\"flag\">x</span> <span class=\"flagtext\">prohibited</span></a><sup>[<a href=\"https://www.craigslist.org/about/prohibited\">?</a>]</sup>\\n</aside>\\n\\n            <p id=\"display-date\" class=\"postinginfo reveal\">\\n                    Posted\\n                    <time class=\"date timeago\" datetime=\"2019-02-02T09:15:58-0500\">\\n                        2019-02-02 09:15\\n                    </time>\\n            </p>\\n\\n            <p class=\"print-information print-contact\">\\n                Contact Information: <span class=\"print-email\"></span> <span class=\"print-phone\"></span>\\n            </p>\\n            <a href=\"#\" id=\"printme\">print</a>\\n\\n    </div>\\n\\n</header>\\n\\n<h2 class=\"postingtitle\">\\n    <span class=\"icon icon-star\" role=\"button\">\\n        <span class=\"screen-reader-text\">favorite this post</span>\\n    </span>\\n    <span class=\"postingtitletext\">\\n<span id=\"titletextonly\">Electric Guitar - BC Rich Ironbird Platinum (2001)</span> - <span class=\"price\">$300</span><small> (Kensington, Brooklyn)</small><span class=\"js-only banish-unbanish\">\\n  <span class=\"banish\" role=\"button\">\\n    <span class=\"icon icon-trash\" aria-hidden=\"true\"></span>\\n    <span class=\"screen-reader-text\">hide this posting</span>\\n  </span>\\n  <span class=\"unbanish\" role=\"button\">\\n    <span class=\"icon icon-trash red\" aria-hidden=\"true\"></span>\\n    unhide\\n  </span>\\n</span>\\n    </span>\\n</h2>\\n<section class=\"userbody\">\\n    <figure class=\"iw multiimage\">\\n    <div class=\"gallery\">\\n        <span class=\"slider-back arrow\">&lt;</span>\\n        <span class=\"slider-info\">image 1 of 4</span>\\n        <span class=\"slider-forward arrow\">&gt;</span>\\n\\n        <div class=\"swipe\">\\n            <div class=\"swipe-wrap\">\\n                <div id=\"1_image_3FCnODek96t\" data-imgid=\"3FCnODek96t\" class=\"slide first visible\">\\n                    <img src=\"https://images.craigslist.org/00d0d_3FCnODek96t_600x450.jpg\" title=\"1\" alt=\"1\">\\n                </div>\\n                <div id=\"2_image_egXGwuI8uSH\" data-imgid=\"egXGwuI8uSH\" class=\"slide\">\\n                </div>\\n                <div id=\"3_image_8iByO4HXZ1Q\" data-imgid=\"8iByO4HXZ1Q\" class=\"slide\">\\n                </div>\\n                <div id=\"4_image_9txo3lpCFmU\" data-imgid=\"9txo3lpCFmU\" class=\"slide\">\\n                </div>\\n            </div>\\n        </div>\\n    </div>\\n    <div id=\"thumbs\"><a id=\"1_thumb_3FCnODek96t\" class=\"thumb\" data-imgid=\"3FCnODek96t\" href=\"https://images.craigslist.org/00d0d_3FCnODek96t_600x450.jpg\" title=\"1\"><img src=\"https://images.craigslist.org/00d0d_3FCnODek96t_50x50c.jpg\" class=\"selected\" alt=\"1\"></a><a id=\"2_thumb_egXGwuI8uSH\" class=\"thumb\" data-imgid=\"egXGwuI8uSH\" href=\"https://images.craigslist.org/00707_egXGwuI8uSH_600x450.jpg\" title=\"2\"><img src=\"https://images.craigslist.org/00707_egXGwuI8uSH_50x50c.jpg\" alt=\"2\"></a><a id=\"3_thumb_8iByO4HXZ1Q\" class=\"thumb\" data-imgid=\"8iByO4HXZ1Q\" href=\"https://images.craigslist.org/00P0P_8iByO4HXZ1Q_600x450.jpg\" title=\"3\"><img src=\"https://images.craigslist.org/00P0P_8iByO4HXZ1Q_50x50c.jpg\" alt=\"3\"></a><a id=\"4_thumb_9txo3lpCFmU\" class=\"thumb\" data-imgid=\"9txo3lpCFmU\" href=\"https://images.craigslist.org/00000_9txo3lpCFmU_600x450.jpg\" title=\"4\"><img src=\"https://images.craigslist.org/00000_9txo3lpCFmU_50x50c.jpg\" alt=\"4\"></a></div>\\n    \\n        <script type=\"text/javascript\"><!--\\nvar imgList = [{\"shortid\":\"3FCnODek96t\",\"url\":\"https://images.craigslist.org/00d0d_3FCnODek96t_600x450.jpg\",\"thumb\":\"https://images.craigslist.org/00d0d_3FCnODek96t_50x50c.jpg\",\"imgid\":\"1:00d0d_3FCnODek96t\"},{\"shortid\":\"egXGwuI8uSH\",\"url\":\"https://images.craigslist.org/00707_egXGwuI8uSH_600x450.jpg\",\"thumb\":\"https://images.craigslist.org/00707_egXGwuI8uSH_50x50c.jpg\",\"imgid\":\"1:00707_egXGwuI8uSH\"},{\"shortid\":\"8iByO4HXZ1Q\",\"url\":\"https://images.craigslist.org/00P0P_8iByO4HXZ1Q_600x450.jpg\",\"thumb\":\"https://images.craigslist.org/00P0P_8iByO4HXZ1Q_50x50c.jpg\",\"imgid\":\"1:00P0P_8iByO4HXZ1Q\"},{\"shortid\":\"9txo3lpCFmU\",\"url\":\"https://images.craigslist.org/00000_9txo3lpCFmU_600x450.jpg\",\"thumb\":\"https://images.craigslist.org/00000_9txo3lpCFmU_50x50c.jpg\",\"imgid\":\"1:00000_9txo3lpCFmU\"}];\\n--></script>\\n    \\n</figure>\\n\\n\\n    <div class=\"mapAndAttrs\">\\n<div class=\"mapbox\">\\n    <div id=\"map\" class=\"viewposting\" data-latitude=\"40.645084\" data-longitude=\"-73.984829\" data-accuracy=\"15\"></div>\\n    <div class=\"mapaddress\">Minna St. at Chester Ave</div>\\n    <p class=\"mapaddress\">\\n        <small>\\n        (<a target=\"_blank\" href=\"https://maps.google.com/?q=loc%3A+Minna+St%2E+at+Chester+Ave+Brooklyn+NY+US\">google map</a>)\\n        </small>\\n    </p>\\n</div>\\n\\n    <p class=\"attrgroup\">\\n\\n\\n\\n            <span>condition: <b>good</b></span>\\n            <br>\\n\\n\\n\\n\\n            <span>make / manufacturer: <b>BC Rich</b></span>\\n            <br>\\n\\n\\n\\n\\n            <span>model name / number: <b>Ironbird Platinum</b></span>\\n            <br>\\n\\n    </p>\\n    </div>\\n\\n    <section id=\"postingbody\">\\n        <div class=\"print-information print-qrcode-container\">\\n            <p class=\"print-qrcode-label\">QR Code Link to This Post</p>\\n            <div class=\"print-qrcode\" data-location=\"https://newyork.craigslist.org/brk/msg/d/brooklyn-electric-guitar-bc-rich/6809769482.html\"></div>\\n        </div>\\nBarely played; edge is chipped    </section>\\n\\n<ul class=\"notices\">\\n            <li>do NOT contact me with unsolicited services or offers</li>\\n</ul>\\n\\n    <div class=\"postinginfos\">\\n            <p class=\"postinginfo\">post id: 6809769482</p>\\n                <p class=\"postinginfo reveal\">posted: <time class=\"date timeago\" datetime=\"2019-02-02T09:15:58-0500\">2019-02-02 09:15</time></p>\\n\\n\\n               <p class=\"postinginfo\">\\n                   <a href=\"https://accounts.craigslist.org/eaf?postingID=6809769482&amp;token=U2FsdGVkX18xMTU1NTExNbEF8tEMjKSjlbNmE7j5iSIoJrS5gdM4o-wfIe_g3MZ3\" class=\"email-friend\">email to friend</a>\\n               </p>\\n        <p class=\"postinginfo\">\\n              <a class=\"bestof-link\" data-flag=\"9\" href=\"https://post.craigslist.org/flag?flagCode=9&amp;postingID=6809769482\" title=\"nominate for best-of-CL\">\\n                <span class=\"bestof-icon\">&hearts; </span><span class=\"bestof-text\">best of</span>\\n              </a> <sup>[<a href=\"https://www.craigslist.org/about/best-of-craigslist\">?</a>]</sup>\\n        </p>\\n        \\n    </div>\\n\\n    <div class=\"print-information print-pics\"></div>\\n\\n</section>\\n\\n<div class=\"psa-box\">\\n<aside class=\"tsb\">\\n    <ul>\\n        <li><a href=\"https://www.craigslist.org/about/safety\">safety tips</a>\\n        <li><a href=\"https://www.craigslist.org/about/prohibited\">prohibited items</a>\\n        <li><a href=\"https://www.craigslist.org/about/recalled_items\">product recalls</a>\\n        <li><a href=\"https://www.craigslist.org/about/scams\">avoiding scams</a>\\n    </ul>\\n</aside>\\n</div>\\n\\n<div class=\"avoid-scams\">\\n<aside class=\"tsb\">\\n    <p>\\n        <a href=\"https://www.craigslist.org/about/scams\">Avoid scams, deal locally</a>\\n        <em>Beware wiring (e.g. Western Union), cashier checks, money orders, shipping.</em>\\n    </p>\\n</aside>\\n</div>\\n\\n        </section>\\n<footer>\\n    <ul class=\"clfooter\">\\n        <li>&copy;  <span class=\"desktop\">craigslist</span><span class=\"mobile\">CL</span></li>\\n        <li><a href=\"https://www.craigslist.org/about/help/\">help</a></li>\\n        <li><a href=\"https://www.craigslist.org/about/scams\">safety</a></li>\\n        <li class=\"desktop\"><a href=\"https://www.craigslist.org/about/privacy.policy\">privacy</a></li>\\n        <li class=\"desktop\"><a href=\"https://forums.craigslist.org/?forumID=8\">feedback</a></li>\\n        <li class=\"desktop\"><a href=\"https://www.craigslist.org/about/craigslist_is_hiring\">cl jobs</a></li>\\n        <li><a href=\"//www.craigslist.org/about/terms.of.use.en\">terms</a><sup class=\"neu\">new</sup></li>\\n        <li><a href=\"https://www.craigslist.org/about/\">about</a></li>\\n        <li class=\"fsel desktop linklike\" data-mode=\"mobile\">mobile</li>\\n        <li class=\"fsel mobile linklike\" data-mode=\"regular\">desktop</li>\\n    </ul>\\n</footer>\\n    </section>\\n\\n    \\n        <script type=\"text/javascript\"><!--\\nvar countOfTotalText = \"image {count} of {total}\";\\nvar imageConfig = {\"1\":{\"hostname\":\"https://images.craigslist.org\",\"sizes\":[\"50x50c\",\"300x300\",\"600x450\",\"1200x900\"]},\"0\":{\"hostname\":\"https://images.craigslist.org\",\"sizes\":[\"50x50c\",\"300x300\",\"600x450\"]},\"2\":{\"hostname\":\"https://images.craigslist.org\",\"sizes\":[\"50x50c\",\"300x300\",\"600x450\",\"1200x900\"]}};\\nvar maptileBaseUrl = \"//map{s}.craigslist.org/t09/{z}/{x}/{y}.png\";\\nvar pID = 6809769482;\\n--></script>\\n    \\n<script src=\"//www.craigslist.org/js/general-concat.min.js?v=ec2809ab798c64f11701752083535431\" type=\"text/javascript\" ></script>\\n<script type=\"text/javascript\"><!--\\n        var iframe = document.createElement(\\'iframe\\');\\n        iframe.style.display = \\'none\\';\\n        iframe.src = \\'//www.\\' + CL.url.baseDomain + \\'/static/localstorage.html?v=51a29e41f8e978141e4085ed4a77d170\\';\\n        document.body.insertBefore(iframe, null);\\n    --></script>\\n    <script src=\"//www.craigslist.org/js/leaflet-concat.min.js?v=b4f9b48fd7339d4a19e71c500faae0cb\" type=\"text/javascript\" ></script>\\n\\n<script src=\"//www.craigslist.org/js/postings-concat.min.js?v=33044b660200679fcccbf86838189c88\" type=\"text/javascript\" ></script>\\n</body>\\n</html>\\n'"
      ]
     },
     "execution_count": 58,
     "metadata": {},
     "output_type": "execute_result"
    }
   ],
   "source": [
    "guitar_0"
   ]
  },
  {
   "cell_type": "code",
   "execution_count": null,
   "metadata": {},
   "outputs": [],
   "source": []
  },
  {
   "cell_type": "code",
   "execution_count": null,
   "metadata": {},
   "outputs": [],
   "source": []
  },
  {
   "cell_type": "code",
   "execution_count": null,
   "metadata": {},
   "outputs": [],
   "source": []
  },
  {
   "cell_type": "code",
   "execution_count": null,
   "metadata": {},
   "outputs": [],
   "source": []
  },
  {
   "cell_type": "code",
   "execution_count": null,
   "metadata": {},
   "outputs": [],
   "source": [
    "auction_duration    =             # pd.Series([axe.duration for axe in axes], name = 'auction_duration')\n",
    "shipping_charged    =             # pd.Series([axe.price_shipping for axe in axes], name = 'shipping_charged')\n",
    "seller_country      =             # pd.Series([axe.country_seller for axe in axes], name = 'seller_country')\n",
    "autopay             =             # pd.Series([axe.autopay for axe in axes], name = 'autopay')\n",
    "returns             =             # pd.Series([axe.returns for axe in axes], name = 'returns')\n",
    "listing_type        =             # pd.Series([axe.listing_type for axe in axes], name = 'listing_type')\n",
    "ship_type           =             # pd.Series([axe.ship_type for axe in axes], name = 'ship_type')\n",
    "ship_expedite       =             # pd.Series([axe.ship_expedite for axe in axes], name = 'ship_expedite')\n",
    "start_hour          =             # pd.cut(pd.Series([axe.start_time.hour for axe in axes], name = 'start_hour'), 6)\n",
    "end_hour            =             # pd.cut(pd.Series([axe.end_time.hour for axe in axes], name = 'end_hour'), 6)\n",
    "start_weekday       =             # pd.Series([axe.start_weekday for axe in axes], name = 'start_weekday').astype('category')\n",
    "end_weekday         =             # pd.Series([axe.end_weekday for axe in axes], name = 'end_weekday').astype('category')\n",
    "returns_time        =             # pd.Series([axe.returns_time for axe in axes], name = \"returns_time\").astype('category')\n",
    "num_pics            =             # pd.Series([axe.pic_quantity for axe in axes], name = \"num_pics\")\n",
    "brand               =             # pd.Series([axe.brand for axe in axes], name = \"brand\")\n",
    "body_type           =             # pd.Series([axe.body_type for axe in axes], name = \"body_type\")\n",
    "color               =             # pd.Series([axe.color for axe in axes], name = \"color\")\n",
    "right_left_handed   =             # pd.Series([axe.right_left_handed for axe in axes], name = \"right_left_handed\")\n",
    "best_offer_enabled  =             # pd.Series([axe.best_offer_enabled for axe in axes], name = \"best_offer_enabled\")\n",
    "country_manufacture =             # pd.Series([axe.country_manufacture for axe in axes], name = \"country_manufacture\")\n",
    "\n",
    "ship_handling_time =              # pd.Series([axe.ship_handling_time for axe in axes], name = 'ship_handling_time').astype('category')\n",
    "\n",
    "string_config =              # pd.cut(pd.Series([axe.string_config for axe in axes], name = \"string_config\"), [0,5,6,11,20])\n",
    "\n",
    "seller_feedback_score =          # pd.cut(pd.Series([axe.seller_feedback_score for axe in axes], name = \"seller_feedback_score\"), [-411,0,50,100,200,500,750,1250,2500,10000,100000,400000])\n",
    "\n",
    "seller_positive_percent =      # pd.cut(pd.Series([axe.seller_positive_percent for axe in axes], name = \"seller_positive_percent\"), [-10000,99.5,111])\n",
    "\n",
    "model_year =                 # pd.cut(pd.Series([axe.year for axe in axes], name = \"model_year\"), [1700,1975,1990,1995,2000,2005,2007,2010,2011,2012,2013,2015])"
   ]
  },
  {
   "cell_type": "code",
   "execution_count": null,
   "metadata": {},
   "outputs": [],
   "source": [
    "stemmer = SnowballStemmer(\"english\")"
   ]
  },
  {
   "cell_type": "code",
   "execution_count": null,
   "metadata": {},
   "outputs": [],
   "source": [
    "stopwords_list = stopwords.words('english') + list(string.punctuation)\n",
    "stopwords_list += [\"''\", '\"\"', '...', '``', \",\", \".\", \":\", \"'s\", \"--\",\"’\"]"
   ]
  },
  {
   "cell_type": "code",
   "execution_count": null,
   "metadata": {},
   "outputs": [],
   "source": [
    "def process_doc(doc):\n",
    "    stopwords_removed = ''\n",
    "    tokens = nltk.word_tokenize(doc)\n",
    "    for i in range(len(tokens)):\n",
    "        if tokens[i].lower() not in stopwords_list and tokens[i] not in string.punctuation:\n",
    "            stopwords_removed += stemmer.stem(tokens[i]) + ' '\n",
    "    return stopwords_removed"
   ]
  },
  {
   "cell_type": "code",
   "execution_count": null,
   "metadata": {},
   "outputs": [],
   "source": [
    "X_no_dummies = pd.concat([prices, brand, color, country_manufacture, right_left_handed, best_offer_enabled, shipping_charged, \n",
    "               returns, returns_time, autopay,seller_country, ship_handling_time, listing_type, ship_expedite,\n",
    "               ship_type, num_pics, auction_duration, start_hour, end_hour, start_weekday, end_weekday, \n",
    "               seller_feedback_score, seller_positive_percent, model_year, body_type, string_config],\n",
    "              axis = 1)\n",
    "\n",
    "y_X = pd.get_dummies(X_no_dummies, drop_first=True)"
   ]
  }
 ],
 "metadata": {
  "kernelspec": {
   "display_name": "Bayes_2019-01-23",
   "language": "python",
   "name": "bayes"
  },
  "language_info": {
   "codemirror_mode": {
    "name": "ipython",
    "version": 3
   },
   "file_extension": ".py",
   "mimetype": "text/x-python",
   "name": "python",
   "nbconvert_exporter": "python",
   "pygments_lexer": "ipython3",
   "version": "3.6.8"
  }
 },
 "nbformat": 4,
 "nbformat_minor": 2
}
