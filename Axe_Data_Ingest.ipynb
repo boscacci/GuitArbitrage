{
 "cells": [
  {
   "cell_type": "code",
   "execution_count": 900,
   "metadata": {},
   "outputs": [],
   "source": [
    "import json, os\n",
    "import pandas as pd\n",
    "import numpy as np\n",
    "from datetime import datetime\n",
    "import matplotlib.pyplot as plt"
   ]
  },
  {
   "cell_type": "markdown",
   "metadata": {},
   "source": [
    "### Here's a JSON Reader Function"
   ]
  },
  {
   "cell_type": "code",
   "execution_count": 21,
   "metadata": {},
   "outputs": [],
   "source": [
    "def read_axe_jsons(axe_num):\n",
    "    with open('axe_listings/%s' % (axe_num), \"r\") as read_file:\n",
    "        listing = json.load(read_file)\n",
    "    with open('axe_specs/%s' % (axe_num), \"r\") as read_file:\n",
    "        specs = json.load(read_file)\n",
    "    return {'listing': listing, 'specs': specs}"
   ]
  },
  {
   "cell_type": "markdown",
   "metadata": {},
   "source": [
    "### Here's a Guitar (Axe) Class with Lots of Attributes (Features)"
   ]
  },
  {
   "cell_type": "code",
   "execution_count": 907,
   "metadata": {},
   "outputs": [],
   "source": [
    "class Axe:\n",
    "    def __init__(self, axe_num=None):\n",
    "        self.id = axe_num\n",
    "        self.__body = read_axe_jsons(\"%s\" % (axe_num))\n",
    "        self.price_usd = float(self.__body['listing']['sellingStatus'][0]['convertedCurrentPrice'][0]['__value__'])\n",
    "        self.title = self.__body['listing']['title'][0]\n",
    "        self.market = self.__body['listing']['globalId'][0]\n",
    "        self.pic = self.__body['listing']['galleryURL'][0]\n",
    "        self.pic_big = self.__body['listing']['pictureURLLarge'][0]\n",
    "        self.url = self.__body['listing']['viewItemURL'][0]\n",
    "        self.pay_method = self.__body['listing']['paymentMethod'][0]\n",
    "        self.autopay = self.__body['listing']['autoPay'][0] == 'true'\n",
    "        self.country_seller = self.__body['listing']['country'][0]\n",
    "        self.ship_type = self.__body['listing']['shippingInfo'][0]['shippingType'][0]\n",
    "        self.ship_worldwide = self.__body['listing']['shippingInfo'][0]['shipToLocations'][0] == 'Worldwide'\n",
    "        self.ship_expedite = self.__body['listing']['shippingInfo'][0]['expeditedShipping'][0] == 'true'\n",
    "        self.ship_one_day = self.__body['listing']['shippingInfo'][0]['oneDayShippingAvailable'][0] == 'true'\n",
    "        self.ship_handling_time = int(self.__body['listing']['shippingInfo'][0]['handlingTime'][0])\n",
    "        self.zip = self.__body['listing'].get('postalCode')\n",
    "        self.best_offer = self.__body['listing']['listingInfo'][0]['bestOfferEnabled'][0] == 'true'\n",
    "        \n",
    "        self.start_time = datetime.strptime(self.__body['listing']['listingInfo'][0]['startTime'][0], \n",
    "                                            \"%Y-%m-%dT%H:%M:%S.%fZ\")\n",
    "        self.end_time = datetime.strptime(self.__body['listing']['listingInfo'][0]['endTime'][0], \n",
    "                                            \"%Y-%m-%dT%H:%M:%S.%fZ\")\n",
    "        \n",
    "        self.__duration = (self.end_time - self.start_time)\n",
    "        self.duration = round(float(self.__duration.days*24) + float(self.__duration.seconds/60/60), 2)\n",
    "        \n",
    "        self.returns = self.__body['listing']['returnsAccepted'][0] == 'true'\n",
    "        self.multi = self.__body['listing']['isMultiVariationListing'][0] == 'true'\n",
    "        self.top_rated = self.__body['listing']['topRatedListing'][0] == 'true'\n",
    "        \n",
    "        # End Generic Section // Begin Specs Section:\n",
    "        \n",
    "        self.description = self.__body['specs']['Description']\n",
    "        self.pic_quantity = len(self.__body['specs']['PictureURL'])\n",
    "        self.seller_feedback_score = float(self.__body['specs']['Seller']['FeedbackScore'])\n",
    "        self.seller_positive_percent = float(self.__body['specs']['Seller']['PositiveFeedbackPercent'])\n",
    "        self.subtitle = self.__body['specs'].get('Subtitle')\n",
    "        self.condition_description = self.__body['specs'].get('ConditionDescription')\n",
    "        \n",
    "        # Niche niche specifics:\n",
    "        \n",
    "        if self.returns:\n",
    "            if self.__body['specs']['ReturnPolicy'].get('ReturnsWithin').split()[1] == 'Days':\n",
    "                self.returns_time = int(self.__body['specs']['ReturnPolicy'].get('ReturnsWithin').split()[0])\n",
    "        else: self.returns_time = None\n",
    "            \n",
    "        # Very ultra niche specifics, more ducking required:\n",
    "        \n",
    "        if self.__body['specs'].get('ItemSpecifics'):\n",
    "            self.__attrs = {prop['Name']:prop['Value'][0] \n",
    "                            for prop in self.__body['specs']['ItemSpecifics']['NameValueList']}\n",
    "            self.brand = self.__attrs.get('Brand')\n",
    "            self.model = self.__attrs.get('Model')\n",
    "            \n",
    "            if self.__attrs.get('Model Year'):\n",
    "                self.year = self.__attrs.get('Model Year')[:4]\n",
    "            else: self.year = None\n",
    "                \n",
    "            self.material = self.__attrs.get('Body Material')\n",
    "            self.right_left_hand = self.__attrs.get('Right-/ Left-Handed')\n",
    "            self.country_manufacture = self.__attrs.get('Country/Region of Manufacture')\n",
    "            self.body_type = self.__attrs.get('Body Type')\n",
    "            self.string_config = self.__attrs.get('String Configuration')\n",
    "            self.color = self.__attrs.get('Body Color')\n",
    "        else:\n",
    "            self.__attrs = self.brand = self.model = self.year = None\n",
    "            self.material = self.right_left_hand = self.country_manufacture = None\n",
    "            self.body_type = self.string_config = self.color = None    "
   ]
  },
  {
   "cell_type": "code",
   "execution_count": 908,
   "metadata": {},
   "outputs": [],
   "source": [
    "axe_0 = Axe('axe_143103953119.json')"
   ]
  },
  {
   "cell_type": "code",
   "execution_count": 909,
   "metadata": {
    "scrolled": true
   },
   "outputs": [],
   "source": [
    "# axe_0._Axe__body"
   ]
  },
  {
   "cell_type": "code",
   "execution_count": 912,
   "metadata": {},
   "outputs": [
    {
     "data": {
      "text/plain": [
       "22.91"
      ]
     },
     "execution_count": 912,
     "metadata": {},
     "output_type": "execute_result"
    }
   ],
   "source": [
    "axe_0.duration"
   ]
  },
  {
   "cell_type": "code",
   "execution_count": 883,
   "metadata": {},
   "outputs": [],
   "source": [
    "filenames = [name for name in os.listdir('axe_listings/') if not name.startswith('.')] # Ignore .DS_Store"
   ]
  },
  {
   "cell_type": "code",
   "execution_count": 884,
   "metadata": {},
   "outputs": [],
   "source": [
    "axes = [Axe(filename) for filename in jsons]"
   ]
  },
  {
   "cell_type": "code",
   "execution_count": 901,
   "metadata": {},
   "outputs": [
    {
     "data": {
      "text/plain": [
       "(array([ 7.,  5.,  7.,  2., 14.,  0., 57.,  0.,  0.,  8.]),\n",
       " array([1.45833333e-01, 2.41312500e+01, 4.81166667e+01, 7.21020833e+01,\n",
       "        9.60875000e+01, 1.20072917e+02, 1.44058333e+02, 1.68043750e+02,\n",
       "        1.92029167e+02, 2.16014583e+02, 2.40000000e+02]),\n",
       " <a list of 10 Patch objects>)"
      ]
     },
     "execution_count": 901,
     "metadata": {},
     "output_type": "execute_result"
    },
    {
     "data": {
      "image/png": "[encoded data removed]",
      "text/plain": [
       "<Figure size 432x288 with 1 Axes>"
      ]
     },
     "metadata": {
      "needs_background": "light"
     },
     "output_type": "display_data"
    }
   ],
   "source": [
    "plt.hist([(float(axe.duration.days*24) + float(axe.duration.seconds/60/60)) for axe in axes])"
   ]
  },
  {
   "cell_type": "code",
   "execution_count": null,
   "metadata": {},
   "outputs": [],
   "source": []
  }
 ],
 "metadata": {
  "kernelspec": {
   "display_name": "Python [conda env:Bayes]",
   "language": "python",
   "name": "conda-env-Bayes-py"
  },
  "language_info": {
   "codemirror_mode": {
    "name": "ipython",
    "version": 3
   },
   "file_extension": ".py",
   "mimetype": "text/x-python",
   "name": "python",
   "nbconvert_exporter": "python",
   "pygments_lexer": "ipython3",
   "version": "3.6.6"
  }
 },
 "nbformat": 4,
 "nbformat_minor": 2
}
