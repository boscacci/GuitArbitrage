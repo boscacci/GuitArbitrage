{
 "cells": [
  {
   "cell_type": "code",
   "execution_count": 1,
   "metadata": {},
   "outputs": [],
   "source": [
    "import json, os\n",
    "import pandas as pd\n",
    "import numpy as np\n",
    "from datetime import datetime\n",
    "import matplotlib.pyplot as plt"
   ]
  },
  {
   "cell_type": "markdown",
   "metadata": {},
   "source": [
    "### Here's a JSON Reader Function"
   ]
  },
  {
   "cell_type": "code",
   "execution_count": 2,
   "metadata": {},
   "outputs": [],
   "source": [
    "def read_axe_jsons(axe_num):\n",
    "    with open('axe_listings/%s' % (axe_num), \"r\") as read_file:\n",
    "        listing = json.load(read_file)\n",
    "    with open('axe_specs/%s' % (axe_num), \"r\") as read_file:\n",
    "        specs = json.load(read_file)\n",
    "    return {'listing': listing, 'specs': specs}"
   ]
  },
  {
   "cell_type": "markdown",
   "metadata": {},
   "source": [
    "### Here's a Guitar (Axe) Class with Lots of Attributes (Features)"
   ]
  },
  {
   "cell_type": "code",
   "execution_count": 3,
   "metadata": {},
   "outputs": [],
   "source": [
    "class Axe:\n",
    "    def __init__(self, axe_num=None):\n",
    "        self.id = axe_num\n",
    "        self.__body = read_axe_jsons(\"%s\" % (axe_num))\n",
    "        self.price_usd = float(self.__body['listing']['sellingStatus'][0]['convertedCurrentPrice'][0]['__value__'])\n",
    "        self.title = self.__body['listing']['title'][0]\n",
    "        self.market = self.__body['listing']['globalId'][0]\n",
    "        self.pic = self.__body['listing']['galleryURL'][0]\n",
    "        self.pic_big = self.__body['listing']['pictureURLLarge'][0]\n",
    "        self.url = self.__body['listing']['viewItemURL'][0]\n",
    "        self.autopay = self.__body['listing']['autoPay'][0] == 'true'\n",
    "        self.country_seller = self.__body['listing']['country'][0]\n",
    "        self.ship_type = self.__body['listing']['shippingInfo'][0]['shippingType'][0]\n",
    "        self.ship_expedite = self.__body['listing']['shippingInfo'][0]['expeditedShipping'][0] == 'true'\n",
    "        \n",
    "        if self.__body['listing']['shippingInfo'][0].get('handlingTime'):\n",
    "            self.ship_handling_time = int(self.__body['listing']['shippingInfo'][0]['handlingTime'][0])\n",
    "        else: \n",
    "            self.ship_handling_time = None\n",
    "        \n",
    "        self.zip = self.__body['listing'].get('postalCode')\n",
    "        \n",
    "        self.start_time = datetime.strptime(self.__body['listing']['listingInfo'][0]['startTime'][0], \n",
    "                                            \"%Y-%m-%dT%H:%M:%S.%fZ\")\n",
    "        self.end_time = datetime.strptime(self.__body['listing']['listingInfo'][0]['endTime'][0], \n",
    "                                            \"%Y-%m-%dT%H:%M:%S.%fZ\")\n",
    "        \n",
    "        self.start_weekday = self.start_time.weekday()\n",
    "        self.end_weekday = self.end_time.weekday()\n",
    "        \n",
    "        self.__duration = (self.end_time - self.start_time)\n",
    "        self.duration = round(float(self.__duration.days*24) + float(self.__duration.seconds/60/60), 2)\n",
    "        \n",
    "        self.returns = self.__body['listing']['returnsAccepted'][0] == 'true'\n",
    "        \n",
    "        # End Generic Section // Begin Specs Section:\n",
    "        \n",
    "        if self.__body['specs'].get('Description'):\n",
    "            self.description = self.__body['specs']['Description']\n",
    "        else:\n",
    "            self.description = None\n",
    "        \n",
    "        self.pic_quantity = len(self.__body['specs']['PictureURL'])\n",
    "        self.seller_feedback_score = float(self.__body['specs']['Seller']['FeedbackScore'])\n",
    "        self.seller_positive_percent = float(self.__body['specs']['Seller']['PositiveFeedbackPercent'])\n",
    "        self.subtitle = self.__body['specs'].get('Subtitle')\n",
    "        self.condition_description = self.__body['specs'].get('ConditionDescription')\n",
    "        \n",
    "        # Niche niche specifics:\n",
    "        \n",
    "        if self.returns:\n",
    "            if self.__body['specs']['ReturnPolicy'].get('ReturnsWithin').split()[1] == 'Days':\n",
    "                self.returns_time = int(self.__body['specs']['ReturnPolicy'].get('ReturnsWithin').split()[0])\n",
    "        else: self.returns_time = None\n",
    "            \n",
    "        # Very ultra niche specifics, more ducking required:\n",
    "        \n",
    "        if self.__body['specs'].get('ItemSpecifics'):\n",
    "            self.__attrs = {prop['Name']:prop['Value'][0] \n",
    "                            for prop in self.__body['specs']['ItemSpecifics']['NameValueList']}\n",
    "            self.brand = self.__attrs.get('Brand')\n",
    "            self.model = self.__attrs.get('Model')\n",
    "            \n",
    "            if self.__attrs.get('Model Year'):\n",
    "                self.year = self.__attrs.get('Model Year')[:4]\n",
    "            else: self.year = None\n",
    "                \n",
    "            self.material = self.__attrs.get('Body Material')\n",
    "            self.right_left_hand = self.__attrs.get('Right-/ Left-Handed')\n",
    "            self.country_manufacture = self.__attrs.get('Country/Region of Manufacture')\n",
    "            self.body_type = self.__attrs.get('Body Type')\n",
    "            self.string_config = self.__attrs.get('String Configuration')\n",
    "            self.color = self.__attrs.get('Body Color')\n",
    "        else:\n",
    "            self.__attrs = self.brand = self.model = self.year = None\n",
    "            self.material = self.right_left_hand = self.country_manufacture = None\n",
    "            self.body_type = self.string_config = self.color = None    "
   ]
  },
  {
   "cell_type": "markdown",
   "metadata": {},
   "source": [
    "### Loop Through All Guitar JSON Data Files, Instantiate AXE Classes"
   ]
  },
  {
   "cell_type": "code",
   "execution_count": 4,
   "metadata": {},
   "outputs": [],
   "source": [
    "filenames = [name for name in os.listdir('axe_listings/') if not name.startswith('.')] # Ignore .DS_Store"
   ]
  },
  {
   "cell_type": "code",
   "execution_count": 5,
   "metadata": {},
   "outputs": [],
   "source": [
    "axes = [Axe(filename) for filename in filenames]"
   ]
  },
  {
   "cell_type": "code",
   "execution_count": 6,
   "metadata": {},
   "outputs": [
    {
     "data": {
      "text/plain": [
       "0"
      ]
     },
     "execution_count": 6,
     "metadata": {},
     "output_type": "execute_result"
    }
   ],
   "source": [
    "len(axes)"
   ]
  },
  {
   "cell_type": "markdown",
   "metadata": {},
   "source": [
    "### EDA"
   ]
  },
  {
   "cell_type": "markdown",
   "metadata": {},
   "source": [
    "In the API call I limited my search. \n",
    "\n",
    "(499 < Price < 10,000) — in USD"
   ]
  },
  {
   "cell_type": "markdown",
   "metadata": {},
   "source": [
    "**Price Distribution:**"
   ]
  },
  {
   "cell_type": "code",
   "execution_count": 7,
   "metadata": {},
   "outputs": [
    {
     "data": {
      "image/png": "[encoded data removed]",
      "text/plain": [
       "<Figure size 1296x432 with 1 Axes>"
      ]
     },
     "metadata": {
      "needs_background": "light"
     },
     "output_type": "display_data"
    }
   ],
   "source": [
    "plt.figure(figsize = (18,6))\n",
    "plt.hist([axe.price_usd for axe in axes], bins = 50)\n",
    "plt.show()"
   ]
  },
  {
   "cell_type": "markdown",
   "metadata": {},
   "source": [
    "__Listing Titles, for NLP:__"
   ]
  },
  {
   "cell_type": "code",
   "execution_count": 8,
   "metadata": {},
   "outputs": [
    {
     "data": {
      "text/plain": [
       "[]"
      ]
     },
     "execution_count": 8,
     "metadata": {},
     "output_type": "execute_result"
    }
   ],
   "source": [
    "[axe.title for axe in axes]"
   ]
  },
  {
   "cell_type": "markdown",
   "metadata": {},
   "source": [
    "__Number of Pics on eBay listing:__"
   ]
  },
  {
   "cell_type": "code",
   "execution_count": 9,
   "metadata": {},
   "outputs": [
    {
     "data": {
      "image/png": "[encoded data removed]",
      "text/plain": [
       "<Figure size 1296x432 with 1 Axes>"
      ]
     },
     "metadata": {
      "needs_background": "light"
     },
     "output_type": "display_data"
    }
   ],
   "source": [
    "plt.figure(figsize = (18,6))\n",
    "plt.hist([axe.pic_quantity for axe in axes])\n",
    "plt.show()"
   ]
  },
  {
   "cell_type": "markdown",
   "metadata": {},
   "source": [
    "__Thumbnail Image URLs__ — for Potential (CNN, maybe) Image Analysis as a factor in price"
   ]
  },
  {
   "cell_type": "code",
   "execution_count": 10,
   "metadata": {},
   "outputs": [
    {
     "data": {
      "text/plain": [
       "[]"
      ]
     },
     "execution_count": 10,
     "metadata": {},
     "output_type": "execute_result"
    }
   ],
   "source": [
    "[axe.pic for axe in axes][:5] # Just first five. You get it"
   ]
  },
  {
   "cell_type": "markdown",
   "metadata": {},
   "source": [
    "**Shipping Type:**"
   ]
  },
  {
   "cell_type": "code",
   "execution_count": 11,
   "metadata": {},
   "outputs": [
    {
     "data": {
      "image/png": "[encoded data removed]",
      "text/plain": [
       "<Figure size 1296x432 with 1 Axes>"
      ]
     },
     "metadata": {
      "needs_background": "light"
     },
     "output_type": "display_data"
    }
   ],
   "source": [
    "plt.figure(figsize = (18,6))\n",
    "ship_counts = pd.Series([axe.ship_type for axe in axes]).value_counts()\n",
    "plt.bar(ship_counts.index, ship_counts.values)\n",
    "plt.show()"
   ]
  },
  {
   "cell_type": "markdown",
   "metadata": {},
   "source": [
    "**Handling Time in Days:**"
   ]
  },
  {
   "cell_type": "code",
   "execution_count": 12,
   "metadata": {},
   "outputs": [
    {
     "ename": "ValueError",
     "evalue": "max() arg is an empty sequence",
     "output_type": "error",
     "traceback": [
      "\u001b[0;31m---------------------------------------------------------------------------\u001b[0m",
      "\u001b[0;31mValueError\u001b[0m                                Traceback (most recent call last)",
      "\u001b[0;32m<ipython-input-12-badc8aac328a>\u001b[0m in \u001b[0;36m<module>\u001b[0;34m\u001b[0m\n\u001b[1;32m      1\u001b[0m \u001b[0mplt\u001b[0m\u001b[0;34m.\u001b[0m\u001b[0mfigure\u001b[0m\u001b[0;34m(\u001b[0m\u001b[0mfigsize\u001b[0m \u001b[0;34m=\u001b[0m \u001b[0;34m(\u001b[0m\u001b[0;36m18\u001b[0m\u001b[0;34m,\u001b[0m\u001b[0;36m6\u001b[0m\u001b[0;34m)\u001b[0m\u001b[0;34m)\u001b[0m\u001b[0;34m\u001b[0m\u001b[0m\n\u001b[1;32m      2\u001b[0m \u001b[0mtimes\u001b[0m \u001b[0;34m=\u001b[0m \u001b[0;34m[\u001b[0m\u001b[0maxe\u001b[0m\u001b[0;34m.\u001b[0m\u001b[0mship_handling_time\u001b[0m \u001b[0;32mfor\u001b[0m \u001b[0maxe\u001b[0m \u001b[0;32min\u001b[0m \u001b[0maxes\u001b[0m \u001b[0;32mif\u001b[0m \u001b[0maxe\u001b[0m\u001b[0;34m.\u001b[0m\u001b[0mship_handling_time\u001b[0m \u001b[0;34m!=\u001b[0m \u001b[0;32mNone\u001b[0m\u001b[0;34m]\u001b[0m\u001b[0;34m\u001b[0m\u001b[0m\n\u001b[0;32m----> 3\u001b[0;31m \u001b[0mplt\u001b[0m\u001b[0;34m.\u001b[0m\u001b[0mhist\u001b[0m\u001b[0;34m(\u001b[0m\u001b[0mtimes\u001b[0m\u001b[0;34m,\u001b[0m \u001b[0mbins\u001b[0m\u001b[0;34m=\u001b[0m\u001b[0mnp\u001b[0m\u001b[0;34m.\u001b[0m\u001b[0marange\u001b[0m\u001b[0;34m(\u001b[0m\u001b[0mmax\u001b[0m\u001b[0;34m(\u001b[0m\u001b[0mtimes\u001b[0m\u001b[0;34m)\u001b[0m\u001b[0;34m)\u001b[0m\u001b[0;34m+\u001b[0m\u001b[0;36m1.5\u001b[0m\u001b[0;34m)\u001b[0m\u001b[0;34m\u001b[0m\u001b[0m\n\u001b[0m\u001b[1;32m      4\u001b[0m \u001b[0mplt\u001b[0m\u001b[0;34m.\u001b[0m\u001b[0mxticks\u001b[0m\u001b[0;34m(\u001b[0m\u001b[0mrange\u001b[0m\u001b[0;34m(\u001b[0m\u001b[0;36m11\u001b[0m\u001b[0;34m)\u001b[0m\u001b[0;34m)\u001b[0m\u001b[0;34m\u001b[0m\u001b[0m\n\u001b[1;32m      5\u001b[0m \u001b[0mplt\u001b[0m\u001b[0;34m.\u001b[0m\u001b[0mxlabel\u001b[0m\u001b[0;34m(\u001b[0m\u001b[0;34m'Days to Handle Package'\u001b[0m\u001b[0;34m)\u001b[0m\u001b[0;34m\u001b[0m\u001b[0m\n",
      "\u001b[0;31mValueError\u001b[0m: max() arg is an empty sequence"
     ]
    },
    {
     "data": {
      "text/plain": [
       "<Figure size 1296x432 with 0 Axes>"
      ]
     },
     "metadata": {},
     "output_type": "display_data"
    }
   ],
   "source": [
    "plt.figure(figsize = (18,6))\n",
    "times = [axe.ship_handling_time for axe in axes if axe.ship_handling_time != None]\n",
    "plt.hist(times, bins=np.arange(max(times))+1.5)\n",
    "plt.xticks(range(11))\n",
    "plt.xlabel('Days to Handle Package')\n",
    "plt.ylabel('Quantity of Listings')\n",
    "plt.show()"
   ]
  },
  {
   "cell_type": "markdown",
   "metadata": {},
   "source": [
    "__Duration of Auction in Days__:"
   ]
  },
  {
   "cell_type": "code",
   "execution_count": null,
   "metadata": {},
   "outputs": [],
   "source": [
    "plt.figure(figsize = (18,6))\n",
    "plt.hist([axe.duration/24 for axe in axes], bins = np.arange(10)+1.5)\n",
    "plt.xticks(range(11))\n",
    "plt.xlabel('Length of Auction in Days')\n",
    "plt.show()"
   ]
  },
  {
   "cell_type": "markdown",
   "metadata": {},
   "source": [
    "**Distribution of Countries of Sellers:**"
   ]
  },
  {
   "cell_type": "code",
   "execution_count": null,
   "metadata": {},
   "outputs": [],
   "source": [
    "plt.figure(figsize = (18,6))\n",
    "countries = pd.Series([axe.country_seller for axe in axes]).value_counts()\n",
    "plt.bar(countries.index, countries.values)\n",
    "plt.show()"
   ]
  },
  {
   "cell_type": "markdown",
   "metadata": {},
   "source": [
    "Probably want to just exclude non-USA sellers."
   ]
  },
  {
   "cell_type": "markdown",
   "metadata": {},
   "source": [
    "**Offering Expedited Shipping:**"
   ]
  },
  {
   "cell_type": "code",
   "execution_count": null,
   "metadata": {},
   "outputs": [],
   "source": [
    "exp = pd.Series([axe.ship_expedite for axe in axes]).value_counts()\n",
    "plt.figure(figsize = (3,5))\n",
    "plt.bar(exp.index, exp.values/len(axes))\n",
    "plt.xticks([False, True], ['Normal', 'Expeditable'])\n",
    "plt.ylabel('Percentage')\n",
    "plt.ylim(top=1)\n",
    "plt.show()"
   ]
  },
  {
   "cell_type": "markdown",
   "metadata": {},
   "source": [
    "**Starting Weekday:**"
   ]
  },
  {
   "cell_type": "code",
   "execution_count": null,
   "metadata": {},
   "outputs": [],
   "source": [
    "days = pd.Series([axe.start_weekday for axe in axes]).value_counts()\n",
    "plt.figure(figsize = (15,5))\n",
    "plt.bar(days.index, days.values/len(axes))\n",
    "plt.xticks(range(7), 'M T W TH F SA SU'.split(' '))\n",
    "plt.ylabel('Percentage')\n",
    "plt.show()"
   ]
  },
  {
   "cell_type": "markdown",
   "metadata": {},
   "source": [
    "**Ending Weekday:**"
   ]
  },
  {
   "cell_type": "code",
   "execution_count": null,
   "metadata": {},
   "outputs": [],
   "source": [
    "days = pd.Series([axe.end_weekday for axe in axes]).value_counts()\n",
    "plt.figure(figsize = (15,5))\n",
    "plt.bar(days.index, days.values/len(axes))\n",
    "plt.xticks(range(7), 'M T W TH F SA SU'.split(' '))\n",
    "plt.ylabel('Percentage')\n",
    "plt.show()"
   ]
  },
  {
   "cell_type": "markdown",
   "metadata": {},
   "source": [
    "**Percentage Offering Returns:**"
   ]
  },
  {
   "cell_type": "code",
   "execution_count": null,
   "metadata": {},
   "outputs": [],
   "source": [
    "returns = pd.Series([axe.returns for axe in axes]).value_counts()\n",
    "plt.figure(figsize = (3,5))\n",
    "plt.bar(returns.index, exp.values/len(axes))\n",
    "plt.xticks([False, True], ['No Returns', 'Returns'])\n",
    "plt.ylabel('Percentage')\n",
    "plt.ylim(top=1)\n",
    "plt.show()"
   ]
  },
  {
   "cell_type": "markdown",
   "metadata": {},
   "source": [
    "**Return Time Window** for those offering returns:"
   ]
  },
  {
   "cell_type": "code",
   "execution_count": null,
   "metadata": {},
   "outputs": [],
   "source": [
    "returns = pd.Series([axe.returns_time for axe in axes if axe.returns_time]).value_counts()\n",
    "plt.figure(figsize = (15,5))\n",
    "plt.bar(returns.index, returns.values/len(axes))\n",
    "plt.xticks([0,7,14,30,60], [0,7,14,30,60])\n",
    "plt.ylabel('Percentage')\n",
    "plt.show()"
   ]
  },
  {
   "cell_type": "code",
   "execution_count": null,
   "metadata": {},
   "outputs": [],
   "source": []
  }
 ],
 "metadata": {
  "kernelspec": {
   "display_name": "Python [conda env:Bayes]",
   "language": "python",
   "name": "conda-env-Bayes-py"
  },
  "language_info": {
   "codemirror_mode": {
    "name": "ipython",
    "version": 3
   },
   "file_extension": ".py",
   "mimetype": "text/x-python",
   "name": "python",
   "nbconvert_exporter": "python",
   "pygments_lexer": "ipython3",
   "version": "3.6.6"
  }
 },
 "nbformat": 4,
 "nbformat_minor": 2
}
