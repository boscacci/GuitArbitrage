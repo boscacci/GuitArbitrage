{
 "cells": [
  {
   "cell_type": "code",
   "execution_count": 1,
   "metadata": {},
   "outputs": [],
   "source": [
    "import os, operator, itertools\n",
    "import numpy as np\n",
    "import pandas as pd\n",
    "pd.options.display.max_columns = 999\n",
    "\n",
    "import matplotlib.pyplot as plt\n",
    "import seaborn as sns\n",
    "\n",
    "from sklearn.preprocessing import StandardScaler, PolynomialFeatures\n",
    "from sklearn.feature_selection import VarianceThreshold, SelectKBest, f_regression, mutual_info_regression\n",
    "from sklearn.model_selection import train_test_split, GridSearchCV\n",
    "from sklearn.metrics import mean_squared_error, confusion_matrix\n",
    "import statsmodels.formula.api as sm\n",
    "\n",
    "from sklearn.linear_model import RidgeCV, LassoCV, LinearRegression\n",
    "\n",
    "from scipy.stats import boxcox\n",
    "from scipy.special import inv_boxcox\n",
    "\n",
    "import nltk, string, os\n",
    "from nltk.corpus import stopwords\n",
    "from nltk import word_tokenize, FreqDist\n",
    "from nltk.stem.snowball import SnowballStemmer\n",
    "from sklearn.feature_extraction.text import TfidfVectorizer\n",
    "\n",
    "np.random.seed(0)"
   ]
  },
  {
   "cell_type": "code",
   "execution_count": 2,
   "metadata": {},
   "outputs": [],
   "source": [
    "from Axe_Object import Axe"
   ]
  },
  {
   "cell_type": "code",
   "execution_count": 3,
   "metadata": {},
   "outputs": [],
   "source": [
    "filenames = [name for name in os.listdir('axe_specs/') if not name.startswith('.')] # Ignores hidden files on mac"
   ]
  },
  {
   "cell_type": "code",
   "execution_count": 4,
   "metadata": {},
   "outputs": [],
   "source": [
    "axes = []\n",
    "for filename in filenames:\n",
    "    try:\n",
    "        this_axe = Axe(filename)\n",
    "        if \"LOT OF\" not in this_axe.title.upper() and this_axe.price > 110 and this_axe.price < 800:\n",
    "            if this_axe.string_config and this_axe.string_config < 5:\n",
    "                continue\n",
    "            if this_axe.market != 'EBAY-US':\n",
    "                continue\n",
    "            if this_axe.year and this_axe.year > 2019:\n",
    "                continue\n",
    "            axes.append(this_axe)\n",
    "    except ValueError:\n",
    "        pass"
   ]
  },
  {
   "cell_type": "code",
   "execution_count": 5,
   "metadata": {},
   "outputs": [
    {
     "data": {
      "text/plain": [
       "10327"
      ]
     },
     "execution_count": 5,
     "metadata": {},
     "output_type": "execute_result"
    }
   ],
   "source": [
    "len(axes)"
   ]
  },
  {
   "cell_type": "code",
   "execution_count": 6,
   "metadata": {},
   "outputs": [],
   "source": [
    "orig_prices = pd.Series([axe.price for axe in axes], name = 'prices')"
   ]
  },
  {
   "cell_type": "code",
   "execution_count": 7,
   "metadata": {},
   "outputs": [
    {
     "data": {
      "image/png": "[encoded data removed]",
      "text/plain": [
       "<Figure size 1296x432 with 1 Axes>"
      ]
     },
     "metadata": {
      "needs_background": "light"
     },
     "output_type": "display_data"
    }
   ],
   "source": [
    "plt.figure(figsize = (18,6))\n",
    "plt.hist(orig_prices, bins=50)\n",
    "plt.ylabel('Frequency')\n",
    "plt.xlabel('Guitar Price in USD')\n",
    "plt.show()"
   ]
  },
  {
   "cell_type": "code",
   "execution_count": 8,
   "metadata": {},
   "outputs": [
    {
     "data": {
      "image/png": "[encoded data removed]",
      "text/plain": [
       "<Figure size 1296x432 with 1 Axes>"
      ]
     },
     "metadata": {
      "needs_background": "light"
     },
     "output_type": "display_data"
    }
   ],
   "source": [
    "bxcx_lam = .4\n",
    "prices = pd.Series(boxcox([axe.price for axe in axes], lmbda=bxcx_lam), name = 'prices')\n",
    "plt.figure(figsize = (18,6))\n",
    "plt.hist(prices, bins=50)\n",
    "plt.ylabel('Frequency')\n",
    "plt.xlabel('Guitar Price in USD')\n",
    "plt.show()"
   ]
  },
  {
   "cell_type": "code",
   "execution_count": 9,
   "metadata": {},
   "outputs": [],
   "source": [
    "auction_duration    = pd.Series([axe.duration for axe in axes], name = 'auction_duration')\n",
    "shipping_charged    = pd.Series([axe.price_shipping for axe in axes], name = 'shipping_charged')\n",
    "seller_country      = pd.Series([axe.country_seller for axe in axes], name = 'seller_country')\n",
    "autopay             = pd.Series([axe.autopay for axe in axes], name = 'autopay')\n",
    "returns             = pd.Series([axe.returns for axe in axes], name = 'returns')\n",
    "listing_type        = pd.Series([axe.listing_type for axe in axes], name = 'listing_type')\n",
    "ship_type           = pd.Series([axe.ship_type for axe in axes], name = 'ship_type')\n",
    "ship_expedite       = pd.Series([axe.ship_expedite for axe in axes], name = 'ship_expedite')\n",
    "start_hour          = pd.cut(pd.Series([axe.start_time.hour for axe in axes], name = 'start_hour'), 6)\n",
    "end_hour            = pd.cut(pd.Series([axe.end_time.hour for axe in axes], name = 'end_hour'), 6)\n",
    "start_weekday       = pd.Series([axe.start_weekday for axe in axes], name = 'start_weekday').astype('category')\n",
    "end_weekday         = pd.Series([axe.end_weekday for axe in axes], name = 'end_weekday').astype('category')\n",
    "returns_time        = pd.Series([axe.returns_time for axe in axes], name = \"returns_time\").astype('category')\n",
    "num_pics            = pd.Series([axe.pic_quantity for axe in axes], name = \"num_pics\")\n",
    "brand               = pd.Series([axe.brand for axe in axes], name = \"brand\")\n",
    "body_type           = pd.Series([axe.body_type for axe in axes], name = \"body_type\")\n",
    "color               = pd.Series([axe.color for axe in axes], name = \"color\")\n",
    "right_left_handed   = pd.Series([axe.right_left_handed for axe in axes], name = \"right_left_handed\")\n",
    "best_offer_enabled  = pd.Series([axe.best_offer_enabled for axe in axes], name = \"best_offer_enabled\")\n",
    "country_manufacture = pd.Series([axe.country_manufacture for axe in axes], name = \"country_manufacture\")\n",
    "\n",
    "ship_handling_time = pd.Series([axe.ship_handling_time for axe in axes], name = 'ship_handling_time').astype('category')\n",
    "\n",
    "string_config = pd.cut(pd.Series([axe.string_config for axe in axes], name = \"string_config\"),\n",
    "                       [0,5,6,11,20])\n",
    "\n",
    "seller_feedback_score = pd.cut(pd.Series([axe.seller_feedback_score for axe in axes], name = \"seller_feedback_score\"), [-411,0,50,100,200,500,750,1250,2500,10000,100000,400000])\n",
    "\n",
    "seller_positive_percent = pd.cut(pd.Series([axe.seller_positive_percent for axe in axes], name = \"seller_positive_percent\"), [-10000,99.5,111])\n",
    "\n",
    "model_year = pd.cut(pd.Series([axe.year for axe in axes], name = \"model_year\"), [1700,1975,1990,1995,2000,2005,2007,2010,2011,2012,2013,2015])"
   ]
  },
  {
   "cell_type": "markdown",
   "metadata": {},
   "source": [
    "## Text as a Regression Feature"
   ]
  },
  {
   "cell_type": "markdown",
   "metadata": {},
   "source": [
    "http://www-stat.wharton.upenn.edu/~stine/research/regressor.pdf"
   ]
  },
  {
   "cell_type": "code",
   "execution_count": 10,
   "metadata": {},
   "outputs": [],
   "source": [
    "def assemble_guitar_document(axe):\n",
    "    document = axe.title + ' '\n",
    "    if axe.year != None:\n",
    "        document += (str(axe.year) + ' ')\n",
    "    if axe.material != None:\n",
    "        document += axe.material + ' '\n",
    "    if axe.model != None:\n",
    "        document += axe.model + ' ' \n",
    "    if axe.brand != None:\n",
    "        document += axe.brand + ' '\n",
    "    if axe.subtitle != None:\n",
    "        document += axe.subtitle + ' '\n",
    "    if axe.condition_description != None:\n",
    "        document += axe.condition_description + ' '\n",
    "    if axe.description != None:\n",
    "        document += axe.description\n",
    "    return document"
   ]
  },
  {
   "cell_type": "code",
   "execution_count": 11,
   "metadata": {},
   "outputs": [],
   "source": [
    "raw_corpus = [assemble_guitar_document(axe).lower() for axe in axes]"
   ]
  },
  {
   "cell_type": "code",
   "execution_count": 12,
   "metadata": {},
   "outputs": [],
   "source": [
    "stemmer = SnowballStemmer(\"english\")"
   ]
  },
  {
   "cell_type": "code",
   "execution_count": 13,
   "metadata": {},
   "outputs": [],
   "source": [
    "stopwords_list = stopwords.words('english') + list(string.punctuation)\n",
    "stopwords_list += [\"''\", '\"\"', '...', '``', \",\", \".\", \":\", \"'s\", \"--\",\"’\"]"
   ]
  },
  {
   "cell_type": "code",
   "execution_count": 14,
   "metadata": {},
   "outputs": [],
   "source": [
    "def process_doc(doc):\n",
    "    stopwords_removed = ''\n",
    "    tokens = nltk.word_tokenize(doc)\n",
    "    for i in range(len(tokens)):\n",
    "        if tokens[i].lower() not in stopwords_list and tokens[i] not in string.punctuation:\n",
    "            stopwords_removed += stemmer.stem(tokens[i]) + ' '\n",
    "    return stopwords_removed"
   ]
  },
  {
   "cell_type": "code",
   "execution_count": 15,
   "metadata": {},
   "outputs": [],
   "source": [
    "processed_text = pd.Series(list(map(process_doc, raw_corpus)), name = 'text') # Holding on to this while we prune below"
   ]
  },
  {
   "cell_type": "markdown",
   "metadata": {},
   "source": [
    "## Assemble the Feature Set"
   ]
  },
  {
   "cell_type": "code",
   "execution_count": 16,
   "metadata": {},
   "outputs": [],
   "source": [
    "y_X_dummies = pd.concat([prices, brand, color, country_manufacture, right_left_handed, best_offer_enabled, shipping_charged, \n",
    "               returns, returns_time, autopay, seller_country, ship_handling_time, listing_type, ship_expedite,\n",
    "               ship_type, num_pics, auction_duration, start_hour, end_hour, start_weekday, end_weekday, \n",
    "               seller_positive_percent, model_year, body_type, string_config],\n",
    "              axis = 1)\n",
    "\n",
    "y_X = pd.get_dummies(y_X_dummies, drop_first=True)"
   ]
  },
  {
   "cell_type": "markdown",
   "metadata": {},
   "source": [
    "### SPLIT"
   ]
  },
  {
   "cell_type": "code",
   "execution_count": 17,
   "metadata": {},
   "outputs": [],
   "source": [
    "y_X = pd.concat([y_X, processed_text], axis=1)"
   ]
  },
  {
   "cell_type": "code",
   "execution_count": 157,
   "metadata": {},
   "outputs": [],
   "source": [
    "X_train, X_test, y_train, y_test = train_test_split(y_X.iloc[:,1:], y_X.iloc[:,0], test_size=.15)#, random_state=42)"
   ]
  },
  {
   "cell_type": "markdown",
   "metadata": {},
   "source": [
    "### Scale It "
   ]
  },
  {
   "cell_type": "code",
   "execution_count": 158,
   "metadata": {},
   "outputs": [],
   "source": [
    "scaler = StandardScaler()"
   ]
  },
  {
   "cell_type": "code",
   "execution_count": 159,
   "metadata": {},
   "outputs": [
    {
     "name": "stderr",
     "output_type": "stream",
     "text": [
      "/anaconda3/envs/Bayes/lib/python3.6/site-packages/sklearn/preprocessing/data.py:625: DataConversionWarning: Data with input dtype bool, uint8, int64, float64 were all converted to float64 by StandardScaler.\n",
      "  return self.partial_fit(X, y)\n",
      "/anaconda3/envs/Bayes/lib/python3.6/site-packages/sklearn/base.py:462: DataConversionWarning: Data with input dtype bool, uint8, int64, float64 were all converted to float64 by StandardScaler.\n",
      "  return self.fit(X, **fit_params).transform(X)\n",
      "/anaconda3/envs/Bayes/lib/python3.6/site-packages/ipykernel_launcher.py:2: DataConversionWarning: Data with input dtype bool, uint8, int64, float64 were all converted to float64 by StandardScaler.\n",
      "  \n"
     ]
    }
   ],
   "source": [
    "X_train_scaled = pd.DataFrame(scaler.fit_transform(X_train.iloc[:,:-1]), columns=X_train.iloc[:,:-1].columns)\n",
    "X_test_scaled  = pd.DataFrame(scaler.transform(X_test.iloc[:,:-1]), columns=X_test.iloc[:,:-1].columns)"
   ]
  },
  {
   "cell_type": "markdown",
   "metadata": {},
   "source": [
    "Text Features vectorization"
   ]
  },
  {
   "cell_type": "code",
   "execution_count": 160,
   "metadata": {},
   "outputs": [
    {
     "data": {
      "text/plain": [
       "TfidfVectorizer(analyzer='word', binary=False, decode_error='strict',\n",
       "        dtype=<class 'numpy.float64'>, encoding='utf-8', input='content',\n",
       "        lowercase=True, max_df=1.0, max_features=300, min_df=1,\n",
       "        ngram_range=(2, 3), norm=None, preprocessor=None, smooth_idf=True,\n",
       "        stop_words=None, strip_accents='ascii', sublinear_tf=False,\n",
       "        token_pattern='(?u)\\\\b\\\\w\\\\w+\\\\b', tokenizer=None, use_idf=True,\n",
       "        vocabulary=None)"
      ]
     },
     "execution_count": 160,
     "metadata": {},
     "output_type": "execute_result"
    }
   ],
   "source": [
    "vectorizer = TfidfVectorizer(norm=None, ngram_range=(2,3), strip_accents='ascii',\n",
    "#                             max_df=0.8, min_df=2,\n",
    "                             max_features=300)\n",
    "\n",
    "vectorizer.fit(X_train['text'])"
   ]
  },
  {
   "cell_type": "code",
   "execution_count": 161,
   "metadata": {},
   "outputs": [],
   "source": [
    "tfidf_train = vectorizer.transform(X_train['text'])\n",
    "tfidf_train_df = pd.DataFrame(tfidf_train.toarray(), columns=vectorizer.get_feature_names())\n",
    "\n",
    "tfidf_test = vectorizer.transform(X_test['text'])\n",
    "tfidf_test_df = pd.DataFrame(tfidf_test.toarray(), columns=vectorizer.get_feature_names())\n",
    "\n",
    "X_train_ready = pd.concat([X_train.reset_index(drop=True), tfidf_train_df], axis=1).drop('text',axis=1)\n",
    "X_test_ready = pd.concat([X_test.reset_index(drop=True), tfidf_test_df], axis=1).drop('text',axis=1)"
   ]
  },
  {
   "cell_type": "markdown",
   "metadata": {},
   "source": [
    "### Baseline Naive Error - Guess the Mean Price"
   ]
  },
  {
   "cell_type": "code",
   "execution_count": 162,
   "metadata": {},
   "outputs": [
    {
     "data": {
      "text/plain": [
       "188.34292820306445"
      ]
     },
     "execution_count": 162,
     "metadata": {},
     "output_type": "execute_result"
    }
   ],
   "source": [
    "price_mean = np.mean(y_train)\n",
    "price_mean_vector = inv_boxcox([price_mean for i in range(len(y_test))],bxcx_lam)\n",
    "baseline_error = np.sqrt(mean_squared_error(inv_boxcox(y_test, bxcx_lam), price_mean_vector))\n",
    "baseline_error"
   ]
  },
  {
   "cell_type": "markdown",
   "metadata": {},
   "source": [
    "### Lasso Regression"
   ]
  },
  {
   "cell_type": "code",
   "execution_count": 163,
   "metadata": {
    "scrolled": true
   },
   "outputs": [
    {
     "name": "stderr",
     "output_type": "stream",
     "text": [
      "/anaconda3/envs/Bayes/lib/python3.6/site-packages/sklearn/linear_model/coordinate_descent.py:492: ConvergenceWarning: Objective did not converge. You might want to increase the number of iterations. Fitting data with very small alpha may cause precision problems.\n",
      "  ConvergenceWarning)\n",
      "/anaconda3/envs/Bayes/lib/python3.6/site-packages/sklearn/linear_model/coordinate_descent.py:492: ConvergenceWarning: Objective did not converge. You might want to increase the number of iterations. Fitting data with very small alpha may cause precision problems.\n",
      "  ConvergenceWarning)\n",
      "/anaconda3/envs/Bayes/lib/python3.6/site-packages/sklearn/linear_model/coordinate_descent.py:492: ConvergenceWarning: Objective did not converge. You might want to increase the number of iterations. Fitting data with very small alpha may cause precision problems.\n",
      "  ConvergenceWarning)\n",
      "/anaconda3/envs/Bayes/lib/python3.6/site-packages/sklearn/linear_model/coordinate_descent.py:492: ConvergenceWarning: Objective did not converge. You might want to increase the number of iterations. Fitting data with very small alpha may cause precision problems.\n",
      "  ConvergenceWarning)\n",
      "/anaconda3/envs/Bayes/lib/python3.6/site-packages/sklearn/linear_model/coordinate_descent.py:492: ConvergenceWarning: Objective did not converge. You might want to increase the number of iterations. Fitting data with very small alpha may cause precision problems.\n",
      "  ConvergenceWarning)\n",
      "/anaconda3/envs/Bayes/lib/python3.6/site-packages/sklearn/linear_model/coordinate_descent.py:492: ConvergenceWarning: Objective did not converge. You might want to increase the number of iterations. Fitting data with very small alpha may cause precision problems.\n",
      "  ConvergenceWarning)\n",
      "/anaconda3/envs/Bayes/lib/python3.6/site-packages/sklearn/linear_model/coordinate_descent.py:492: ConvergenceWarning: Objective did not converge. You might want to increase the number of iterations. Fitting data with very small alpha may cause precision problems.\n",
      "  ConvergenceWarning)\n",
      "/anaconda3/envs/Bayes/lib/python3.6/site-packages/sklearn/linear_model/coordinate_descent.py:492: ConvergenceWarning: Objective did not converge. You might want to increase the number of iterations. Fitting data with very small alpha may cause precision problems.\n",
      "  ConvergenceWarning)\n",
      "/anaconda3/envs/Bayes/lib/python3.6/site-packages/sklearn/linear_model/coordinate_descent.py:492: ConvergenceWarning: Objective did not converge. You might want to increase the number of iterations. Fitting data with very small alpha may cause precision problems.\n",
      "  ConvergenceWarning)\n",
      "/anaconda3/envs/Bayes/lib/python3.6/site-packages/sklearn/linear_model/coordinate_descent.py:492: ConvergenceWarning: Objective did not converge. You might want to increase the number of iterations. Fitting data with very small alpha may cause precision problems.\n",
      "  ConvergenceWarning)\n",
      "/anaconda3/envs/Bayes/lib/python3.6/site-packages/sklearn/linear_model/coordinate_descent.py:492: ConvergenceWarning: Objective did not converge. You might want to increase the number of iterations. Fitting data with very small alpha may cause precision problems.\n",
      "  ConvergenceWarning)\n",
      "/anaconda3/envs/Bayes/lib/python3.6/site-packages/sklearn/linear_model/coordinate_descent.py:492: ConvergenceWarning: Objective did not converge. You might want to increase the number of iterations. Fitting data with very small alpha may cause precision problems.\n",
      "  ConvergenceWarning)\n",
      "/anaconda3/envs/Bayes/lib/python3.6/site-packages/sklearn/linear_model/coordinate_descent.py:492: ConvergenceWarning: Objective did not converge. You might want to increase the number of iterations. Fitting data with very small alpha may cause precision problems.\n",
      "  ConvergenceWarning)\n",
      "/anaconda3/envs/Bayes/lib/python3.6/site-packages/sklearn/linear_model/coordinate_descent.py:492: ConvergenceWarning: Objective did not converge. You might want to increase the number of iterations. Fitting data with very small alpha may cause precision problems.\n",
      "  ConvergenceWarning)\n",
      "/anaconda3/envs/Bayes/lib/python3.6/site-packages/sklearn/linear_model/coordinate_descent.py:492: ConvergenceWarning: Objective did not converge. You might want to increase the number of iterations. Fitting data with very small alpha may cause precision problems.\n",
      "  ConvergenceWarning)\n",
      "/anaconda3/envs/Bayes/lib/python3.6/site-packages/sklearn/linear_model/coordinate_descent.py:492: ConvergenceWarning: Objective did not converge. You might want to increase the number of iterations. Fitting data with very small alpha may cause precision problems.\n",
      "  ConvergenceWarning)\n",
      "/anaconda3/envs/Bayes/lib/python3.6/site-packages/sklearn/linear_model/coordinate_descent.py:492: ConvergenceWarning: Objective did not converge. You might want to increase the number of iterations. Fitting data with very small alpha may cause precision problems.\n",
      "  ConvergenceWarning)\n",
      "/anaconda3/envs/Bayes/lib/python3.6/site-packages/sklearn/linear_model/coordinate_descent.py:492: ConvergenceWarning: Objective did not converge. You might want to increase the number of iterations. Fitting data with very small alpha may cause precision problems.\n",
      "  ConvergenceWarning)\n",
      "/anaconda3/envs/Bayes/lib/python3.6/site-packages/sklearn/linear_model/coordinate_descent.py:492: ConvergenceWarning: Objective did not converge. You might want to increase the number of iterations. Fitting data with very small alpha may cause precision problems.\n",
      "  ConvergenceWarning)\n",
      "/anaconda3/envs/Bayes/lib/python3.6/site-packages/sklearn/linear_model/coordinate_descent.py:492: ConvergenceWarning: Objective did not converge. You might want to increase the number of iterations. Fitting data with very small alpha may cause precision problems.\n",
      "  ConvergenceWarning)\n",
      "/anaconda3/envs/Bayes/lib/python3.6/site-packages/sklearn/linear_model/coordinate_descent.py:492: ConvergenceWarning: Objective did not converge. You might want to increase the number of iterations. Fitting data with very small alpha may cause precision problems.\n",
      "  ConvergenceWarning)\n",
      "/anaconda3/envs/Bayes/lib/python3.6/site-packages/sklearn/linear_model/coordinate_descent.py:492: ConvergenceWarning: Objective did not converge. You might want to increase the number of iterations. Fitting data with very small alpha may cause precision problems.\n",
      "  ConvergenceWarning)\n",
      "/anaconda3/envs/Bayes/lib/python3.6/site-packages/sklearn/linear_model/coordinate_descent.py:492: ConvergenceWarning: Objective did not converge. You might want to increase the number of iterations. Fitting data with very small alpha may cause precision problems.\n",
      "  ConvergenceWarning)\n",
      "/anaconda3/envs/Bayes/lib/python3.6/site-packages/sklearn/linear_model/coordinate_descent.py:492: ConvergenceWarning: Objective did not converge. You might want to increase the number of iterations. Fitting data with very small alpha may cause precision problems.\n",
      "  ConvergenceWarning)\n",
      "/anaconda3/envs/Bayes/lib/python3.6/site-packages/sklearn/linear_model/coordinate_descent.py:492: ConvergenceWarning: Objective did not converge. You might want to increase the number of iterations. Fitting data with very small alpha may cause precision problems.\n",
      "  ConvergenceWarning)\n",
      "/anaconda3/envs/Bayes/lib/python3.6/site-packages/sklearn/linear_model/coordinate_descent.py:492: ConvergenceWarning: Objective did not converge. You might want to increase the number of iterations. Fitting data with very small alpha may cause precision problems.\n",
      "  ConvergenceWarning)\n",
      "/anaconda3/envs/Bayes/lib/python3.6/site-packages/sklearn/linear_model/coordinate_descent.py:492: ConvergenceWarning: Objective did not converge. You might want to increase the number of iterations. Fitting data with very small alpha may cause precision problems.\n",
      "  ConvergenceWarning)\n",
      "/anaconda3/envs/Bayes/lib/python3.6/site-packages/sklearn/linear_model/coordinate_descent.py:492: ConvergenceWarning: Objective did not converge. You might want to increase the number of iterations. Fitting data with very small alpha may cause precision problems.\n",
      "  ConvergenceWarning)\n",
      "/anaconda3/envs/Bayes/lib/python3.6/site-packages/sklearn/linear_model/coordinate_descent.py:492: ConvergenceWarning: Objective did not converge. You might want to increase the number of iterations. Fitting data with very small alpha may cause precision problems.\n",
      "  ConvergenceWarning)\n"
     ]
    },
    {
     "name": "stderr",
     "output_type": "stream",
     "text": [
      "/anaconda3/envs/Bayes/lib/python3.6/site-packages/sklearn/linear_model/coordinate_descent.py:492: ConvergenceWarning: Objective did not converge. You might want to increase the number of iterations. Fitting data with very small alpha may cause precision problems.\n",
      "  ConvergenceWarning)\n",
      "/anaconda3/envs/Bayes/lib/python3.6/site-packages/sklearn/linear_model/coordinate_descent.py:492: ConvergenceWarning: Objective did not converge. You might want to increase the number of iterations. Fitting data with very small alpha may cause precision problems.\n",
      "  ConvergenceWarning)\n",
      "/anaconda3/envs/Bayes/lib/python3.6/site-packages/sklearn/linear_model/coordinate_descent.py:492: ConvergenceWarning: Objective did not converge. You might want to increase the number of iterations. Fitting data with very small alpha may cause precision problems.\n",
      "  ConvergenceWarning)\n",
      "/anaconda3/envs/Bayes/lib/python3.6/site-packages/sklearn/linear_model/coordinate_descent.py:492: ConvergenceWarning: Objective did not converge. You might want to increase the number of iterations. Fitting data with very small alpha may cause precision problems.\n",
      "  ConvergenceWarning)\n",
      "/anaconda3/envs/Bayes/lib/python3.6/site-packages/sklearn/linear_model/coordinate_descent.py:492: ConvergenceWarning: Objective did not converge. You might want to increase the number of iterations. Fitting data with very small alpha may cause precision problems.\n",
      "  ConvergenceWarning)\n",
      "/anaconda3/envs/Bayes/lib/python3.6/site-packages/sklearn/linear_model/coordinate_descent.py:492: ConvergenceWarning: Objective did not converge. You might want to increase the number of iterations. Fitting data with very small alpha may cause precision problems.\n",
      "  ConvergenceWarning)\n",
      "/anaconda3/envs/Bayes/lib/python3.6/site-packages/sklearn/linear_model/coordinate_descent.py:492: ConvergenceWarning: Objective did not converge. You might want to increase the number of iterations. Fitting data with very small alpha may cause precision problems.\n",
      "  ConvergenceWarning)\n",
      "/anaconda3/envs/Bayes/lib/python3.6/site-packages/sklearn/linear_model/coordinate_descent.py:492: ConvergenceWarning: Objective did not converge. You might want to increase the number of iterations. Fitting data with very small alpha may cause precision problems.\n",
      "  ConvergenceWarning)\n",
      "/anaconda3/envs/Bayes/lib/python3.6/site-packages/sklearn/linear_model/coordinate_descent.py:492: ConvergenceWarning: Objective did not converge. You might want to increase the number of iterations. Fitting data with very small alpha may cause precision problems.\n",
      "  ConvergenceWarning)\n",
      "/anaconda3/envs/Bayes/lib/python3.6/site-packages/sklearn/linear_model/coordinate_descent.py:492: ConvergenceWarning: Objective did not converge. You might want to increase the number of iterations. Fitting data with very small alpha may cause precision problems.\n",
      "  ConvergenceWarning)\n",
      "/anaconda3/envs/Bayes/lib/python3.6/site-packages/sklearn/linear_model/coordinate_descent.py:492: ConvergenceWarning: Objective did not converge. You might want to increase the number of iterations. Fitting data with very small alpha may cause precision problems.\n",
      "  ConvergenceWarning)\n"
     ]
    }
   ],
   "source": [
    "lin_reg = LassoCV(cv=3).fit(X_train_ready, y_train)"
   ]
  },
  {
   "cell_type": "code",
   "execution_count": 164,
   "metadata": {},
   "outputs": [],
   "source": [
    "y_train_preds = lin_reg.predict(X_train_ready)\n",
    "y_test_preds = lin_reg.predict(X_test_ready)"
   ]
  },
  {
   "cell_type": "code",
   "execution_count": 165,
   "metadata": {},
   "outputs": [],
   "source": [
    "y_train_inv = inv_boxcox(y_train, bxcx_lam)\n",
    "y_test_inv = inv_boxcox(y_test, bxcx_lam)\n",
    "y_train_preds_inv = inv_boxcox(y_train_preds, bxcx_lam)\n",
    "y_test_preds_inv = inv_boxcox(y_test_preds, bxcx_lam)"
   ]
  },
  {
   "cell_type": "code",
   "execution_count": 166,
   "metadata": {},
   "outputs": [
    {
     "data": {
      "text/plain": [
       "(157.82101944052854, 156.89365137853378)"
      ]
     },
     "execution_count": 166,
     "metadata": {},
     "output_type": "execute_result"
    }
   ],
   "source": [
    "train_error = np.sqrt(mean_squared_error(y_train_inv, y_train_preds_inv))\n",
    "test_error = np.sqrt(mean_squared_error(y_test_inv, y_test_preds_inv))\n",
    "(train_error, test_error)"
   ]
  },
  {
   "cell_type": "code",
   "execution_count": 167,
   "metadata": {},
   "outputs": [
    {
     "name": "stdout",
     "output_type": "stream",
     "text": [
      "Train error is a 16.21% improvement over guessing the mean. \n",
      "\n",
      "Test error is a 16.7% improvement over guessing the mean.\n"
     ]
    }
   ],
   "source": [
    "print(f'Train error is a {round((((baseline_error - train_error) / baseline_error) * 100),2)}% improvement over guessing the mean. \\n')\n",
    "\n",
    "print(f'Test error is a {round((((baseline_error - test_error) / baseline_error) * 100),2)}% improvement over guessing the mean.')"
   ]
  },
  {
   "cell_type": "code",
   "execution_count": 168,
   "metadata": {
    "scrolled": false
   },
   "outputs": [
    {
     "data": {
      "image/png": "[encoded data removed]",
      "text/plain": [
       "<Figure size 576x576 with 1 Axes>"
      ]
     },
     "metadata": {
      "needs_background": "light"
     },
     "output_type": "display_data"
    }
   ],
   "source": [
    "plt.figure(figsize=(8,8))\n",
    "plt.scatter(y_test_inv, y_test_preds_inv, s=2)\n",
    "x = np.linspace(100,900, num=2)\n",
    "plt.plot(x,x)\n",
    "plt.plot(np.full(len(x),500),x)\n",
    "plt.plot(x,np.full(len(x),500))\n",
    "plt.show()"
   ]
  },
  {
   "cell_type": "code",
   "execution_count": 169,
   "metadata": {
    "scrolled": false
   },
   "outputs": [
    {
     "data": {
      "image/png": "[encoded data removed]",
      "text/plain": [
       "<Figure size 1152x360 with 1 Axes>"
      ]
     },
     "metadata": {
      "needs_background": "light"
     },
     "output_type": "display_data"
    }
   ],
   "source": [
    "coef = pd.DataFrame(data = lin_reg.coef_, index=X_train_ready.columns)\n",
    "model_coef = coef.sort_values(by=0).T\n",
    "model_coef.plot(kind='bar', title='Lasso Coefficients', legend=False, figsize=(16,5))\n",
    "plt.show()"
   ]
  },
  {
   "cell_type": "code",
   "execution_count": 170,
   "metadata": {
    "scrolled": false
   },
   "outputs": [
    {
     "data": {
      "text/html": [
       "<div>\n",
       "<style scoped>\n",
       "    .dataframe tbody tr th:only-of-type {\n",
       "        vertical-align: middle;\n",
       "    }\n",
       "\n",
       "    .dataframe tbody tr th {\n",
       "        vertical-align: top;\n",
       "    }\n",
       "\n",
       "    .dataframe thead th {\n",
       "        text-align: right;\n",
       "    }\n",
       "</style>\n",
       "<table border=\"1\" class=\"dataframe\">\n",
       "  <thead>\n",
       "    <tr style=\"text-align: right;\">\n",
       "      <th></th>\n",
       "      <th>0</th>\n",
       "    </tr>\n",
       "  </thead>\n",
       "  <tbody>\n",
       "    <tr>\n",
       "      <th>fender squier</th>\n",
       "      <td>-0.444149</td>\n",
       "    </tr>\n",
       "    <tr>\n",
       "      <th>electr guitar</th>\n",
       "      <td>-0.340458</td>\n",
       "    </tr>\n",
       "    <tr>\n",
       "      <th>epiphon les</th>\n",
       "      <td>-0.181432</td>\n",
       "    </tr>\n",
       "    <tr>\n",
       "      <th>good work</th>\n",
       "      <td>-0.153431</td>\n",
       "    </tr>\n",
       "    <tr>\n",
       "      <th>ship_type_Flat</th>\n",
       "      <td>-0.142548</td>\n",
       "    </tr>\n",
       "    <tr>\n",
       "      <th>receiv within</th>\n",
       "      <td>-0.120700</td>\n",
       "    </tr>\n",
       "    <tr>\n",
       "      <th>item ship</th>\n",
       "      <td>-0.088777</td>\n",
       "    </tr>\n",
       "    <tr>\n",
       "      <th>make sure</th>\n",
       "      <td>-0.084042</td>\n",
       "    </tr>\n",
       "    <tr>\n",
       "      <th>electron work</th>\n",
       "      <td>-0.083582</td>\n",
       "    </tr>\n",
       "    <tr>\n",
       "      <th>string electr</th>\n",
       "      <td>-0.076490</td>\n",
       "    </tr>\n",
       "    <tr>\n",
       "      <th>new string</th>\n",
       "      <td>-0.074951</td>\n",
       "    </tr>\n",
       "    <tr>\n",
       "      <th>guitar play</th>\n",
       "      <td>-0.071159</td>\n",
       "    </tr>\n",
       "    <tr>\n",
       "      <th>ship_expedite</th>\n",
       "      <td>-0.060864</td>\n",
       "    </tr>\n",
       "    <tr>\n",
       "      <th>good condit</th>\n",
       "      <td>-0.060441</td>\n",
       "    </tr>\n",
       "    <tr>\n",
       "      <th>includ ship</th>\n",
       "      <td>-0.053090</td>\n",
       "    </tr>\n",
       "    <tr>\n",
       "      <th>pick guard</th>\n",
       "      <td>0.053306</td>\n",
       "    </tr>\n",
       "    <tr>\n",
       "      <th>mapl top</th>\n",
       "      <td>0.058899</td>\n",
       "    </tr>\n",
       "    <tr>\n",
       "      <th>lock tuner</th>\n",
       "      <td>0.059367</td>\n",
       "    </tr>\n",
       "    <tr>\n",
       "      <th>nut width</th>\n",
       "      <td>0.059633</td>\n",
       "    </tr>\n",
       "    <tr>\n",
       "      <th>jumbo fret</th>\n",
       "      <td>0.063102</td>\n",
       "    </tr>\n",
       "    <tr>\n",
       "      <th>intern buyer</th>\n",
       "      <td>0.065479</td>\n",
       "    </tr>\n",
       "    <tr>\n",
       "      <th>bridg pickup</th>\n",
       "      <td>0.067886</td>\n",
       "    </tr>\n",
       "    <tr>\n",
       "      <th>prioriti mail</th>\n",
       "      <td>0.073516</td>\n",
       "    </tr>\n",
       "    <tr>\n",
       "      <th>les paul standard</th>\n",
       "      <td>0.077437</td>\n",
       "    </tr>\n",
       "    <tr>\n",
       "      <th>num_pics</th>\n",
       "      <td>0.083045</td>\n",
       "    </tr>\n",
       "    <tr>\n",
       "      <th>like new</th>\n",
       "      <td>0.085917</td>\n",
       "    </tr>\n",
       "    <tr>\n",
       "      <th>case includ</th>\n",
       "      <td>0.088792</td>\n",
       "    </tr>\n",
       "    <tr>\n",
       "      <th>made japan</th>\n",
       "      <td>0.095710</td>\n",
       "    </tr>\n",
       "    <tr>\n",
       "      <th>hollow bodi</th>\n",
       "      <td>0.109024</td>\n",
       "    </tr>\n",
       "    <tr>\n",
       "      <th>return polici</th>\n",
       "      <td>0.110342</td>\n",
       "    </tr>\n",
       "    <tr>\n",
       "      <th>made usa</th>\n",
       "      <td>0.112241</td>\n",
       "    </tr>\n",
       "    <tr>\n",
       "      <th>mahogani neck</th>\n",
       "      <td>0.114696</td>\n",
       "    </tr>\n",
       "    <tr>\n",
       "      <th>pleas feel</th>\n",
       "      <td>0.117413</td>\n",
       "    </tr>\n",
       "    <tr>\n",
       "      <th>paul custom</th>\n",
       "      <td>0.123046</td>\n",
       "    </tr>\n",
       "    <tr>\n",
       "      <th>gibson les paul</th>\n",
       "      <td>0.130321</td>\n",
       "    </tr>\n",
       "    <tr>\n",
       "      <th>solidbodi electr guitar</th>\n",
       "      <td>0.153748</td>\n",
       "    </tr>\n",
       "    <tr>\n",
       "      <th>mint condit</th>\n",
       "      <td>0.158589</td>\n",
       "    </tr>\n",
       "    <tr>\n",
       "      <th>gibson les</th>\n",
       "      <td>0.171874</td>\n",
       "    </tr>\n",
       "    <tr>\n",
       "      <th>seymour duncan</th>\n",
       "      <td>0.197047</td>\n",
       "    </tr>\n",
       "    <tr>\n",
       "      <th>serial number</th>\n",
       "      <td>0.197273</td>\n",
       "    </tr>\n",
       "    <tr>\n",
       "      <th>come origin</th>\n",
       "      <td>0.205665</td>\n",
       "    </tr>\n",
       "    <tr>\n",
       "      <th>excel condit</th>\n",
       "      <td>0.218811</td>\n",
       "    </tr>\n",
       "    <tr>\n",
       "      <th>hardshel case</th>\n",
       "      <td>0.246784</td>\n",
       "    </tr>\n",
       "    <tr>\n",
       "      <th>hard case</th>\n",
       "      <td>0.256782</td>\n",
       "    </tr>\n",
       "    <tr>\n",
       "      <th>hard shell</th>\n",
       "      <td>0.300545</td>\n",
       "    </tr>\n",
       "    <tr>\n",
       "      <th>fender american</th>\n",
       "      <td>0.499576</td>\n",
       "    </tr>\n",
       "    <tr>\n",
       "      <th>listing_type_FixedPrice</th>\n",
       "      <td>0.616508</td>\n",
       "    </tr>\n",
       "    <tr>\n",
       "      <th>brand_FENDER</th>\n",
       "      <td>1.187750</td>\n",
       "    </tr>\n",
       "    <tr>\n",
       "      <th>ship_type_Free</th>\n",
       "      <td>1.422334</td>\n",
       "    </tr>\n",
       "    <tr>\n",
       "      <th>country_manufacture_USA</th>\n",
       "      <td>1.546411</td>\n",
       "    </tr>\n",
       "    <tr>\n",
       "      <th>brand_GIBSON</th>\n",
       "      <td>1.627520</td>\n",
       "    </tr>\n",
       "  </tbody>\n",
       "</table>\n",
       "</div>"
      ],
      "text/plain": [
       "                                0\n",
       "fender squier           -0.444149\n",
       "electr guitar           -0.340458\n",
       "epiphon les             -0.181432\n",
       "good work               -0.153431\n",
       "ship_type_Flat          -0.142548\n",
       "receiv within           -0.120700\n",
       "item ship               -0.088777\n",
       "make sure               -0.084042\n",
       "electron work           -0.083582\n",
       "string electr           -0.076490\n",
       "new string              -0.074951\n",
       "guitar play             -0.071159\n",
       "ship_expedite           -0.060864\n",
       "good condit             -0.060441\n",
       "includ ship             -0.053090\n",
       "pick guard               0.053306\n",
       "mapl top                 0.058899\n",
       "lock tuner               0.059367\n",
       "nut width                0.059633\n",
       "jumbo fret               0.063102\n",
       "intern buyer             0.065479\n",
       "bridg pickup             0.067886\n",
       "prioriti mail            0.073516\n",
       "les paul standard        0.077437\n",
       "num_pics                 0.083045\n",
       "like new                 0.085917\n",
       "case includ              0.088792\n",
       "made japan               0.095710\n",
       "hollow bodi              0.109024\n",
       "return polici            0.110342\n",
       "made usa                 0.112241\n",
       "mahogani neck            0.114696\n",
       "pleas feel               0.117413\n",
       "paul custom              0.123046\n",
       "gibson les paul          0.130321\n",
       "solidbodi electr guitar  0.153748\n",
       "mint condit              0.158589\n",
       "gibson les               0.171874\n",
       "seymour duncan           0.197047\n",
       "serial number            0.197273\n",
       "come origin              0.205665\n",
       "excel condit             0.218811\n",
       "hardshel case            0.246784\n",
       "hard case                0.256782\n",
       "hard shell               0.300545\n",
       "fender american          0.499576\n",
       "listing_type_FixedPrice  0.616508\n",
       "brand_FENDER             1.187750\n",
       "ship_type_Free           1.422334\n",
       "country_manufacture_USA  1.546411\n",
       "brand_GIBSON             1.627520"
      ]
     },
     "execution_count": 170,
     "metadata": {},
     "output_type": "execute_result"
    }
   ],
   "source": [
    "t_mod = model_coef.T\n",
    "lasso_feats = t_mod[abs(t_mod) > .05].dropna()\n",
    "lasso_feats"
   ]
  },
  {
   "cell_type": "markdown",
   "metadata": {},
   "source": [
    "Can I get a confusion matrix?"
   ]
  },
  {
   "cell_type": "code",
   "execution_count": 171,
   "metadata": {},
   "outputs": [],
   "source": [
    "price_thresh = 510"
   ]
  },
  {
   "cell_type": "code",
   "execution_count": 172,
   "metadata": {},
   "outputs": [],
   "source": [
    "high_actual = y_test_inv > price_thresh"
   ]
  },
  {
   "cell_type": "code",
   "execution_count": 173,
   "metadata": {},
   "outputs": [
    {
     "name": "stdout",
     "output_type": "stream",
     "text": [
      "If you just guessed every guitar would sell for more than $510 you'd only be right 24.97% of the time.\n"
     ]
    }
   ],
   "source": [
    "bad_guesses = np.full(len(y_test_inv), True)\n",
    "bad_cnf_matrix = confusion_matrix(high_actual, bad_guesses)\n",
    "print(f'If you just guessed every guitar would sell for more than ${price_thresh} you\\'d only be right {round((bad_cnf_matrix[1][1] / (bad_cnf_matrix[1][1] + bad_cnf_matrix[0][1]))*100, 2)}% of the time.')"
   ]
  },
  {
   "cell_type": "code",
   "execution_count": 174,
   "metadata": {},
   "outputs": [],
   "source": [
    "high_preds = y_test_preds_inv > price_thresh"
   ]
  },
  {
   "cell_type": "code",
   "execution_count": 175,
   "metadata": {},
   "outputs": [
    {
     "data": {
      "image/png": "[encoded data removed]",
      "text/plain": [
       "<Figure size 360x360 with 1 Axes>"
      ]
     },
     "metadata": {
      "needs_background": "light"
     },
     "output_type": "display_data"
    }
   ],
   "source": [
    "plt.figure(figsize=(5,5))\n",
    "cnf_matrix = confusion_matrix(high_actual, high_preds)\n",
    "plt.imshow(cnf_matrix,  cmap=plt.cm.Blues) #Create the basic matrix.\n",
    "\n",
    "#Add title and Axis Labels\n",
    "plt.title('Confusion Matrix')\n",
    "plt.ylabel('True label')\n",
    "plt.xlabel('Predicted label')\n",
    "\n",
    "#Add appropriate Axis Scales\n",
    "class_names = ['Under', 'Over'] #Get class labels to add to matrix\n",
    "tick_marks = np.arange(len(class_names))\n",
    "plt.xticks(tick_marks, class_names, rotation=45)\n",
    "plt.yticks(tick_marks, class_names)\n",
    "\n",
    "#Add Labels to Each Cell\n",
    "thresh = cnf_matrix.max() / 2. #Used for text coloring below\n",
    "#Here we iterate through the confusion matrix and append labels to our visualization.\n",
    "for i, j in itertools.product(range(cnf_matrix.shape[0]), range(cnf_matrix.shape[1])):\n",
    "        plt.text(j, i, cnf_matrix[i, j],\n",
    "                 horizontalalignment=\"center\",\n",
    "                 color=\"white\" if cnf_matrix[i, j] > thresh else \"black\")\n",
    "\n",
    "plt.show()"
   ]
  },
  {
   "cell_type": "code",
   "execution_count": 176,
   "metadata": {},
   "outputs": [
    {
     "name": "stdout",
     "output_type": "stream",
     "text": [
      "When the model guesses above $510, it's right 78.02% of the time.\n"
     ]
    }
   ],
   "source": [
    "print(f'When the model guesses above ${price_thresh}, it\\'s right {round((cnf_matrix[1][1] / (cnf_matrix[1][1] + cnf_matrix[0][1]))*100, 2)}% of the time.')"
   ]
  },
  {
   "cell_type": "markdown",
   "metadata": {},
   "source": [
    "We're trying to avoid false positives more than false negatives."
   ]
  },
  {
   "cell_type": "markdown",
   "metadata": {},
   "source": [
    "****"
   ]
  },
  {
   "cell_type": "code",
   "execution_count": null,
   "metadata": {},
   "outputs": [],
   "source": [
    "# Cheap image analysis - white balance?\n",
    "\n",
    "# Present Insights about time of day / day of week"
   ]
  }
 ],
 "metadata": {
  "kernelspec": {
   "display_name": "Python3 (Bayes)",
   "language": "python",
   "name": "bayes"
  },
  "language_info": {
   "codemirror_mode": {
    "name": "ipython",
    "version": 3
   },
   "file_extension": ".py",
   "mimetype": "text/x-python",
   "name": "python",
   "nbconvert_exporter": "python",
   "pygments_lexer": "ipython3",
   "version": "3.6.6"
  }
 },
 "nbformat": 4,
 "nbformat_minor": 2
}
