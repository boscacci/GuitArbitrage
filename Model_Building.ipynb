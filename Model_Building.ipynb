{
 "cells": [
  {
   "cell_type": "code",
   "execution_count": 2,
   "metadata": {},
   "outputs": [],
   "source": [
    "import os, operator, itertools\n",
    "import numpy as np\n",
    "import pandas as pd\n",
    "pd.options.display.max_columns = 999\n",
    "\n",
    "import matplotlib.pyplot as plt\n",
    "import seaborn as sns\n",
    "\n",
    "from sklearn.preprocessing import StandardScaler\n",
    "from sklearn.model_selection import train_test_split, GridSearchCV\n",
    "from sklearn.metrics import mean_squared_error, confusion_matrix\n",
    "import statsmodels.formula.api as sm\n",
    "\n",
    "from sklearn.linear_model import RidgeCV, LassoCV, LinearRegression\n",
    "\n",
    "from scipy.stats import boxcox\n",
    "from scipy.special import inv_boxcox\n",
    "\n",
    "import nltk, string, os\n",
    "from nltk.corpus import stopwords\n",
    "from nltk import word_tokenize, FreqDist\n",
    "from nltk.stem.snowball import SnowballStemmer\n",
    "from sklearn.feature_extraction.text import TfidfVectorizer\n",
    "\n",
    "np.random.seed(0)"
   ]
  },
  {
   "cell_type": "code",
   "execution_count": 3,
   "metadata": {},
   "outputs": [],
   "source": [
    "from Axe_Object import Axe"
   ]
  },
  {
   "cell_type": "code",
   "execution_count": 4,
   "metadata": {},
   "outputs": [],
   "source": [
    "filenames = [name for name in os.listdir('axe_specs/') if not name.startswith('.')] # Ignores hidden files on mac"
   ]
  },
  {
   "cell_type": "code",
   "execution_count": 5,
   "metadata": {},
   "outputs": [],
   "source": [
    "axes = []\n",
    "for filename in filenames:\n",
    "    try:\n",
    "        this_axe = Axe(filename)\n",
    "        if \"LOT OF\" not in this_axe.title.upper() and this_axe.price > 110 and this_axe.price < 800:\n",
    "            if this_axe.string_config and this_axe.string_config < 5:\n",
    "                continue\n",
    "            if this_axe.market != 'EBAY-US':\n",
    "                continue\n",
    "            if this_axe.year and this_axe.year > 2019:\n",
    "                continue\n",
    "            axes.append(this_axe)\n",
    "    except ValueError:\n",
    "        pass"
   ]
  },
  {
   "cell_type": "code",
   "execution_count": 6,
   "metadata": {},
   "outputs": [
    {
     "data": {
      "text/plain": [
       "10025"
      ]
     },
     "execution_count": 6,
     "metadata": {},
     "output_type": "execute_result"
    }
   ],
   "source": [
    "len(axes)"
   ]
  },
  {
   "cell_type": "code",
   "execution_count": 9,
   "metadata": {},
   "outputs": [],
   "source": [
    "prices = pd.Series([axe.price for axe in axes], name = 'prices')"
   ]
  },
  {
   "cell_type": "code",
   "execution_count": 16,
   "metadata": {},
   "outputs": [
    {
     "data": {
      "image/png": "[encoded data removed]",
      "text/plain": [
       "<Figure size 1296x432 with 1 Axes>"
      ]
     },
     "metadata": {
      "needs_background": "light"
     },
     "output_type": "display_data"
    }
   ],
   "source": [
    "plt.figure(figsize = (18,6))\n",
    "plt.hist(prices, bins=50)\n",
    "plt.ylabel('Frequency')\n",
    "plt.xlabel('Guitar Price in USD')\n",
    "plt.show()"
   ]
  },
  {
   "cell_type": "code",
   "execution_count": 17,
   "metadata": {},
   "outputs": [
    {
     "data": {
      "image/png": "[encoded data removed]",
      "text/plain": [
       "<Figure size 1296x432 with 1 Axes>"
      ]
     },
     "metadata": {
      "needs_background": "light"
     },
     "output_type": "display_data"
    }
   ],
   "source": [
    "bxcx_lam = .4\n",
    "prices = pd.Series(boxcox([axe.price for axe in axes], lmbda=bxcx_lam), name = 'prices')\n",
    "plt.figure(figsize = (18,6))\n",
    "plt.hist(prices, bins=50)\n",
    "plt.ylabel('Frequency')\n",
    "plt.xlabel('Guitar Price in USD')\n",
    "plt.show()"
   ]
  },
  {
   "cell_type": "code",
   "execution_count": 19,
   "metadata": {},
   "outputs": [],
   "source": [
    "auction_duration    = pd.Series([axe.duration for axe in axes], name = 'auction_duration')\n",
    "shipping_charged    = pd.Series([axe.price_shipping for axe in axes], name = 'shipping_charged')\n",
    "seller_country      = pd.Series([axe.country_seller for axe in axes], name = 'seller_country')\n",
    "autopay             = pd.Series([axe.autopay for axe in axes], name = 'autopay')\n",
    "returns             = pd.Series([axe.returns for axe in axes], name = 'returns')\n",
    "listing_type        = pd.Series([axe.listing_type for axe in axes], name = 'listing_type')\n",
    "ship_type           = pd.Series([axe.ship_type for axe in axes], name = 'ship_type')\n",
    "ship_expedite       = pd.Series([axe.ship_expedite for axe in axes], name = 'ship_expedite')\n",
    "start_hour          = pd.cut(pd.Series([axe.start_time.hour for axe in axes], name = 'start_hour'), 6)\n",
    "end_hour            = pd.cut(pd.Series([axe.end_time.hour for axe in axes], name = 'end_hour'), 6)\n",
    "start_weekday       = pd.Series([axe.start_weekday for axe in axes], name = 'start_weekday').astype('category')\n",
    "end_weekday         = pd.Series([axe.end_weekday for axe in axes], name = 'end_weekday').astype('category')\n",
    "returns_time        = pd.Series([axe.returns_time for axe in axes], name = \"returns_time\").astype('category')\n",
    "num_pics            = pd.Series([axe.pic_quantity for axe in axes], name = \"num_pics\")\n",
    "brand               = pd.Series([axe.brand for axe in axes], name = \"brand\")\n",
    "body_type           = pd.Series([axe.body_type for axe in axes], name = \"body_type\")\n",
    "color               = pd.Series([axe.color for axe in axes], name = \"color\")\n",
    "right_left_handed   = pd.Series([axe.right_left_handed for axe in axes], name = \"right_left_handed\")\n",
    "best_offer_enabled  = pd.Series([axe.best_offer_enabled for axe in axes], name = \"best_offer_enabled\")\n",
    "country_manufacture = pd.Series([axe.country_manufacture for axe in axes], name = \"country_manufacture\")\n",
    "\n",
    "ship_handling_time = pd.Series([axe.ship_handling_time for axe in axes], name = 'ship_handling_time').astype('category')\n",
    "\n",
    "string_config = pd.cut(pd.Series([axe.string_config for axe in axes], name = \"string_config\"),\n",
    "                       [0,5,6,11,20])\n",
    "\n",
    "seller_feedback_score = pd.cut(pd.Series([axe.seller_feedback_score for axe in axes], name = \"seller_feedback_score\"), [-411,0,50,100,200,500,750,1250,2500,10000,100000,400000])\n",
    "\n",
    "seller_positive_percent = pd.cut(pd.Series([axe.seller_positive_percent for axe in axes], name = \"seller_positive_percent\"), [-10000,99.5,111])\n",
    "\n",
    "model_year = pd.cut(pd.Series([axe.year for axe in axes], name = \"model_year\"), [1700,1975,1990,1995,2000,2005,2007,2010,2011,2012,2013,2015])"
   ]
  },
  {
   "cell_type": "markdown",
   "metadata": {},
   "source": [
    "## Text as a Regression Feature"
   ]
  },
  {
   "cell_type": "markdown",
   "metadata": {},
   "source": [
    "http://www-stat.wharton.upenn.edu/~stine/research/regressor.pdf"
   ]
  },
  {
   "cell_type": "code",
   "execution_count": 20,
   "metadata": {},
   "outputs": [],
   "source": [
    "def assemble_guitar_document(axe):\n",
    "    document = axe.title + ' '\n",
    "    if axe.year != None:\n",
    "        document += (str(axe.year) + ' ')\n",
    "    if axe.material != None:\n",
    "        document += axe.material + ' '\n",
    "    if axe.model != None:\n",
    "        document += axe.model + ' ' \n",
    "    if axe.brand != None:\n",
    "        document += axe.brand + ' '\n",
    "    if axe.subtitle != None:\n",
    "        document += axe.subtitle + ' '\n",
    "    if axe.condition_description != None:\n",
    "        document += axe.condition_description + ' '\n",
    "    if axe.description != None:\n",
    "        document += axe.description\n",
    "    return document"
   ]
  },
  {
   "cell_type": "code",
   "execution_count": 21,
   "metadata": {},
   "outputs": [],
   "source": [
    "raw_corpus = [assemble_guitar_document(axe).lower() for axe in axes]"
   ]
  },
  {
   "cell_type": "code",
   "execution_count": 22,
   "metadata": {},
   "outputs": [],
   "source": [
    "stemmer = SnowballStemmer(\"english\")"
   ]
  },
  {
   "cell_type": "code",
   "execution_count": 23,
   "metadata": {},
   "outputs": [],
   "source": [
    "stopwords_list = stopwords.words('english') + list(string.punctuation)\n",
    "stopwords_list += [\"''\", '\"\"', '...', '``', \",\", \".\", \":\", \"'s\", \"--\",\"’\"]"
   ]
  },
  {
   "cell_type": "code",
   "execution_count": 24,
   "metadata": {},
   "outputs": [],
   "source": [
    "def process_doc(doc):\n",
    "    stopwords_removed = ''\n",
    "    tokens = nltk.word_tokenize(doc)\n",
    "    for i in range(len(tokens)):\n",
    "        if tokens[i].lower() not in stopwords_list and tokens[i] not in string.punctuation:\n",
    "            stopwords_removed += stemmer.stem(tokens[i]) + ' '\n",
    "    return stopwords_removed"
   ]
  },
  {
   "cell_type": "code",
   "execution_count": 525,
   "metadata": {},
   "outputs": [],
   "source": [
    "processed_text = pd.Series(list(map(process_doc, raw_corpus)), name = 'text') # Holding on to this while we prune below"
   ]
  },
  {
   "cell_type": "markdown",
   "metadata": {},
   "source": [
    "## Assemble the Feature Set"
   ]
  },
  {
   "cell_type": "code",
   "execution_count": 507,
   "metadata": {},
   "outputs": [],
   "source": [
    "X_no_dummies = pd.concat([prices, brand, color, country_manufacture, right_left_handed, best_offer_enabled, shipping_charged, \n",
    "               returns, returns_time, autopay,seller_country, ship_handling_time, listing_type, ship_expedite,\n",
    "               ship_type, num_pics, auction_duration, start_hour, end_hour, start_weekday, end_weekday, \n",
    "               seller_feedback_score, seller_positive_percent, model_year, body_type, string_config],\n",
    "              axis = 1)\n",
    "\n",
    "y_X = pd.get_dummies(X_no_dummies, drop_first=True)"
   ]
  },
  {
   "cell_type": "markdown",
   "metadata": {},
   "source": [
    "Removing Colinear Features:"
   ]
  },
  {
   "cell_type": "code",
   "execution_count": 509,
   "metadata": {},
   "outputs": [],
   "source": [
    "corr = y_X.iloc[:,1:].corr()\n",
    "\n",
    "columns = np.full((corr.shape[0],), True, dtype=bool)\n",
    "for i in range(corr.shape[0]):\n",
    "    for j in range(i+1, corr.shape[0]):\n",
    "        if corr.iloc[i,j] >= 0.9:\n",
    "            if columns[j]:\n",
    "                columns[j] = False\n",
    "selected_columns = y_X.iloc[:,1:].columns[columns]\n",
    "\n",
    "X = pd.concat([y_X.iloc[:,1:][selected_columns], processed_text], axis=1)"
   ]
  },
  {
   "cell_type": "code",
   "execution_count": 510,
   "metadata": {},
   "outputs": [],
   "source": [
    "X_train, X_test, y_train, y_test = train_test_split(X, y_X.iloc[:,0], test_size=.2)#, random_state=42)"
   ]
  },
  {
   "cell_type": "code",
   "execution_count": 511,
   "metadata": {},
   "outputs": [
    {
     "data": {
      "text/plain": [
       "(8020, 130)"
      ]
     },
     "execution_count": 511,
     "metadata": {},
     "output_type": "execute_result"
    }
   ],
   "source": [
    "X_train.shape"
   ]
  },
  {
   "cell_type": "code",
   "execution_count": 512,
   "metadata": {},
   "outputs": [
    {
     "data": {
      "text/plain": [
       "TfidfVectorizer(analyzer='word', binary=False, decode_error='strict',\n",
       "        dtype=<class 'numpy.float64'>, encoding='utf-8', input='content',\n",
       "        lowercase=True, max_df=1.0, max_features=200, min_df=1,\n",
       "        ngram_range=(2, 2), norm=None, preprocessor=None, smooth_idf=True,\n",
       "        stop_words=None, strip_accents='ascii', sublinear_tf=False,\n",
       "        token_pattern='(?u)\\\\b\\\\w\\\\w+\\\\b', tokenizer=None, use_idf=True,\n",
       "        vocabulary=None)"
      ]
     },
     "execution_count": 512,
     "metadata": {},
     "output_type": "execute_result"
    }
   ],
   "source": [
    "vectorizer = TfidfVectorizer(norm=None, ngram_range=(2,2), strip_accents='ascii',\n",
    "#                             max_df=0.8, min_df=2,\n",
    "                             max_features=200)\n",
    "\n",
    "vectorizer.fit(X_train['text'])"
   ]
  },
  {
   "cell_type": "code",
   "execution_count": 513,
   "metadata": {},
   "outputs": [],
   "source": [
    "def tfidf_transform_text_column(df):\n",
    "    tfidf = vectorizer.transform(df['text'])\n",
    "    tfidf_df = pd.DataFrame(tfidf.toarray(), columns=vectorizer.get_feature_names())\n",
    "    return pd.concat([df.reset_index(drop=True), tfidf_df], axis=1).drop('text', axis=1)\n",
    "\n",
    "X_train = tfidf_transform_text_column(X_train)\n",
    "X_test = tfidf_transform_text_column(X_test)"
   ]
  },
  {
   "cell_type": "code",
   "execution_count": 514,
   "metadata": {},
   "outputs": [],
   "source": [
    "scaler = StandardScaler()"
   ]
  },
  {
   "cell_type": "code",
   "execution_count": 515,
   "metadata": {},
   "outputs": [
    {
     "name": "stderr",
     "output_type": "stream",
     "text": [
      "C:\\Users\\rob\\AppData\\Local\\conda\\conda\\envs\\Bayes\\lib\\site-packages\\sklearn\\preprocessing\\data.py:625: DataConversionWarning: Data with input dtype bool, uint8, int64, float64 were all converted to float64 by StandardScaler.\n",
      "  return self.partial_fit(X, y)\n",
      "C:\\Users\\rob\\AppData\\Local\\conda\\conda\\envs\\Bayes\\lib\\site-packages\\sklearn\\base.py:462: DataConversionWarning: Data with input dtype bool, uint8, int64, float64 were all converted to float64 by StandardScaler.\n",
      "  return self.fit(X, **fit_params).transform(X)\n",
      "C:\\Users\\rob\\AppData\\Local\\conda\\conda\\envs\\Bayes\\lib\\site-packages\\ipykernel_launcher.py:2: DataConversionWarning: Data with input dtype bool, uint8, int64, float64 were all converted to float64 by StandardScaler.\n",
      "  \n"
     ]
    }
   ],
   "source": [
    "X_train_scaled = scaler.fit_transform(X_train)  \n",
    "X_test_scaled  = scaler.transform(X_test)"
   ]
  },
  {
   "cell_type": "markdown",
   "metadata": {},
   "source": [
    "### Baseline Naive Error - Guess the Mean Price"
   ]
  },
  {
   "cell_type": "code",
   "execution_count": 516,
   "metadata": {},
   "outputs": [
    {
     "data": {
      "text/plain": [
       "189.28318306283558"
      ]
     },
     "execution_count": 516,
     "metadata": {},
     "output_type": "execute_result"
    }
   ],
   "source": [
    "price_mean = np.mean(y_train)\n",
    "price_mean_vector = inv_boxcox([price_mean for i in range(len(y_test))],bxcx_lam)\n",
    "baseline_error = np.sqrt(mean_squared_error(inv_boxcox(y_test, bxcx_lam), price_mean_vector))\n",
    "baseline_error"
   ]
  },
  {
   "cell_type": "markdown",
   "metadata": {},
   "source": [
    "### Lasso Regression"
   ]
  },
  {
   "cell_type": "code",
   "execution_count": 517,
   "metadata": {
    "scrolled": true
   },
   "outputs": [],
   "source": [
    "# alphas = np.logspace(-4, -0.5, 30)\n",
    "lin_reg = LassoCV(cv=5).fit(X_train_scaled, y_train)"
   ]
  },
  {
   "cell_type": "code",
   "execution_count": 518,
   "metadata": {},
   "outputs": [],
   "source": [
    "y_train_preds = lin_reg.predict(X_train_scaled)\n",
    "y_test_preds = lin_reg.predict(X_test_scaled)"
   ]
  },
  {
   "cell_type": "code",
   "execution_count": 519,
   "metadata": {},
   "outputs": [],
   "source": [
    "y_train_inv = inv_boxcox(y_train, bxcx_lam)\n",
    "y_test_inv = inv_boxcox(y_test, bxcx_lam)\n",
    "y_train_preds_inv = inv_boxcox(y_train_preds, bxcx_lam)\n",
    "y_test_preds_inv = inv_boxcox(y_test_preds, bxcx_lam)"
   ]
  },
  {
   "cell_type": "code",
   "execution_count": 520,
   "metadata": {},
   "outputs": [
    {
     "data": {
      "text/plain": [
       "(148.64412481021287, 153.24011619177006)"
      ]
     },
     "execution_count": 520,
     "metadata": {},
     "output_type": "execute_result"
    }
   ],
   "source": [
    "train_error = np.sqrt(mean_squared_error(y_train_inv, y_train_preds_inv))\n",
    "test_error = np.sqrt(mean_squared_error(y_test_inv, y_test_preds_inv))\n",
    "(train_error, test_error)"
   ]
  },
  {
   "cell_type": "code",
   "execution_count": 521,
   "metadata": {},
   "outputs": [
    {
     "name": "stdout",
     "output_type": "stream",
     "text": [
      "Train error is a 21.47% improvement over guessing the mean. \n",
      "\n",
      "Test error is a 19.04% improvement over guessing the mean.\n"
     ]
    }
   ],
   "source": [
    "print(f'Train error is a {round((((baseline_error - train_error) / baseline_error) * 100),2)}% improvement over guessing the mean. \\n')\n",
    "\n",
    "print(f'Test error is a {round((((baseline_error - test_error) / baseline_error) * 100),2)}% improvement over guessing the mean.')"
   ]
  },
  {
   "cell_type": "code",
   "execution_count": 522,
   "metadata": {
    "scrolled": false
   },
   "outputs": [
    {
     "data": {
      "image/png": "[encoded data removed]",
      "text/plain": [
       "<Figure size 576x576 with 1 Axes>"
      ]
     },
     "metadata": {
      "needs_background": "light"
     },
     "output_type": "display_data"
    }
   ],
   "source": [
    "plt.figure(figsize=(8,8))\n",
    "plt.scatter(y_test_inv, y_test_preds_inv, s=2)\n",
    "x = np.linspace(100,900, num=2)\n",
    "plt.plot(x,x)\n",
    "plt.plot(np.full(len(x),500),x)\n",
    "plt.plot(x,np.full(len(x),500))\n",
    "plt.show()"
   ]
  },
  {
   "cell_type": "markdown",
   "metadata": {},
   "source": [
    "Can I get a confusion matrix?"
   ]
  },
  {
   "cell_type": "code",
   "execution_count": 523,
   "metadata": {},
   "outputs": [],
   "source": [
    "thresh = 500"
   ]
  },
  {
   "cell_type": "code",
   "execution_count": 524,
   "metadata": {},
   "outputs": [
    {
     "data": {
      "image/png": "[encoded data removed]",
      "text/plain": [
       "<Figure size 720x720 with 2 Axes>"
      ]
     },
     "metadata": {
      "needs_background": "light"
     },
     "output_type": "display_data"
    }
   ],
   "source": [
    "plt.figure(figsize=(10,10))\n",
    "cnf_matrix = confusion_matrix(high_value_guitars, high_value_guesses)\n",
    "plt.imshow(cnf_matrix,  cmap=plt.cm.Blues) #Create the basic matrix.\n",
    "\n",
    "#Add title and Axis Labels\n",
    "plt.title('Confusion Matrix')\n",
    "plt.ylabel('True label')\n",
    "plt.xlabel('Predicted label')\n",
    "\n",
    "#Add appropriate Axis Scales\n",
    "class_names = ['Under', 'Over'] #Get class labels to add to matrix\n",
    "tick_marks = np.arange(len(class_names))\n",
    "plt.xticks(tick_marks, class_names, rotation=45)\n",
    "plt.yticks(tick_marks, class_names)\n",
    "\n",
    "#Add Labels to Each Cell\n",
    "thresh = cnf_matrix.max() / 2. #Used for text coloring below\n",
    "#Here we iterate through the confusion matrix and append labels to our visualization.\n",
    "for i, j in itertools.product(range(cnf_matrix.shape[0]), range(cnf_matrix.shape[1])):\n",
    "        plt.text(j, i, cnf_matrix[i, j],\n",
    "                 horizontalalignment=\"center\",\n",
    "                 color=\"white\" if cnf_matrix[i, j] > thresh else \"black\")\n",
    "\n",
    "#Add a Side Bar Legend Showing Colors\n",
    "plt.colorbar()\n",
    "plt.show()"
   ]
  },
  {
   "cell_type": "markdown",
   "metadata": {},
   "source": [
    "We're trying to avoid false positives more than false negatives."
   ]
  },
  {
   "cell_type": "markdown",
   "metadata": {},
   "source": [
    "Now let's try to have it predict on a new guitar."
   ]
  },
  {
   "cell_type": "code",
   "execution_count": null,
   "metadata": {},
   "outputs": [],
   "source": [
    "# Cheap image analysis - white balance?\n",
    "# Transfer learning on quality of image\n",
    "# Present Insights about time of day / day of week"
   ]
  }
 ],
 "metadata": {
  "kernelspec": {
   "display_name": "Bayes_2019-01-23",
   "language": "python",
   "name": "bayes"
  },
  "language_info": {
   "codemirror_mode": {
    "name": "ipython",
    "version": 3
   },
   "file_extension": ".py",
   "mimetype": "text/x-python",
   "name": "python",
   "nbconvert_exporter": "python",
   "pygments_lexer": "ipython3",
   "version": "3.6.8"
  }
 },
 "nbformat": 4,
 "nbformat_minor": 2
}
