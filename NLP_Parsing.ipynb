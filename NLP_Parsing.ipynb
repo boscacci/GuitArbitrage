{
 "cells": [
  {
   "cell_type": "markdown",
   "metadata": {},
   "source": [
    "# NLP For Regression"
   ]
  },
  {
   "cell_type": "code",
   "execution_count": null,
   "metadata": {},
   "outputs": [],
   "source": [
    "import os\n",
    "import numpy as np\n",
    "import pandas as pd\n",
    "\n",
    "from gensim import corpora\n",
    "from gensim.models import TfidfModel, LdaModel\n",
    "from gensim.parsing.preprocessing import remove_stopwords, strip_punctuation, strip_multiple_whitespaces\n",
    "from gensim.parsing.preprocessing import strip_short, stem_text\n",
    "\n",
    "from collections import defaultdict\n",
    "\n",
    "from sklearn.linear_model import LinearRegression"
   ]
  },
  {
   "cell_type": "markdown",
   "metadata": {},
   "source": [
    "Let's bring in our guitar JSON parser:"
   ]
  },
  {
   "cell_type": "code",
   "execution_count": 2,
   "metadata": {},
   "outputs": [],
   "source": [
    "from Axe_Object import Axe"
   ]
  },
  {
   "cell_type": "markdown",
   "metadata": {},
   "source": [
    "And instantiate our rock n roll guitar objects:"
   ]
  },
  {
   "cell_type": "code",
   "execution_count": 3,
   "metadata": {},
   "outputs": [],
   "source": [
    "filenames = [name for name in os.listdir('axe_specs/') if not name.startswith('.')] # Ignores hidden files on mac"
   ]
  },
  {
   "cell_type": "code",
   "execution_count": 4,
   "metadata": {},
   "outputs": [],
   "source": [
    "axes = []\n",
    "for filename in filenames:\n",
    "    try:\n",
    "        this_axe = Axe(filename)\n",
    "        if \"LOT OF\" not in this_axe.title.upper() and this_axe.price_usd > 100 and this_axe.price_usd < 5000:\n",
    "            if this_axe.string_config and this_axe.string_config < 5:\n",
    "                continue\n",
    "            axes.append(this_axe)\n",
    "    except ValueError:\n",
    "        pass"
   ]
  },
  {
   "cell_type": "markdown",
   "metadata": {},
   "source": [
    "Check out all these text fields we can turn into a big nasty stew of NLP goodness:"
   ]
  },
  {
   "cell_type": "code",
   "execution_count": 5,
   "metadata": {},
   "outputs": [
    {
     "data": {
      "text/plain": [
       "'1991 Japan Made Aria Pro II MAGNA Series Electric Guitar MA-550 Made in Japan'"
      ]
     },
     "execution_count": 5,
     "metadata": {},
     "output_type": "execute_result"
    }
   ],
   "source": [
    "axes[58].title"
   ]
  },
  {
   "cell_type": "code",
   "execution_count": 6,
   "metadata": {
    "scrolled": true
   },
   "outputs": [
    {
     "data": {
      "text/plain": [
       "\"A.01 Fender PB62-75US vwh.html Ebay説明文原本 1991 Made Aria Pro II MAGNA Series Electric Guitar MA-550 Made in Japan Item\\u3000Number ER-853 Condition Rank A No Reserve Auction! Shipping Free All over the world! USA Canada Buyer:Free shipping Europe Buyer: Free shipping Australia Buyer: Free shipping Brazil and South America buyer:Free shipping. We will ship this guitar No CITES application. We can ship this item within 1 business day After you made a payment. If the package will not able to any trouble. You can receive the full refund. no worry 1991 Made Aria Pro II MAGNA Series Electric Guitar MA-550 Made in Japan You're bidding on a very good working condition 1991 Made Aria Pro II MA-550, which contains very fine sound and rich tones made from good pieces of wood and hardworking craftsmanship. The guitar has slim neck shape with 24th frets type. Body has very slim comfortable shape. This is '90s made in Japan high quality made guitar. Tuner has GOTOH fine tuners. Sound is very nice. Body: Alder Neck :Maple Heel less Joint 14 pitched head. Frets: 24F Scale:650mm Pickups: CS-2 Single Coil CH-2 Humbacking If you have questions.Please feel free ask me. Spec/Condition ・Finish \\u3000Black ・wood \\u3000Alder ・Finger Board \\u3000 Rosewood ・Weight \\u3000 3.4kg( 7.50 pounds) ・Serial Number \\u3000 905385 ・Brand \\u3000 Aria Pro II ・Manufacture Country \\u3000 Japan ・Nut width \\u3000 41mm ・Pickups CS-2 Single Coil ×2 CH-2 Humbucking ×1 ・Case \\u3000No Case ・Neck \\u3000 Straight ・Tuner \\u3000 Working Well ・Trussrod \\u3000 Working Well ・Electrics \\u3000 Working Well ・Pickups \\u3000 Working Well \\u3000 \\u3000 \\u3000 \\u3000 \\u3000 \\u3000 \\u3000 \\u3000 Condition Rating(80/100) Not come with tremolo arm bar. Guitar has some scratches and dings on the body.(Photo-01)(Photo-02) The guitar is overall in very good working condition. The fret condition also very good(left 80%) (Not has a fret buzzing) Sounds and plays great with not issue. Please confirm pictures for details. (Not Come with the soft gig case.) I will carefully pack up Very Very well for the safety shipping. Please don't worry about shipping damage. Please look my feedback from the buyer N New / Unused item S Used for a few times and in mint condition A Some dings and scratches overall in Beautiful condition B Noticeable damage(Cracking/Dents),But will not influence anything in use C Many scratches and dents or made a relic finish.Looks bad,But will not influence anything in use Shipping Cost Asia \\u3000 Free Shipping Oceania \\u3000 Free Shipping Middle\\u3000East \\u3000 Free Shipping USA Canada Mexico \\u3000 Free Shipping Europe (Russia) \\u3000 Free Shipping South America \\u3000 Free Shipping (Japan post Economy shipping SAL with tracking number) 2weeks delivery. We ship by EMS (Fastest Express shipping service)To door. Payment I'm accept PayPal, (but if you don't have the acount.Please feel free ask me) (Detail infomation is Please feel free ask me) ・International Buyers Please Note: ・Import duties, taxes and charges are not included in the item price or shipping charges. These charges are the buyer's responsibility. ・Please check with your country's customs office to determine what these additional costs will be prior to bidding/buying.\""
      ]
     },
     "execution_count": 6,
     "metadata": {},
     "output_type": "execute_result"
    }
   ],
   "source": [
    "axes[58].description "
   ]
  },
  {
   "cell_type": "code",
   "execution_count": 7,
   "metadata": {},
   "outputs": [
    {
     "data": {
      "text/plain": [
       "'Condition Rating(80/100)Not come with tremolo arm bar.Guitar has some scratches and dings on the body.(Photo-01)(Photo-02)The guitar is overall in very good working condition.The fret condition also very good(left 80%)(Not has a fret buzzing)Sounds and plays great with not issue.Please confirm pictures for details.'"
      ]
     },
     "execution_count": 7,
     "metadata": {},
     "output_type": "execute_result"
    }
   ],
   "source": [
    "axes[58].condition_description # Might not exist for all instances"
   ]
  },
  {
   "cell_type": "code",
   "execution_count": 8,
   "metadata": {},
   "outputs": [
    {
     "data": {
      "text/plain": [
       "'Japan Made vintage guitar No Reserve with FREE SHIPPING'"
      ]
     },
     "execution_count": 8,
     "metadata": {},
     "output_type": "execute_result"
    }
   ],
   "source": [
    "axes[58].subtitle # Might not exist for all instances"
   ]
  },
  {
   "cell_type": "code",
   "execution_count": 9,
   "metadata": {},
   "outputs": [
    {
     "data": {
      "text/plain": [
       "'OTHER'"
      ]
     },
     "execution_count": 9,
     "metadata": {},
     "output_type": "execute_result"
    }
   ],
   "source": [
    "axes[58].brand # Might not exist for all instances"
   ]
  },
  {
   "cell_type": "code",
   "execution_count": 10,
   "metadata": {},
   "outputs": [
    {
     "data": {
      "text/plain": [
       "'MA-550'"
      ]
     },
     "execution_count": 10,
     "metadata": {},
     "output_type": "execute_result"
    }
   ],
   "source": [
    "axes[58].model # Might not exist for all instances"
   ]
  },
  {
   "cell_type": "code",
   "execution_count": 11,
   "metadata": {},
   "outputs": [
    {
     "data": {
      "text/plain": [
       "'1991'"
      ]
     },
     "execution_count": 11,
     "metadata": {},
     "output_type": "execute_result"
    }
   ],
   "source": [
    "str(axes[58].year) # Might not exist for all instances"
   ]
  },
  {
   "cell_type": "code",
   "execution_count": 12,
   "metadata": {},
   "outputs": [
    {
     "data": {
      "text/plain": [
       "'ALDER'"
      ]
     },
     "execution_count": 12,
     "metadata": {},
     "output_type": "execute_result"
    }
   ],
   "source": [
    "axes[58].material # Might not exist for all instances"
   ]
  },
  {
   "cell_type": "markdown",
   "metadata": {},
   "source": [
    "**Toss Together the Stew**"
   ]
  },
  {
   "cell_type": "code",
   "execution_count": 13,
   "metadata": {},
   "outputs": [],
   "source": [
    "def assemble_guitar_document(axe):\n",
    "    document = axe.title + ' '\n",
    "    if axe.year != None:\n",
    "        document += (str(axe.year) + ' ')*2\n",
    "    if axe.material != None:\n",
    "        document += axe.material + ' '\n",
    "    if axe.model != None:\n",
    "        document += axe.model + ' ' \n",
    "    if axe.brand != None:\n",
    "        document += axe.brand + ' '\n",
    "    if axe.subtitle != None:\n",
    "        document += axe.subtitle + ' '\n",
    "    if axe.condition_description != None:\n",
    "        document += axe.condition_description + ' '\n",
    "    if axe.description != None:\n",
    "        document += axe.description\n",
    "    return document"
   ]
  },
  {
   "cell_type": "code",
   "execution_count": 14,
   "metadata": {},
   "outputs": [],
   "source": [
    "raw_corpus = [assemble_guitar_document(axe).lower() for axe in axes]"
   ]
  },
  {
   "cell_type": "code",
   "execution_count": 15,
   "metadata": {},
   "outputs": [
    {
     "data": {
      "text/plain": [
       "13134"
      ]
     },
     "execution_count": 15,
     "metadata": {},
     "output_type": "execute_result"
    }
   ],
   "source": [
    "len(raw_corpus)"
   ]
  },
  {
   "cell_type": "markdown",
   "metadata": {},
   "source": [
    "**Text Pre-Processing:**"
   ]
  },
  {
   "cell_type": "code",
   "execution_count": 16,
   "metadata": {},
   "outputs": [],
   "source": [
    "corpus = []\n",
    "for doc in raw_corpus:\n",
    "    doc = strip_multiple_whitespaces(strip_short(strip_punctuation(doc)))\n",
    "    corpus.append([word for word in stem_text(remove_stopwords(doc)).split()])"
   ]
  },
  {
   "cell_type": "code",
   "execution_count": 17,
   "metadata": {
    "scrolled": true
   },
   "outputs": [],
   "source": [
    "# remove words that appear only once\n",
    "frequency = defaultdict(int)\n",
    "for doc in corpus:\n",
    "    for word in doc:\n",
    "        frequency[word] += 1\n",
    "corpus = [[word for word in doc if frequency[word] > 1] for doc in corpus]"
   ]
  },
  {
   "cell_type": "markdown",
   "metadata": {},
   "source": [
    "**Convert to Bag of Words:**"
   ]
  },
  {
   "cell_type": "code",
   "execution_count": 18,
   "metadata": {},
   "outputs": [],
   "source": [
    "dictionary = corpora.Dictionary(corpus)"
   ]
  },
  {
   "cell_type": "code",
   "execution_count": 19,
   "metadata": {},
   "outputs": [],
   "source": [
    "corpus = [dictionary.doc2bow(doc) for doc in corpus]"
   ]
  },
  {
   "cell_type": "markdown",
   "metadata": {},
   "source": [
    "**Normalize:**"
   ]
  },
  {
   "cell_type": "code",
   "execution_count": 28,
   "metadata": {},
   "outputs": [],
   "source": [
    "# tfidf = TfidfModel(corpus)"
   ]
  },
  {
   "cell_type": "code",
   "execution_count": 29,
   "metadata": {
    "scrolled": true
   },
   "outputs": [],
   "source": [
    "# corpus_tfidf = tfidf[corpus]"
   ]
  },
  {
   "cell_type": "markdown",
   "metadata": {},
   "source": [
    "**LDA Transformation:**"
   ]
  },
  {
   "cell_type": "code",
   "execution_count": 52,
   "metadata": {},
   "outputs": [],
   "source": [
    "num_topics = 300"
   ]
  },
  {
   "cell_type": "code",
   "execution_count": 25,
   "metadata": {},
   "outputs": [],
   "source": [
    "lda = LdaModel(corpus, id2word=dictionary, num_topics=num_topics)"
   ]
  },
  {
   "cell_type": "code",
   "execution_count": 26,
   "metadata": {},
   "outputs": [
    {
     "data": {
      "text/plain": [
       "[(0,\n",
       "  '0.075*\"black\" + 0.054*\"vintag\" + 0.047*\"pickguard\" + 0.032*\"modifi\" + 0.027*\"usag\" + 0.026*\"great\" + 0.024*\"squir\" + 0.023*\"pickup\" + 0.021*\"logo\" + 0.020*\"white\"'),\n",
       " (1,\n",
       "  '0.112*\"pr\" + 0.062*\"smith\" + 0.057*\"reed\" + 0.048*\"paul\" + 0.039*\"guitar\" + 0.031*\"bird\" + 0.030*\"mccarti\" + 0.029*\"condit\" + 0.023*\"custom\" + 0.019*\"origin\"'),\n",
       " (2,\n",
       "  '0.066*\"neck\" + 0.036*\"mapl\" + 0.035*\"bridg\" + 0.030*\"bodi\" + 0.030*\"pickup\" + 0.026*\"wai\" + 0.024*\"tone\" + 0.024*\"nut\" + 0.020*\"schaller\" + 0.018*\"fret\"'),\n",
       " (3,\n",
       "  '0.051*\"guitar\" + 0.031*\"string\" + 0.030*\"schecter\" + 0.026*\"leather\" + 0.019*\"damien\" + 0.019*\"condit\" + 0.016*\"shini\" + 0.014*\"electr\" + 0.014*\"mainten\" + 0.014*\"black\"'),\n",
       " (4,\n",
       "  '0.062*\"bar\" + 0.054*\"whammi\" + 0.046*\"includ\" + 0.046*\"area\" + 0.036*\"ship\" + 0.026*\"film\" + 0.019*\"strap\" + 0.018*\"white\" + 0.017*\"cover\" + 0.016*\"larger\"'),\n",
       " (5,\n",
       "  '0.113*\"acoust\" + 0.064*\"guitar\" + 0.053*\"piezo\" + 0.040*\"electr\" + 0.039*\"steel\" + 0.036*\"broken\" + 0.033*\"fix\" + 0.030*\"repair\" + 0.026*\"work\" + 0.023*\"good\"'),\n",
       " (6,\n",
       "  '0.076*\"ye\" + 0.032*\"neck\" + 0.032*\"overal\" + 0.027*\"12”\" + 0.020*\"groundbreak\" + 0.019*\"bodi\" + 0.016*\"fret\" + 0.016*\"width\" + 0.015*\"mapl\" + 0.014*\"12th\"'),\n",
       " (7,\n",
       "  '0.068*\"mint\" + 0.057*\"guitar\" + 0.036*\"case\" + 0.034*\"mexican\" + 0.030*\"new\" + 0.028*\"loss\" + 0.024*\"epiphon\" + 0.023*\"samick\" + 0.020*\"month\" + 0.019*\"korea\"'),\n",
       " (8,\n",
       "  '0.087*\"guitar\" + 0.025*\"platinum\" + 0.021*\"life\" + 0.019*\"left\" + 0.018*\"clear\" + 0.018*\"paint\" + 0.017*\"chip\" + 0.017*\"coat\" + 0.016*\"face\" + 0.015*\"need\"'),\n",
       " (9,\n",
       "  '0.153*\"modifi\" + 0.047*\"squier\" + 0.042*\"vintag\" + 0.023*\"jazzmast\" + 0.023*\"secret\" + 0.017*\"laurel\" + 0.016*\"beneath\" + 0.016*\"duncan\" + 0.015*\"design\" + 0.012*\"neck\"'),\n",
       " (10,\n",
       "  '0.054*\"guitar\" + 0.037*\"upc\" + 0.028*\"5th\" + 0.017*\"1975\" + 0.017*\"electr\" + 0.015*\"lgx\" + 0.015*\"artisan\" + 0.014*\"pleasur\" + 0.014*\"plai\" + 0.013*\"you’v\"'),\n",
       " (11,\n",
       "  '0.033*\"invest\" + 0.027*\"monitor\" + 0.027*\"upgrad\" + 0.026*\"republ\" + 0.024*\"half\" + 0.022*\"new\" + 0.020*\"info\" + 0.020*\"correctli\" + 0.019*\"instead\" + 0.018*\"guitar\"'),\n",
       " (12,\n",
       "  '0.073*\"ship\" + 0.038*\"state\" + 0.031*\"lower\" + 0.027*\"fedex\" + 0.024*\"sku\" + 0.023*\"requir\" + 0.020*\"hour\" + 0.019*\"bid\" + 0.018*\"paypal\" + 0.016*\"except\"'),\n",
       " (13,\n",
       "  '0.177*\"2011\" + 0.068*\"heritag\" + 0.056*\"purpl\" + 0.037*\"cherri\" + 0.035*\"i’m\" + 0.027*\"kei\" + 0.026*\"guitar\" + 0.025*\"new\" + 0.023*\"case\" + 0.021*\"sell\"'),\n",
       " (14,\n",
       "  '0.131*\"white\" + 0.112*\"1994\" + 0.087*\"olymp\" + 0.028*\"real\" + 0.015*\"intend\" + 0.015*\"mighti\" + 0.014*\"subject\" + 0.014*\"trade\" + 0.014*\"inquir\" + 0.014*\"ship\"'),\n",
       " (15,\n",
       "  '0.137*\"2004\" + 0.109*\"2003\" + 0.102*\"rich\" + 0.034*\"guitar\" + 0.031*\"warlock\" + 0.024*\"case\" + 0.019*\"plai\" + 0.017*\"great\" + 0.014*\"condit\" + 0.014*\"good\"'),\n",
       " (16,\n",
       "  '0.083*\"guitar\" + 0.032*\"enjoi\" + 0.020*\"toi\" + 0.016*\"electr\" + 0.016*\"case\" + 0.015*\"g5120\" + 0.013*\"plai\" + 0.013*\"minut\" + 0.012*\"colleg\" + 0.011*\"1989\"'),\n",
       " (17,\n",
       "  '0.035*\"guitar\" + 0.019*\"strength\" + 0.014*\"6120\" + 0.013*\"pickup\" + 0.013*\"nighthawk\" + 0.012*\"takamin\" + 0.012*\"top\" + 0.012*\"sculpt\" + 0.011*\"unusu\" + 0.010*\"compet\"'),\n",
       " (18,\n",
       "  '0.190*\"1984\" + 0.106*\"zone\" + 0.090*\"rhythm\" + 0.021*\"guitar\" + 0.021*\"lead\" + 0.014*\"neck\" + 0.013*\"ship\" + 0.012*\"pickup\" + 0.012*\"“c”\" + 0.010*\"fender\"'),\n",
       " (19,\n",
       "  '0.156*\"estat\" + 0.129*\"scrape\" + 0.110*\"planet\" + 0.053*\"accord\" + 0.051*\"repres\" + 0.036*\"wave\" + 0.030*\"purpos\" + 0.026*\"regret\" + 0.024*\"luxuri\" + 0.016*\"risk\"'),\n",
       " (20,\n",
       "  '0.466*\"2006\" + 0.049*\"har\" + 0.049*\"desert\" + 0.035*\"wire\" + 0.029*\"epiphon\" + 0.028*\"guitar\" + 0.026*\"pro\" + 0.021*\"hard\" + 0.019*\"tulip\" + 0.018*\"loud\"'),\n",
       " (21,\n",
       "  '0.184*\"silver\" + 0.125*\"probabl\" + 0.122*\"sparkl\" + 0.097*\"don’t\" + 0.073*\"anymor\" + 0.033*\"guitar\" + 0.032*\"plai\" + 0.031*\"got\" + 0.022*\"know\" + 0.017*\"find\"'),\n",
       " (22,\n",
       "  '0.062*\"ax\" + 0.054*\"zero\" + 0.048*\"fast\" + 0.045*\"solidbodi\" + 0.035*\"guitar\" + 0.032*\"precis\" + 0.025*\"plai\" + 0.025*\"built\" + 0.024*\"shredder\" + 0.022*\"playabl\"'),\n",
       " (23,\n",
       "  '0.252*\"esp\" + 0.068*\"guitar\" + 0.035*\"1000\" + 0.022*\"delux\" + 0.018*\"electr\" + 0.017*\"black\" + 0.016*\"plai\" + 0.015*\"that’\" + 0.013*\"condit\" + 0.011*\"bodi\"'),\n",
       " (24,\n",
       "  '0.240*\"2012\" + 0.067*\"gibson\" + 0.052*\"authent\" + 0.051*\"339\" + 0.044*\"custom\" + 0.033*\"certif\" + 0.032*\"memphi\" + 0.025*\"case\" + 0.024*\"guitar\" + 0.021*\"origin\"'),\n",
       " (25,\n",
       "  '0.073*\"weekend\" + 0.071*\"est\" + 0.042*\"happi\" + 0.038*\"send\" + 0.036*\"wish\" + 0.032*\"messag\" + 0.027*\"ebai\" + 0.026*\"includ\" + 0.024*\"1989\" + 0.023*\"answer\"'),\n",
       " (26,\n",
       "  '0.204*\"2007\" + 0.044*\"guitar\" + 0.043*\"care\" + 0.033*\"harmoni\" + 0.026*\"taken\" + 0.025*\"studi\" + 0.023*\"parker\" + 0.023*\"origin\" + 0.020*\"vintag\" + 0.016*\"believ\"'),\n",
       " (27,\n",
       "  '0.077*\"ship\" + 0.072*\"calcul\" + 0.061*\"zip\" + 0.045*\"code\" + 0.040*\"quot\" + 0.027*\"actual\" + 0.025*\"resid\" + 0.023*\"retail\" + 0.022*\"primari\" + 0.021*\"photo\"'),\n",
       " (28,\n",
       "  '0.024*\"tone\" + 0.021*\"guitar\" + 0.016*\"sound\" + 0.014*\"pickup\" + 0.011*\"control\" + 0.010*\"trebl\" + 0.008*\"stereo\" + 0.008*\"expertli\" + 0.007*\"neck\" + 0.007*\"amplifi\"'),\n",
       " (29,\n",
       "  '0.174*\"pr\" + 0.054*\"mahogani\" + 0.025*\"wide\" + 0.025*\"custom\" + 0.024*\"gig\" + 0.024*\"pickup\" + 0.023*\"bag\" + 0.022*\"guitar\" + 0.020*\"245\" + 0.019*\"mapl\"'),\n",
       " (30,\n",
       "  '0.150*\"washburn\" + 0.092*\"1995\" + 0.044*\"origin\" + 0.040*\"case\" + 0.036*\"jone\" + 0.030*\"guitar\" + 0.026*\"tennesse\" + 0.026*\"stain\" + 0.025*\"condit\" + 0.021*\"atkin\"'),\n",
       " (31,\n",
       "  '0.110*\"opinion\" + 0.055*\"truck\" + 0.040*\"eastwood\" + 0.038*\"tortois\" + 0.038*\"lover\" + 0.035*\"seth\" + 0.035*\"airlin\" + 0.034*\"retro\" + 0.029*\"larg\" + 0.021*\"pickup\"'),\n",
       " (32,\n",
       "  '0.072*\"elit\" + 0.026*\"guitar\" + 0.021*\"american\" + 0.021*\"1959\" + 0.021*\"familiar\" + 0.020*\"easier\" + 0.019*\"person\" + 0.019*\"fourth\" + 0.018*\"hagstrom\" + 0.017*\"tone\"'),\n",
       " (33,\n",
       "  '0.031*\"account\" + 0.027*\"store\" + 0.025*\"ebai\" + 0.020*\"paypal\" + 0.019*\"pawn\" + 0.018*\"music\" + 0.016*\"onlin\" + 0.016*\"ship\" + 0.016*\"item\" + 0.016*\"instrument\"'),\n",
       " (34,\n",
       "  '0.244*\"incur\" + 0.183*\"fan\" + 0.060*\"young\" + 0.054*\"glossi\" + 0.030*\"angu\" + 0.028*\"cheaper\" + 0.015*\"humbuckerscontrol\" + 0.012*\"ship\" + 0.012*\"302\" + 0.009*\"777\"'),\n",
       " (35,\n",
       "  '0.095*\"jack\" + 0.083*\"metal\" + 0.076*\"flake\" + 0.049*\"figur\" + 0.038*\"abl\" + 0.033*\"guitar\" + 0.028*\"mirror\" + 0.022*\"crystal\" + 0.021*\"downsiz\" + 0.016*\"awhil\"'),\n",
       " (36,\n",
       "  '0.066*\"mod\" + 0.057*\"paislei\" + 0.052*\"charvel\" + 0.037*\"cal\" + 0.023*\"neck\" + 0.022*\"goe\" + 0.019*\"frost\" + 0.019*\"scheme\" + 0.018*\"frt\" + 0.018*\"pro\"'),\n",
       " (37,\n",
       "  '0.087*\"nov\" + 0.055*\"forgot\" + 0.030*\"loosen\" + 0.029*\"excess\" + 0.023*\"dress\" + 0.021*\"ship\" + 0.020*\"need\" + 0.017*\"pdt\" + 0.016*\"sorri\" + 0.015*\"mention\"'),\n",
       " (38,\n",
       "  '0.050*\"tsa\" + 0.029*\"reset\" + 0.025*\"guitar\" + 0.024*\"approv\" + 0.020*\"soul\" + 0.019*\"april\" + 0.017*\"ship\" + 0.014*\"peerless\" + 0.013*\"outrag\" + 0.012*\"spider\"'),\n",
       " (39,\n",
       "  '0.117*\"hollow\" + 0.089*\"semi\" + 0.033*\"bodi\" + 0.028*\"thinlin\" + 0.028*\"center\" + 0.026*\"pickup\" + 0.026*\"hollowbodi\" + 0.025*\"guitar\" + 0.016*\"block\" + 0.016*\"bigsbi\"'),\n",
       " (40,\n",
       "  '0.261*\"fender\" + 0.207*\"stratocast\" + 0.066*\"mexico\" + 0.064*\"2015\" + 0.034*\"ship\" + 0.029*\"case\" + 0.022*\"electr\" + 0.022*\"guitar\" + 0.017*\"question\" + 0.015*\"come\"'),\n",
       " (41,\n",
       "  '0.078*\"pro\" + 0.041*\"brian\" + 0.028*\"lockton\" + 0.026*\"guitar\" + 0.023*\"probuck\" + 0.022*\"epiphon\" + 0.019*\"coil\" + 0.018*\"composit\" + 0.016*\"juli\" + 0.016*\"moor\"'),\n",
       " (42,\n",
       "  '0.025*\"ship\" + 0.023*\"country’\" + 0.022*\"buyer’\" + 0.021*\"cosmet\" + 0.021*\"mansoor\" + 0.021*\"juggernaut\" + 0.021*\"trackabl\" + 0.018*\"item\" + 0.015*\"misha\" + 0.013*\"charg\"'),\n",
       " (43,\n",
       "  '0.054*\"2019\" + 0.049*\"stealth\" + 0.049*\"1970\" + 0.036*\"guitar\" + 0.036*\"robert\" + 0.032*\"fusion\" + 0.026*\"sai\" + 0.025*\"electr\" + 0.025*\"lotu\" + 0.018*\"shim\"'),\n",
       " (44,\n",
       "  '0.170*\"pick\" + 0.133*\"guard\" + 0.045*\"guitar\" + 0.029*\"foreign\" + 0.024*\"origin\" + 0.020*\"firebird\" + 0.016*\"ship\" + 0.016*\"improv\" + 0.015*\"butter\" + 0.013*\"bag\"'),\n",
       " (45,\n",
       "  '0.004*\"ship\" + 0.003*\"neck\" + 0.003*\"fender\" + 0.003*\"item\" + 0.002*\"condit\" + 0.002*\"guitar\" + 0.001*\"refret\" + 0.001*\"price\" + 0.001*\"good\" + 0.001*\"strat\"'),\n",
       " (46,\n",
       "  '0.065*\"kelli\" + 0.036*\"phoenix\" + 0.032*\"roller\" + 0.025*\"neck\" + 0.022*\"michael\" + 0.022*\"bridg\" + 0.022*\"garag\" + 0.022*\"valuabl\" + 0.020*\"lava\" + 0.019*\"patriot\"'),\n",
       " (47,\n",
       "  '0.240*\"ash\" + 0.070*\"natur\" + 0.045*\"swamp\" + 0.036*\"explor\" + 0.033*\"korina\" + 0.025*\"jimmi\" + 0.025*\"bodi\" + 0.023*\"case\" + 0.021*\"origin\" + 0.021*\"guitar\"'),\n",
       " (48,\n",
       "  '0.285*\"2000\" + 0.121*\"p90\" + 0.032*\"agil\" + 0.029*\"guitar\" + 0.025*\"thanksgiv\" + 0.017*\"orang\" + 0.011*\"case\" + 0.011*\"ship\" + 0.010*\"120\" + 0.010*\"peel\"'),\n",
       " (49,\n",
       "  '0.060*\"gibson\" + 0.053*\"le\" + 0.052*\"paul\" + 0.018*\"coil\" + 0.017*\"mahogani\" + 0.017*\"tuner\" + 0.016*\"grover\" + 0.015*\"guitar\" + 0.014*\"split\" + 0.014*\"studio\"'),\n",
       " (50,\n",
       "  '0.099*\"soft\" + 0.039*\"perform\" + 0.038*\"compani\" + 0.025*\"hope\" + 0.024*\"guitar\" + 0.022*\"particular\" + 0.019*\"electr\" + 0.018*\"item\" + 0.018*\"pacifica\" + 0.018*\"fragil\"'),\n",
       " (51,\n",
       "  '0.152*\"2017\" + 0.080*\"burst\" + 0.049*\"condit\" + 0.039*\"lightli\" + 0.035*\"guitar\" + 0.033*\"ship\" + 0.033*\"good\" + 0.031*\"excel\" + 0.019*\"lower\" + 0.019*\"horn\"'),\n",
       " (52,\n",
       "  '0.076*\"guitar\" + 0.052*\"nice\" + 0.041*\"great\" + 0.040*\"plai\" + 0.037*\"condit\" + 0.028*\"sound\" + 0.027*\"look\" + 0.025*\"epiphon\" + 0.025*\"repair\" + 0.023*\"electr\"'),\n",
       " (53,\n",
       "  '0.172*\"left\" + 0.151*\"hand\" + 0.105*\"2009\" + 0.069*\"fade\" + 0.038*\"lefti\" + 0.031*\"guitar\" + 0.017*\"lpj\" + 0.015*\"condit\" + 0.014*\"great\" + 0.014*\"includ\"'),\n",
       " (54,\n",
       "  '0.051*\"pot\" + 0.043*\"inch\" + 0.038*\"lot\" + 0.037*\"bout\" + 0.033*\"replac\" + 0.031*\"good\" + 0.031*\"guitar\" + 0.031*\"kramer\" + 0.030*\"nut\" + 0.028*\"case\"'),\n",
       " (55,\n",
       "  '0.106*\"board\" + 0.053*\"steinberg\" + 0.039*\"photograph\" + 0.038*\"guitar\" + 0.030*\"spirit\" + 0.025*\"fret\" + 0.023*\"bag\" + 0.020*\"gig\" + 0.019*\"cheaper\" + 0.018*\"condit\"'),\n",
       " (56,\n",
       "  '0.103*\"red\" + 0.075*\"gener\" + 0.068*\"good\" + 0.064*\"wine\" + 0.050*\"guitar\" + 0.040*\"pearl\" + 0.036*\"older\" + 0.034*\"condit\" + 0.031*\"electr\" + 0.021*\"luck\"'),\n",
       " (57,\n",
       "  '0.049*\"lamin\" + 0.040*\"ivori\" + 0.038*\"mass\" + 0.030*\"ply\" + 0.021*\"neck\" + 0.020*\"fingerboard\" + 0.020*\"nubon\" + 0.019*\"mapl\" + 0.018*\"skin\" + 0.016*\"pearloid\"'),\n",
       " (58,\n",
       "  '0.051*\"recent\" + 0.038*\"guitar\" + 0.034*\"swirl\" + 0.025*\"condit\" + 0.025*\"set\" + 0.025*\"case\" + 0.022*\"wrench\" + 0.016*\"excel\" + 0.016*\"string\" + 0.015*\"pick\"'),\n",
       " (59,\n",
       "  '0.076*\"guitar\" + 0.050*\"upgrad\" + 0.039*\"tuner\" + 0.036*\"nice\" + 0.034*\"sound\" + 0.031*\"pickup\" + 0.029*\"great\" + 0.021*\"set\" + 0.020*\"100\" + 0.019*\"plai\"'),\n",
       " (60,\n",
       "  '0.296*\"custom\" + 0.147*\"shop\" + 0.028*\"guitar\" + 0.022*\"histor\" + 0.022*\"usa\" + 0.021*\"new\" + 0.016*\"plai\" + 0.015*\"fat\" + 0.014*\"sold\" + 0.014*\"great\"'),\n",
       " (61,\n",
       "  '0.226*\"gold\" + 0.061*\"travel\" + 0.057*\"hardwar\" + 0.029*\"plate\" + 0.023*\"guitar\" + 0.022*\"custom\" + 0.018*\"silverburst\" + 0.018*\"style\" + 0.017*\"fantast\" + 0.014*\"origin\"'),\n",
       " (62,\n",
       "  '0.096*\"edit\" + 0.058*\"limit\" + 0.044*\"special\" + 0.037*\"custom\" + 0.021*\"humbuck\" + 0.017*\"tkl\" + 0.016*\"duncan\" + 0.016*\"fmt\" + 0.014*\"gate\" + 0.013*\"paint\"'),\n",
       " (63,\n",
       "  '0.139*\"citi\" + 0.097*\"matt\" + 0.092*\"aftermarket\" + 0.048*\"100th\" + 0.037*\"regardless\" + 0.032*\"2015\" + 0.028*\"toggl\" + 0.025*\"famili\" + 0.024*\"christma\" + 0.023*\"birthdai\"'),\n",
       " (64,\n",
       "  '0.071*\"babi\" + 0.071*\"gator\" + 0.063*\"asat\" + 0.052*\"dunlop\" + 0.048*\"guitar\" + 0.045*\"strap\" + 0.040*\"smith\" + 0.026*\"bluesboi\" + 0.021*\"tribut\" + 0.021*\"straplock\"'),\n",
       " (65,\n",
       "  '0.055*\"2017\" + 0.053*\"mustang\" + 0.023*\"g5420t\" + 0.022*\"guitar\" + 0.022*\"short\" + 0.022*\"scale\" + 0.021*\"singl\" + 0.019*\"offset\" + 0.017*\"reduc\" + 0.015*\"bodi\"'),\n",
       " (66,\n",
       "  '0.039*\"predat\" + 0.038*\"guitar\" + 0.017*\"ship\" + 0.016*\"dig\" + 0.014*\"snakebyt\" + 0.013*\"brent\" + 0.013*\"condit\" + 0.013*\"influenc\" + 0.012*\"stk\" + 0.012*\"pickup\"'),\n",
       " (67,\n",
       "  '0.081*\"yamaha\" + 0.069*\"spend\" + 0.057*\"guitar\" + 0.040*\"ultim\" + 0.030*\"purpos\" + 0.016*\"bring\" + 0.015*\"entir\" + 0.014*\"final\" + 0.014*\"creat\" + 0.013*\"depict\"'),\n",
       " (68,\n",
       "  '0.035*\"accommod\" + 0.030*\"guitar\" + 0.027*\"silverton\" + 0.025*\"michigan\" + 0.023*\"outer\" + 0.022*\"toni\" + 0.021*\"iommi\" + 0.018*\"origin\" + 0.017*\"acquir\" + 0.017*\"kalamazoo\"'),\n",
       " (69,\n",
       "  '0.340*\"minu\" + 0.165*\"sienna\" + 0.039*\"mira\" + 0.011*\"ship\" + 0.010*\"desper\" + 0.008*\"pickup\" + 0.007*\"bodi\" + 0.006*\"item\" + 0.005*\"guitar\" + 0.005*\"includ\"'),\n",
       " (70,\n",
       "  '0.101*\"shot\" + 0.065*\"decid\" + 0.061*\"mention\" + 0.034*\"guitar\" + 0.032*\"know\" + 0.031*\"flaw\" + 0.024*\"figur\" + 0.020*\"area\" + 0.019*\"ask\" + 0.017*\"question\"'),\n",
       " (71,\n",
       "  '0.038*\"slash\" + 0.024*\"gibson\" + 0.023*\"finish\" + 0.022*\"paul\" + 0.021*\"le\" + 0.019*\"eat\" + 0.019*\"guitar\" + 0.016*\"minut\" + 0.013*\"eman\" + 0.013*\"ship\"'),\n",
       " (72,\n",
       "  '0.075*\"extrem\" + 0.067*\"1983\" + 0.063*\"father\" + 0.048*\"omen\" + 0.041*\"creme\" + 0.041*\"rais\" + 0.039*\"indonesia\" + 0.033*\"guitar\" + 0.032*\"rosewoodfret\" + 0.030*\"cutawai\"'),\n",
       " (73,\n",
       "  '0.030*\"kirk\" + 0.029*\"disc\" + 0.028*\"wood\" + 0.022*\"type\" + 0.020*\"fret\" + 0.020*\"solid\" + 0.018*\"hammett\" + 0.015*\"shape\" + 0.014*\"guitar\" + 0.014*\"glendal\"'),\n",
       " (74,\n",
       "  '0.053*\"near\" + 0.043*\"factori\" + 0.037*\"caviti\" + 0.031*\"2nd\" + 0.030*\"pic\" + 0.022*\"refinish\" + 0.021*\"dhl\" + 0.016*\"condit\" + 0.016*\"bodi\" + 0.015*\"rout\"'),\n",
       " (75,\n",
       "  '0.097*\"screw\" + 0.053*\"1960\" + 0.027*\"guitar\" + 0.025*\"work\" + 0.024*\"replac\" + 0.024*\"part\" + 0.023*\"need\" + 0.021*\"peg\" + 0.018*\"miss\" + 0.017*\"remov\"'),\n",
       " (76,\n",
       "  '0.093*\"ship\" + 0.045*\"address\" + 0.041*\"physic\" + 0.032*\"hawaii\" + 0.031*\"5pm\" + 0.031*\"alaska\" + 0.030*\"need\" + 0.029*\"respond\" + 0.027*\"addit\" + 0.027*\"stand\"'),\n",
       " (77,\n",
       "  '0.043*\"1981\" + 0.034*\"neck\" + 0.031*\"guitar\" + 0.031*\"yellow\" + 0.022*\"bind\" + 0.022*\"mahogani\" + 0.021*\"abalon\" + 0.018*\"layer\" + 0.018*\"intact\" + 0.017*\"origin\"'),\n",
       " (78,\n",
       "  '0.099*\"vibe\" + 0.082*\"classic\" + 0.039*\"zakk\" + 0.031*\"wyld\" + 0.026*\"style\" + 0.026*\"guitar\" + 0.025*\"neck\" + 0.022*\"invis\" + 0.020*\"vintag\" + 0.020*\"brazilian\"'),\n",
       " (79,\n",
       "  '0.109*\"jazzmast\" + 0.086*\"classic\" + 0.044*\"fender\" + 0.034*\"player\" + 0.033*\"pickup\" + 0.030*\"special\" + 0.028*\"4th\" + 0.023*\"bridg\" + 0.022*\"style\" + 0.020*\"neck\"'),\n",
       " (80,\n",
       "  '0.186*\"john\" + 0.121*\"petrucci\" + 0.049*\"musicman\" + 0.033*\"majesti\" + 0.028*\"street\" + 0.020*\"custom\" + 0.019*\"dream\" + 0.018*\"guitar\" + 0.016*\"jp6\" + 0.016*\"austin\"'),\n",
       " (81,\n",
       "  '0.088*\"rod\" + 0.078*\"truss\" + 0.040*\"scratch\" + 0.037*\"neck\" + 0.032*\"dent\" + 0.030*\"fret\" + 0.027*\"guitar\" + 0.026*\"function\" + 0.025*\"electron\" + 0.019*\"rear\"'),\n",
       " (82,\n",
       "  '0.059*\"look\" + 0.053*\"pictur\" + 0.053*\"guitar\" + 0.041*\"sure\" + 0.034*\"check\" + 0.027*\"question\" + 0.025*\"ecommerc\" + 0.021*\"love\" + 0.019*\"consid\" + 0.017*\"bid\"'),\n",
       " (83,\n",
       "  '0.154*\"program\" + 0.084*\"global\" + 0.046*\"space\" + 0.036*\"deep\" + 0.034*\"stock\" + 0.033*\"head\" + 0.028*\"ask\" + 0.020*\"correct\" + 0.018*\"ship\" + 0.017*\"tremonti\"'),\n",
       " (84,\n",
       "  '0.059*\"sonic\" + 0.038*\"duo\" + 0.031*\"ahead\" + 0.022*\"humbuck\" + 0.020*\"high\" + 0.018*\"rock\" + 0.018*\"guitar\" + 0.017*\"neck\" + 0.016*\"rang\" + 0.015*\"enforc\"'),\n",
       " (85,\n",
       "  '0.084*\"pickup\" + 0.071*\"posit\" + 0.053*\"bridg\" + 0.036*\"middl\" + 0.030*\"neck\" + 0.023*\"pedal\" + 0.019*\"tone\" + 0.017*\"fender\" + 0.013*\"switch\" + 0.013*\"guitar\"'),\n",
       " (86,\n",
       "  '0.091*\"fujigen\" + 0.086*\"heavier\" + 0.067*\"here’\" + 0.061*\"will\" + 0.055*\"evid\" + 0.045*\"marri\" + 0.043*\"sapphir\" + 0.032*\"guitar\" + 0.029*\"engrav\" + 0.028*\"22nd\"'),\n",
       " (87,\n",
       "  '0.035*\"stamp\" + 0.034*\"stop\" + 0.032*\"involv\" + 0.028*\"punish\" + 0.025*\"gibson\" + 0.025*\"bound\" + 0.025*\"inlai\" + 0.017*\"round\" + 0.017*\"bring\" + 0.016*\"neck\"'),\n",
       " (88,\n",
       "  '0.056*\"attract\" + 0.054*\"330\" + 0.046*\"outfit\" + 0.034*\"lacquer\" + 0.033*\"spot\" + 0.032*\"guitar\" + 0.024*\"worst\" + 0.016*\"look\" + 0.016*\"535\" + 0.016*\"exot\"'),\n",
       " (89,\n",
       "  '0.056*\"guitar\" + 0.054*\"stripe\" + 0.039*\"art\" + 0.019*\"seri\" + 0.017*\"solidbodi\" + 0.016*\"tone\" + 0.015*\"weather\" + 0.015*\"aspect\" + 0.014*\"bomb\" + 0.013*\"electr\"'),\n",
       " (90,\n",
       "  '0.282*\"apolog\" + 0.147*\"scratchi\" + 0.090*\"guess\" + 0.028*\"splatter\" + 0.018*\"frett\" + 0.013*\"ship\" + 0.010*\"guitar\" + 0.009*\"buzz\" + 0.009*\"impuls\" + 0.008*\"item\"'),\n",
       " (91,\n",
       "  '0.256*\"legaci\" + 0.211*\"futur\" + 0.209*\"properli\" + 0.031*\"earli\" + 0.019*\"pick\" + 0.013*\"lux\" + 0.012*\"guitar\" + 0.010*\"chanc\" + 0.010*\"remov\" + 0.007*\"work\"'),\n",
       " (92,\n",
       "  '0.117*\"hard\" + 0.115*\"case\" + 0.094*\"guitar\" + 0.049*\"shell\" + 0.046*\"condit\" + 0.035*\"electr\" + 0.034*\"string\" + 0.034*\"come\" + 0.029*\"miss\" + 0.025*\"photo\"'),\n",
       " (93,\n",
       "  '0.065*\"gibson\" + 0.043*\"run\" + 0.041*\"le\" + 0.040*\"paul\" + 0.038*\"studio\" + 0.026*\"nitro\" + 0.020*\"neck\" + 0.020*\"finish\" + 0.020*\"burstbuck\" + 0.017*\"limit\"'),\n",
       " (94,\n",
       "  '0.100*\"1987\" + 0.080*\"gentli\" + 0.074*\"sit\" + 0.049*\"300\" + 0.049*\"pit\" + 0.039*\"went\" + 0.025*\"bag\" + 0.024*\"oct\" + 0.023*\"gig\" + 0.022*\"plai\"'),\n",
       " (95,\n",
       "  '0.114*\"chosen\" + 0.039*\"hous\" + 0.034*\"wouldn\" + 0.033*\"comment\" + 0.027*\"8lb\" + 0.025*\"floor\" + 0.021*\"tast\" + 0.019*\"guitar\" + 0.018*\"desol\" + 0.014*\"breedlov\"'),\n",
       " (96,\n",
       "  '0.065*\"craftsmanship\" + 0.060*\"benefit\" + 0.034*\"abandon\" + 0.024*\"guitar\" + 0.019*\"divis\" + 0.018*\"industri\" + 0.017*\"pickup\" + 0.015*\"organ\" + 0.015*\"overlai\" + 0.013*\"lollar\"'),\n",
       " (97,\n",
       "  '0.097*\"basswoodneck\" + 0.006*\"mapl\" + 0.005*\"item\" + 0.005*\"pickup\" + 0.005*\"ibanez\" + 0.005*\"guitar\" + 0.004*\"basswood\" + 0.004*\"scratch\" + 0.003*\"pictur\" + 0.003*\"good\"'),\n",
       " (98,\n",
       "  '0.327*\"jackson\" + 0.055*\"dinki\" + 0.043*\"black\" + 0.027*\"pickup\" + 0.024*\"string\" + 0.024*\"snow\" + 0.023*\"guitar\" + 0.019*\"neck\" + 0.019*\"white\" + 0.019*\"compound\"'),\n",
       " (99,\n",
       "  '0.150*\"2014\" + 0.064*\"guitar\" + 0.041*\"anniversari\" + 0.031*\"plai\" + 0.028*\"60th\" + 0.026*\"teisco\" + 0.022*\"vintag\" + 0.013*\"electr\" + 0.013*\"corner\" + 0.013*\"look\"'),\n",
       " (100,\n",
       "  '0.060*\"pup\" + 0.039*\"photographi\" + 0.038*\"mile\" + 0.036*\"guitar\" + 0.032*\"clarif\" + 0.016*\"dk24\" + 0.016*\"striker\" + 0.015*\"neck\" + 0.013*\"bodi\" + 0.011*\"ghost\"'),\n",
       " (101,\n",
       "  '0.097*\"bass\" + 0.093*\"decor\" + 0.055*\"guitar\" + 0.051*\"plug\" + 0.038*\"electr\" + 0.035*\"roland\" + 0.024*\"acoust\" + 0.021*\"pin\" + 0.021*\"synth\" + 0.019*\"virtual\"'),\n",
       " (102,\n",
       "  '0.143*\"explor\" + 0.075*\"upload\" + 0.032*\"neck\" + 0.025*\"born\" + 0.023*\"core\" + 0.021*\"mahogani\" + 0.020*\"bodi\" + 0.016*\"gibson\" + 0.016*\"shelf\" + 0.013*\"guitar\"'),\n",
       " (103,\n",
       "  '0.073*\"item\" + 0.026*\"crack\" + 0.024*\"ship\" + 0.023*\"test\" + 0.022*\"auction\" + 0.020*\"photo\" + 0.019*\"guitar\" + 0.018*\"pictur\" + 0.018*\"right\" + 0.017*\"walk\"'),\n",
       " (104,\n",
       "  '0.186*\"tobacco\" + 0.154*\"insid\" + 0.067*\"singlecut\" + 0.050*\"sunburst\" + 0.049*\"autograph\" + 0.029*\"case\" + 0.027*\"holder\" + 0.025*\"felt\" + 0.023*\"past\" + 0.022*\"seam\"'),\n",
       " (105,\n",
       "  '0.302*\"reflect\" + 0.151*\"aveng\" + 0.107*\"commit\" + 0.022*\"guitar\" + 0.017*\"electr\" + 0.015*\"drab\" + 0.010*\"ship\" + 0.009*\"provid\" + 0.007*\"item\" + 0.007*\"sparkli\"'),\n",
       " (106,\n",
       "  '0.106*\"peel\" + 0.096*\"burden\" + 0.055*\"movi\" + 0.047*\"life\" + 0.031*\"hardcas\" + 0.022*\"ship\" + 0.020*\"item\" + 0.017*\"shop\" + 0.013*\"allpart\" + 0.013*\"small\"'),\n",
       " (107,\n",
       "  '0.135*\"fals\" + 0.052*\"decent\" + 0.045*\"teardrop\" + 0.042*\"1968\" + 0.025*\"corros\" + 0.022*\"absolut\" + 0.020*\"rr24\" + 0.019*\"guitar\" + 0.019*\"rusti\" + 0.016*\"reveal\"'),\n",
       " (108,\n",
       "  '0.199*\"4500\" + 0.141*\"beefi\" + 0.045*\"dawsonvil\" + 0.022*\"rg370dx\" + 0.015*\"green\" + 0.014*\"fluoresc\" + 0.012*\"guitar\" + 0.010*\"2volum\" + 0.008*\"ship\" + 0.007*\"neck\"'),\n",
       " (109,\n",
       "  '0.059*\"guitar\" + 0.057*\"reissu\" + 0.042*\"plai\" + 0.039*\"blond\" + 0.032*\"ago\" + 0.030*\"danelectro\" + 0.028*\"bought\" + 0.025*\"origin\" + 0.024*\"great\" + 0.023*\"new\"'),\n",
       " (110,\n",
       "  '0.137*\"1996\" + 0.068*\"nois\" + 0.042*\"crack\" + 0.035*\"guitar\" + 0.030*\"great\" + 0.028*\"dull\" + 0.022*\"arm\" + 0.021*\"mim\" + 0.019*\"fender\" + 0.019*\"polish\"'),\n",
       " (111,\n",
       "  '0.066*\"visit\" + 0.038*\"number\" + 0.032*\"serial\" + 0.029*\"store\" + 0.027*\"fade\" + 0.026*\"japan\" + 0.025*\"neck\" + 0.025*\"difficult\" + 0.025*\"remain\" + 0.025*\"manufactur\"'),\n",
       " (112,\n",
       "  '0.104*\"2011\" + 0.092*\"1998\" + 0.090*\"contigu\" + 0.039*\"outsid\" + 0.038*\"numer\" + 0.029*\"bid\" + 0.025*\"cancel\" + 0.022*\"ship\" + 0.021*\"small\" + 0.019*\"guitar\"'),\n",
       " (113,\n",
       "  '0.107*\"proce\" + 0.063*\"perfectli\" + 0.061*\"power\" + 0.047*\"basic\" + 0.046*\"batteri\" + 0.044*\"suppli\" + 0.037*\"work\" + 0.033*\"refer\" + 0.024*\"includ\" + 0.021*\"cash\"'),\n",
       " (114,\n",
       "  '0.137*\"american\" + 0.064*\"hss\" + 0.044*\"standard\" + 0.042*\"fender\" + 0.041*\"guitar\" + 0.040*\"stratocast\" + 0.032*\"usa\" + 0.023*\"strongli\" + 0.020*\"ic\" + 0.019*\"condit\"'),\n",
       " (115,\n",
       "  '0.059*\"own\" + 0.051*\"guitar\" + 0.050*\"pre\" + 0.046*\"condit\" + 0.041*\"electr\" + 0.032*\"good\" + 0.024*\"wear\" + 0.024*\"sale\" + 0.021*\"detail\" + 0.019*\"photo\"'),\n",
       " (116,\n",
       "  '0.083*\"gigbag\" + 0.054*\"mini\" + 0.036*\"guitar\" + 0.032*\"hampton\" + 0.027*\"2012\" + 0.026*\"pickup\" + 0.026*\"moder\" + 0.022*\"indic\" + 0.020*\"wear\" + 0.020*\"neck\"'),\n",
       " (117,\n",
       "  '0.111*\"impress\" + 0.063*\"feet\" + 0.056*\"lee\" + 0.053*\"orang\" + 0.039*\"sss\" + 0.034*\"guitar\" + 0.027*\"450\" + 0.025*\"albert\" + 0.016*\"gibson\" + 0.012*\"plai\"'),\n",
       " (118,\n",
       "  '0.092*\"bariton\" + 0.040*\"cond\" + 0.037*\"blacktop\" + 0.033*\"70\" + 0.028*\"neck\" + 0.021*\"guitar\" + 0.020*\"exc\" + 0.020*\"pickup\" + 0.019*\"lowdown\" + 0.014*\"websit\"'),\n",
       " (119,\n",
       "  '0.053*\"job\" + 0.053*\"relic\" + 0.051*\"ag\" + 0.037*\"guitar\" + 0.031*\"fender\" + 0.027*\"neck\" + 0.025*\"look\" + 0.024*\"great\" + 0.024*\"strat\" + 0.021*\"bodi\"'),\n",
       " (120,\n",
       "  '0.212*\"warranti\" + 0.061*\"manufactur\" + 0.051*\"mpn\" + 0.032*\"alex\" + 0.032*\"incur\" + 0.029*\"glow\" + 0.029*\"stock\" + 0.019*\"defin\" + 0.016*\"impos\" + 0.015*\"icon\"'),\n",
       " (121,\n",
       "  '0.064*\"rich\" + 0.047*\"guitar\" + 0.043*\"mockingbird\" + 0.040*\"roadrunn\" + 0.026*\"covet\" + 0.020*\"neck\" + 0.017*\"endless\" + 0.015*\"megadeth\" + 0.013*\"pickup\" + 0.012*\"case\"'),\n",
       " (122,\n",
       "  '0.081*\"junk\" + 0.048*\"bubinga\" + 0.030*\"weston\" + 0.028*\"compact\" + 0.026*\"tempest\" + 0.021*\"sharpi\" + 0.019*\"stiff\" + 0.017*\"apocalyps\" + 0.015*\"guitar\" + 0.014*\"uncl\"'),\n",
       " (123,\n",
       "  '0.115*\"peavei\" + 0.108*\"2002\" + 0.102*\"usa\" + 0.044*\"guitar\" + 0.042*\"origin\" + 0.027*\"condit\" + 0.023*\"case\" + 0.023*\"red\" + 0.020*\"paperwork\" + 0.020*\"hello\"'),\n",
       " (124,\n",
       "  '0.037*\"ask\" + 0.036*\"guitar\" + 0.032*\"ship\" + 0.032*\"g2655t\" + 0.030*\"question\" + 0.029*\"aria\" + 0.026*\"free\" + 0.023*\"condit\" + 0.022*\"feel\" + 0.021*\"work\"'),\n",
       " (125,\n",
       "  '0.050*\"mahogani\" + 0.043*\"esp\" + 0.041*\"duncan\" + 0.030*\"seymour\" + 0.028*\"construct\" + 0.026*\"neck\" + 0.026*\"guitar\" + 0.025*\"vol\" + 0.020*\"set\" + 0.020*\"lock\"'),\n",
       " (126,\n",
       "  '0.433*\"src\" + 0.076*\"super\" + 0.072*\"axi\" + 0.068*\"sport\" + 0.038*\"discount\" + 0.029*\"user\" + 0.017*\"crook\" + 0.010*\"carpent\" + 0.007*\"str\" + 0.007*\"decidedli\"'),\n",
       " (127,\n",
       "  '0.073*\"floyd\" + 0.070*\"rose\" + 0.049*\"jackson\" + 0.032*\"neck\" + 0.029*\"tremolo\" + 0.024*\"lock\" + 0.022*\"seri\" + 0.022*\"pickup\" + 0.020*\"bodi\" + 0.018*\"duncan\"'),\n",
       " (128,\n",
       "  '0.106*\"green\" + 0.029*\"guitar\" + 0.029*\"road\" + 0.028*\"surf\" + 0.022*\"fender\" + 0.021*\"dead\" + 0.020*\"runner\" + 0.019*\"2017\" + 0.018*\"area\" + 0.018*\"pickguard\"'),\n",
       " (129,\n",
       "  '0.186*\"copi\" + 0.076*\"courier\" + 0.073*\"island\" + 0.045*\"seen\" + 0.044*\"germani\" + 0.043*\"vintag\" + 0.036*\"knock\" + 0.033*\"guitar\" + 0.029*\"unsur\" + 0.027*\"relat\"'),\n",
       " (130,\n",
       "  '0.038*\"japan\" + 0.037*\"item\" + 0.036*\"charg\" + 0.036*\"ship\" + 0.025*\"condit\" + 0.017*\"dai\" + 0.017*\"em\" + 0.017*\"includ\" + 0.014*\"addit\" + 0.014*\"duti\"'),\n",
       " (131,\n",
       "  '0.046*\"arizona\" + 0.029*\"neck\" + 0.027*\"pickup\" + 0.026*\"moon\" + 0.024*\"pole\" + 0.022*\"blond\" + 0.022*\"tolex\" + 0.021*\"fret\" + 0.015*\"cb\" + 0.014*\"bodi\"'),\n",
       " (132,\n",
       "  '0.094*\"maker\" + 0.076*\"melodi\" + 0.051*\"50\" + 0.033*\"smell\" + 0.021*\"remark\" + 0.013*\"neck\" + 0.012*\"thumb\" + 0.011*\"guitar\" + 0.011*\"facilit\" + 0.011*\"origin\"'),\n",
       " (133,\n",
       "  '0.097*\"1985\" + 0.080*\"rsquo\" + 0.051*\"mdash\" + 0.030*\"suprem\" + 0.022*\"neck\" + 0.021*\"black\" + 0.019*\"classic™\" + 0.018*\"fanci\" + 0.016*\"rush\" + 0.013*\"046\"'),\n",
       " (134,\n",
       "  '0.094*\"200\" + 0.069*\"book\" + 0.063*\"xii\" + 0.051*\"craft\" + 0.046*\"mint\" + 0.044*\"near\" + 0.040*\"black\" + 0.032*\"heal\" + 0.031*\"david\" + 0.028*\"press\"'),\n",
       " (135,\n",
       "  '0.087*\"paul\" + 0.087*\"le\" + 0.033*\"guitar\" + 0.027*\"junior\" + 0.017*\"wear\" + 0.016*\"kluson\" + 0.016*\"pickup\" + 0.015*\"mild\" + 0.014*\"flame\" + 0.012*\"fret\"'),\n",
       " (136,\n",
       "  '0.104*\"jaguar\" + 0.064*\"fender\" + 0.055*\"50th\" + 0.040*\"cabl\" + 0.026*\"tube\" + 0.022*\"anniversari\" + 0.015*\"guitar\" + 0.014*\"bit\" + 0.011*\"ship\" + 0.010*\"work\"'),\n",
       " (137,\n",
       "  '0.181*\"electromat\" + 0.168*\"viper\" + 0.161*\"tiger\" + 0.107*\"400\" + 0.062*\"bourbon\" + 0.021*\"esp\" + 0.017*\"guitar\" + 0.009*\"condit\" + 0.009*\"ship\" + 0.009*\"haul\"'),\n",
       " (138,\n",
       "  '0.034*\"neck\" + 0.026*\"bodi\" + 0.025*\"pickup\" + 0.022*\"mapl\" + 0.019*\"tone\" + 0.017*\"bridg\" + 0.014*\"featur\" + 0.014*\"humbuck\" + 0.012*\"custom\" + 0.011*\"fingerboard\"'),\n",
       " (139,\n",
       "  '0.966*\"amp\" + 0.004*\"style\" + 0.003*\"resourc\" + 0.003*\"imag\" + 0.001*\"com\" + 0.001*\"item\" + 0.001*\"ship\" + 0.001*\"condit\" + 0.001*\"pictur\" + 0.001*\"cosmet\"'),\n",
       " (140,\n",
       "  '0.425*\"1999\" + 0.216*\"dark\" + 0.078*\"00ship\" + 0.024*\"usa\" + 0.010*\"010\" + 0.009*\"case\" + 0.009*\"plai\" + 0.008*\"string\" + 0.008*\"guitar\" + 0.008*\"neck\"'),\n",
       " (141,\n",
       "  '0.075*\"jazz\" + 0.071*\"archtop\" + 0.069*\"nashvil\" + 0.059*\"tarnish\" + 0.034*\"format\" + 0.031*\"hate\" + 0.029*\"guitar\" + 0.020*\"490t\" + 0.019*\"ey\" + 0.019*\"eboni\"'),\n",
       " (142,\n",
       "  '0.083*\"60\" + 0.060*\"alpin\" + 0.056*\"pau\" + 0.053*\"ferro\" + 0.032*\"mint\" + 0.025*\"gaug\" + 0.024*\"violet\" + 0.023*\"pewter\" + 0.023*\"player\" + 0.020*\"pickup\"'),\n",
       " (143,\n",
       "  '0.089*\"econom\" + 0.042*\"rdquo\" + 0.018*\"guitar\" + 0.017*\"secret\" + 0.015*\"ldquo\" + 0.014*\"disclos\" + 0.013*\"ship\" + 0.012*\"neck\" + 0.012*\"agent\" + 0.010*\"345\"'),\n",
       " (144,\n",
       "  '0.294*\"signatur\" + 0.068*\"pattern\" + 0.062*\"indent\" + 0.041*\"suit\" + 0.033*\"mesa\" + 0.033*\"boogi\" + 0.029*\"guitar\" + 0.025*\"jame\" + 0.025*\"earthquak\" + 0.023*\"devic\"'),\n",
       " (145,\n",
       "  '0.278*\"ibanez\" + 0.092*\"guitar\" + 0.074*\"electr\" + 0.026*\"string\" + 0.024*\"grai\" + 0.023*\"transpar\" + 0.022*\"plai\" + 0.020*\"great\" + 0.019*\"ship\" + 0.017*\"condit\"'),\n",
       " (146,\n",
       "  '0.395*\"tribut\" + 0.094*\"smaller\" + 0.025*\"unexpect\" + 0.022*\"rrx24\" + 0.015*\"60\" + 0.014*\"ship\" + 0.013*\"finger\" + 0.011*\"guitar\" + 0.010*\"70\" + 0.010*\"apart\"'),\n",
       " (147,\n",
       "  '0.062*\"awesom\" + 0.055*\"exclus\" + 0.049*\"somebodi\" + 0.045*\"bold\" + 0.042*\"clean\" + 0.039*\"pickup\" + 0.025*\"trademark\" + 0.025*\"guitar\" + 0.025*\"sound\" + 0.018*\"killer\"'),\n",
       " (148,\n",
       "  '0.081*\"guitar\" + 0.062*\"record\" + 0.044*\"gui\" + 0.026*\"cap\" + 0.023*\"combo\" + 0.023*\"plai\" + 0.021*\"sound\" + 0.020*\"brought\" + 0.019*\"great\" + 0.018*\"105\"'),\n",
       " (149,\n",
       "  '0.381*\"gretsch\" + 0.086*\"bigsbi\" + 0.067*\"jet\" + 0.029*\"select\" + 0.025*\"case\" + 0.023*\"brace\" + 0.021*\"guitar\" + 0.017*\"ship\" + 0.017*\"condit\" + 0.015*\"doubl\"'),\n",
       " (150,\n",
       "  '0.044*\"manual\" + 0.038*\"output\" + 0.034*\"conserv\" + 0.028*\"ultra\" + 0.027*\"guitar\" + 0.027*\"pioneer\" + 0.026*\"snark\" + 0.023*\"can’t\" + 0.021*\"bundl\" + 0.021*\"yamaha\"'),\n",
       " (151,\n",
       "  '0.248*\"brown\" + 0.123*\"sunburst\" + 0.090*\"dual\" + 0.068*\"licens\" + 0.033*\"cut\" + 0.026*\"fit\" + 0.022*\"stai\" + 0.019*\"standard\" + 0.018*\"electr\" + 0.016*\"guitar\"'),\n",
       " (152,\n",
       "  '0.047*\"materi\" + 0.041*\"pickup\" + 0.041*\"bodi\" + 0.032*\"neck\" + 0.023*\"string\" + 0.022*\"bridg\" + 0.020*\"nut\" + 0.019*\"control\" + 0.019*\"shape\" + 0.018*\"number\"'),\n",
       " (153,\n",
       "  '0.125*\"greco\" + 0.044*\"advertis\" + 0.033*\"hetfield\" + 0.024*\"jame\" + 0.023*\"lack\" + 0.023*\"no\" + 0.018*\"ship\" + 0.018*\"margin\" + 0.018*\"drive\" + 0.017*\"guitar\"'),\n",
       " (154,\n",
       "  '0.108*\"594\" + 0.107*\"territori\" + 0.062*\"ownership\" + 0.047*\"handmad\" + 0.035*\"tier\" + 0.032*\"lespaul\" + 0.027*\"textur\" + 0.021*\"truli\" + 0.018*\"wound\" + 0.018*\"insan\"'),\n",
       " (155,\n",
       "  '0.117*\"buckl\" + 0.110*\"rash\" + 0.039*\"tusq\" + 0.030*\"guitar\" + 0.030*\"lightweight\" + 0.029*\"lighter\" + 0.023*\"separ\" + 0.022*\"neck\" + 0.019*\"buff\" + 0.017*\"compliment\"'),\n",
       " (156,\n",
       "  '0.100*\"emg\" + 0.041*\"schecter\" + 0.039*\"activ\" + 0.035*\"pickup\" + 0.033*\"black\" + 0.026*\"fret\" + 0.025*\"neck\" + 0.024*\"guitar\" + 0.017*\"hellrais\" + 0.017*\"dexter\"'),\n",
       " (157,\n",
       "  '0.051*\"origin\" + 0.040*\"swap\" + 0.038*\"1986\" + 0.028*\"guitar\" + 0.028*\"neck\" + 0.026*\"fret\" + 0.020*\"japan\" + 0.019*\"oxid\" + 0.018*\"tuner\" + 0.018*\"straight\"'),\n",
       " (158,\n",
       "  '0.017*\"neck\" + 0.016*\"pickup\" + 0.015*\"guitar\" + 0.012*\"tone\" + 0.010*\"return\" + 0.009*\"sound\" + 0.009*\"modern\" + 0.009*\"style\" + 0.009*\"includ\" + 0.009*\"setup\"'),\n",
       " (159,\n",
       "  '0.065*\"observ\" + 0.046*\"fernand\" + 0.029*\"stone\" + 0.027*\"term\" + 0.025*\"understand\" + 0.024*\"coup\" + 0.024*\"ship\" + 0.023*\"alert\" + 0.020*\"bid\" + 0.018*\"auction\"'),\n",
       " (160,\n",
       "  '0.041*\"frame\" + 0.035*\"classic\" + 0.033*\"word\" + 0.031*\"ship\" + 0.027*\"field\" + 0.016*\"usp\" + 0.015*\"appreci\" + 0.015*\"level\" + 0.015*\"prioriti\" + 0.014*\"guitar\"'),\n",
       " (161,\n",
       "  '0.158*\"2010\" + 0.053*\"formula\" + 0.048*\"excus\" + 0.045*\"cheaper\" + 0.032*\"ball\" + 0.032*\"kept\" + 0.031*\"erni\" + 0.028*\"guitar\" + 0.025*\"condit\" + 0.023*\"strap\"'),\n",
       " (162,\n",
       "  '0.152*\"1993\" + 0.107*\"1988\" + 0.066*\"kahler\" + 0.059*\"ohsc\" + 0.040*\"firm\" + 0.032*\"neck\" + 0.028*\"usa\" + 0.028*\"trem\" + 0.027*\"koa\" + 0.024*\"earli\"'),\n",
       " (163,\n",
       "  '0.038*\"pickup\" + 0.037*\"vintag\" + 0.032*\"neck\" + 0.023*\"mapl\" + 0.023*\"singl\" + 0.022*\"style\" + 0.020*\"bodi\" + 0.018*\"coil\" + 0.018*\"finish\" + 0.018*\"fingerboard\"'),\n",
       " (164,\n",
       "  '0.063*\"collector\" + 0.045*\"guitar\" + 0.029*\"auction\" + 0.021*\"origin\" + 0.020*\"look\" + 0.020*\"vintag\" + 0.018*\"son\" + 0.018*\"arrang\" + 0.015*\"homag\" + 0.013*\"bid\"'),\n",
       " (165,\n",
       "  '0.074*\"grade\" + 0.038*\"fulli\" + 0.026*\"lennon\" + 0.023*\"platform\" + 0.021*\"intend\" + 0.019*\"guitar\" + 0.015*\"sort\" + 0.015*\"function\" + 0.015*\"ship\" + 0.015*\"woodi\"'),\n",
       " (166,\n",
       "  '0.041*\"guitar\" + 0.028*\"impact\" + 0.017*\"nylon\" + 0.014*\"vintag\" + 0.012*\"plai\" + 0.012*\"concert\" + 0.011*\"guyaton\" + 0.010*\"model\" + 0.010*\"wise\" + 0.010*\"common\"'),\n",
       " (167,\n",
       "  '0.130*\"artcor\" + 0.084*\"ibanez\" + 0.048*\"hollow\" + 0.042*\"guitar\" + 0.032*\"case\" + 0.031*\"bodi\" + 0.030*\"800\" + 0.026*\"electr\" + 0.020*\"new\" + 0.019*\"condit\"'),\n",
       " (168,\n",
       "  '0.054*\"fly\" + 0.048*\"guitar\" + 0.029*\"bidder\" + 0.027*\"auction\" + 0.023*\"let\" + 0.021*\"gibson\" + 0.020*\"case\" + 0.020*\"bid\" + 0.019*\"awesom\" + 0.018*\"oversea\"'),\n",
       " (169,\n",
       "  '0.120*\"imperfect\" + 0.079*\"print\" + 0.073*\"mainli\" + 0.072*\"coin\" + 0.059*\"250\" + 0.042*\"alter\" + 0.034*\"cobalt\" + 0.022*\"site\" + 0.019*\"iphon\" + 0.015*\"terribl\"'),\n",
       " (170,\n",
       "  '0.263*\"sat\" + 0.053*\"haven’t\" + 0.035*\"510\" + 0.030*\"caramel\" + 0.028*\"hardwarebridg\" + 0.023*\"neckneck\" + 0.018*\"139\" + 0.017*\"emerg\" + 0.015*\"new\" + 0.014*\"church\"'),\n",
       " (171,\n",
       "  '0.038*\"pickup\" + 0.032*\"bodi\" + 0.031*\"electromat\" + 0.026*\"guitar\" + 0.021*\"includ\" + 0.020*\"875\" + 0.019*\"sound\" + 0.018*\"jim\" + 0.016*\"filter\" + 0.016*\"root\"'),\n",
       " (172,\n",
       "  '0.027*\"neck\" + 0.024*\"classic\" + 0.024*\"pickup\" + 0.020*\"tone\" + 0.017*\"fingerboard\" + 0.017*\"bodi\" + 0.017*\"humbuck\" + 0.016*\"output\" + 0.015*\"bound\" + 0.013*\"mapl\"'),\n",
       " (173,\n",
       "  '0.080*\"neck\" + 0.038*\"bridg\" + 0.037*\"pickup\" + 0.037*\"bodi\" + 0.032*\"mapl\" + 0.023*\"bolt\" + 0.023*\"style\" + 0.023*\"tone\" + 0.022*\"tune\" + 0.020*\"volum\"'),\n",
       " (174,\n",
       "  '0.073*\"ship\" + 0.046*\"intern\" + 0.044*\"valu\" + 0.035*\"buyer\" + 0.033*\"cost\" + 0.028*\"charg\" + 0.028*\"mark\" + 0.023*\"item\" + 0.020*\"bid\" + 0.019*\"freight\"'),\n",
       " (175,\n",
       "  '0.053*\"ship\" + 0.033*\"item\" + 0.026*\"payment\" + 0.022*\"ebai\" + 0.017*\"contact\" + 0.015*\"dai\" + 0.014*\"problem\" + 0.014*\"offer\" + 0.014*\"includ\" + 0.013*\"right\"'),\n",
       " (176,\n",
       "  '0.084*\"align\" + 0.026*\"mapl\" + 0.025*\"access\" + 0.020*\"flame\" + 0.019*\"neck\" + 0.019*\"aluminum\" + 0.016*\"guitar\" + 0.016*\"birdsey\" + 0.015*\"fret\" + 0.014*\"1950\"'),\n",
       " (177,\n",
       "  '0.215*\"pink\" + 0.094*\"interior\" + 0.091*\"plush\" + 0.066*\"faint\" + 0.064*\"school\" + 0.042*\"blow\" + 0.041*\"“bui\" + 0.039*\"now”\" + 0.037*\"patina\" + 0.023*\"ag\"'),\n",
       " (178,\n",
       "  '0.046*\"slick\" + 0.031*\"hex\" + 0.028*\"pickup\" + 0.026*\"neck\" + 0.022*\"redesign\" + 0.021*\"posit\" + 0.018*\"countless\" + 0.017*\"bridg\" + 0.017*\"black\" + 0.015*\"wrench\"'),\n",
       " (179,\n",
       "  '0.143*\"le\" + 0.143*\"paul\" + 0.031*\"guitar\" + 0.031*\"epiphon\" + 0.023*\"studio\" + 0.022*\"pro\" + 0.021*\"mahogani\" + 0.020*\"gibson\" + 0.020*\"condit\" + 0.019*\"great\"'),\n",
       " (180,\n",
       "  '0.132*\"satin\" + 0.060*\"tradit\" + 0.031*\"weight\" + 0.030*\"relief\" + 0.028*\"glass\" + 0.023*\"increas\" + 0.022*\"shade\" + 0.015*\"neck\" + 0.014*\"reson\" + 0.014*\"tone\"'),\n",
       " (181,\n",
       "  '0.073*\"edg\" + 0.035*\"ibanez\" + 0.035*\"case\" + 0.033*\"guitar\" + 0.031*\"neck\" + 0.023*\"bodi\" + 0.023*\"prestig\" + 0.018*\"origin\" + 0.016*\"string\" + 0.015*\"fret\"'),\n",
       " (182,\n",
       "  '0.044*\"snake\" + 0.035*\"gari\" + 0.029*\"monster\" + 0.028*\"guitar\" + 0.024*\"she’\" + 0.019*\"warren\" + 0.018*\"demartini\" + 0.017*\"gibraltar\" + 0.015*\"moor\" + 0.014*\"reproduc\"'),\n",
       " (183,\n",
       "  '0.038*\"drum\" + 0.034*\"chri\" + 0.023*\"builder\" + 0.022*\"guid\" + 0.021*\"guitar\" + 0.020*\"ass\" + 0.018*\"easton\" + 0.018*\"249\" + 0.017*\"pride\" + 0.013*\"instrument\"'),\n",
       " (184,\n",
       "  '0.264*\"indian\" + 0.236*\"arrow\" + 0.132*\"ce24\" + 0.010*\"mapl\" + 0.007*\"neck\" + 0.006*\"rosewood\" + 0.005*\"black\" + 0.005*\"pickup\" + 0.004*\"vintag\" + 0.004*\"guitar\"'),\n",
       " (185,\n",
       "  '0.056*\"ship\" + 0.045*\"air\" + 0.041*\"cst\" + 0.036*\"smoothli\" + 0.023*\"counti\" + 0.023*\"appropri\" + 0.023*\"will\" + 0.015*\"item\" + 0.014*\"mainland\" + 0.014*\"dai\"'),\n",
       " (186,\n",
       "  '0.357*\"ken\" + 0.253*\"coffin\" + 0.017*\"arc\" + 0.011*\"24f\" + 0.007*\"bodi\" + 0.006*\"model\" + 0.004*\"pickup\" + 0.003*\"kkw\" + 0.003*\"price\" + 0.003*\"neck\"'),\n",
       " (187,\n",
       "  '0.067*\"tran\" + 0.044*\"speedi\" + 0.032*\"rhoad\" + 0.030*\"arch\" + 0.026*\"demo\" + 0.023*\"length\" + 0.023*\"neck\" + 0.019*\"mapl\" + 0.017*\"solo\" + 0.017*\"compens\"'),\n",
       " (188,\n",
       "  '0.030*\"neck\" + 0.026*\"custom\" + 0.023*\"vintag\" + 0.021*\"fender\" + 0.019*\"pickup\" + 0.019*\"tele\" + 0.018*\"shop\" + 0.016*\"bodi\" + 0.014*\"tone\" + 0.014*\"telecast\"'),\n",
       " (189,\n",
       "  '0.024*\"neck\" + 0.021*\"pickup\" + 0.019*\"guitar\" + 0.016*\"tone\" + 0.016*\"rail\" + 0.015*\"sunset\" + 0.013*\"bodi\" + 0.013*\"bridg\" + 0.013*\"humbuck\" + 0.012*\"mapl\"'),\n",
       " (190,\n",
       "  '0.169*\"fender\" + 0.132*\"telecast\" + 0.085*\"squier\" + 0.034*\"tele\" + 0.028*\"guitar\" + 0.024*\"condit\" + 0.021*\"standard\" + 0.017*\"electr\" + 0.014*\"neck\" + 0.014*\"bodi\"'),\n",
       " (191,\n",
       "  '0.061*\"list\" + 0.039*\"real\" + 0.034*\"armi\" + 0.031*\"member\" + 0.031*\"guitar\" + 0.029*\"item\" + 0.028*\"band\" + 0.027*\"possibl\" + 0.022*\"thank\" + 0.017*\"discolor\"'),\n",
       " (192,\n",
       "  '0.343*\"2005\" + 0.178*\"rickenback\" + 0.027*\"guitar\" + 0.023*\"fireglo\" + 0.017*\"case\" + 0.015*\"ship\" + 0.014*\"condit\" + 0.013*\"origin\" + 0.013*\"80’\" + 0.013*\"string\"'),\n",
       " (193,\n",
       "  '0.235*\"king\" + 0.042*\"tailor\" + 0.038*\"guitar\" + 0.024*\"regal\" + 0.023*\"electr\" + 0.020*\"detach\" + 0.016*\"fretwork\" + 0.015*\"item\" + 0.014*\"signatur\" + 0.012*\"technic\"'),\n",
       " (194,\n",
       "  '0.007*\"ship\" + 0.003*\"item\" + 0.003*\"guitar\" + 0.002*\"bodi\" + 0.002*\"neck\" + 0.002*\"fedex\" + 0.002*\"price\" + 0.002*\"question\" + 0.002*\"includ\" + 0.002*\"calcul\"'),\n",
       " (195,\n",
       "  '0.050*\"guitar\" + 0.046*\"supro\" + 0.033*\"pickup\" + 0.032*\"displai\" + 0.023*\"vintag\" + 0.016*\"model\" + 0.013*\"neck\" + 0.013*\"westburi\" + 0.012*\"2018\" + 0.012*\"foil\"'),\n",
       " (196,\n",
       "  '0.072*\"light\" + 0.058*\"guitar\" + 0.048*\"wear\" + 0.041*\"home\" + 0.040*\"free\" + 0.036*\"show\" + 0.035*\"plai\" + 0.034*\"smoke\" + 0.032*\"usa\" + 0.022*\"photo\"'),\n",
       " (197,\n",
       "  '0.051*\"ship\" + 0.047*\"cost\" + 0.042*\"packag\" + 0.032*\"ebai\" + 0.030*\"pai\" + 0.026*\"buyer\" + 0.023*\"label\" + 0.022*\"part\" + 0.020*\"present\" + 0.019*\"list\"'),\n",
       " (198,\n",
       "  '0.003*\"film\" + 0.002*\"guitar\" + 0.002*\"ship\" + 0.002*\"plai\" + 0.002*\"wood\" + 0.002*\"solid\" + 0.001*\"neck\" + 0.001*\"fender\" + 0.001*\"item\" + 0.001*\"look\"'),\n",
       " (199,\n",
       "  '0.062*\"financi\" + 0.056*\"continu\" + 0.053*\"tv\" + 0.021*\"conveni\" + 0.017*\"serv\" + 0.015*\"concord\" + 0.014*\"select\" + 0.014*\"locat\" + 0.014*\"dvd\" + 0.014*\"flat\"'),\n",
       " (200,\n",
       "  '0.065*\"electra\" + 0.049*\"promis\" + 0.035*\"guitar\" + 0.029*\"employe\" + 0.024*\"doesnt\" + 0.022*\"daughter\" + 0.017*\"peter\" + 0.016*\"child\" + 0.014*\"neil\" + 0.014*\"oper\"'),\n",
       " (201,\n",
       "  '0.068*\"evh\" + 0.056*\"wolfgang\" + 0.026*\"special\" + 0.019*\"mapl\" + 0.018*\"guitar\" + 0.018*\"neck\" + 0.018*\"mount\" + 0.015*\"basswood\" + 0.015*\"black\" + 0.015*\"floyd\"'),\n",
       " (202,\n",
       "  '0.111*\"150\" + 0.093*\"decemb\" + 0.043*\"30th\" + 0.041*\"1982\" + 0.035*\"distress\" + 0.028*\"feder\" + 0.025*\"spectacular\" + 0.019*\"neck\" + 0.012*\"guitar\" + 0.011*\"champ\"'),\n",
       " (203,\n",
       "  '0.064*\"item\" + 0.035*\"ship\" + 0.028*\"return\" + 0.018*\"dai\" + 0.017*\"payment\" + 0.017*\"auction\" + 0.014*\"guitar\" + 0.012*\"bid\" + 0.012*\"condit\" + 0.012*\"includ\"'),\n",
       " (204,\n",
       "  '0.051*\"quilt\" + 0.051*\"artist\" + 0.034*\"mapl\" + 0.034*\"fretboard\" + 0.026*\"bevel\" + 0.025*\"wood\" + 0.025*\"carvin\" + 0.023*\"pr\" + 0.022*\"trebl\" + 0.022*\"guitar\"'),\n",
       " (205,\n",
       "  '0.067*\"abus\" + 0.054*\"captur\" + 0.039*\"1965\" + 0.037*\"guitar\" + 0.035*\"1973\" + 0.035*\"dakota\" + 0.034*\"origin\" + 0.026*\"cross\" + 0.025*\"vertic\" + 0.020*\"isi\"'),\n",
       " (206,\n",
       "  '0.050*\"bodi\" + 0.034*\"neck\" + 0.022*\"pickup\" + 0.017*\"type\" + 0.017*\"bridg\" + 0.016*\"wood\" + 0.015*\"mapl\" + 0.014*\"includ\" + 0.013*\"guild\" + 0.012*\"guitar\"'),\n",
       " (207,\n",
       "  '0.131*\"old\" + 0.129*\"year\" + 0.096*\"go\" + 0.087*\"hot\" + 0.056*\"given\" + 0.056*\"origin\" + 0.039*\"guitar\" + 0.035*\"storag\" + 0.034*\"owner\" + 0.032*\"ag\"'),\n",
       " (208,\n",
       "  '0.104*\"scuff\" + 0.079*\"worn\" + 0.054*\"minor\" + 0.050*\"guitar\" + 0.050*\"wear\" + 0.036*\"natur\" + 0.033*\"condit\" + 0.029*\"electr\" + 0.027*\"scratch\" + 0.024*\"ding\"'),\n",
       " (209,\n",
       "  '0.093*\"begin\" + 0.075*\"korg\" + 0.069*\"lab\" + 0.053*\"offici\" + 0.036*\"distribut\" + 0.029*\"chrometun\" + 0.022*\"25”\" + 0.018*\"presenc\" + 0.018*\"wont\" + 0.016*\"guitar\"'),\n",
       " (210,\n",
       "  '0.053*\"variax\" + 0.051*\"line\" + 0.033*\"model\" + 0.030*\"instrument\" + 0.029*\"guitar\" + 0.023*\"falcon\" + 0.022*\"tune\" + 0.018*\"phenomen\" + 0.018*\"jtv\" + 0.017*\"standard\"'),\n",
       " (211,\n",
       "  '0.074*\"godin\" + 0.052*\"guitar\" + 0.032*\"flame\" + 0.018*\"canadian\" + 0.016*\"aaa\" + 0.016*\"classi\" + 0.015*\"capo\" + 0.014*\"sound\" + 0.014*\"mahogani\" + 0.013*\"mapl\"'),\n",
       " (212,\n",
       "  '0.081*\"ship\" + 0.036*\"item\" + 0.021*\"fee\" + 0.021*\"cost\" + 0.020*\"buyer\" + 0.019*\"packag\" + 0.019*\"charg\" + 0.016*\"dai\" + 0.015*\"contact\" + 0.012*\"pai\"'),\n",
       " (213,\n",
       "  '0.305*\"dean\" + 0.055*\"guitar\" + 0.029*\"kick\" + 0.021*\"condit\" + 0.020*\"electr\" + 0.019*\"pickup\" + 0.017*\"vendetta\" + 0.015*\"case\" + 0.014*\"neck\" + 0.012*\"duncan\"'),\n",
       " (214,\n",
       "  '0.099*\"ohm\" + 0.059*\"odor\" + 0.059*\"1977\" + 0.058*\"cloth\" + 0.056*\"exterior\" + 0.050*\"interior\" + 0.036*\"heavi\" + 0.028*\"delta\" + 0.020*\"vinyl\" + 0.016*\"case\"'),\n",
       " (215,\n",
       "  '0.182*\"1990\" + 0.061*\"guitar\" + 0.032*\"jamstik\" + 0.026*\"app\" + 0.025*\"there’\" + 0.025*\"gift\" + 0.024*\"learn\" + 0.023*\"plai\" + 0.020*\"midi\" + 0.019*\"js32t\"'),\n",
       " (216,\n",
       "  '0.149*\"http\" + 0.125*\"com\" + 0.076*\"www\" + 0.068*\"video\" + 0.048*\"center\" + 0.038*\"guitar\" + 0.029*\"link\" + 0.026*\"watch\" + 0.019*\"beast\" + 0.015*\"youtub\"'),\n",
       " (217,\n",
       "  '0.090*\"noiseless\" + 0.072*\"125\" + 0.071*\"releas\" + 0.042*\"asid\" + 0.036*\"dillion\" + 0.032*\"2005\" + 0.023*\"malcolm\" + 0.019*\"guitar\" + 0.018*\"olymp\" + 0.015*\"legitim\"'),\n",
       " (218,\n",
       "  '0.259*\"1997\" + 0.044*\"seven\" + 0.042*\"hendrix\" + 0.033*\"jimi\" + 0.031*\"fresh\" + 0.025*\"guitar\" + 0.023*\"peopl\" + 0.017*\"condit\" + 0.017*\"string\" + 0.015*\"usa\"'),\n",
       " (219,\n",
       "  '0.366*\"gibson\" + 0.094*\"le\" + 0.094*\"paul\" + 0.057*\"2013\" + 0.030*\"custom\" + 0.028*\"case\" + 0.025*\"guitar\" + 0.020*\"condit\" + 0.017*\"eboni\" + 0.015*\"beauti\"'),\n",
       " (220,\n",
       "  '0.043*\"hamer\" + 0.037*\"nation\" + 0.036*\"act\" + 0.035*\"conduct\" + 0.025*\"guitar\" + 0.018*\"sole\" + 0.017*\"won’t\" + 0.017*\"rif\" + 0.016*\"cite\" + 0.015*\"ship\"'),\n",
       " (221,\n",
       "  '0.049*\"guitar\" + 0.025*\"origin\" + 0.014*\"neck\" + 0.013*\"plai\" + 0.011*\"fret\" + 0.011*\"sound\" + 0.010*\"new\" + 0.010*\"good\" + 0.010*\"clean\" + 0.009*\"case\"'),\n",
       " (222,\n",
       "  '0.065*\"guitar\" + 0.043*\"plai\" + 0.036*\"great\" + 0.026*\"case\" + 0.019*\"coupl\" + 0.018*\"pretti\" + 0.016*\"origin\" + 0.016*\"nice\" + 0.016*\"scratch\" + 0.016*\"good\"'),\n",
       " (223,\n",
       "  '0.115*\"ad\" + 0.108*\"inform\" + 0.100*\"follow\" + 0.087*\"seller\" + 0.070*\"guitar\" + 0.062*\"pst\" + 0.024*\"case\" + 0.024*\"dec\" + 0.023*\"ohsc\" + 0.020*\"bare\"'),\n",
       " (224,\n",
       "  '0.304*\"sustainiac\" + 0.126*\"prototyp\" + 0.065*\"sustaniac\" + 0.056*\"sl\" + 0.025*\"nutbridg\" + 0.023*\"schecter\" + 0.021*\"banshe\" + 0.020*\"sh2\" + 0.009*\"retail\" + 0.007*\"24scale\"'),\n",
       " (225,\n",
       "  '0.055*\"guitar\" + 0.025*\"like\" + 0.018*\"neck\" + 0.014*\"sound\" + 0.013*\"plai\" + 0.013*\"qualiti\" + 0.011*\"better\" + 0.011*\"look\" + 0.010*\"tone\" + 0.010*\"pickup\"'),\n",
       " (226,\n",
       "  '0.034*\"experienc\" + 0.033*\"educ\" + 0.033*\"scan\" + 0.027*\"measur\" + 0.025*\"earli\" + 0.023*\"guitar\" + 0.023*\"1979\" + 0.022*\"shippingw\" + 0.019*\"preserv\" + 0.016*\"turn\"'),\n",
       " (227,\n",
       "  '0.221*\"seri\" + 0.134*\"schecter\" + 0.114*\"diamond\" + 0.066*\"guitar\" + 0.028*\"condit\" + 0.025*\"room\" + 0.023*\"view\" + 0.021*\"electr\" + 0.020*\"thousand\" + 0.014*\"save\"'),\n",
       " (228,\n",
       "  '0.254*\"bag\" + 0.215*\"gig\" + 0.061*\"pad\" + 0.058*\"schecter\" + 0.043*\"guitar\" + 0.019*\"great\" + 0.017*\"seri\" + 0.017*\"ship\" + 0.016*\"nice\" + 0.012*\"free\"'),\n",
       " (229,\n",
       "  '0.073*\"game\" + 0.064*\"comput\" + 0.059*\"tablet\" + 0.058*\"000\" + 0.046*\"pelham\" + 0.027*\"guitar\" + 0.027*\"blue\" + 0.024*\"laptop\" + 0.022*\"consol\" + 0.018*\"wife\"'),\n",
       " (230,\n",
       "  '0.115*\"move\" + 0.111*\"tail\" + 0.103*\"disclos\" + 0.097*\"sand\" + 0.070*\"modif\" + 0.057*\"piec\" + 0.057*\"previou\" + 0.049*\"backsid\" + 0.035*\"rough\" + 0.030*\"owner\"'),\n",
       " (231,\n",
       "  '0.118*\"capacitor\" + 0.052*\"guitar\" + 0.052*\"pocket\" + 0.047*\"oil\" + 0.020*\"sound\" + 0.014*\"neck\" + 0.014*\"wire\" + 0.014*\"look\" + 0.013*\"022uf\" + 0.013*\"pickup\"'),\n",
       " (232,\n",
       "  '0.095*\"quickli\" + 0.094*\"tree\" + 0.045*\"mayer\" + 0.038*\"vaughan\" + 0.038*\"mex\" + 0.034*\"tex\" + 0.033*\"rai\" + 0.021*\"fender\" + 0.020*\"craftsman\" + 0.019*\"guitar\"'),\n",
       " (233,\n",
       "  '0.100*\"york\" + 0.033*\"guitar\" + 0.024*\"ware\" + 0.021*\"angelico\" + 0.020*\"mist\" + 0.015*\"slip\" + 0.015*\"new\" + 0.015*\"bich\" + 0.013*\"490\" + 0.010*\"glori\"'),\n",
       " (234,\n",
       "  '0.030*\"decal\" + 0.030*\"guitar\" + 0.028*\"edward\" + 0.024*\"high\" + 0.020*\"neck\" + 0.014*\"output\" + 0.014*\"pickup\" + 0.014*\"plai\" + 0.013*\"string\" + 0.013*\"remind\"'),\n",
       " (235,\n",
       "  '0.416*\"2016\" + 0.042*\"lap\" + 0.025*\"guitar\" + 0.022*\"cream\" + 0.017*\"new\" + 0.016*\"rosewood\" + 0.015*\"empir\" + 0.014*\"neck\" + 0.014*\"mahogani\" + 0.013*\"dlx\"'),\n",
       " (236,\n",
       "  '0.057*\"guitar\" + 0.039*\"electr\" + 0.034*\"rock\" + 0.032*\"fast\" + 0.028*\"china\" + 0.023*\"shred\" + 0.023*\"kansa\" + 0.022*\"string\" + 0.019*\"give\" + 0.019*\"sweetwat\"'),\n",
       " (237,\n",
       "  '0.073*\"digit\" + 0.054*\"jan\" + 0.034*\"price\" + 0.031*\"inform\" + 0.024*\"ship\" + 0.022*\"brazil\" + 0.022*\"malaysia\" + 0.022*\"rhoad\" + 0.020*\"ad\" + 0.018*\"zealand\"'),\n",
       " (238,\n",
       "  '0.083*\"joe\" + 0.068*\"pass\" + 0.042*\"playwear\" + 0.029*\"guitar\" + 0.026*\"continu\" + 0.024*\"ident\" + 0.018*\"emperor\" + 0.016*\"pickup\" + 0.014*\"aesthet\" + 0.014*\"sound\"'),\n",
       " (239,\n",
       "  '0.096*\"warrior\" + 0.056*\"dave\" + 0.037*\"stabil\" + 0.034*\"graphit\" + 0.025*\"metal\" + 0.024*\"superior\" + 0.024*\"seri\" + 0.022*\"liberti\" + 0.022*\"curv\" + 0.021*\"scarf\"'),\n",
       " (240,\n",
       "  '0.174*\"ebay’\" + 0.094*\"surcharg\" + 0.044*\"quot\" + 0.032*\"attempt\" + 0.029*\"ship\" + 0.026*\"area\" + 0.025*\"price\" + 0.022*\"“a\" + 0.019*\"is”\" + 0.017*\"exampl\"'),\n",
       " (241,\n",
       "  '0.115*\"guild\" + 0.078*\"reverb\" + 0.058*\"dearmond\" + 0.036*\"hybrid\" + 0.031*\"guitar\" + 0.021*\"serious\" + 0.019*\"blond\" + 0.018*\"outstand\" + 0.014*\"digitech\" + 0.014*\"effect\"'),\n",
       " (242,\n",
       "  '0.053*\"relev\" + 0.038*\"dream\" + 0.038*\"guitar\" + 0.030*\"didn’t\" + 0.023*\"like\" + 0.022*\"doesn’t\" + 0.015*\"it’\" + 0.014*\"pop\" + 0.014*\"look\" + 0.014*\"want\"'),\n",
       " (243,\n",
       "  '0.147*\"unabl\" + 0.056*\"disclaim\" + 0.053*\"patent\" + 0.045*\"human\" + 0.040*\"live\" + 0.039*\"represent\" + 0.029*\"fridai\" + 0.026*\"quantiti\" + 0.020*\"awai\" + 0.019*\"ebay\"'),\n",
       " (244,\n",
       "  '0.234*\"text\" + 0.033*\"guitar\" + 0.031*\"js32\" + 0.031*\"stock\" + 0.028*\"goug\" + 0.023*\"nato\" + 0.018*\"wear\" + 0.017*\"ship\" + 0.016*\"black\" + 0.014*\"tom\"'),\n",
       " (245,\n",
       "  '0.248*\"dimarzio\" + 0.062*\"steve\" + 0.050*\"scallop\" + 0.047*\"tap\" + 0.042*\"neck\" + 0.035*\"upper\" + 0.034*\"vai\" + 0.030*\"pickup\" + 0.025*\"coil\" + 0.018*\"signatur\"'),\n",
       " (246,\n",
       "  '0.034*\"gibson\" + 0.022*\"origin\" + 0.022*\"lb\" + 0.015*\"fade\" + 0.015*\"weight\" + 0.015*\"usa\" + 0.014*\"paul\" + 0.013*\"voodoo\" + 0.013*\"le\" + 0.012*\"guitar\"'),\n",
       " (247,\n",
       "  '0.382*\"equip\" + 0.136*\"order\" + 0.095*\"carri\" + 0.084*\"audio\" + 0.037*\"higher\" + 0.014*\"search\" + 0.012*\"deal\" + 0.009*\"ship\" + 0.009*\"awai\" + 0.007*\"backpack\"'),\n",
       " (248,\n",
       "  '0.079*\"modern\" + 0.073*\"player\" + 0.026*\"plu\" + 0.026*\"pickup\" + 0.019*\"style\" + 0.018*\"finish\" + 0.017*\"neck\" + 0.016*\"bodi\" + 0.016*\"shape\" + 0.015*\"switch\"'),\n",
       " (249,\n",
       "  '0.194*\"duncan\" + 0.174*\"seymour\" + 0.114*\"1980\" + 0.045*\"upgrad\" + 0.038*\"tokai\" + 0.030*\"pickup\" + 0.024*\"honei\" + 0.019*\"blackout\" + 0.018*\"instal\" + 0.016*\"fantast\"'),\n",
       " (250,\n",
       "  '0.041*\"item\" + 0.038*\"payment\" + 0.033*\"ship\" + 0.029*\"email\" + 0.027*\"dai\" + 0.024*\"offer\" + 0.022*\"checkout\" + 0.018*\"receiv\" + 0.018*\"address\" + 0.016*\"return\"'),\n",
       " (251,\n",
       "  '0.060*\"coast\" + 0.034*\"revers\" + 0.028*\"celebr\" + 0.024*\"guitar\" + 0.022*\"headless\" + 0.018*\"notabl\" + 0.018*\"neck\" + 0.018*\"fret\" + 0.016*\"east\" + 0.015*\"flametop\"'),\n",
       " (252,\n",
       "  '0.067*\"18th\" + 0.063*\"bronz\" + 0.052*\"telescop\" + 0.033*\"guitar\" + 0.022*\"399\" + 0.022*\"catalog\" + 0.022*\"dreadnought\" + 0.021*\"100qmnt\" + 0.020*\"850\" + 0.020*\"squar\"'),\n",
       " (253,\n",
       "  '0.278*\"2008\" + 0.175*\"anniversari\" + 0.022*\"20th\" + 0.015*\"guitar\" + 0.014*\"25th\" + 0.013*\"sky\" + 0.011*\"ship\" + 0.011*\"neck\" + 0.010*\"model\" + 0.010*\"condit\"'),\n",
       " (254,\n",
       "  '0.055*\"load\" + 0.034*\"guitar\" + 0.020*\"bodi\" + 0.017*\"keyston\" + 0.015*\"1971\" + 0.014*\"pickup\" + 0.014*\"potentiomet\" + 0.014*\"av\" + 0.013*\"650r\" + 0.013*\"includ\"'),\n",
       " (255,\n",
       "  '0.140*\"sixbit\" + 0.108*\"solut\" + 0.091*\"ecommerc\" + 0.090*\"power\" + 0.039*\"luck\" + 0.032*\"guitar\" + 0.024*\"local\" + 0.020*\"pickup\" + 0.017*\"ground\" + 0.017*\"ship\"'),\n",
       " (256,\n",
       "  '0.039*\"item\" + 0.027*\"ship\" + 0.026*\"guitar\" + 0.022*\"00am\" + 0.020*\"pictur\" + 0.016*\"00pm\" + 0.016*\"includ\" + 0.014*\"auction\" + 0.014*\"sale\" + 0.013*\"ebai\"'),\n",
       " (257,\n",
       "  '0.186*\"epiphon\" + 0.140*\"le\" + 0.139*\"paul\" + 0.065*\"standard\" + 0.054*\"guitar\" + 0.030*\"electr\" + 0.024*\"plu\" + 0.016*\"pickup\" + 0.012*\"100\" + 0.011*\"includ\"'),\n",
       " (258,\n",
       "  '0.074*\"titanium\" + 0.064*\"forev\" + 0.062*\"cushion\" + 0.060*\"mosrit\" + 0.051*\"dip\" + 0.035*\"pacif\" + 0.034*\"reput\" + 0.033*\"vibrato\" + 0.025*\"volut\" + 0.020*\"incorpor\"'),\n",
       " (259,\n",
       "  '0.041*\"guitar\" + 0.032*\"great\" + 0.027*\"internation\" + 0.026*\"moment\" + 0.022*\"look\" + 0.021*\"ship\" + 0.020*\"gladli\" + 0.018*\"plai\" + 0.017*\"mojo\" + 0.017*\"bargain\"'),\n",
       " (260,\n",
       "  '0.149*\"fender\" + 0.088*\"stratocast\" + 0.048*\"strat\" + 0.030*\"american\" + 0.024*\"case\" + 0.018*\"delux\" + 0.015*\"guitar\" + 0.015*\"origin\" + 0.015*\"neck\" + 0.015*\"usa\"'),\n",
       " (261,\n",
       "  '0.026*\"tension\" + 0.021*\"parker\" + 0.019*\"guitar\" + 0.017*\"bear\" + 0.014*\"crazi\" + 0.014*\"bodi\" + 0.014*\"neck\" + 0.013*\"dbz\" + 0.013*\"tune\" + 0.013*\"realiz\"'),\n",
       " (262,\n",
       "  '0.097*\"public\" + 0.049*\"knowledg\" + 0.036*\"resal\" + 0.029*\"limit\" + 0.025*\"client\" + 0.021*\"detail\" + 0.020*\"guitar\" + 0.017*\"document\" + 0.017*\"love\" + 0.015*\"event\"'),\n",
       " (263,\n",
       "  '0.116*\"nearli\" + 0.099*\"martin\" + 0.088*\"spruce\" + 0.085*\"side\" + 0.079*\"johnson\" + 0.050*\"pristin\" + 0.036*\"dealer\" + 0.034*\"flawless\" + 0.029*\"card\" + 0.025*\"1957\"'),\n",
       " (264,\n",
       "  '0.081*\"charvel\" + 0.065*\"pro\" + 0.051*\"mod\" + 0.043*\"san\" + 0.042*\"style\" + 0.037*\"dima\" + 0.021*\"speed\" + 0.020*\"peac\" + 0.019*\"guitar\" + 0.017*\"butt\"'),\n",
       " (265,\n",
       "  '0.103*\"500\" + 0.060*\"mod\" + 0.052*\"narrow\" + 0.049*\"tall\" + 0.047*\"popular\" + 0.041*\"profession\" + 0.040*\"deep\" + 0.020*\"isn’t\" + 0.018*\"tim\" + 0.017*\"rg8\"'),\n",
       " (266,\n",
       "  '0.074*\"streamlin\" + 0.030*\"microphon\" + 0.028*\"block\" + 0.027*\"ship\" + 0.027*\"prepaid\" + 0.025*\"tron\" + 0.024*\"broad\" + 0.024*\"period\" + 0.024*\"headphon\" + 0.022*\"return\"'),\n",
       " (267,\n",
       "  '0.058*\"guitar\" + 0.040*\"work\" + 0.034*\"static\" + 0.032*\"perfect\" + 0.028*\"polish\" + 0.025*\"action\" + 0.025*\"tremelo\" + 0.023*\"neck\" + 0.022*\"good\" + 0.020*\"plai\"'),\n",
       " (268,\n",
       "  '0.041*\"guitar\" + 0.040*\"tip\" + 0.033*\"8th\" + 0.027*\"week\" + 0.023*\"unplai\" + 0.020*\"foto\" + 0.019*\"blank\" + 0.017*\"ultra\" + 0.016*\"sustain\" + 0.014*\"disappoint\"'),\n",
       " (269,\n",
       "  '0.043*\"guitar\" + 0.023*\"tom\" + 0.021*\"kai\" + 0.019*\"delong\" + 0.016*\"pickup\" + 0.016*\"af75\" + 0.014*\"origin\" + 0.013*\"trapez\" + 0.011*\"vibrato\" + 0.011*\"doublecut\"'),\n",
       " (270,\n",
       "  '0.374*\"2001\" + 0.061*\"scroll\" + 0.033*\"burn\" + 0.027*\"encourag\" + 0.025*\"demon\" + 0.018*\"gotta\" + 0.018*\"gen\" + 0.017*\"guitar\" + 0.014*\"neck\" + 0.012*\"piano\"'),\n",
       " (271,\n",
       "  '0.035*\"neck\" + 0.034*\"bodi\" + 0.024*\"pickup\" + 0.021*\"tone\" + 0.021*\"bridg\" + 0.020*\"humbuck\" + 0.020*\"mahogani\" + 0.017*\"wood\" + 0.016*\"special\" + 0.016*\"featur\"'),\n",
       " (272,\n",
       "  '0.071*\"definit\" + 0.065*\"late\" + 0.043*\"strip\" + 0.033*\"instal\" + 0.031*\"refurbish\" + 0.030*\"qualifi\" + 0.028*\"luthier\" + 0.026*\"guitar\" + 0.021*\"stori\" + 0.020*\"famou\"'),\n",
       " (273,\n",
       "  '0.184*\"japan\" + 0.089*\"mij\" + 0.068*\"fender\" + 0.056*\"fsr\" + 0.042*\"competit\" + 0.030*\"50\" + 0.028*\"strat\" + 0.025*\"stratocast\" + 0.021*\"vintag\" + 0.021*\"guitar\"'),\n",
       " (274,\n",
       "  '0.473*\"2018\" + 0.035*\"antiqu\" + 0.021*\"guitar\" + 0.017*\"ship\" + 0.016*\"stun\" + 0.014*\"shadow\" + 0.013*\"condit\" + 0.012*\"case\" + 0.011*\"sale\" + 0.010*\"unopen\"'),\n",
       " (275,\n",
       "  '0.077*\"guitar\" + 0.022*\"connect\" + 0.018*\"cabl\" + 0.017*\"335\" + 0.017*\"line\" + 0.016*\"sound\" + 0.015*\"electr\" + 0.015*\"plai\" + 0.014*\"yngwie\" + 0.014*\"instrument\"'),\n",
       " (276,\n",
       "  '0.042*\"abroad\" + 0.029*\"camera\" + 0.026*\"casino\" + 0.023*\"usd\" + 0.023*\"glare\" + 0.019*\"ver\" + 0.019*\"gsrx\" + 0.016*\"ship\" + 0.016*\"flash\" + 0.014*\"serial\"'),\n",
       " (277,\n",
       "  '0.051*\"complain\" + 0.029*\"prove\" + 0.028*\"scam\" + 0.025*\"guitar\" + 0.022*\"respect\" + 0.020*\"ship\" + 0.015*\"fan\" + 0.014*\"item\" + 0.013*\"sonex\" + 0.013*\"recommend\"'),\n",
       " (278,\n",
       "  '0.112*\"3rd\" + 0.037*\"ultra\" + 0.035*\"japanes\" + 0.033*\"wing\" + 0.033*\"guitar\" + 0.033*\"adult\" + 0.025*\"folk\" + 0.023*\"environ\" + 0.021*\"gone\" + 0.021*\"sound\"'),\n",
       " (279,\n",
       "  '0.134*\"star\" + 0.117*\"pal\" + 0.069*\"dsr\" + 0.045*\"ohio\" + 0.037*\"panel\" + 0.036*\"bank\" + 0.036*\"pai\" + 0.032*\"earn\" + 0.024*\"quick\" + 0.018*\"payment\"'),\n",
       " (280,\n",
       "  '0.088*\"box\" + 0.056*\"wrap\" + 0.050*\"pack\" + 0.047*\"safe\" + 0.037*\"bubbl\" + 0.035*\"guitar\" + 0.033*\"ship\" + 0.030*\"tape\" + 0.026*\"heavi\" + 0.025*\"assembl\"'),\n",
       " (281,\n",
       "  '0.083*\"man\" + 0.073*\"music\" + 0.037*\"ball\" + 0.035*\"erni\" + 0.030*\"highwai\" + 0.026*\"sterl\" + 0.018*\"neck\" + 0.017*\"guitar\" + 0.016*\"pickup\" + 0.013*\"fret\"'),\n",
       " (282,\n",
       "  '0.056*\"ship\" + 0.035*\"item\" + 0.018*\"fedex\" + 0.017*\"estim\" + 0.016*\"ebai\" + 0.013*\"price\" + 0.013*\"rate\" + 0.012*\"contact\" + 0.012*\"purchas\" + 0.011*\"list\"'),\n",
       " (283,\n",
       "  '0.057*\"cool\" + 0.050*\"hassl\" + 0.048*\"rare\" + 0.042*\"time\" + 0.038*\"refund\" + 0.037*\"condit\" + 0.033*\"discret\" + 0.032*\"interest\" + 0.032*\"guitar\" + 0.032*\"welcom\"'),\n",
       " (284,\n",
       "  '0.058*\"latch\" + 0.039*\"plate\" + 0.033*\"loos\" + 0.029*\"guitar\" + 0.024*\"hing\" + 0.024*\"work\" + 0.021*\"neck\" + 0.018*\"plexi\" + 0.018*\"case\" + 0.016*\"bodi\"'),\n",
       " (285,\n",
       "  '0.138*\"ibanez\" + 0.037*\"neck\" + 0.035*\"guitar\" + 0.032*\"mapl\" + 0.030*\"walnut\" + 0.029*\"wizard\" + 0.027*\"bodi\" + 0.022*\"graphic\" + 0.022*\"pickup\" + 0.019*\"fret\"'),\n",
       " (286,\n",
       "  '0.096*\"postag\" + 0.051*\"wait\" + 0.044*\"canada\" + 0.037*\"receipt\" + 0.035*\"attach\" + 0.027*\"wire\" + 0.022*\"item\" + 0.019*\"paypal\" + 0.018*\"ship\" + 0.016*\"neck\"'),\n",
       " (287,\n",
       "  '0.081*\"immacul\" + 0.058*\"pit\" + 0.053*\"hole\" + 0.042*\"gibson\" + 0.033*\"2017\" + 0.024*\"drill\" + 0.022*\"mount\" + 0.021*\"remov\" + 0.020*\"guitar\" + 0.017*\"ship\"'),\n",
       " (288,\n",
       "  '0.070*\"kurt\" + 0.060*\"cobain\" + 0.034*\"fender\" + 0.030*\"1967\" + 0.029*\"minim\" + 0.028*\"guitar\" + 0.020*\"origin\" + 0.020*\"condit\" + 0.020*\"plai\" + 0.016*\"buf\"'),\n",
       " (289,\n",
       "  '0.242*\"eric\" + 0.199*\"slight\" + 0.140*\"clapton\" + 0.067*\"bin\" + 0.055*\"wow\" + 0.041*\"350\" + 0.024*\"refret\" + 0.020*\"usa\" + 0.018*\"fender\" + 0.014*\"neck\"'),\n",
       " (290,\n",
       "  '0.001*\"telecast\" + 0.001*\"custom\" + 0.001*\"tone\" + 0.001*\"fmt\" + 0.001*\"tele\" + 0.001*\"humbuck\" + 0.001*\"dai\" + 0.001*\"duncan\" + 0.001*\"condit\" + 0.001*\"item\"'),\n",
       " (291,\n",
       "  '0.243*\"head\" + 0.081*\"burni\" + 0.078*\"copyright\" + 0.049*\"driver\" + 0.037*\"obvious\" + 0.036*\"rlc\" + 0.024*\"628mm\" + 0.023*\"sustain\" + 0.022*\"mode\" + 0.017*\"22f\"'),\n",
       " (292,\n",
       "  '0.091*\"push\" + 0.079*\"pull\" + 0.052*\"tone\" + 0.052*\"switch\" + 0.050*\"control\" + 0.046*\"pickup\" + 0.030*\"neck\" + 0.029*\"knob\" + 0.028*\"guitar\" + 0.028*\"phase\"'),\n",
       " (293,\n",
       "  '0.137*\"335\" + 0.025*\"pickup\" + 0.024*\"regularli\" + 0.023*\"gf\" + 0.020*\"nyc\" + 0.019*\"esquir\" + 0.017*\"blue\" + 0.017*\"hardshel\" + 0.016*\"neck\" + 0.015*\"treatment\"'),\n",
       " (294,\n",
       "  '0.093*\"music\" + 0.041*\"assist\" + 0.039*\"review\" + 0.033*\"guitar\" + 0.023*\"kind\" + 0.018*\"store\" + 0.018*\"choic\" + 0.017*\"feel\" + 0.015*\"stuff\" + 0.015*\"door\"'),\n",
       " (295,\n",
       "  '0.079*\"guitar\" + 0.040*\"plai\" + 0.037*\"beauti\" + 0.036*\"look\" + 0.034*\"case\" + 0.033*\"blue\" + 0.027*\"sound\" + 0.024*\"firebird\" + 0.022*\"new\" + 0.022*\"like\"'),\n",
       " (296,\n",
       "  '0.057*\"knagg\" + 0.047*\"gonna\" + 0.046*\"newli\" + 0.043*\"stanlei\" + 0.039*\"guitar\" + 0.036*\"winter\" + 0.033*\"multipl\" + 0.027*\"meet\" + 0.025*\"kiss\" + 0.019*\"ssc\"'),\n",
       " (297,\n",
       "  '0.318*\"red\" + 0.156*\"candi\" + 0.066*\"appl\" + 0.038*\"guitar\" + 0.023*\"herd\" + 0.020*\"great\" + 0.017*\"condit\" + 0.015*\"thin\" + 0.013*\"electr\" + 0.013*\"ship\"'),\n",
       " (298,\n",
       "  '0.107*\"taylor\" + 0.083*\"poplar\" + 0.044*\"coverag\" + 0.038*\"burl\" + 0.030*\"guitar\" + 0.019*\"energi\" + 0.019*\"cutawai\" + 0.018*\"foot\" + 0.015*\"freeli\" + 0.015*\"emboss\"'),\n",
       " (299,\n",
       "  '0.181*\"epiphon\" + 0.060*\"guitar\" + 0.043*\"electr\" + 0.030*\"condit\" + 0.026*\"cherri\" + 0.023*\"good\" + 0.023*\"special\" + 0.022*\"signific\" + 0.016*\"great\" + 0.015*\"case\"')]"
      ]
     },
     "execution_count": 26,
     "metadata": {},
     "output_type": "execute_result"
    }
   ],
   "source": [
    "lda.print_topics(300)"
   ]
  },
  {
   "cell_type": "code",
   "execution_count": 149,
   "metadata": {},
   "outputs": [],
   "source": [
    "corpus_lda = lda[corpus_tfidf]"
   ]
  },
  {
   "cell_type": "markdown",
   "metadata": {},
   "source": [
    "### Linear Regression Baselining"
   ]
  },
  {
   "cell_type": "markdown",
   "metadata": {},
   "source": [
    "Here I have to set up a naive linear regression model to tune the # of topics we'll be using to feed the better one later."
   ]
  },
  {
   "cell_type": "code",
   "execution_count": null,
   "metadata": {},
   "outputs": [],
   "source": [
    "blank_300 = [0 for k in range(300)]\n",
    "to_concat = []\n",
    "\n",
    "for i in range(len(corpus_lda)):\n",
    "    new_row = pd.DataFrame(data=blank_300)\n",
    "    for j in corpus_lda[i]:\n",
    "        new_row[j[0]] = j[1]\n",
    "    to_concat.append(new_row)\n",
    "\n",
    "topic_weights = pd.concat(to_concat, ignore_index=True)"
   ]
  },
  {
   "cell_type": "code",
   "execution_count": null,
   "metadata": {},
   "outputs": [],
   "source": [
    "topic_weights[:20]"
   ]
  },
  {
   "cell_type": "code",
   "execution_count": null,
   "metadata": {},
   "outputs": [],
   "source": []
  }
 ],
 "metadata": {
  "kernelspec": {
   "display_name": "Python [conda env:Bayes]",
   "language": "python",
   "name": "conda-env-Bayes-py"
  },
  "language_info": {
   "codemirror_mode": {
    "name": "ipython",
    "version": 3
   },
   "file_extension": ".py",
   "mimetype": "text/x-python",
   "name": "python",
   "nbconvert_exporter": "python",
   "pygments_lexer": "ipython3",
   "version": "3.6.6"
  }
 },
 "nbformat": 4,
 "nbformat_minor": 2
}
