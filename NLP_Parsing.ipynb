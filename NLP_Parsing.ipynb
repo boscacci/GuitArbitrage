{
 "cells": [
  {
   "cell_type": "markdown",
   "metadata": {},
   "source": [
    "# NLP For  Regression"
   ]
  },
  {
   "cell_type": "code",
   "execution_count": 4,
   "metadata": {},
   "outputs": [],
   "source": [
    "import os"
   ]
  },
  {
   "cell_type": "markdown",
   "metadata": {},
   "source": [
    "Let's bring in our guitar JSON parser:"
   ]
  },
  {
   "cell_type": "code",
   "execution_count": 5,
   "metadata": {},
   "outputs": [],
   "source": [
    "from Axe_Object import Axe"
   ]
  },
  {
   "cell_type": "markdown",
   "metadata": {},
   "source": [
    "And instantiate our rock n roll guitar objects:"
   ]
  },
  {
   "cell_type": "code",
   "execution_count": 6,
   "metadata": {},
   "outputs": [],
   "source": [
    "filenames = [name for name in os.listdir('axe_specs/') if not name.startswith('.')] # Ignores hidden files on mac"
   ]
  },
  {
   "cell_type": "code",
   "execution_count": 7,
   "metadata": {},
   "outputs": [],
   "source": [
    "axes = []\n",
    "for filename in filenames:\n",
    "    try:\n",
    "        this_axe = Axe(filename)\n",
    "        if \"LOT OF\" not in this_axe.title.upper() and this_axe.price_usd > 100 and this_axe.price_usd < 5000:\n",
    "            if this_axe.string_config and this_axe.string_config < 5:\n",
    "                continue\n",
    "            axes.append(this_axe)\n",
    "    except ValueError:\n",
    "        pass"
   ]
  },
  {
   "cell_type": "markdown",
   "metadata": {},
   "source": [
    "Check out all these text fields we can turn into a big nasty stew of NLP goodness:"
   ]
  },
  {
   "cell_type": "code",
   "execution_count": 8,
   "metadata": {},
   "outputs": [
    {
     "data": {
      "text/plain": [
       "'1991 Japan Made Aria Pro II MAGNA Series Electric Guitar MA-550 Made in Japan'"
      ]
     },
     "execution_count": 8,
     "metadata": {},
     "output_type": "execute_result"
    }
   ],
   "source": [
    "axes[58].title"
   ]
  },
  {
   "cell_type": "code",
   "execution_count": 9,
   "metadata": {
    "scrolled": true
   },
   "outputs": [
    {
     "data": {
      "text/plain": [
       "\"A.01 Fender PB62-75US vwh.html Ebay説明文原本 1991 Made Aria Pro II MAGNA Series Electric Guitar MA-550 Made in Japan Item\\u3000Number ER-853 Condition Rank A No Reserve Auction! Shipping Free All over the world! USA Canada Buyer:Free shipping Europe Buyer: Free shipping Australia Buyer: Free shipping Brazil and South America buyer:Free shipping. We will ship this guitar No CITES application. We can ship this item within 1 business day After you made a payment. If the package will not able to any trouble. You can receive the full refund. no worry 1991 Made Aria Pro II MAGNA Series Electric Guitar MA-550 Made in Japan You're bidding on a very good working condition 1991 Made Aria Pro II MA-550, which contains very fine sound and rich tones made from good pieces of wood and hardworking craftsmanship. The guitar has slim neck shape with 24th frets type. Body has very slim comfortable shape. This is '90s made in Japan high quality made guitar. Tuner has GOTOH fine tuners. Sound is very nice. Body: Alder Neck :Maple Heel less Joint 14 pitched head. Frets: 24F Scale:650mm Pickups: CS-2 Single Coil CH-2 Humbacking If you have questions.Please feel free ask me. Spec/Condition ・Finish \\u3000Black ・wood \\u3000Alder ・Finger Board \\u3000 Rosewood ・Weight \\u3000 3.4kg( 7.50 pounds) ・Serial Number \\u3000 905385 ・Brand \\u3000 Aria Pro II ・Manufacture Country \\u3000 Japan ・Nut width \\u3000 41mm ・Pickups CS-2 Single Coil ×2 CH-2 Humbucking ×1 ・Case \\u3000No Case ・Neck \\u3000 Straight ・Tuner \\u3000 Working Well ・Trussrod \\u3000 Working Well ・Electrics \\u3000 Working Well ・Pickups \\u3000 Working Well \\u3000 \\u3000 \\u3000 \\u3000 \\u3000 \\u3000 \\u3000 \\u3000 Condition Rating(80/100) Not come with tremolo arm bar. Guitar has some scratches and dings on the body.(Photo-01)(Photo-02) The guitar is overall in very good working condition. The fret condition also very good(left 80%) (Not has a fret buzzing) Sounds and plays great with not issue. Please confirm pictures for details. (Not Come with the soft gig case.) I will carefully pack up Very Very well for the safety shipping. Please don't worry about shipping damage. Please look my feedback from the buyer N New / Unused item S Used for a few times and in mint condition A Some dings and scratches overall in Beautiful condition B Noticeable damage(Cracking/Dents),But will not influence anything in use C Many scratches and dents or made a relic finish.Looks bad,But will not influence anything in use Shipping Cost Asia \\u3000 Free Shipping Oceania \\u3000 Free Shipping Middle\\u3000East \\u3000 Free Shipping USA Canada Mexico \\u3000 Free Shipping Europe (Russia) \\u3000 Free Shipping South America \\u3000 Free Shipping (Japan post Economy shipping SAL with tracking number) 2weeks delivery. We ship by EMS (Fastest Express shipping service)To door. Payment I'm accept PayPal, (but if you don't have the acount.Please feel free ask me) (Detail infomation is Please feel free ask me) ・International Buyers Please Note: ・Import duties, taxes and charges are not included in the item price or shipping charges. These charges are the buyer's responsibility. ・Please check with your country's customs office to determine what these additional costs will be prior to bidding/buying.\""
      ]
     },
     "execution_count": 9,
     "metadata": {},
     "output_type": "execute_result"
    }
   ],
   "source": [
    "axes[58].description "
   ]
  },
  {
   "cell_type": "code",
   "execution_count": 10,
   "metadata": {},
   "outputs": [
    {
     "data": {
      "text/plain": [
       "'Condition Rating(80/100)Not come with tremolo arm bar.Guitar has some scratches and dings on the body.(Photo-01)(Photo-02)The guitar is overall in very good working condition.The fret condition also very good(left 80%)(Not has a fret buzzing)Sounds and plays great with not issue.Please confirm pictures for details.'"
      ]
     },
     "execution_count": 10,
     "metadata": {},
     "output_type": "execute_result"
    }
   ],
   "source": [
    "axes[58].condition_description # Might not exist for all instances"
   ]
  },
  {
   "cell_type": "code",
   "execution_count": null,
   "metadata": {},
   "outputs": [
    {
     "data": {
      "text/plain": [
       "'Japan Made vintage guitar No Reserve with FREE SHIPPING'"
      ]
     },
     "execution_count": 11,
     "metadata": {},
     "output_type": "execute_result"
    }
   ],
   "source": [
    "axes[58].subtitle # Might not exist for all instances"
   ]
  },
  {
   "cell_type": "code",
   "execution_count": null,
   "metadata": {},
   "outputs": [
    {
     "data": {
      "text/plain": [
       "'OTHER'"
      ]
     },
     "execution_count": 12,
     "metadata": {},
     "output_type": "execute_result"
    }
   ],
   "source": [
    "axes[58].brand # Might not exist for all instances"
   ]
  },
  {
   "cell_type": "code",
   "execution_count": null,
   "metadata": {},
   "outputs": [
    {
     "data": {
      "text/plain": [
       "'MA-550'"
      ]
     },
     "execution_count": 13,
     "metadata": {},
     "output_type": "execute_result"
    }
   ],
   "source": [
    "axes[58].model # Might not exist for all instances"
   ]
  },
  {
   "cell_type": "code",
   "execution_count": null,
   "metadata": {},
   "outputs": [
    {
     "data": {
      "text/plain": [
       "'1991'"
      ]
     },
     "execution_count": 14,
     "metadata": {},
     "output_type": "execute_result"
    }
   ],
   "source": [
    "str(axes[58].year) # Might not exist for all instances"
   ]
  },
  {
   "cell_type": "code",
   "execution_count": null,
   "metadata": {},
   "outputs": [
    {
     "data": {
      "text/plain": [
       "'ALDER'"
      ]
     },
     "execution_count": 15,
     "metadata": {},
     "output_type": "execute_result"
    }
   ],
   "source": [
    "axes[58].material # Might not exist for all instances"
   ]
  },
  {
   "cell_type": "code",
   "execution_count": null,
   "metadata": {},
   "outputs": [],
   "source": [
    "def assemble_guitar_document(axe):\n",
    "    document = ' '\n",
    "    document = document.join(axe.title + ' ')\n",
    "    \n",
    "    if axe.year != None:\n",
    "        document = document.join([(str(axe.year) + ' ')*3])\n",
    "    if axe.material != None:\n",
    "        document = document.join(axe.material + ' ')\n",
    "    if axe.model != None:\n",
    "        document = document.join(axe.model + ' ')\n",
    "    if axe.brand != None:\n",
    "        document = document.join(axe.brand + ' ')\n",
    "    if axe.subtitle != None:\n",
    "        document = document.join(axe.subtitle + ' ')\n",
    "    if axe.condition_description != None:\n",
    "        document = document.join(axe.condition_description + ' ')\n",
    "    if axe.description != None:\n",
    "        document = document.join(axe.description + ' ')\n",
    "    return document"
   ]
  },
  {
   "cell_type": "code",
   "execution_count": null,
   "metadata": {},
   "outputs": [],
   "source": [
    "corpus = [assemble_guitar_document(axe) for axe in axes]"
   ]
  },
  {
   "cell_type": "code",
   "execution_count": null,
   "metadata": {},
   "outputs": [],
   "source": [
    "corpus[0]"
   ]
  },
  {
   "cell_type": "code",
   "execution_count": null,
   "metadata": {},
   "outputs": [],
   "source": []
  },
  {
   "cell_type": "code",
   "execution_count": null,
   "metadata": {},
   "outputs": [],
   "source": []
  }
 ],
 "metadata": {
  "kernelspec": {
   "display_name": "Python [conda env:Bayes]",
   "language": "python",
   "name": "conda-env-Bayes-py"
  },
  "language_info": {
   "codemirror_mode": {
    "name": "ipython",
    "version": 3
   },
   "file_extension": ".py",
   "mimetype": "text/x-python",
   "name": "python",
   "nbconvert_exporter": "python",
   "pygments_lexer": "ipython3",
   "version": "3.6.6"
  }
 },
 "nbformat": 4,
 "nbformat_minor": 2
}
