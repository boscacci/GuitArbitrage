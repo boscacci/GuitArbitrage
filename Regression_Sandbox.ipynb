{
 "cells": [
  {
   "cell_type": "code",
   "execution_count": 751,
   "metadata": {},
   "outputs": [],
   "source": [
    "import os\n",
    "import numpy as np\n",
    "import pandas as pd\n",
    "pd.options.display.max_columns = 999\n",
    "\n",
    "import matplotlib.pyplot as plt\n",
    "\n",
    "from sklearn.linear_model import RidgeCV\n",
    "from sklearn.model_selection import train_test_split\n",
    "from sklearn.metrics import mean_squared_error\n",
    "from sklearn.decomposition import PCA"
   ]
  },
  {
   "cell_type": "code",
   "execution_count": 752,
   "metadata": {},
   "outputs": [],
   "source": [
    "from Axe_Object import Axe"
   ]
  },
  {
   "cell_type": "code",
   "execution_count": 753,
   "metadata": {},
   "outputs": [],
   "source": [
    "filenames = [name for name in os.listdir('axe_specs/') if not name.startswith('.')] # Ignores hidden files on mac"
   ]
  },
  {
   "cell_type": "code",
   "execution_count": 770,
   "metadata": {},
   "outputs": [],
   "source": [
    "axes = []\n",
    "for filename in filenames:\n",
    "    try:\n",
    "        this_axe = Axe(filename)\n",
    "        if \"LOT OF\" not in this_axe.title.upper() and this_axe.price_usd > 100 and this_axe.price_usd < 1750:\n",
    "            if this_axe.string_config and this_axe.string_config < 5:\n",
    "                continue\n",
    "            if this_axe.market != 'EBAY-US':\n",
    "                continue\n",
    "            if this_axe.year and this_axe.year > 2019:\n",
    "                continue\n",
    "            axes.append(this_axe)\n",
    "    except ValueError:\n",
    "        pass"
   ]
  },
  {
   "cell_type": "code",
   "execution_count": 771,
   "metadata": {},
   "outputs": [],
   "source": [
    "price = pd.Series([axe.price_usd for axe in axes], name = 'price')"
   ]
  },
  {
   "cell_type": "code",
   "execution_count": 772,
   "metadata": {},
   "outputs": [],
   "source": [
    "auction_duration = pd.Series([axe.duration for axe in axes], name = 'auction_duration')\n",
    "shipping_charged = pd.Series([axe.price_shipping for axe in axes], name = 'shipping_charged')\n",
    "seller_country   = pd.Series([axe.country_seller for axe in axes], name = 'seller_country')\n",
    "autopay          = pd.Series([axe.autopay for axe in axes], name = 'autopay')\n",
    "returns          = pd.Series([axe.returns for axe in axes], name = 'returns')\n",
    "listing_type     = pd.Series([axe.listing_type for axe in axes], name = 'listing_type')\n",
    "ship_type        = pd.Series([axe.ship_type for axe in axes], name = 'ship_type')\n",
    "ship_expedite    = pd.Series([axe.ship_expedite for axe in axes], name = 'ship_expedite')\n",
    "start_hour       = pd.cut(pd.Series([axe.start_time.hour for axe in axes], name = 'start_hour'), 6)\n",
    "end_hour         = pd.cut(pd.Series([axe.end_time.hour for axe in axes], name = 'end_hour'), 6)\n",
    "start_weekday    = pd.Series([axe.start_weekday for axe in axes], name = 'start_weekday').astype('category')\n",
    "end_weekday      = pd.Series([axe.end_weekday for axe in axes], name = 'end_weekday').astype('category')\n",
    "returns_time     = pd.Series([axe.returns_time for axe in axes], name = \"returns_time\").astype('category')\n",
    "num_pics         = pd.Series([axe.pic_quantity for axe in axes], name = \"num_pics\")\n",
    "brand            = pd.Series([axe.brand for axe in axes], name = \"brand\")\n",
    "body_type        = pd.Series([axe.body_type for axe in axes], name = \"body_type\")\n",
    "color            = pd.Series([axe.color for axe in axes], name = \"color\")\n",
    "right_left_handed = pd.Series([axe.right_left_handed for axe in axes], name = \"right_left_handed\")\n",
    "best_offer_enabled = pd.Series([axe.best_offer_enabled for axe in axes], name = \"best_offer_enabled\")\n",
    "country_manufacture = pd.Series([axe.country_manufacture for axe in axes], name = \"country_manufacture\")\n",
    "\n",
    "ship_handling_time = pd.Series([axe.ship_handling_time for axe in axes], name = 'ship_handling_time').astype('category')\n",
    "\n",
    "string_config = pd.cut(pd.Series([axe.string_config for axe in axes], name = \"string_config\"),\n",
    "                       [0,5,6,11,20])\n",
    "\n",
    "seller_feedback_score = pd.cut(pd.Series([axe.seller_feedback_score for axe in axes], name = \"seller_feedback_score\"), [-411,0,50,100,200,500,750,1250,2500,10000,100000,400000])\n",
    "\n",
    "seller_positive_percent = pd.cut(pd.Series([axe.seller_positive_percent for axe in axes], name = \"seller_positive_percent\"), [-10000,99.5,111])\n",
    "\n",
    "model_year = pd.cut(pd.Series([axe.year for axe in axes], name = \"model_year\"), [1700,1975,1990,1995,2000,2005,2007,2010,2011,2012,2013,2015])\n",
    "\n",
    "# model = pd.Series([axe.model for axe in axes], name = \"model\")\n",
    "\n",
    "# has_subtitle = []\n",
    "# for axe in axes:\n",
    "#     if axe.subtitle != None:\n",
    "#         has_subtitle.append(True)\n",
    "#     else: has_subtitle.append(False)\n",
    "# has_subtitle = pd.Series(has_subtitle, name=\"has_subtitle\")\n",
    "\n",
    "# has_condition = []\n",
    "# for axe in axes:\n",
    "#     if axe.subtitle != None:\n",
    "#         has_condition.append(True)\n",
    "#     else: has_condition.append(False)\n",
    "# has_condition = pd.Series(has_condition, name=\"has_condition\")"
   ]
  },
  {
   "cell_type": "code",
   "execution_count": 773,
   "metadata": {},
   "outputs": [],
   "source": [
    "# LDA_topic_weights = pd.read_csv('topic_weights.csv', index_col=0)\n",
    "# LDA_topic_weights = LDA_topic_weights > 0 # Binarizing LDA topics"
   ]
  },
  {
   "cell_type": "code",
   "execution_count": 774,
   "metadata": {},
   "outputs": [],
   "source": [
    "X_no_dummies = pd.concat([price, brand, color, country_manufacture, right_left_handed, best_offer_enabled, shipping_charged, \n",
    "               returns, returns_time, autopay,seller_country, ship_handling_time, listing_type, ship_expedite,\n",
    "               ship_type, num_pics, auction_duration, start_hour, end_hour, start_weekday, end_weekday, \n",
    "               seller_feedback_score, seller_positive_percent, model_year, body_type, string_config],\n",
    "#              LDA_topic_weights],\n",
    "              axis = 1)\n",
    "\n",
    "X = pd.get_dummies(X_no_dummies, drop_first=True)"
   ]
  },
  {
   "cell_type": "code",
   "execution_count": 775,
   "metadata": {},
   "outputs": [],
   "source": [
    "X = X.dropna(subset=['price'])"
   ]
  },
  {
   "cell_type": "code",
   "execution_count": 776,
   "metadata": {},
   "outputs": [],
   "source": [
    "X_train, X_test, y_train, y_test = train_test_split(X.iloc[:,1:], X.iloc[:,0])"
   ]
  },
  {
   "cell_type": "markdown",
   "metadata": {},
   "source": [
    "### Ridge Regression"
   ]
  },
  {
   "cell_type": "code",
   "execution_count": 777,
   "metadata": {},
   "outputs": [],
   "source": [
    "lin_reg = RidgeCV(alphas=[0.1, 1.0, 5.0, 10.0], cv=3).fit(X_train, y_train)"
   ]
  },
  {
   "cell_type": "code",
   "execution_count": 778,
   "metadata": {},
   "outputs": [],
   "source": [
    "y_preds = lin_reg.predict(X_test)"
   ]
  },
  {
   "cell_type": "code",
   "execution_count": 779,
   "metadata": {},
   "outputs": [
    {
     "data": {
      "text/plain": [
       "366.4190407249323"
      ]
     },
     "execution_count": 779,
     "metadata": {},
     "output_type": "execute_result"
    }
   ],
   "source": [
    "price_mean = np.mean([axe.price_usd for axe in axes])\n",
    "price_mean_vector = [price_mean for i in range(len(y_test))]\n",
    "baseline_error = np.sqrt(mean_squared_error(y_test, price_mean_vector))\n",
    "baseline_error"
   ]
  },
  {
   "cell_type": "code",
   "execution_count": 780,
   "metadata": {},
   "outputs": [
    {
     "data": {
      "text/plain": [
       "286.6242247121548"
      ]
     },
     "execution_count": 780,
     "metadata": {},
     "output_type": "execute_result"
    }
   ],
   "source": [
    "ridge_error = np.sqrt(mean_squared_error(y_test, y_preds))\n",
    "ridge_error"
   ]
  },
  {
   "cell_type": "code",
   "execution_count": 781,
   "metadata": {},
   "outputs": [
    {
     "name": "stdout",
     "output_type": "stream",
     "text": [
      "So far just a 21.78% improvement over guessing the mean.\n"
     ]
    }
   ],
   "source": [
    "print(f'So far just a {round((((baseline_error - ridge_error) / baseline_error) * 100),2)}% improvement over guessing the mean.')"
   ]
  },
  {
   "cell_type": "code",
   "execution_count": 782,
   "metadata": {},
   "outputs": [
    {
     "data": {
      "image/png": "[encoded data removed]",
      "text/plain": [
       "<Figure size 432x288 with 1 Axes>"
      ]
     },
     "metadata": {
      "needs_background": "light"
     },
     "output_type": "display_data"
    }
   ],
   "source": [
    "plt.scatter(y_test, y_preds)\n",
    "plt.show()"
   ]
  }
 ],
 "metadata": {
  "kernelspec": {
   "display_name": "Python [conda env:Bayes]",
   "language": "python",
   "name": "conda-env-Bayes-py"
  },
  "language_info": {
   "codemirror_mode": {
    "name": "ipython",
    "version": 3
   },
   "file_extension": ".py",
   "mimetype": "text/x-python",
   "name": "python",
   "nbconvert_exporter": "python",
   "pygments_lexer": "ipython3",
   "version": "3.6.6"
  }
 },
 "nbformat": 4,
 "nbformat_minor": 2
}
