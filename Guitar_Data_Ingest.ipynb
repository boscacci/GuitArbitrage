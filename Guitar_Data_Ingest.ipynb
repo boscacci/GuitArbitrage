{
 "cells": [
  {
   "cell_type": "code",
   "execution_count": 226,
   "metadata": {},
   "outputs": [],
   "source": [
    "import json, os\n",
    "\n",
    "import pandas as pd\n",
    "import numpy as np\n",
    "\n",
    "from scipy.stats import boxcox\n",
    "\n",
    "from datetime import datetime\n",
    "import matplotlib.pyplot as plt"
   ]
  },
  {
   "cell_type": "markdown",
   "metadata": {},
   "source": [
    "### Here's a JSON Reader Function"
   ]
  },
  {
   "cell_type": "code",
   "execution_count": 227,
   "metadata": {},
   "outputs": [],
   "source": [
    "def read_axe_jsons(axe_num):\n",
    "    with open('axe_listings/%s' % (axe_num), \"r\") as read_file:\n",
    "        listing = json.load(read_file)\n",
    "    with open('axe_specs/%s' % (axe_num), \"r\") as read_file:\n",
    "        specs = json.load(read_file)\n",
    "    return {'listing': listing, 'specs': specs}"
   ]
  },
  {
   "cell_type": "markdown",
   "metadata": {},
   "source": [
    "### Here's a Guitar (Axe) Class with Lots of Attributes (Features)"
   ]
  },
  {
   "cell_type": "markdown",
   "metadata": {},
   "source": [
    "Some ducking was required for auctions without certain details."
   ]
  },
  {
   "cell_type": "code",
   "execution_count": 236,
   "metadata": {},
   "outputs": [],
   "source": [
    "class Axe:\n",
    "    def __init__(self, axe_num=None):\n",
    "        self.id = axe_num\n",
    "        self.__body = read_axe_jsons(\"%s\" % (axe_num))\n",
    "        self.price_usd = float(self.__body['listing']['sellingStatus'][0]['convertedCurrentPrice'][0]['__value__'])\n",
    "        self.title = self.__body['listing']['title'][0]\n",
    "        self.market = self.__body['listing']['globalId'][0]\n",
    "        if self.__body['listing'].get('galleryURL'):\n",
    "            self.pic = self.__body['listing']['galleryURL'][0]\n",
    "        else: self.pic = None\n",
    "        \n",
    "        if self.__body['listing'].get(\"pictureURLLarge\"):\n",
    "            self.pic_big = self.__body['listing']['pictureURLLarge'][0]\n",
    "        else:\n",
    "            self.pic_big = None\n",
    "        \n",
    "        self.url = self.__body['listing']['viewItemURL'][0]\n",
    "        self.autopay = self.__body['listing']['autoPay'][0] == 'true'\n",
    "        self.country_seller = self.__body['listing']['country'][0]\n",
    "        self.ship_type = self.__body['listing']['shippingInfo'][0]['shippingType'][0]\n",
    "        self.ship_expedite = self.__body['listing']['shippingInfo'][0]['expeditedShipping'][0] == 'true'\n",
    "        \n",
    "        if self.__body['listing']['shippingInfo'][0].get('handlingTime'):\n",
    "            self.ship_handling_time = int(self.__body['listing']['shippingInfo'][0]['handlingTime'][0])\n",
    "        else: \n",
    "            self.ship_handling_time = None\n",
    "        \n",
    "        self.zip = self.__body['listing'].get('postalCode')\n",
    "        \n",
    "        self.start_time = datetime.strptime(self.__body['listing']['listingInfo'][0]['startTime'][0], \n",
    "                                            \"%Y-%m-%dT%H:%M:%S.%fZ\")\n",
    "        self.end_time = datetime.strptime(self.__body['listing']['listingInfo'][0]['endTime'][0], \n",
    "                                            \"%Y-%m-%dT%H:%M:%S.%fZ\")\n",
    "        \n",
    "        self.start_weekday = self.start_time.weekday()\n",
    "        self.end_weekday = self.end_time.weekday()\n",
    "        \n",
    "        self.__duration = (self.end_time - self.start_time)\n",
    "        self.duration = round(float(self.__duration.days*24) + float(self.__duration.seconds/60/60), 2)\n",
    "        \n",
    "        self.returns = self.__body['listing']['returnsAccepted'][0] == 'true'\n",
    "        \n",
    "        # End Generic Section // Begin Specs Section:\n",
    "        \n",
    "        if self.__body['specs'].get('Description'):\n",
    "            self.description = self.__body['specs']['Description']\n",
    "        else:\n",
    "            self.description = None\n",
    "        \n",
    "        self.pic_quantity = len(self.__body['specs']['PictureURL'])\n",
    "        self.seller_feedback_score = float(self.__body['specs']['Seller']['FeedbackScore'])\n",
    "        self.seller_positive_percent = float(self.__body['specs']['Seller']['PositiveFeedbackPercent'])\n",
    "        self.subtitle = self.__body['specs'].get('Subtitle')\n",
    "        self.condition_description = self.__body['specs'].get('ConditionDescription')\n",
    "        \n",
    "        # Niche niche specifics:\n",
    "        \n",
    "        if self.returns:\n",
    "            if self.__body['specs']['ReturnPolicy'].get('ReturnsWithin'):\n",
    "                self.returns_time = int(self.__body['specs']['ReturnPolicy'].get('ReturnsWithin').split()[0])\n",
    "        else: self.returns_time = None\n",
    "            \n",
    "        # Very ultra niche specifics, more ducking required:\n",
    "        \n",
    "        if self.__body['specs'].get('ItemSpecifics'):\n",
    "            self.__attrs = {prop['Name']:prop['Value'][0] \n",
    "                            for prop in self.__body['specs']['ItemSpecifics']['NameValueList']}\n",
    "            self.brand = self.__attrs.get('Brand')\n",
    "            self.model = self.__attrs.get('Model')\n",
    "            \n",
    "            if self.__attrs.get('Model Year'):\n",
    "                self.year = self.__attrs.get('Model Year')[:4]\n",
    "            else: self.year = None\n",
    "                \n",
    "            self.material = self.__attrs.get('Body Material')\n",
    "            self.right_left_hand = self.__attrs.get('Right-/ Left-Handed')\n",
    "            self.country_manufacture = self.__attrs.get('Country/Region of Manufacture')\n",
    "            self.body_type = self.__attrs.get('Body Type')\n",
    "            self.string_config = self.__attrs.get('String Configuration')\n",
    "            self.color = self.__attrs.get('Body Color')\n",
    "        else:\n",
    "            self.__attrs = self.brand = self.model = self.year = None\n",
    "            self.material = self.right_left_hand = self.country_manufacture = None\n",
    "            self.body_type = self.string_config = self.color = None    "
   ]
  },
  {
   "cell_type": "markdown",
   "metadata": {},
   "source": [
    "### Loop Through All Guitar JSON Data Files, Instantiate AXE Class Objects"
   ]
  },
  {
   "cell_type": "code",
   "execution_count": 237,
   "metadata": {},
   "outputs": [],
   "source": [
    "filenames = [name for name in os.listdir('axe_specs/') if not name.startswith('.')] # Ignore .DS_Store"
   ]
  },
  {
   "cell_type": "code",
   "execution_count": 238,
   "metadata": {},
   "outputs": [],
   "source": [
    "axes = [Axe(filename) for filename in filenames]"
   ]
  },
  {
   "cell_type": "code",
   "execution_count": 239,
   "metadata": {},
   "outputs": [
    {
     "data": {
      "text/plain": [
       "6045"
      ]
     },
     "execution_count": 239,
     "metadata": {},
     "output_type": "execute_result"
    }
   ],
   "source": [
    "len(axes)"
   ]
  },
  {
   "cell_type": "markdown",
   "metadata": {},
   "source": [
    "********"
   ]
  },
  {
   "cell_type": "markdown",
   "metadata": {},
   "source": [
    "## EDA"
   ]
  },
  {
   "cell_type": "markdown",
   "metadata": {},
   "source": [
    "**********"
   ]
  },
  {
   "cell_type": "markdown",
   "metadata": {},
   "source": [
    "__Price Distribution:__"
   ]
  },
  {
   "cell_type": "code",
   "execution_count": 240,
   "metadata": {},
   "outputs": [
    {
     "data": {
      "image/png": "[encoded data removed]",
      "text/plain": [
       "<Figure size 720x432 with 1 Axes>"
      ]
     },
     "metadata": {
      "needs_background": "light"
     },
     "output_type": "display_data"
    }
   ],
   "source": [
    "plt.figure(figsize = (10,6))\n",
    "plt.hist([axe.price_usd for axe in axes], bins=50)\n",
    "plt.ylabel('Guitar Price in LOG USD')\n",
    "plt.show()"
   ]
  },
  {
   "cell_type": "markdown",
   "metadata": {},
   "source": [
    "**Box-Cox Transformed Price Distribution:**"
   ]
  },
  {
   "cell_type": "code",
   "execution_count": 241,
   "metadata": {},
   "outputs": [
    {
     "data": {
      "image/png": "[encoded data removed]",
      "text/plain": [
       "<Figure size 720x432 with 1 Axes>"
      ]
     },
     "metadata": {
      "needs_background": "light"
     },
     "output_type": "display_data"
    }
   ],
   "source": [
    "plt.figure(figsize = (10,6))\n",
    "plt.hist(boxcox(np.array([axe.price_usd for axe in axes]), -.5), bins=50)\n",
    "plt.ylabel('Box-Coxed Price')\n",
    "plt.show()"
   ]
  },
  {
   "cell_type": "markdown",
   "metadata": {},
   "source": [
    "**********"
   ]
  },
  {
   "cell_type": "markdown",
   "metadata": {},
   "source": [
    "__Text Fields, for NLP:__"
   ]
  },
  {
   "cell_type": "code",
   "execution_count": 197,
   "metadata": {},
   "outputs": [
    {
     "data": {
      "text/plain": [
       "['Paul Reed Smith Custom 24 Anniversary Blue Maple Quilt',\n",
       " 'Reverend Volcano Electric Guitar - Used, Mint Condition - w/Hard Shell Case',\n",
       " '1982 Fender Fullerton ‘62 Reissue Stratocaster, No. V008495 Collector Features!',\n",
       " ' Fender American Standard Telecaster w/ Original Case',\n",
       " 'PRS SE 245 Amber Flame Top',\n",
       " 'Epiphone Joe Pass Emperor II Electric Guitar (MIK)',\n",
       " 'Vintage 1978 Aria Pro II LC 550 Custom LP Electric Guitar-Japan',\n",
       " 'Godin 5th Avenue Uptown GT LTD - Silver Gold - Premium Preowned',\n",
       " \"Reverend Super Rev Electric Guitar - '69 Yellow - Premium Preowned\",\n",
       " 'Reverend Kyle Shutt Signature Electric Guitar - Ice White - Premium Preowned']"
      ]
     },
     "execution_count": 197,
     "metadata": {},
     "output_type": "execute_result"
    }
   ],
   "source": [
    "[axe.title for axe in axes][:10]"
   ]
  },
  {
   "cell_type": "code",
   "execution_count": 179,
   "metadata": {},
   "outputs": [
    {
     "data": {
      "text/plain": [
       "57.87544752214057"
      ]
     },
     "execution_count": 179,
     "metadata": {},
     "output_type": "execute_result"
    }
   ],
   "source": [
    "mean_title_len = sum(len(axe.title) for axe in axes)/len(axes)\n",
    "mean_title_len"
   ]
  },
  {
   "cell_type": "code",
   "execution_count": 204,
   "metadata": {},
   "outputs": [
    {
     "data": {
      "text/plain": [
       "['two cavity covers on back missing, two latches on case broken',\n",
       " 'Guitar has been repaired where the endpin is located.It plays great and rings true across fret board.',\n",
       " 'marks and scuffs',\n",
       " 'Excellent',\n",
       " 'beautiful guitar!!!',\n",
       " 'This is used but in good functional condition. One switch tip is broken, there is peeling finish on the fretboard, and there are two cracks near the nut. Please see photos and item description for additional details.',\n",
       " 'Guitar Works.Missing Volume Knob.Pickups Work.Comes With A Gig Bag.',\n",
       " 'NICE CONDITION MARKS OF USE + 50 YEARS. 100 % FUNCIONAL. SEE PICTURES',\n",
       " 'Used but great condition',\n",
       " 'Barely used!! Pretty much new. Only played it a few times.']"
      ]
     },
     "execution_count": 204,
     "metadata": {},
     "output_type": "execute_result"
    }
   ],
   "source": [
    "[axe.condition_description for axe in axes if axe.condition_description != None][50:60]"
   ]
  },
  {
   "cell_type": "markdown",
   "metadata": {},
   "source": [
    "Percent of listings that include a text condition description field:"
   ]
  },
  {
   "cell_type": "code",
   "execution_count": 210,
   "metadata": {},
   "outputs": [
    {
     "data": {
      "text/plain": [
       "0.2771810815903524"
      ]
     },
     "execution_count": 210,
     "metadata": {},
     "output_type": "execute_result"
    }
   ],
   "source": [
    "len([axe.condition_description for axe in axes if axe.condition_description != None]) / len(axes)"
   ]
  },
  {
   "cell_type": "code",
   "execution_count": null,
   "metadata": {},
   "outputs": [],
   "source": []
  },
  {
   "cell_type": "code",
   "execution_count": null,
   "metadata": {},
   "outputs": [],
   "source": []
  },
  {
   "cell_type": "markdown",
   "metadata": {},
   "source": [
    "***********"
   ]
  },
  {
   "cell_type": "markdown",
   "metadata": {},
   "source": [
    "__Number of Pics on eBay listing:__"
   ]
  },
  {
   "cell_type": "code",
   "execution_count": 152,
   "metadata": {},
   "outputs": [
    {
     "data": {
      "image/png": "[encoded data removed]",
      "text/plain": [
       "<Figure size 1296x432 with 1 Axes>"
      ]
     },
     "metadata": {
      "needs_background": "light"
     },
     "output_type": "display_data"
    }
   ],
   "source": [
    "plt.figure(figsize = (18,6))\n",
    "plt.hist([axe.pic_quantity for axe in axes])\n",
    "plt.show()"
   ]
  },
  {
   "cell_type": "markdown",
   "metadata": {},
   "source": [
    "__Thumbnail Image URLs__ — for Potential (CNN, maybe) Image Analysis as a factor in price"
   ]
  },
  {
   "cell_type": "code",
   "execution_count": 153,
   "metadata": {},
   "outputs": [
    {
     "data": {
      "text/plain": [
       "['http://thumbs2.ebaystatic.com/m/m0D2-zv9uYmDdJZuT1Gxz9w/140.jpg',\n",
       " 'http://thumbs3.ebaystatic.com/m/mf_K9CJ9oMxzGCTxnspjDaA/140.jpg',\n",
       " 'http://thumbs3.ebaystatic.com/m/mhYMjKmDarwSAil8hum9isA/140.jpg',\n",
       " 'http://thumbs4.ebaystatic.com/m/mB7X0lxYCR3TDZ7A4kPM7kw/140.jpg',\n",
       " 'http://thumbs1.ebaystatic.com/m/mMM1eWXYE96GRVXYWKrggcQ/140.jpg']"
      ]
     },
     "execution_count": 153,
     "metadata": {},
     "output_type": "execute_result"
    }
   ],
   "source": [
    "[axe.pic for axe in axes][:5] # Just first five. You get it"
   ]
  },
  {
   "cell_type": "markdown",
   "metadata": {},
   "source": [
    "**********"
   ]
  },
  {
   "cell_type": "markdown",
   "metadata": {},
   "source": [
    "**Shipping Type:**"
   ]
  },
  {
   "cell_type": "code",
   "execution_count": 154,
   "metadata": {},
   "outputs": [
    {
     "data": {
      "image/png": "[encoded data removed]",
      "text/plain": [
       "<Figure size 1296x432 with 1 Axes>"
      ]
     },
     "metadata": {
      "needs_background": "light"
     },
     "output_type": "display_data"
    }
   ],
   "source": [
    "plt.figure(figsize = (18,6))\n",
    "ship_counts = pd.Series([axe.ship_type for axe in axes]).value_counts()\n",
    "plt.bar(ship_counts.index, ship_counts.values/len(axes))\n",
    "plt.show()"
   ]
  },
  {
   "cell_type": "markdown",
   "metadata": {},
   "source": [
    "**Handling Time in Days:**"
   ]
  },
  {
   "cell_type": "code",
   "execution_count": 161,
   "metadata": {},
   "outputs": [
    {
     "data": {
      "image/png": "[encoded data removed]",
      "text/plain": [
       "<Figure size 1296x432 with 1 Axes>"
      ]
     },
     "metadata": {
      "needs_background": "light"
     },
     "output_type": "display_data"
    }
   ],
   "source": [
    "plt.figure(figsize = (18,6))\n",
    "times = [axe.ship_handling_time for axe in axes if axe.ship_handling_time != None]\n",
    "plt.hist(times, bins=np.arange(max(times))+1.5)\n",
    "plt.xticks([2,3,4,5,10,30])\n",
    "plt.xlabel('Days to Handle Package')\n",
    "plt.ylabel('# of Shippers')\n",
    "plt.show()"
   ]
  },
  {
   "cell_type": "markdown",
   "metadata": {},
   "source": [
    "__Duration of Auction in Days__:"
   ]
  },
  {
   "cell_type": "code",
   "execution_count": 162,
   "metadata": {},
   "outputs": [
    {
     "data": {
      "image/png": "[encoded data removed]",
      "text/plain": [
       "<Figure size 1080x432 with 1 Axes>"
      ]
     },
     "metadata": {
      "needs_background": "light"
     },
     "output_type": "display_data"
    }
   ],
   "source": [
    "plt.figure(figsize = (15,6))\n",
    "plt.hist([axe.duration/24 for axe in axes], bins = np.arange(10)+1.5)\n",
    "plt.xticks(range(11))\n",
    "plt.xlabel('Length of Auction in Days')\n",
    "plt.show()"
   ]
  },
  {
   "cell_type": "markdown",
   "metadata": {},
   "source": [
    "***"
   ]
  },
  {
   "cell_type": "markdown",
   "metadata": {},
   "source": [
    "**Distribution of Countries of Sellers:**"
   ]
  },
  {
   "cell_type": "code",
   "execution_count": 163,
   "metadata": {},
   "outputs": [
    {
     "data": {
      "image/png": "[encoded data removed]",
      "text/plain": [
       "<Figure size 720x720 with 1 Axes>"
      ]
     },
     "metadata": {},
     "output_type": "display_data"
    }
   ],
   "source": [
    "plt.figure(figsize = (10,10))\n",
    "countries = pd.Series([axe.country_seller for axe in axes]).value_counts()\n",
    "plt.pie(countries.values, labels=countries.index, explode = np.full(len(countries), .5))\n",
    "plt.show()"
   ]
  },
  {
   "cell_type": "markdown",
   "metadata": {},
   "source": [
    "Probably want to just exclude non-USA sellers."
   ]
  },
  {
   "cell_type": "markdown",
   "metadata": {},
   "source": [
    "***"
   ]
  },
  {
   "cell_type": "markdown",
   "metadata": {},
   "source": [
    "**Offering Expedited Shipping:**"
   ]
  },
  {
   "cell_type": "code",
   "execution_count": 164,
   "metadata": {},
   "outputs": [
    {
     "data": {
      "image/png": "[encoded data removed]",
      "text/plain": [
       "<Figure size 360x360 with 1 Axes>"
      ]
     },
     "metadata": {},
     "output_type": "display_data"
    }
   ],
   "source": [
    "exp = pd.Series([axe.ship_expedite for axe in axes]).value_counts()\n",
    "plt.figure(figsize = (5,5))\n",
    "plt.pie(exp.values, explode=[.1,.1], labels=['Normal', 'Expeditable'])\n",
    "plt.show()"
   ]
  },
  {
   "cell_type": "markdown",
   "metadata": {},
   "source": [
    "***********"
   ]
  },
  {
   "cell_type": "markdown",
   "metadata": {},
   "source": [
    "**Starting Weekday:**"
   ]
  },
  {
   "cell_type": "code",
   "execution_count": 165,
   "metadata": {},
   "outputs": [
    {
     "data": {
      "image/png": "[encoded data removed]",
      "text/plain": [
       "<Figure size 1080x360 with 1 Axes>"
      ]
     },
     "metadata": {
      "needs_background": "light"
     },
     "output_type": "display_data"
    }
   ],
   "source": [
    "days = pd.Series([axe.start_weekday for axe in axes]).value_counts()\n",
    "plt.figure(figsize = (15,5))\n",
    "plt.bar(days.index, days.values/len(axes))\n",
    "plt.xticks(range(7), 'M T W TH F SA SU'.split(' '))\n",
    "plt.xlabel(\"Listing Start Day\")\n",
    "plt.ylabel('Percentage')\n",
    "plt.show()"
   ]
  },
  {
   "cell_type": "markdown",
   "metadata": {},
   "source": [
    "**Ending Weekday:**"
   ]
  },
  {
   "cell_type": "code",
   "execution_count": 166,
   "metadata": {},
   "outputs": [
    {
     "data": {
      "image/png": "[encoded data removed]",
      "text/plain": [
       "<Figure size 1080x360 with 1 Axes>"
      ]
     },
     "metadata": {
      "needs_background": "light"
     },
     "output_type": "display_data"
    }
   ],
   "source": [
    "days = pd.Series([axe.end_weekday for axe in axes]).value_counts()\n",
    "plt.figure(figsize = (15,5))\n",
    "plt.bar(days.index, days.values/len(axes))\n",
    "plt.xticks(range(7), 'M T W TH F SA SU'.split(' '))\n",
    "plt.ylabel('Percentage')\n",
    "plt.xlabel(\"Auction Ending Weekday\")\n",
    "plt.show()"
   ]
  },
  {
   "cell_type": "markdown",
   "metadata": {},
   "source": [
    "****"
   ]
  },
  {
   "cell_type": "markdown",
   "metadata": {},
   "source": [
    "**Percentage Offering Returns:**"
   ]
  },
  {
   "cell_type": "code",
   "execution_count": 167,
   "metadata": {},
   "outputs": [
    {
     "data": {
      "image/png": "[encoded data removed]",
      "text/plain": [
       "<Figure size 360x360 with 1 Axes>"
      ]
     },
     "metadata": {},
     "output_type": "display_data"
    }
   ],
   "source": [
    "returns = pd.Series([axe.returns for axe in axes]).value_counts()\n",
    "plt.figure(figsize = (5,5))\n",
    "plt.pie(returns.values, explode=[.1,.1], labels=['No Returns', 'Returns'])\n",
    "plt.show()"
   ]
  },
  {
   "cell_type": "markdown",
   "metadata": {},
   "source": [
    "****"
   ]
  },
  {
   "cell_type": "markdown",
   "metadata": {},
   "source": [
    "**Return Time Windows** of sellers offering returns:"
   ]
  },
  {
   "cell_type": "code",
   "execution_count": 172,
   "metadata": {},
   "outputs": [
    {
     "data": {
      "image/png": "[encoded data removed]",
      "text/plain": [
       "<Figure size 360x360 with 1 Axes>"
      ]
     },
     "metadata": {},
     "output_type": "display_data"
    }
   ],
   "source": [
    "returns = pd.Series([axe.returns_time for axe in axes if axe.returns_time != None]).value_counts()\n",
    "plt.figure(figsize = (5,5))\n",
    "plt.pie(returns.values, explode=[.1,.1,.1,.1], labels = ['30 Days', '14 Days', '60 Days', '7 Days'])\n",
    "plt.show()"
   ]
  },
  {
   "cell_type": "markdown",
   "metadata": {},
   "source": [
    "***"
   ]
  },
  {
   "cell_type": "markdown",
   "metadata": {},
   "source": [
    "__Guitar Body Colors:__"
   ]
  },
  {
   "cell_type": "code",
   "execution_count": 186,
   "metadata": {},
   "outputs": [
    {
     "data": {
      "text/plain": [
       "Black               532\n",
       "White               254\n",
       "Red                 253\n",
       "Blue                176\n",
       "Sunburst            135\n",
       "Brown                83\n",
       "Natural              81\n",
       "Gold                 69\n",
       "Green                62\n",
       "Multicolor           58\n",
       "Orange               38\n",
       "Yellow               31\n",
       "Silver               28\n",
       "Clear                27\n",
       "Purple               26\n",
       "Cherry               26\n",
       "Gray                 19\n",
       "Tobacco Sunburst     19\n",
       "Ebony                17\n",
       "Vintage Sunburst     16\n",
       "dtype: int64"
      ]
     },
     "execution_count": 186,
     "metadata": {},
     "output_type": "execute_result"
    }
   ],
   "source": [
    "pd.Series([axe.color for axe in axes if axe.color != None]).value_counts()[:20]"
   ]
  },
  {
   "cell_type": "code",
   "execution_count": 195,
   "metadata": {},
   "outputs": [
    {
     "name": "stdout",
     "output_type": "stream",
     "text": [
      "55.4% of listings include a body color where they're supposed to.\n"
     ]
    }
   ],
   "source": [
    "per = round((sum(pd.Series([axe.color for axe in axes if axe.color != None]).value_counts() / len(axes))*100),2)\n",
    "print(f'{per}% of listings include a body color where they\\'re supposed to.')"
   ]
  },
  {
   "cell_type": "code",
   "execution_count": null,
   "metadata": {},
   "outputs": [],
   "source": []
  }
 ],
 "metadata": {
  "kernelspec": {
   "display_name": "Bayes_2019-01-23",
   "language": "python",
   "name": "bayes"
  },
  "language_info": {
   "codemirror_mode": {
    "name": "ipython",
    "version": 3
   },
   "file_extension": ".py",
   "mimetype": "text/x-python",
   "name": "python",
   "nbconvert_exporter": "python",
   "pygments_lexer": "ipython3",
   "version": "3.6.8"
  }
 },
 "nbformat": 4,
 "nbformat_minor": 2
}
