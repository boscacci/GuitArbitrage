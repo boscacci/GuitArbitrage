{
 "cells": [
  {
   "cell_type": "markdown",
   "metadata": {},
   "source": [
    "## Final Project Proposal\n",
    "\n",
    "\n",
    "__What question/questions are you trying to solve?__\n",
    "* How well can we guess the final auction price of an (X) on eBay, before we list it?\n",
    "* How can I help my information security specialist friend classify and visualize incoming requests?\n",
    "\n",
    "\n",
    "__What are the outcomes you think you will find, and then so what?__\n",
    "\n",
    "* It is either trivial, challenging, or near-impossible to train an ML model to accurately guess the price of an (X)\n",
    "* The cyber-security field is either rife with opportunity for data science innovation, or too far out of my domain expertise for me to be helpful\n",
    "\n",
    "\n",
    "__How would someone, or some entity take action upon learning this?__\n",
    "* In the event that my eBay model is confidently predictive, one could use it to help arbitrage goods across platforms.\n",
    "* In the event that my info-sec tool is useful, white-hat pen-testers could use it to visualize apache logs and things.\n",
    "\n",
    "\n",
    "__What version this question would allow me to find an answer in 2-3 days?__\n",
    "* How accurate is an eBay predictive model that just goes off of the basic features (with no NLP or CNN action)?\n",
    "* What if we just visualized incoming web requests / Fail2ban logs?\n",
    "\n",
    "\n",
    "__What version of this question would allow me/motivate me to work on this problem even after completing Flatiron School?__\n",
    "* For which eBay product category can I make the most accurate valuator model? Can I put it into practice?\n",
    "* What other tools can I make for the information security field?\n",
    "\n",
    "\n",
    "__What are some data sources that would allow you to answer this?__\n",
    "* eBay API\n",
    "* My friend in the NAVY\n",
    "\n",
    "\n",
    "__What is the ideal data you would hope to gather to answer this question?__\n",
    "* Tens of thousands of previous eBay auctions\n",
    "* Tens of thousands of server logs and things\n",
    "\n",
    "\n",
    "__What about potentially missing data, that could cause omitted variable bias?__\n",
    "* There might be a lot of this, so I will have to get creative about making my sparse data less sparse\n",
    "* Server logs will not have this problem mostly.\n",
    "\n",
    "\n",
    "__How will you present your data? Will it be a jupyter notebook presentation or a Dashboard.__\n",
    "* Dash was a good time, would use again\n",
    "* Ideally users can make a new eBay listing, run it through the model to get a price guess\n",
    "* Server log visualizations would be a geo-viz of some kind like a kepler.gl object of some kind\n",
    "\n",
    "\n",
    "__How will you use regression and/or classification?__\n",
    "* eBay value estimator will obviously guess the price of new listings\n",
    "* Info-Sec project would probably try to classify incoming requests as malicious, safe, or unknown or something\n",
    "\n",
    "\n",
    "__What are the challenges you foresee with this project?__\n",
    "* Figuring out good model stacking and ninja feature engineering techniques\n",
    "* Domain-specific challenges having to do with the eBay API responses\n",
    "* 5000-request daily limit with eBay API\n",
    "\n",
    "\n",
    "__What are your next steps moving forward?__\n",
    "* Making hecka requests to the eBay API and collecting data\n",
    "* Poking and prodding the data every which way possible\n",
    "* NLP pipeline for titles, description, condition description text\n",
    "* Think about how I might use the images to help guess price"
   ]
  },
  {
   "cell_type": "code",
   "execution_count": 1,
   "metadata": {},
   "outputs": [],
   "source": [
    "import json, os, io, requests, csv\n",
    "\n",
    "import pandas as pd\n",
    "import numpy as np\n",
    "\n",
    "from scipy.stats import boxcox\n",
    "\n",
    "from datetime import datetime\n",
    "import matplotlib.pyplot as plt"
   ]
  },
  {
   "cell_type": "markdown",
   "metadata": {},
   "source": [
    "### Here's a JSON Reader"
   ]
  },
  {
   "cell_type": "code",
   "execution_count": 2,
   "metadata": {},
   "outputs": [],
   "source": [
    "def read_axe_jsons(axe_num):\n",
    "    with open('axe_listings/%s' % (axe_num), \"r\") as read_file:\n",
    "        listing = json.load(read_file)\n",
    "    with open('axe_specs/%s' % (axe_num), \"r\") as read_file:\n",
    "        specs = json.load(read_file)\n",
    "    return {'listing': listing, 'specs': specs}"
   ]
  },
  {
   "cell_type": "markdown",
   "metadata": {},
   "source": [
    "### Here's a Guitar (Axe) Class with *Lots* of Attributes (Features)"
   ]
  },
  {
   "cell_type": "markdown",
   "metadata": {},
   "source": [
    "Some ducking was required for auctions without certain details."
   ]
  },
  {
   "cell_type": "code",
   "execution_count": 48,
   "metadata": {},
   "outputs": [],
   "source": [
    "class Axe:\n",
    "    def __init__(self, axe_num=None):\n",
    "        self.id = axe_num\n",
    "        self.__body = read_axe_jsons(\"%s\" % (axe_num))\n",
    "        self.price_usd = float(self.__body['listing']['sellingStatus'][0]['convertedCurrentPrice'][0]['__value__'])\n",
    "        self.title = self.__body['listing']['title'][0]\n",
    "        self.market = self.__body['listing']['globalId'][0]\n",
    "        if self.__body['listing'].get('galleryURL'):\n",
    "            self.pic = self.__body['listing']['galleryURL'][0]\n",
    "        else: self.pic = None\n",
    "        \n",
    "        if self.__body['listing'].get(\"pictureURLLarge\"):\n",
    "            self.pic_big = self.__body['listing']['pictureURLLarge'][0]\n",
    "        else:\n",
    "            self.pic_big = None\n",
    "        \n",
    "        self.url = self.__body['listing']['viewItemURL'][0]\n",
    "        self.autopay = self.__body['listing']['autoPay'][0] == 'true'\n",
    "        \n",
    "        self.country_seller = self.__body['listing']['country'][0]\n",
    "        if self.country_seller not in ['US', 'JP', 'CA', 'GB']:\n",
    "            self.country_seller = 'OTHER'\n",
    "        \n",
    "        self.ship_type = self.__body['listing']['shippingInfo'][0]['shippingType'][0]\n",
    "        self.ship_expedite = self.__body['listing']['shippingInfo'][0]['expeditedShipping'][0] == 'true'\n",
    "        \n",
    "        if self.__body['listing']['shippingInfo'][0].get('handlingTime'):\n",
    "            self.ship_handling_time = int(self.__body['listing']['shippingInfo'][0]['handlingTime'][0])\n",
    "        else: \n",
    "            self.ship_handling_time = None\n",
    "        \n",
    "        self.zip = self.__body['listing'].get('postalCode')\n",
    "        \n",
    "        self.start_time = datetime.strptime(self.__body['listing']['listingInfo'][0]['startTime'][0], \n",
    "                                            \"%Y-%m-%dT%H:%M:%S.%fZ\")\n",
    "        self.end_time = datetime.strptime(self.__body['listing']['listingInfo'][0]['endTime'][0], \n",
    "                                            \"%Y-%m-%dT%H:%M:%S.%fZ\")\n",
    "        \n",
    "        self.start_weekday = self.start_time.weekday()\n",
    "        self.end_weekday = self.end_time.weekday()\n",
    "        \n",
    "        self.__duration = (self.end_time - self.start_time)\n",
    "        self.duration = round(float(self.__duration.days*24) + float(self.__duration.seconds/60/60), 2)\n",
    "        \n",
    "        self.returns = self.__body['listing']['returnsAccepted'][0] == 'true'\n",
    "        \n",
    "        # End Generic Section // Begin Specs Section:\n",
    "        \n",
    "        if self.__body['specs'].get('Description'):\n",
    "            self.description = self.__body['specs']['Description']\n",
    "        else:\n",
    "            self.description = None\n",
    "        \n",
    "        self.pic_quantity = len(self.__body['specs']['PictureURL'])\n",
    "\n",
    "        if self.__body['specs']['Seller'].get('FeedbackScore'):\n",
    "            self.seller_feedback_score = float(self.__body['specs']['Seller']['FeedbackScore'])\n",
    "        else: \n",
    "            self.seller_feedback_score = None\n",
    "            \n",
    "        \n",
    "        self.seller_positive_percent = float(self.__body['specs']['Seller']['PositiveFeedbackPercent'])\n",
    "        self.subtitle = self.__body['specs'].get('Subtitle')\n",
    "        self.condition_description = self.__body['specs'].get('ConditionDescription')\n",
    "        \n",
    "        # Niche niche specifics:\n",
    "        \n",
    "        if self.returns:\n",
    "            if self.__body['specs']['ReturnPolicy'].get('ReturnsWithin'):\n",
    "                self.returns_time = int(self.__body['specs']['ReturnPolicy'].get('ReturnsWithin').split()[0])\n",
    "        else: self.returns_time = None\n",
    "            \n",
    "        # Very ultra niche specifics, more ducking required:\n",
    "        \n",
    "        if self.__body['specs'].get('ItemSpecifics'):\n",
    "            self.__attrs = {prop['Name']:prop['Value'][0] \n",
    "                            for prop in self.__body['specs']['ItemSpecifics']['NameValueList']}\n",
    "            self.brand = self.__attrs.get('Brand')\n",
    "            self.model = self.__attrs.get('Model')\n",
    "            \n",
    "            if self.__attrs.get('Model Year'):\n",
    "                self.year = self.__attrs.get('Model Year')[:4]\n",
    "                if self.year != None:\n",
    "                    try:\n",
    "                        self.year = int(self.year)\n",
    "                        if self.year == 86:\n",
    "                            self.year = 1986\n",
    "                        if self.year < 1800:\n",
    "                            self.year = None\n",
    "                    except ValueError:\n",
    "                        self.year = None      \n",
    "            else: \n",
    "                self.year = None\n",
    "                \n",
    "            self.material = self.__attrs.get('Body Material')\n",
    "            self.right_left_hand = self.__attrs.get('Right-/ Left-Handed')\n",
    "            self.country_manufacture = self.__attrs.get('Country/Region of Manufacture')\n",
    "            self.body_type = self.__attrs.get('Body Type')\n",
    "            self.string_config = self.__attrs.get('String Configuration')\n",
    "            self.color = self.__attrs.get('Body Color')\n",
    "            if self.color:\n",
    "                self.color = self.color.upper()\n",
    "                if \"CHERRY\" in self.color:\n",
    "                    self.color = \"RED\"\n",
    "                if \"SUNBURST\" in self.color:\n",
    "                    self.color = \"SUNBURST\"\n",
    "                if \"BURST\" in self.color:\n",
    "                    self.color = \"SUNBURST\"\n",
    "                if \"MAHOGANY\" in self.color:\n",
    "                    self.color = \"NATURAL\"\n",
    "                if \"BLUE\" in self.color:\n",
    "                    self.color = \"BLUE\"\n",
    "                if \"TURQUOISE\" in self.color:\n",
    "                    self.color = \"BLUE\"\n",
    "                if \"TEAL\" in self.color:\n",
    "                    self.color = \"BLUE\"\n",
    "                if \"RED\" in self.color:\n",
    "                    self.color = \"RED\"\n",
    "                if \"BLACK\" in self.color:\n",
    "                    self.color = \"BLACK\"\n",
    "                if \"EBONY\" in self.color:\n",
    "                    self.color = \"BLACK\"\n",
    "                if \"WHITE\" in self.color:\n",
    "                    self.color = \"WHITE\"\n",
    "                if \"GREEN\" in self.color:\n",
    "                    self.color = \"GREEN\"\n",
    "                if \"NATURAL\" in self.color:\n",
    "                    self.color = \"NATURAL\"\n",
    "                if \"BLONDE\" in self.color:\n",
    "                    self.color = \"NATURAL\"\n",
    "                if \"BLOND\" in self.color:\n",
    "                    self.color = \"NATURAL\"\n",
    "                if \"BEIGE\" in self.color:\n",
    "                    self.color = \"NATURAL\"\n",
    "                if \"MAPLE\" in self.color:\n",
    "                    self.color = \"NATURAL\"\n",
    "                if \"BUTTERSCOTCH\" in self.color:\n",
    "                    self.color = \"NATURAL\"\n",
    "                if \"WALNUT\" in self.color:\n",
    "                    self.color = \"NATURAL\"\n",
    "                if \"TOBACCO\" in self.color:\n",
    "                    self.color = \"NATURAL\"\n",
    "                if \"BROWN\" in self.color:\n",
    "                    self.color = \"NATURAL\"\n",
    "                if \"CREAM\" in self.color:\n",
    "                    self.color = \"WHITE\"\n",
    "                if \"GOLD\" in self.color:\n",
    "                    self.color = \"YELLOW\"\n",
    "                if \"YELLOW\" in self.color:\n",
    "                    self.color = \"YELLOW\"\n",
    "                if \"FIREGLO\" in self.color:\n",
    "                    self.color = \"RED\"\n",
    "                if \"WINE\" in self.color:\n",
    "                    self.color = \"RED\"\n",
    "                if \"BURGANDY\" in self.color:\n",
    "                    self.color = \"RED\"\n",
    "                if \"BURGUNDY\" in self.color:\n",
    "                    self.color = \"RED\"\n",
    "                if \"MULTI-COLOR\" in self.color:\n",
    "                    self.color = \"MULTICOLOR\"\n",
    "                if \"AMBER\" in self.color:\n",
    "                    self.color = \"YELLOW\"\n",
    "                if \"WOOD\" in self.color:\n",
    "                    self.color = \"NATURAL\"\n",
    "                if \"COPPER\" in self.color:\n",
    "                    self.color = \"RED\"\n",
    "                if \"PEWTER\" in self.color:\n",
    "                    self.color = \"GRAY\"\n",
    "                if \"GRAY\" in self.color:\n",
    "                    self.color = \"GRAY\"\n",
    "                if self.color not in ['BLACK', 'RED', 'SUNBURST', 'WHITE', 'NATURAL', 'BLUE', 'YELLOW',\n",
    "                                       'GREEN', 'SILVER']:\n",
    "                    self.color = \"OTHER\"\n",
    "                \n",
    "        else:\n",
    "            self.__attrs = self.brand = self.model = self.year = None\n",
    "            self.material = self.right_left_hand = self.country_manufacture = None\n",
    "            self.body_type = self.string_config = self.color = None    "
   ]
  },
  {
   "cell_type": "markdown",
   "metadata": {},
   "source": [
    "### Loop Through All Guitar JSON Data Files, Instantiate AXE Class Objects"
   ]
  },
  {
   "cell_type": "code",
   "execution_count": 49,
   "metadata": {},
   "outputs": [],
   "source": [
    "filenames = [name for name in os.listdir('axe_specs/') if not name.startswith('.')] # Ignore .DS_Store"
   ]
  },
  {
   "cell_type": "code",
   "execution_count": 50,
   "metadata": {
    "scrolled": true
   },
   "outputs": [],
   "source": [
    "axes = []\n",
    "for filename in filenames:\n",
    "    try:\n",
    "        this_axe = Axe(filename)\n",
    "        axes.append(this_axe)\n",
    "    except ValueError:\n",
    "        pass"
   ]
  },
  {
   "cell_type": "markdown",
   "metadata": {},
   "source": [
    "Our API calls were limited to guitars over 100 bucks, but that made a weird artificial mode at 100 so now we'll just drop the guitars priced at 100:"
   ]
  },
  {
   "cell_type": "code",
   "execution_count": 51,
   "metadata": {},
   "outputs": [],
   "source": [
    "axes = [axe for axe in axes if axe.price_usd > 100]"
   ]
  },
  {
   "cell_type": "code",
   "execution_count": 52,
   "metadata": {},
   "outputs": [
    {
     "data": {
      "text/plain": [
       "14255"
      ]
     },
     "execution_count": 52,
     "metadata": {},
     "output_type": "execute_result"
    }
   ],
   "source": [
    "len(axes)"
   ]
  },
  {
   "cell_type": "markdown",
   "metadata": {},
   "source": [
    "********"
   ]
  },
  {
   "cell_type": "markdown",
   "metadata": {},
   "source": [
    "## EDA"
   ]
  },
  {
   "cell_type": "markdown",
   "metadata": {},
   "source": [
    "**********"
   ]
  },
  {
   "cell_type": "markdown",
   "metadata": {},
   "source": [
    "__Price Distribution:__"
   ]
  },
  {
   "cell_type": "code",
   "execution_count": 8,
   "metadata": {},
   "outputs": [
    {
     "data": {
      "image/png": "[encoded data removed]",
      "text/plain": [
       "<Figure size 1296x432 with 1 Axes>"
      ]
     },
     "metadata": {
      "needs_background": "light"
     },
     "output_type": "display_data"
    }
   ],
   "source": [
    "plt.figure(figsize = (18,6))\n",
    "plt.hist([axe.price_usd for axe in axes], bins=50)\n",
    "plt.ylabel('Guitar Price in LOG USD')\n",
    "plt.show()"
   ]
  },
  {
   "cell_type": "markdown",
   "metadata": {},
   "source": [
    "**Box-Cox Transformed Price Distribution:**"
   ]
  },
  {
   "cell_type": "code",
   "execution_count": 9,
   "metadata": {},
   "outputs": [
    {
     "data": {
      "image/png": "[encoded data removed]",
      "text/plain": [
       "<Figure size 720x432 with 1 Axes>"
      ]
     },
     "metadata": {
      "needs_background": "light"
     },
     "output_type": "display_data"
    }
   ],
   "source": [
    "plt.figure(figsize = (10,6))\n",
    "plt.hist(boxcox(np.array([axe.price_usd for axe in axes]), -.25), bins=100)\n",
    "plt.ylabel('Box-Coxed Price')\n",
    "plt.show()"
   ]
  },
  {
   "cell_type": "markdown",
   "metadata": {},
   "source": [
    "**********"
   ]
  },
  {
   "cell_type": "markdown",
   "metadata": {},
   "source": [
    "__Text Fields, for NLP:__"
   ]
  },
  {
   "cell_type": "markdown",
   "metadata": {},
   "source": [
    "Listing Title:"
   ]
  },
  {
   "cell_type": "code",
   "execution_count": 10,
   "metadata": {},
   "outputs": [
    {
     "data": {
      "text/plain": [
       "['Fender Telecaster Vintage Electric Guitar MIM, 1994, Crimson Red',\n",
       " 'NIIBORI UNIQUE RARE ELECTRIC ALTO GUITARS FUJIGEN MADE IN JAPAN CIRCLE FRETTING ',\n",
       " 'Vintage 1962 Hofner Model 172 White Vinyl Snakeskin Solid Body Electric Guitar ',\n",
       " '2015 Gibson Les Paul LPM',\n",
       " 'Ibanez Gio GRGBD120XL Left Handed Electric Guitar in Black Locking Tremelo',\n",
       " 'Fender EVH Wolfgang Special Stealth WITH HARDSHELL CASE',\n",
       " \"1960's Teisco Del Rey ET-200  MIJ Made in Japan Electric Guitar Sunburst \",\n",
       " 'Jackson  Dinky JS  Gun Metal Gray',\n",
       " \"Vintage Greco/Matsumoko Japanese japan Stratocaster White 70's/80's?\",\n",
       " 'Ibanez RG420EG SBK (Spiderweb Black) Guitar. Free Gig Bag & Free Shipping.']"
      ]
     },
     "execution_count": 10,
     "metadata": {},
     "output_type": "execute_result"
    }
   ],
   "source": [
    "[axe.title for axe in axes][:10]"
   ]
  },
  {
   "cell_type": "markdown",
   "metadata": {},
   "source": [
    "Mean Length of Title:"
   ]
  },
  {
   "cell_type": "code",
   "execution_count": 11,
   "metadata": {},
   "outputs": [
    {
     "name": "stdout",
     "output_type": "stream",
     "text": [
      "58.48 characters per title on average\n"
     ]
    }
   ],
   "source": [
    "mean_title_len = sum(len(axe.title) for axe in axes)/len(axes)\n",
    "print(f'{round(mean_title_len, 2)} characters per title on average')"
   ]
  },
  {
   "cell_type": "markdown",
   "metadata": {},
   "source": [
    "Condition Description:"
   ]
  },
  {
   "cell_type": "code",
   "execution_count": 12,
   "metadata": {},
   "outputs": [
    {
     "data": {
      "text/plain": [
       "['Overall, this guitar is clean - but it is NOT 100% perfect.  It has  a couple of dings, small impressions, light scratches. The back of the body has NO buckle rash. One area of the fretboard has light surface imperfections. A few area of the frets have light visible wear.  The upper area of he back of the headstock has light impressions that look like not too light  / not too deep scratches and some cloudiness. Specific details are in the description.  The gig bag is fine -  is brand new and the padding is thick..',\n",
       " 'Plays and sounds awesome!! Excellent Condition!! Only signs of very light playwear that is hard to see. Please see photos.',\n",
       " 'Plays and sounds awesome!! Rare Mexico made model.  Shows some signs of light wear with a few light dings and light scratching.  Please see photos.',\n",
       " 'Item history unknown; Works; has cracked head; cosmetic damage to body',\n",
       " 'Plays and sounds awesome!! Good Condition!! Shows some signs of light wear with a few light dings and very light scratches. Please see photos.']"
      ]
     },
     "execution_count": 12,
     "metadata": {},
     "output_type": "execute_result"
    }
   ],
   "source": [
    "[axe.condition_description for axe in axes if axe.condition_description != None][-5:]"
   ]
  },
  {
   "cell_type": "code",
   "execution_count": 13,
   "metadata": {},
   "outputs": [
    {
     "name": "stdout",
     "output_type": "stream",
     "text": [
      "31.93% include a condition description.\n"
     ]
    }
   ],
   "source": [
    "print(f'{round((len([axe.condition_description for axe in axes if axe.condition_description != None]) / len(axes)*100),2)}% include a condition description.')"
   ]
  },
  {
   "cell_type": "markdown",
   "metadata": {},
   "source": [
    "Example of Description Full Text:"
   ]
  },
  {
   "cell_type": "code",
   "execution_count": 14,
   "metadata": {},
   "outputs": [
    {
     "data": {
      "text/plain": [
       "'Here is a 2001 Gibson es-335. The Guitar is in excellent all original condition and comes with the original case. All latches and the lock work on the case. The Guitar is beautiful with nice flame to the front and back of the body as well as the sides. Frets show very little wear. Not much wear to the guitar at all. No breaks, cracks or any repairs. Solid old Gibson from 2001.'"
      ]
     },
     "execution_count": 14,
     "metadata": {},
     "output_type": "execute_result"
    }
   ],
   "source": [
    "[axe.description for axe in axes][2000]"
   ]
  },
  {
   "cell_type": "markdown",
   "metadata": {},
   "source": [
    "***********"
   ]
  },
  {
   "cell_type": "markdown",
   "metadata": {},
   "source": [
    "__Number of Pics on eBay listing:__"
   ]
  },
  {
   "cell_type": "code",
   "execution_count": 15,
   "metadata": {},
   "outputs": [
    {
     "data": {
      "image/png": "[encoded data removed]",
      "text/plain": [
       "<Figure size 1296x432 with 1 Axes>"
      ]
     },
     "metadata": {
      "needs_background": "light"
     },
     "output_type": "display_data"
    }
   ],
   "source": [
    "plt.figure(figsize = (18,6))\n",
    "plt.hist([axe.pic_quantity for axe in axes])\n",
    "plt.show()"
   ]
  },
  {
   "cell_type": "markdown",
   "metadata": {},
   "source": [
    "__Thumbnail Image URLs__ — for Potential (CNN, maybe) Image Analysis as a factor in price"
   ]
  },
  {
   "cell_type": "code",
   "execution_count": 16,
   "metadata": {},
   "outputs": [
    {
     "data": {
      "text/plain": [
       "['http://thumbs2.ebaystatic.com/m/mi0yHKrebkFb2j2Q2Hq94nQ/140.jpg',\n",
       " 'http://thumbs2.ebaystatic.com/m/mQmZbPocJHLChrfH72b7B4g/140.jpg',\n",
       " 'http://thumbs1.ebaystatic.com/m/mJ8Lff1v59jsIxRDNQd7zNg/140.jpg',\n",
       " 'http://thumbs4.ebaystatic.com/m/mFax7qfKyVwHNv_LkUoh8uQ/140.jpg',\n",
       " 'http://thumbs3.ebaystatic.com/m/maT-GoD60SDnPBWiBilfcSw/140.jpg']"
      ]
     },
     "execution_count": 16,
     "metadata": {},
     "output_type": "execute_result"
    }
   ],
   "source": [
    "[axe.pic for axe in axes][:5] # Just first five. You get it"
   ]
  },
  {
   "cell_type": "markdown",
   "metadata": {},
   "source": [
    "**********"
   ]
  },
  {
   "cell_type": "markdown",
   "metadata": {},
   "source": [
    "**Shipping Type:**"
   ]
  },
  {
   "cell_type": "code",
   "execution_count": 17,
   "metadata": {},
   "outputs": [
    {
     "data": {
      "image/png": "[encoded data removed]",
      "text/plain": [
       "<Figure size 1296x432 with 1 Axes>"
      ]
     },
     "metadata": {
      "needs_background": "light"
     },
     "output_type": "display_data"
    }
   ],
   "source": [
    "plt.figure(figsize = (18,6))\n",
    "ship_counts = pd.Series([axe.ship_type for axe in axes]).value_counts()\n",
    "plt.bar(ship_counts.index, ship_counts.values/len(axes))\n",
    "plt.show()"
   ]
  },
  {
   "cell_type": "markdown",
   "metadata": {},
   "source": [
    "**Handling Time in Days:**"
   ]
  },
  {
   "cell_type": "code",
   "execution_count": 18,
   "metadata": {},
   "outputs": [
    {
     "data": {
      "image/png": "[encoded data removed]",
      "text/plain": [
       "<Figure size 1296x432 with 1 Axes>"
      ]
     },
     "metadata": {
      "needs_background": "light"
     },
     "output_type": "display_data"
    }
   ],
   "source": [
    "plt.figure(figsize = (18,6))\n",
    "times = pd.Series([axe.ship_handling_time for axe in axes if axe.ship_handling_time != None])\n",
    "plt.hist(times, bins=np.arange(max(times))+.5)\n",
    "plt.xticks(sorted(times.value_counts().index))\n",
    "plt.xlabel('Days to Handle Package')\n",
    "plt.ylabel('# of Shippers')\n",
    "plt.show()"
   ]
  },
  {
   "cell_type": "markdown",
   "metadata": {},
   "source": [
    "__Duration of Auction in Days__:"
   ]
  },
  {
   "cell_type": "code",
   "execution_count": 19,
   "metadata": {},
   "outputs": [
    {
     "data": {
      "image/png": "[encoded data removed]",
      "text/plain": [
       "<Figure size 1080x432 with 1 Axes>"
      ]
     },
     "metadata": {
      "needs_background": "light"
     },
     "output_type": "display_data"
    }
   ],
   "source": [
    "plt.figure(figsize = (15,6))\n",
    "plt.hist([axe.duration/24 for axe in axes], bins = np.arange(10)+1.5)\n",
    "plt.xticks(range(11))\n",
    "plt.xlabel('Length of Auction in Days')\n",
    "plt.show()"
   ]
  },
  {
   "cell_type": "markdown",
   "metadata": {},
   "source": [
    "***"
   ]
  },
  {
   "cell_type": "markdown",
   "metadata": {},
   "source": [
    "**Countries of Sellers:**"
   ]
  },
  {
   "cell_type": "code",
   "execution_count": 58,
   "metadata": {},
   "outputs": [
    {
     "data": {
      "image/png": "[encoded data removed]",
      "text/plain": [
       "<Figure size 720x720 with 1 Axes>"
      ]
     },
     "metadata": {},
     "output_type": "display_data"
    }
   ],
   "source": [
    "plt.figure(figsize = (10,10))\n",
    "countries = pd.Series([axe.country_seller for axe in axes]).value_counts()\n",
    "plt.pie(countries.values, labels=['USA', 'Japan', 'Canada', \n",
    "                                  'Other','Great Britain'], \n",
    "                            explode = np.full(len(countries), .5))\n",
    "plt.show()"
   ]
  },
  {
   "cell_type": "code",
   "execution_count": 64,
   "metadata": {},
   "outputs": [
    {
     "data": {
      "text/plain": [
       "United States         2122\n",
       "Japan                  873\n",
       "Mexico                 498\n",
       "Korea, Republic of     488\n",
       "China                  378\n",
       "Indonesia              343\n",
       "Unknown                 47\n",
       "Canada                  28\n",
       "Italy                   11\n",
       "Germany                 10\n",
       "Sweden                   8\n",
       "Taiwan                   8\n",
       "United Kingdom           7\n",
       "India                    7\n",
       "Vietnam                  6\n",
       "N/A                      5\n",
       "France                   2\n",
       "japan                    2\n",
       "Switzerland              2\n",
       "Uzbekistan               1\n",
       "Puerto Rico              1\n",
       "Colombia                 1\n",
       "Bahamas                  1\n",
       "Korea                    1\n",
       "Ukraine                  1\n",
       "USA                      1\n",
       "Czech Republic           1\n",
       "Georgia                  1\n",
       "Russian Federation       1\n",
       "Israel                   1\n",
       "Finland                  1\n",
       "Togo                     1\n",
       "dtype: int64"
      ]
     },
     "execution_count": 64,
     "metadata": {},
     "output_type": "execute_result"
    }
   ],
   "source": [
    "pd.Series([axe.country_manufacture for axe in axes]).value_countse_counts()"
   ]
  },
  {
   "cell_type": "markdown",
   "metadata": {},
   "source": [
    "***"
   ]
  },
  {
   "cell_type": "markdown",
   "metadata": {},
   "source": [
    "**Offering Expedited Shipping:**"
   ]
  },
  {
   "cell_type": "code",
   "execution_count": 21,
   "metadata": {},
   "outputs": [
    {
     "data": {
      "image/png": "[encoded data removed]",
      "text/plain": [
       "<Figure size 360x360 with 1 Axes>"
      ]
     },
     "metadata": {},
     "output_type": "display_data"
    }
   ],
   "source": [
    "exp = pd.Series([axe.ship_expedite for axe in axes]).value_counts()\n",
    "plt.figure(figsize = (5,5))\n",
    "plt.pie(exp.values, explode=[.1,.1], labels=['Normal', 'Expeditable'])\n",
    "plt.show()"
   ]
  },
  {
   "cell_type": "markdown",
   "metadata": {},
   "source": [
    "***********"
   ]
  },
  {
   "cell_type": "markdown",
   "metadata": {},
   "source": [
    "**Weekday of Auction Start:**"
   ]
  },
  {
   "cell_type": "code",
   "execution_count": 22,
   "metadata": {},
   "outputs": [
    {
     "data": {
      "image/png": "[encoded data removed]",
      "text/plain": [
       "<Figure size 1080x360 with 1 Axes>"
      ]
     },
     "metadata": {
      "needs_background": "light"
     },
     "output_type": "display_data"
    }
   ],
   "source": [
    "days = pd.Series([axe.start_weekday for axe in axes]).value_counts()\n",
    "plt.figure(figsize = (15,5))\n",
    "plt.bar(days.index, days.values/len(axes))\n",
    "plt.xticks(range(7), 'M T W TH F SA SU'.split(' '))\n",
    "plt.xlabel(\"Listing Start Day\")\n",
    "plt.ylabel('Percentage')\n",
    "plt.show()"
   ]
  },
  {
   "cell_type": "markdown",
   "metadata": {},
   "source": [
    "**Weekday of Auction End:**"
   ]
  },
  {
   "cell_type": "code",
   "execution_count": 23,
   "metadata": {},
   "outputs": [
    {
     "data": {
      "image/png": "[encoded data removed]",
      "text/plain": [
       "<Figure size 1080x360 with 1 Axes>"
      ]
     },
     "metadata": {
      "needs_background": "light"
     },
     "output_type": "display_data"
    }
   ],
   "source": [
    "days = pd.Series([axe.end_weekday for axe in axes]).value_counts()\n",
    "plt.figure(figsize = (15,5))\n",
    "plt.bar(days.index, days.values/len(axes))\n",
    "plt.xticks(range(7), 'M T W TH F SA SU'.split(' '))\n",
    "plt.ylabel('Percentage')\n",
    "plt.xlabel(\"Auction Ending Weekday\")\n",
    "plt.show()"
   ]
  },
  {
   "cell_type": "markdown",
   "metadata": {},
   "source": [
    "****"
   ]
  },
  {
   "cell_type": "markdown",
   "metadata": {},
   "source": [
    "**Percentage of Auctions Offering Returns:**"
   ]
  },
  {
   "cell_type": "code",
   "execution_count": 24,
   "metadata": {},
   "outputs": [
    {
     "data": {
      "image/png": "[encoded data removed]",
      "text/plain": [
       "<Figure size 360x360 with 1 Axes>"
      ]
     },
     "metadata": {},
     "output_type": "display_data"
    }
   ],
   "source": [
    "returns = pd.Series([axe.returns for axe in axes]).value_counts()\n",
    "plt.figure(figsize = (5,5))\n",
    "plt.pie(returns.values, explode=[.1,.1], labels=['No Returns', 'Returns'])\n",
    "plt.show()"
   ]
  },
  {
   "cell_type": "markdown",
   "metadata": {},
   "source": [
    "****"
   ]
  },
  {
   "cell_type": "markdown",
   "metadata": {},
   "source": [
    "**Return Time Window** of sellers offering returns:"
   ]
  },
  {
   "cell_type": "code",
   "execution_count": 25,
   "metadata": {},
   "outputs": [
    {
     "data": {
      "image/png": "[encoded data removed]",
      "text/plain": [
       "<Figure size 1080x1080 with 1 Axes>"
      ]
     },
     "metadata": {},
     "output_type": "display_data"
    }
   ],
   "source": [
    "returns = pd.Series([axe.returns_time for axe in axes if axe.returns_time != None]).value_counts()\n",
    "plt.figure(figsize = (15,15))\n",
    "plt.pie(returns.values, explode=np.full(len(returns), .1), labels = returns.index)\n",
    "plt.show()"
   ]
  },
  {
   "cell_type": "markdown",
   "metadata": {},
   "source": [
    "***"
   ]
  },
  {
   "cell_type": "markdown",
   "metadata": {},
   "source": [
    "__Guitar Body Colors:__"
   ]
  },
  {
   "cell_type": "code",
   "execution_count": 26,
   "metadata": {},
   "outputs": [
    {
     "data": {
      "image/png": "[encoded data removed]",
      "text/plain": [
       "<Figure size 1296x432 with 1 Axes>"
      ]
     },
     "metadata": {
      "needs_background": "light"
     },
     "output_type": "display_data"
    }
   ],
   "source": [
    "plt.figure(figsize = (18,6))\n",
    "colors = pd.Series([axe.color for axe in axes if axe.color != None]).value_counts()\n",
    "plt.bar(colors.index, colors.values)\n",
    "plt.show()"
   ]
  },
  {
   "cell_type": "code",
   "execution_count": 27,
   "metadata": {},
   "outputs": [
    {
     "name": "stdout",
     "output_type": "stream",
     "text": [
      "54.39% of listings include a body color where they're supposed to.\n"
     ]
    }
   ],
   "source": [
    "per = round((sum(pd.Series([axe.color for axe in axes if axe.color != None]).value_counts() / len(axes))*100),2)\n",
    "print(f'{per}% of listings include a body color where they\\'re supposed to.')"
   ]
  },
  {
   "cell_type": "markdown",
   "metadata": {},
   "source": [
    "***"
   ]
  },
  {
   "cell_type": "markdown",
   "metadata": {},
   "source": [
    "__Age of Guitars:__"
   ]
  },
  {
   "cell_type": "code",
   "execution_count": 28,
   "metadata": {},
   "outputs": [
    {
     "data": {
      "image/png": "[encoded data removed]",
      "text/plain": [
       "<Figure size 1296x432 with 1 Axes>"
      ]
     },
     "metadata": {
      "needs_background": "light"
     },
     "output_type": "display_data"
    }
   ],
   "source": [
    "ages = pd.Series([axe.year for axe in axes if axe.year])\n",
    "plt.figure(figsize = (18,6))\n",
    "plt.hist(ages, bins=len(ages.value_counts().index))\n",
    "plt.show()"
   ]
  },
  {
   "cell_type": "code",
   "execution_count": 29,
   "metadata": {},
   "outputs": [
    {
     "name": "stdout",
     "output_type": "stream",
     "text": [
      "34.87% of sellers put the year where they're supposed to.\n"
     ]
    }
   ],
   "source": [
    "print(f'{round((len(ages) / len(axes) * 100),2)}% of sellers put the year where they\\'re supposed to.')"
   ]
  },
  {
   "cell_type": "markdown",
   "metadata": {},
   "source": [
    "***"
   ]
  },
  {
   "cell_type": "markdown",
   "metadata": {},
   "source": [
    "__US Seller Locations, by Zip Code:__"
   ]
  },
  {
   "cell_type": "code",
   "execution_count": 30,
   "metadata": {},
   "outputs": [],
   "source": [
    "sales = [(axe.zip[0], axe.start_time) for axe in axes if axe.country_seller == 'US' and axe.zip != None]"
   ]
  },
  {
   "cell_type": "code",
   "execution_count": 31,
   "metadata": {},
   "outputs": [],
   "source": [
    "def get_usa_zips(url):\n",
    "    usa_zips = {}\n",
    "    census_zip_latlon = io.StringIO(requests.get(url).text)\n",
    "    dialect = csv.Sniffer().sniff(census_zip_latlon.read(1024))\n",
    "    census_zip_latlon.seek(0)\n",
    "    reader = csv.reader(census_zip_latlon, dialect)\n",
    "    for row in reader:\n",
    "        usa_zips[row[0]] = (row[1], row[2])\n",
    "    return usa_zips"
   ]
  },
  {
   "cell_type": "code",
   "execution_count": 32,
   "metadata": {},
   "outputs": [],
   "source": [
    "usa_zips = get_usa_zips(r'https://goo.gl/oYwpRM')"
   ]
  },
  {
   "cell_type": "code",
   "execution_count": 33,
   "metadata": {},
   "outputs": [],
   "source": [
    "sales = [sale for sale in sales if sale[1] > datetime.strptime('2018-08-01', '%Y-%m-%d')]"
   ]
  },
  {
   "cell_type": "code",
   "execution_count": 34,
   "metadata": {},
   "outputs": [],
   "source": [
    "def write_kepler_csv():\n",
    "    with open('for_kepler.csv', mode='w') as sale_lat_long_datetime_file:\n",
    "\n",
    "        sales_writer = csv.writer(sale_lat_long_datetime_file, delimiter=',', \n",
    "                                                           quotechar='\"', \n",
    "                                                           quoting=csv.QUOTE_MINIMAL)\n",
    "\n",
    "        ## The sample data set I got from the kepler github repo had rows named like so:\n",
    "        sales_writer.writerow(['latitude','longitude','tpep_sale_datetime'])\n",
    "        omissions = 0\n",
    "        \n",
    "        for sale in sales:\n",
    "            try:\n",
    "                datetime = sale[1]\n",
    "                lat = usa_zips[sale[0]][0]\n",
    "                lon = usa_zips[sale[0]][1]\n",
    "                sales_writer.writerow([lat, lon,datetime])\n",
    "            except KeyError:\n",
    "                omissions += 1\n",
    "        print (f\"{omissions}/{len(sales)} zips were not found\")"
   ]
  },
  {
   "cell_type": "code",
   "execution_count": 35,
   "metadata": {
    "scrolled": true
   },
   "outputs": [
    {
     "name": "stdout",
     "output_type": "stream",
     "text": [
      "107/12882 zips were not found\n"
     ]
    }
   ],
   "source": [
    "write_kepler_csv()"
   ]
  },
  {
   "cell_type": "code",
   "execution_count": null,
   "metadata": {},
   "outputs": [],
   "source": []
  }
 ],
 "metadata": {
  "kernelspec": {
   "display_name": "Python [conda env:air]",
   "language": "python",
   "name": "conda-env-air-py"
  },
  "language_info": {
   "codemirror_mode": {
    "name": "ipython",
    "version": 3
   },
   "file_extension": ".py",
   "mimetype": "text/x-python",
   "name": "python",
   "nbconvert_exporter": "python",
   "pygments_lexer": "ipython3",
   "version": "3.6.8"
  }
 },
 "nbformat": 4,
 "nbformat_minor": 2
}
