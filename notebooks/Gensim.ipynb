{
 "cells": [
  {
   "cell_type": "markdown",
   "metadata": {},
   "source": [
    "# Gensim Topic Modeling"
   ]
  },
  {
   "cell_type": "code",
   "execution_count": 76,
   "metadata": {},
   "outputs": [],
   "source": [
    "import os\n",
    "import numpy as np\n",
    "import pandas as pd\n",
    "\n",
    "from gensim import corpora\n",
    "from gensim.utils import lemmatize\n",
    "from gensim.models import LdaModel, Phrases, TfidfModel\n",
    "from gensim.parsing.preprocessing import remove_stopwords, strip_punctuation, strip_multiple_whitespaces\n",
    "from gensim.parsing.preprocessing import strip_short, stem_text\n",
    "\n",
    "\n",
    "from collections import defaultdict\n",
    "\n",
    "from sklearn.linear_model import LinearRegression\n",
    "from sklearn.model_selection import train_test_split\n",
    "from sklearn.metrics import mean_squared_error"
   ]
  },
  {
   "cell_type": "markdown",
   "metadata": {},
   "source": [
    "Let's bring in our guitar JSON parser:"
   ]
  },
  {
   "cell_type": "code",
   "execution_count": 51,
   "metadata": {},
   "outputs": [],
   "source": [
    "from Axe_Object import Axe"
   ]
  },
  {
   "cell_type": "markdown",
   "metadata": {},
   "source": [
    "And instantiate our rock n roll guitar objects:"
   ]
  },
  {
   "cell_type": "code",
   "execution_count": 52,
   "metadata": {},
   "outputs": [],
   "source": [
    "filenames = [name for name in os.listdir('axe_specs/') if not name.startswith('.')] # Ignores hidden files on mac"
   ]
  },
  {
   "cell_type": "code",
   "execution_count": 53,
   "metadata": {},
   "outputs": [],
   "source": [
    "axes = []\n",
    "for filename in filenames:\n",
    "    try:\n",
    "        this_axe = Axe(filename)\n",
    "        if \"LOT OF\" not in this_axe.title.upper()  and this_axe.price_usd > 110 and this_axe.price_usd < 750:\n",
    "            if this_axe.string_config and this_axe.string_config < 5:\n",
    "                continue\n",
    "            if this_axe.market != 'EBAY-US':\n",
    "                continue\n",
    "            if this_axe.year and this_axe.year > 2019:\n",
    "                continue\n",
    "            axes.append(this_axe)\n",
    "    except ValueError:\n",
    "        pass"
   ]
  },
  {
   "cell_type": "code",
   "execution_count": 54,
   "metadata": {},
   "outputs": [
    {
     "data": {
      "text/plain": [
       "9557"
      ]
     },
     "execution_count": 54,
     "metadata": {},
     "output_type": "execute_result"
    }
   ],
   "source": [
    "len(axes)"
   ]
  },
  {
   "cell_type": "markdown",
   "metadata": {},
   "source": [
    "Check out all these text fields we can turn into a big nasty stew of NLP goodness:"
   ]
  },
  {
   "cell_type": "code",
   "execution_count": 22,
   "metadata": {},
   "outputs": [
    {
     "data": {
      "text/plain": [
       "'Ibanez RG321MH guitar custom paint color. Blue sparkle w/ black pickguard'"
      ]
     },
     "execution_count": 22,
     "metadata": {},
     "output_type": "execute_result"
    }
   ],
   "source": [
    "axes[58].title"
   ]
  },
  {
   "cell_type": "code",
   "execution_count": null,
   "metadata": {
    "scrolled": true
   },
   "outputs": [],
   "source": [
    "axes[58].description "
   ]
  },
  {
   "cell_type": "code",
   "execution_count": null,
   "metadata": {},
   "outputs": [],
   "source": [
    "axes[58].condition_description # Might not exist for all instances"
   ]
  },
  {
   "cell_type": "code",
   "execution_count": null,
   "metadata": {},
   "outputs": [],
   "source": [
    "axes[58].subtitle # Might not exist for all instances"
   ]
  },
  {
   "cell_type": "code",
   "execution_count": null,
   "metadata": {},
   "outputs": [],
   "source": [
    "axes[58].brand # Might not exist for all instances"
   ]
  },
  {
   "cell_type": "code",
   "execution_count": null,
   "metadata": {},
   "outputs": [],
   "source": [
    "axes[58].model # Might not exist for all instances"
   ]
  },
  {
   "cell_type": "code",
   "execution_count": null,
   "metadata": {},
   "outputs": [],
   "source": [
    "str(axes[58].year) # Might not exist for all instances"
   ]
  },
  {
   "cell_type": "code",
   "execution_count": null,
   "metadata": {},
   "outputs": [],
   "source": [
    "axes[58].material # Might not exist for all instances"
   ]
  },
  {
   "cell_type": "code",
   "execution_count": 37,
   "metadata": {},
   "outputs": [],
   "source": [
    "def assemble_guitar_document(axe):\n",
    "    document = axe.title + ' '\n",
    "    if axe.year != None:\n",
    "        document += (str(axe.year) + ' ')*2\n",
    "    if axe.material != None:\n",
    "        document += axe.material + ' '\n",
    "    if axe.model != None:\n",
    "        document += axe.model + ' ' \n",
    "    if axe.brand != None:\n",
    "        document += axe.brand + ' '\n",
    "    if axe.subtitle != None:\n",
    "        document += axe.subtitle + ' '\n",
    "    if axe.condition_description != None:\n",
    "        document += axe.condition_description + ' '\n",
    "    if axe.description != None:\n",
    "        document += axe.description\n",
    "    return document"
   ]
  },
  {
   "cell_type": "code",
   "execution_count": 58,
   "metadata": {},
   "outputs": [],
   "source": [
    "raw_corpus = [assemble_guitar_document(axe).lower() for axe in axes]"
   ]
  },
  {
   "cell_type": "code",
   "execution_count": 83,
   "metadata": {},
   "outputs": [],
   "source": [
    "corpus = []\n",
    "for doc in raw_corpus:\n",
    "    doc = strip_multiple_whitespaces(strip_short(strip_punctuation(doc)))\n",
    "    corpus.append([word for word in stem_text(remove_stopwords(doc)).split()])"
   ]
  },
  {
   "cell_type": "code",
   "execution_count": 84,
   "metadata": {
    "scrolled": true
   },
   "outputs": [],
   "source": [
    "# remove words that appear only once\n",
    "frequency = defaultdict(int)\n",
    "for doc in corpus:\n",
    "    for word in doc:\n",
    "        frequency[word] += 1\n",
    "corpus = [[word for word in doc if frequency[word] > 1] for doc in corpus]"
   ]
  },
  {
   "cell_type": "code",
   "execution_count": 85,
   "metadata": {},
   "outputs": [
    {
     "data": {
      "text/plain": [
       "['fender',\n",
       " 'telecast',\n",
       " 'vintag',\n",
       " 'electr',\n",
       " 'guitar',\n",
       " 'mim',\n",
       " '1994',\n",
       " 'crimson',\n",
       " 'red',\n",
       " '1994',\n",
       " '1994',\n",
       " 'solid',\n",
       " 'wood',\n",
       " 'telecast',\n",
       " 'fender',\n",
       " 'document',\n",
       " 'fender',\n",
       " 'telecast',\n",
       " 'vintag',\n",
       " 'electr',\n",
       " 'guitar',\n",
       " 'mim',\n",
       " '1994',\n",
       " 'fender',\n",
       " 'telecast',\n",
       " 'world',\n",
       " 'solid',\n",
       " 'bodi',\n",
       " 'electr',\n",
       " 'guitar',\n",
       " 'fender',\n",
       " 'telecast',\n",
       " 'incorpor',\n",
       " 'best',\n",
       " 'old',\n",
       " 'new',\n",
       " 'fast',\n",
       " 'action',\n",
       " 'mapl',\n",
       " 'neck',\n",
       " 'condit',\n",
       " 'good',\n",
       " 'condit',\n",
       " 'neck',\n",
       " 'crack',\n",
       " 'rod',\n",
       " 'look',\n",
       " 'pictur',\n",
       " 'spot',\n",
       " 'lacquer',\n",
       " 'crack',\n",
       " 'cabl',\n",
       " 'connector',\n",
       " 'look',\n",
       " 'pictur',\n",
       " 'minor',\n",
       " 'dent',\n",
       " 'nick',\n",
       " 'find',\n",
       " 'neck',\n",
       " 'bodi',\n",
       " 'featur',\n",
       " 'color',\n",
       " 'crimson',\n",
       " 'red',\n",
       " 'bodi',\n",
       " 'poplar',\n",
       " 'neck',\n",
       " 'mapl',\n",
       " 'number',\n",
       " 'fret',\n",
       " 'medium',\n",
       " 'jumbo',\n",
       " 'fret',\n",
       " 'pickguard',\n",
       " 'blue',\n",
       " 'white',\n",
       " 'star',\n",
       " 'string',\n",
       " 'bridg',\n",
       " 'saddl',\n",
       " 'bridg',\n",
       " 'pickup',\n",
       " 'neck',\n",
       " 'humbuck',\n",
       " 'bridg',\n",
       " 'fender',\n",
       " 'singl',\n",
       " 'coil',\n",
       " 'chrome',\n",
       " 'hardwar',\n",
       " 'control',\n",
       " 'master',\n",
       " 'volum',\n",
       " 'master',\n",
       " 'tone',\n",
       " 'posit',\n",
       " 'blade',\n",
       " 'control',\n",
       " 'bid',\n",
       " 'term',\n",
       " 'bidder',\n",
       " 'neg',\n",
       " 'feedback',\n",
       " 'mail',\n",
       " 'bid',\n",
       " 'bid',\n",
       " 'void',\n",
       " 'intern',\n",
       " 'bidder',\n",
       " 'contact',\n",
       " 'discuss',\n",
       " 'ship',\n",
       " 'cost',\n",
       " 'custom',\n",
       " 'due',\n",
       " 'issu',\n",
       " 'advis',\n",
       " 'titl',\n",
       " 'parcel',\n",
       " 'gift',\n",
       " 'broken',\n",
       " 'part',\n",
       " 'consid',\n",
       " 'case',\n",
       " 'actual',\n",
       " 'condit',\n",
       " 'statu',\n",
       " 'merchandis',\n",
       " 'specifi',\n",
       " 'auction',\n",
       " 'includ',\n",
       " 'pictur',\n",
       " 'describ',\n",
       " 'auction',\n",
       " 'notic',\n",
       " 'titl',\n",
       " 'state',\n",
       " 'bid',\n",
       " 'intend',\n",
       " 'bui']"
      ]
     },
     "execution_count": 85,
     "metadata": {},
     "output_type": "execute_result"
    }
   ],
   "source": [
    "corpus[0]"
   ]
  },
  {
   "cell_type": "markdown",
   "metadata": {},
   "source": [
    "# For GenSim"
   ]
  },
  {
   "cell_type": "markdown",
   "metadata": {},
   "source": [
    "**Text Pre-Processing:**"
   ]
  },
  {
   "cell_type": "markdown",
   "metadata": {},
   "source": [
    "**Convert to Bag of Words:**"
   ]
  },
  {
   "cell_type": "code",
   "execution_count": 75,
   "metadata": {},
   "outputs": [],
   "source": [
    "dictionary = corpora.Dictionary(corpus)\n",
    "corpus = [dictionary.doc2bow(doc) for doc in corpus]"
   ]
  },
  {
   "cell_type": "markdown",
   "metadata": {},
   "source": [
    "### LDA Transformation and Getting Weights:"
   ]
  },
  {
   "cell_type": "code",
   "execution_count": 65,
   "metadata": {},
   "outputs": [],
   "source": [
    "def get_topic_weights_df(num_topics, corpus):\n",
    "    \n",
    "    lda = LdaModel(corpus=corpus, id2word=dictionary, num_topics=num_topics, alpha='auto')\n",
    "    \n",
    "    corpus_lda = lda[corpus]\n",
    "\n",
    "    blank_row = [0 for k in range(len(lda.print_topics(1001)))]\n",
    "    to_concat = []\n",
    "\n",
    "    for i in range(len(corpus_lda)):\n",
    "        new_row = pd.Series(data=blank_row)\n",
    "        for j in corpus_lda[i]:\n",
    "            new_row.iloc[j[0]] = j[1]\n",
    "        to_concat.append(new_row)\n",
    "    \n",
    "    return pd.concat(to_concat, axis=1).T"
   ]
  },
  {
   "cell_type": "markdown",
   "metadata": {},
   "source": [
    "### Multiple Regression Baselining"
   ]
  },
  {
   "cell_type": "markdown",
   "metadata": {},
   "source": [
    "Here I have to set up a primitive linear regression model to tune the # of topics we'll be using to feed the better one later."
   ]
  },
  {
   "cell_type": "code",
   "execution_count": 15,
   "metadata": {},
   "outputs": [],
   "source": [
    "X = topic_weights_820 #get_topic_weights_df(500, corpus)"
   ]
  },
  {
   "cell_type": "code",
   "execution_count": 16,
   "metadata": {},
   "outputs": [],
   "source": [
    "prices = [axe.price_usd for axe in axes]\n",
    "y = prices"
   ]
  },
  {
   "cell_type": "code",
   "execution_count": 17,
   "metadata": {},
   "outputs": [],
   "source": [
    "X_train, X_test, y_train, y_test = train_test_split(X, y, test_size = .2, random_state = 42)"
   ]
  },
  {
   "cell_type": "code",
   "execution_count": 18,
   "metadata": {},
   "outputs": [],
   "source": [
    "lin_reg = LinearRegression().fit(X_train, y_train)"
   ]
  },
  {
   "cell_type": "code",
   "execution_count": 19,
   "metadata": {},
   "outputs": [],
   "source": [
    "y_preds = lin_reg.predict(X_test)"
   ]
  },
  {
   "cell_type": "code",
   "execution_count": 20,
   "metadata": {},
   "outputs": [
    {
     "data": {
      "text/plain": [
       "536.6925031423226"
      ]
     },
     "execution_count": 20,
     "metadata": {},
     "output_type": "execute_result"
    }
   ],
   "source": [
    "np.sqrt(mean_squared_error(y_test, y_preds))"
   ]
  },
  {
   "cell_type": "code",
   "execution_count": null,
   "metadata": {},
   "outputs": [],
   "source": [
    "price_mean = np.mean([axe.price_usd for axe in axes])\n",
    "np.sqrt(mean_squared_error(y_test, [price_mean for i in range(len(y_test))]))"
   ]
  },
  {
   "cell_type": "markdown",
   "metadata": {},
   "source": [
    "Incredibly, the text feature actually reduces error. But how many topics is best?"
   ]
  },
  {
   "cell_type": "markdown",
   "metadata": {},
   "source": [
    "### Searching for ideal topic number"
   ]
  },
  {
   "cell_type": "code",
   "execution_count": 30,
   "metadata": {
    "scrolled": true
   },
   "outputs": [],
   "source": [
    "def get_ideal_num_topics(range_object):\n",
    "    errors = []\n",
    "    for i in range_object:\n",
    "        X = get_topic_weights_df(i)\n",
    "        X_train, X_test, y_train, y_test = train_test_split(X, y, test_size = .2, random_state = 42)\n",
    "        lin_reg = LinearRegression().fit(X_train, y_train)\n",
    "        y_preds = lin_reg.predict(X_test)\n",
    "        error = np.sqrt(mean_squared_error(y_test, y_preds))\n",
    "        errors.append(error)\n",
    "    return errors"
   ]
  },
  {
   "cell_type": "code",
   "execution_count": null,
   "metadata": {
    "scrolled": true
   },
   "outputs": [],
   "source": [
    "# errors = get_ideal_num_topics(range(10,1010,10))"
   ]
  },
  {
   "cell_type": "code",
   "execution_count": null,
   "metadata": {},
   "outputs": [],
   "source": [
    "# min(errors) # At 820 topics"
   ]
  },
  {
   "cell_type": "code",
   "execution_count": 69,
   "metadata": {},
   "outputs": [],
   "source": [
    "topic_weights_50 = get_topic_weights_df(50, corpus)"
   ]
  },
  {
   "cell_type": "code",
   "execution_count": 70,
   "metadata": {},
   "outputs": [
    {
     "data": {
      "text/plain": [
       "9557"
      ]
     },
     "execution_count": 70,
     "metadata": {},
     "output_type": "execute_result"
    }
   ],
   "source": [
    "len(topic_weights_50)"
   ]
  },
  {
   "cell_type": "markdown",
   "metadata": {},
   "source": [
    "Persisting topic-modeled weights to Disk:"
   ]
  },
  {
   "cell_type": "code",
   "execution_count": 71,
   "metadata": {},
   "outputs": [],
   "source": [
    "topic_weights_50.to_csv('topic_weights')"
   ]
  },
  {
   "cell_type": "code",
   "execution_count": null,
   "metadata": {},
   "outputs": [],
   "source": [
    "topic_weights = pd.read_csv('topic_weights.csv', index_col=0)"
   ]
  }
 ],
 "metadata": {
  "kernelspec": {
   "display_name": "Python3 (Bayes)",
   "language": "python",
   "name": "bayes"
  },
  "language_info": {
   "codemirror_mode": {
    "name": "ipython",
    "version": 3
   },
   "file_extension": ".py",
   "mimetype": "text/x-python",
   "name": "python",
   "nbconvert_exporter": "python",
   "pygments_lexer": "ipython3",
   "version": "3.6.6"
  }
 },
 "nbformat": 4,
 "nbformat_minor": 2
}
