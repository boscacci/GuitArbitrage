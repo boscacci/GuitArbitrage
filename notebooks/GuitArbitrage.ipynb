{
 "cells": [
  {
   "cell_type": "markdown",
   "metadata": {},
   "source": [
    "Here we'll try to create a new datapoint for the model to predict on, from a CraigsList post."
   ]
  },
  {
   "cell_type": "code",
   "execution_count": 1,
   "metadata": {},
   "outputs": [],
   "source": [
    "import requests, json, os, pickle, yagmail, sys\n",
    "from datetime import datetime, timedelta\n",
    "import pandas as pd\n",
    "import numpy as np\n",
    "import matplotlib.pyplot as plt\n",
    "pd.options.display.max_columns = 999\n",
    "pd.options.display.max_rows = 999\n",
    "\n",
    "from scipy.special import inv_boxcox\n",
    "\n",
    "import nltk, string, os\n",
    "from nltk.corpus import stopwords\n",
    "from nltk import word_tokenize, FreqDist\n",
    "from nltk.stem.snowball import SnowballStemmer\n",
    "\n",
    "from sklearn.feature_extraction.text import TfidfVectorizer"
   ]
  },
  {
   "cell_type": "code",
   "execution_count": 23,
   "metadata": {},
   "outputs": [],
   "source": [
    "sys.path.insert(0, '../objects')\n",
    "sys.path.insert(0, '../data')\n",
    "sys.path.insert(0, '../pickles')"
   ]
  },
  {
   "cell_type": "markdown",
   "metadata": {},
   "source": [
    "# Trawl for Prospective Deals"
   ]
  },
  {
   "cell_type": "code",
   "execution_count": 3,
   "metadata": {},
   "outputs": [],
   "source": [
    "API_KEY = 'RobertBo-cinemaro-PRD-171ca9e35-af8bdcbb' # Enter your API Key/\"App ID\" Here. Mine was 40 chars long."
   ]
  },
  {
   "cell_type": "code",
   "execution_count": 4,
   "metadata": {},
   "outputs": [],
   "source": [
    "FIND_ADVANCED = \"findItemsAdvanced\" # This is the eBay API endpoint service we'll be querying."
   ]
  },
  {
   "cell_type": "code",
   "execution_count": 5,
   "metadata": {},
   "outputs": [],
   "source": [
    "ELEC_GUITARS = '33034'\n",
    "USED = '3000'\n",
    "AUCTION = \"Auction\"\n",
    "AUCTIONWITHBIN = \"AuctionWithBIN\""
   ]
  },
  {
   "cell_type": "code",
   "execution_count": 6,
   "metadata": {},
   "outputs": [],
   "source": [
    "ct = datetime.utcnow()"
   ]
  },
  {
   "cell_type": "code",
   "execution_count": 7,
   "metadata": {},
   "outputs": [],
   "source": [
    "days_ahead = 2"
   ]
  },
  {
   "cell_type": "code",
   "execution_count": 8,
   "metadata": {},
   "outputs": [],
   "source": [
    "now = datetime.now()"
   ]
  },
  {
   "cell_type": "code",
   "execution_count": 9,
   "metadata": {},
   "outputs": [],
   "source": [
    "two_days_from_now = now + timedelta(days=days_ahead)"
   ]
  },
  {
   "cell_type": "code",
   "execution_count": 10,
   "metadata": {},
   "outputs": [],
   "source": [
    "utc_ct = f'{ct.year}-'\n",
    "if len(str(ct.month)) < 2:\n",
    "    utc_ct += '0'\n",
    "utc_ct += f'{ct.month}-'\n",
    "if len(str(ct.day)) < 2:\n",
    "    utc_ct += '0'\n",
    "utc_ct += str(ct.day + 2) + 'T'\n",
    "if len(str(ct.hour)) < 2:\n",
    "    utc_ct += '0'\n",
    "utc_ct += f'{ct.hour}:'\n",
    "if len(str(ct.minute)) < 2:\n",
    "    utc_ct += '0'\n",
    "utc_ct += f'{ct.minute}:'\n",
    "if len(str(ct.second)) < 2:\n",
    "    utc_ct += '0'\n",
    "utc_ct += f'{ct.second}.'\n",
    "if len(str(ct.microsecond)) < 2:    \n",
    "    utc_ct += '0'\n",
    "utc_ct += str(ct.microsecond)[:3] + 'Z'"
   ]
  },
  {
   "cell_type": "code",
   "execution_count": 11,
   "metadata": {},
   "outputs": [],
   "source": [
    "ITEM_FILTER_0 = f'itemFilter(0).name=Condition&itemFilter(0).value={USED}' # Only used guitars\n",
    "ITEM_FILTER_1 = f'itemFilter(1).name=HideDuplicateItems&itemFilter(1).value=true' # No duplicate listings\n",
    "ITEM_FILTER_2 = f'itemFilter(2).name=MinPrice&itemFilter(2).value=1' # Only items that sell for > this value\n",
    "ITEM_FILTER_3 = f'itemFilter(3).name=MaxQuantity&itemFilter(3).value=1' # No lots or batch sales. One item at a time\n",
    "ITEM_FILTER_4 = f'itemFilter(4).name=MaxPrice&itemFilter(4).value=310' # Only items that sold for < this value\n",
    "ITEM_FILTER_5 = f'itemFilter(5).name=EndTimeTo&itemFilter(5).value={utc_ct}' # Only ending soonish"
   ]
  },
  {
   "cell_type": "code",
   "execution_count": 12,
   "metadata": {},
   "outputs": [],
   "source": [
    "def find_current_auctions(PAGE, keywords):\n",
    "    '''Make a request to the eBay API and return the JSON text of this page number'''\n",
    "    r = requests.get(\n",
    "                 f'https://svcs.ebay.com/services/search/FindingService/v1?'\n",
    "                 f'OPERATION-NAME={FIND_ADVANCED}&'\n",
    "                 f'X-EBAY-SOA-SECURITY-APPNAME={API_KEY}&'\n",
    "                 f'RESPONSE-DATA-FORMAT=JSON&'\n",
    "                 f'REST-PAYLOAD&'\n",
    "                 f'categoryId={ELEC_GUITARS}&'\n",
    "                 f'descriptionSearch=true&'\n",
    "                 f'{ITEM_FILTER_0}&' # USED\n",
    "                 f'{ITEM_FILTER_1}&' # NO DUPES\n",
    "                 f'{ITEM_FILTER_2}&' # MINPRICE\n",
    "                 f'{ITEM_FILTER_3}&' # NO LOTS\n",
    "                 f'{ITEM_FILTER_4}&' # MAX PRICE\n",
    "                 f'{ITEM_FILTER_5}&' # END TIME\n",
    "                 f'keywords={keywords}&'\n",
    "                 f'paginationInput.pageNumber={str(PAGE)}') # value to be looped through when collecting lotsa data\n",
    "    if r.json()['findItemsAdvancedResponse'][0].get('searchResult'):\n",
    "        return r.json()['findItemsAdvancedResponse'][0]['searchResult'][0]['item']\n",
    "    else:\n",
    "        return None"
   ]
  },
  {
   "cell_type": "code",
   "execution_count": 13,
   "metadata": {
    "scrolled": true
   },
   "outputs": [],
   "source": [
    "# [item['title'] for item in find_current_auctions(1, 'fender+-%28squier%2Csquire%29')]\n",
    "# [item['title'] for item in find_current_auctions(2, 'gibson+-%28epiphone%29')]"
   ]
  },
  {
   "cell_type": "code",
   "execution_count": 14,
   "metadata": {},
   "outputs": [],
   "source": [
    "def get_specs(ITEM_ID):\n",
    "    '''Return the specifics of a single eBay auction. String input.'''\n",
    "    r = requests.get('http://open.api.ebay.com/shopping?'\n",
    "                    f'callname=GetSingleItem&'\n",
    "                    f'responseencoding=JSON&'\n",
    "                    f'appid={API_KEY}&'\n",
    "#                     f'siteid=0&' # USA Store\n",
    "                    f'version=967&' # What is this?\n",
    "                    f'ItemID={ITEM_ID}&'\n",
    "                    f'IncludeSelector=Details,ItemSpecifics,TextDescription')\n",
    "    try:\n",
    "        return r.json()['Item']\n",
    "    except KeyError:\n",
    "        pass"
   ]
  },
  {
   "cell_type": "code",
   "execution_count": 15,
   "metadata": {},
   "outputs": [],
   "source": [
    "# def persist_page_to_json(PAGE):\n",
    "#     '''Saves a page of JSON responses to one json per axe'''\n",
    "#     for i in range(len(PAGE)):\n",
    "#         with open(\"trawler_listings/axe_%s.json\" % (PAGE[i]['itemId'][0]), 'w') as f:  # writing JSON object\n",
    "#             json.dump(PAGE[i], f)"
   ]
  },
  {
   "cell_type": "code",
   "execution_count": 16,
   "metadata": {},
   "outputs": [],
   "source": [
    "# def persist_spec_to_json(spec):\n",
    "#     '''Writes one page of Axe Specs to one json'''\n",
    "#     try:\n",
    "#         with open(\"trawler_specs/axe_%s.json\" % (spec['ItemID']), 'w') as f:  # writing JSON object\n",
    "#             json.dump(spec, f)\n",
    "#     except TypeError:\n",
    "#         pass\n",
    "#     pass"
   ]
  },
  {
   "cell_type": "code",
   "execution_count": 17,
   "metadata": {},
   "outputs": [],
   "source": [
    "def trawl_for_guitars(start_page, stop_page, fetch_function, keywords):\n",
    "    '''Spams the eBay API for pages of AXE DATA'''\n",
    "    j = 0\n",
    "    k = 0\n",
    "    existing_guitar_ids = []\n",
    "    listings = []\n",
    "    \n",
    "    for i in range(start_page+1, stop_page+1):\n",
    "        page = fetch_function(i, keywords)\n",
    "        if page:\n",
    "            for axe in page:\n",
    "                k += 1\n",
    "                if axe['itemId'][0] not in existing_guitar_ids:\n",
    "                    existing_guitar_ids.append(axe['itemId'][0])\n",
    "                    j += 1\n",
    "                    print(f'Get {j}')\n",
    "                    listings.append({'listing': axe,\n",
    "                                     'specs': get_specs(axe['itemId'][0])})\n",
    "                else:\n",
    "                    print('Skip')\n",
    "    \n",
    "    print(f'\\nChecked {k} guitars')\n",
    "    print(f'\\nGot {j} new guitars')\n",
    "    \n",
    "    return listings"
   ]
  },
  {
   "cell_type": "markdown",
   "metadata": {},
   "source": [
    "### Trawl"
   ]
  },
  {
   "cell_type": "code",
   "execution_count": 18,
   "metadata": {},
   "outputs": [],
   "source": [
    "prospects = []"
   ]
  },
  {
   "cell_type": "code",
   "execution_count": 19,
   "metadata": {
    "scrolled": true
   },
   "outputs": [
    {
     "name": "stdout",
     "output_type": "stream",
     "text": [
      "Get 1\n",
      "Get 2\n",
      "Get 3\n",
      "Get 4\n",
      "Get 5\n",
      "Get 6\n",
      "Get 7\n",
      "Skip\n",
      "Skip\n",
      "Skip\n",
      "Skip\n",
      "Skip\n",
      "Skip\n",
      "Skip\n",
      "\n",
      "Checked 14 guitars\n",
      "\n",
      "Got 7 new guitars\n"
     ]
    }
   ],
   "source": [
    "prospects.extend(trawl_for_guitars(0,2,find_current_auctions,'american+-%28squier%2Csquire%2Cepiphone%2Cepi%29'))"
   ]
  },
  {
   "cell_type": "code",
   "execution_count": 20,
   "metadata": {
    "scrolled": true
   },
   "outputs": [
    {
     "name": "stdout",
     "output_type": "stream",
     "text": [
      "Get 1\n",
      "Get 2\n",
      "Get 3\n",
      "Get 4\n",
      "Get 5\n",
      "Get 6\n",
      "Get 7\n",
      "Get 8\n",
      "Get 9\n",
      "Get 10\n",
      "Get 11\n",
      "Get 12\n",
      "Get 13\n",
      "Get 14\n",
      "Get 15\n",
      "Get 16\n",
      "Get 17\n",
      "Get 18\n",
      "Get 19\n",
      "Get 20\n",
      "Get 21\n",
      "Get 22\n",
      "Get 23\n",
      "Get 24\n",
      "Get 25\n",
      "Get 26\n",
      "Get 27\n",
      "Get 28\n",
      "Get 29\n",
      "Get 30\n",
      "Get 31\n",
      "Get 32\n",
      "Get 33\n",
      "Get 34\n",
      "Get 35\n",
      "Get 36\n",
      "Get 37\n",
      "Get 38\n",
      "Get 39\n",
      "Get 40\n",
      "Get 41\n",
      "Get 42\n",
      "Get 43\n",
      "Get 44\n",
      "Get 45\n",
      "Get 46\n",
      "Skip\n",
      "Skip\n",
      "Skip\n",
      "Skip\n",
      "Skip\n",
      "Skip\n",
      "Skip\n",
      "Skip\n",
      "Skip\n",
      "Skip\n",
      "Skip\n",
      "Skip\n",
      "Skip\n",
      "Skip\n",
      "Skip\n",
      "Skip\n",
      "Skip\n",
      "Skip\n",
      "Skip\n",
      "Skip\n",
      "Skip\n",
      "Skip\n",
      "Skip\n",
      "Skip\n",
      "Skip\n",
      "Skip\n",
      "Skip\n",
      "Skip\n",
      "Skip\n",
      "Skip\n",
      "Skip\n",
      "Skip\n",
      "Skip\n",
      "Skip\n",
      "Skip\n",
      "Skip\n",
      "Skip\n",
      "Skip\n",
      "Skip\n",
      "Skip\n",
      "Skip\n",
      "Skip\n",
      "Skip\n",
      "Skip\n",
      "Skip\n",
      "Skip\n",
      "\n",
      "Checked 92 guitars\n",
      "\n",
      "Got 46 new guitars\n"
     ]
    }
   ],
   "source": [
    "prospects.extend(trawl_for_guitars(0,2,find_current_auctions,'fender+-%28squier%2Csquire%29'))"
   ]
  },
  {
   "cell_type": "code",
   "execution_count": 21,
   "metadata": {
    "scrolled": true
   },
   "outputs": [
    {
     "name": "stdout",
     "output_type": "stream",
     "text": [
      "Get 1\n",
      "Get 2\n",
      "Get 3\n",
      "Get 4\n",
      "Get 5\n",
      "Get 6\n",
      "Get 7\n",
      "Get 8\n",
      "Get 9\n",
      "Get 10\n",
      "Get 11\n",
      "Get 12\n",
      "Skip\n",
      "Skip\n",
      "Skip\n",
      "Skip\n",
      "Skip\n",
      "Skip\n",
      "Skip\n",
      "Skip\n",
      "Skip\n",
      "Skip\n",
      "Skip\n",
      "Skip\n",
      "\n",
      "Checked 24 guitars\n",
      "\n",
      "Got 12 new guitars\n"
     ]
    }
   ],
   "source": [
    "prospects.extend(trawl_for_guitars(0,2,find_current_auctions, 'gibson+-%28epiphone%29'))"
   ]
  },
  {
   "cell_type": "markdown",
   "metadata": {},
   "source": [
    "***"
   ]
  },
  {
   "cell_type": "markdown",
   "metadata": {},
   "source": [
    "## Load the Prospects and Make Price Estimates"
   ]
  },
  {
   "cell_type": "code",
   "execution_count": 24,
   "metadata": {},
   "outputs": [],
   "source": [
    "from Axe_Object_memory import Axe"
   ]
  },
  {
   "cell_type": "code",
   "execution_count": 25,
   "metadata": {},
   "outputs": [],
   "source": [
    "# prospects[0]"
   ]
  },
  {
   "cell_type": "code",
   "execution_count": 26,
   "metadata": {},
   "outputs": [
    {
     "name": "stdout",
     "output_type": "stream",
     "text": [
      "skip\n",
      "skip\n",
      "skip\n",
      "skip\n",
      "skip\n",
      "skip\n"
     ]
    }
   ],
   "source": [
    "guitars = []\n",
    "for prospect in prospects:\n",
    "    if prospect.get('specs'):\n",
    "        try:\n",
    "            this_axe = Axe(prospect['listing'],prospect['specs'])\n",
    "            if \"LOT OF\" not in this_axe.title.upper() and this_axe.price > 90 and this_axe.price < 800:\n",
    "                if this_axe.string_config and this_axe.string_config < 5:\n",
    "                    continue\n",
    "                if this_axe.year and this_axe.year > 2019:\n",
    "                    continue\n",
    "                if this_axe.end_time > two_days_from_now or this_axe.end_time < now:\n",
    "                    continue\n",
    "                guitars.append(this_axe)\n",
    "        except ValueError:\n",
    "            print(\"skip\")\n",
    "            pass\n",
    "    else:\n",
    "        print(\"skip\")\n",
    "        pass"
   ]
  },
  {
   "cell_type": "code",
   "execution_count": 27,
   "metadata": {},
   "outputs": [
    {
     "data": {
      "text/plain": [
       "37"
      ]
     },
     "execution_count": 27,
     "metadata": {},
     "output_type": "execute_result"
    }
   ],
   "source": [
    "len(guitars)"
   ]
  },
  {
   "cell_type": "markdown",
   "metadata": {},
   "source": [
    "Establishing some default eBay auction settings here:\n",
    "\n",
    "This is how you should sell stuff on eBay to maximize guitar price, basically."
   ]
  },
  {
   "cell_type": "code",
   "execution_count": 28,
   "metadata": {},
   "outputs": [],
   "source": [
    "# Properties\n",
    "auction_duration    = pd.Series(np.full(len(guitars),7*24), name = 'auction_duration')\n",
    "shipping_charged    = pd.Series(np.full(len(guitars),0), name = 'shipping_charged')          \n",
    "seller_country_US   = pd.Series([1 for i in range(len(guitars))], name = 'seller_country_US')\n",
    "autopay             = pd.Series([False for guitar in range(len(guitars))], name = 'autopay')\n",
    "returns             = pd.Series([False for guitar in range(len(guitars))], name = 'returns')\n",
    "listing_type_FixedPrice = pd.Series([True for guitar in range(len(guitars))], name = 'listing_type_FixedPrice')\n",
    "ship_type_Free      = pd.Series([1 for guitar in range(len(guitars))], name = 'ship_type_Free')\n",
    "ship_expedite       = pd.Series([0 for guitar in range(len(guitars))], name = 'ship_expedite')\n",
    "start_hour          = pd.Series([1 for guitar in range(len(guitars))], name = 'start_hour_(7.667, 11.5]')\n",
    "end_hour            = pd.Series([1 for guitar in range(len(guitars))], name = 'end_hour_(7.667, 11.5]')\n",
    "start_weekday_6     = pd.Series([6 for guitar in range(len(guitars))], name = 'start_weekday_6')\n",
    "end_weekday_6       = pd.Series([6 for guitar in range(len(guitars))], name = 'end_weekday_6')\n",
    "# returns_time      = pd.Series([0 for guitar in range(len(guitars))], name = 'returns_time')\n",
    "num_pics            = pd.Series([12 for guitar in range(len(guitars))], name = 'num_pics')\n",
    "best_offer_enabled  = pd.Series([True for guitar in range(len(guitars))], name = 'best_offer_enabled')\n",
    "ship_handling_time_2= pd.Series([1 for guitar in range(len(guitars))], name = 'ship_handling_time_2')\n",
    "seller_positive_percent = pd.Series([1 for guitar in range(len(guitars))], name = 'seller_positive_percent_(99.5, 111.0]')\n",
    "brand = pd.Series([guitar.brand for guitar in guitars], name = \"brand\")\n",
    "body_type           = pd.Series([guitar.body_type for guitar in guitars], name = \"body_type\")\n",
    "color               = pd.Series([guitar.color for guitar in guitars], name = \"color\")\n",
    "right_left_handed   = pd.Series([guitar.right_left_handed for guitar in guitars], name = \"right_left_handed\")\n",
    "string_config       = pd.cut(pd.Series([guitar.string_config for guitar in guitars], name = \"string_config\"),\n",
    "                       [0,5,6,11,20])\n",
    "country_manufacture = pd.Series([guitar.country_manufacture for guitar in guitars], name = \"country_manufacture\")\n",
    "model_year = pd.cut(pd.Series([guitar.year for guitar in guitars], name = \"model_year\"), [1700,1975,1990,1995,2000,2005,2007,2010,2011,2012,2013,2015])"
   ]
  },
  {
   "cell_type": "code",
   "execution_count": 29,
   "metadata": {},
   "outputs": [],
   "source": [
    "X_dummies = pd.concat([brand, color, country_manufacture, right_left_handed, best_offer_enabled, shipping_charged, returns, autopay, seller_country_US, ship_handling_time_2, listing_type_FixedPrice, ship_expedite, ship_type_Free, num_pics, auction_duration, start_hour, end_hour, start_weekday_6, end_weekday_6, seller_positive_percent, model_year, body_type, string_config],\n",
    "              axis = 1)\n",
    "\n",
    "X = pd.get_dummies(X_dummies, drop_first=True)"
   ]
  },
  {
   "cell_type": "code",
   "execution_count": 32,
   "metadata": {},
   "outputs": [],
   "source": [
    "infile = open('../pickles/bonus_columns','rb')\n",
    "bonus_columns = pickle.load(infile)\n",
    "infile.close()"
   ]
  },
  {
   "cell_type": "code",
   "execution_count": 33,
   "metadata": {},
   "outputs": [],
   "source": [
    "fillers = []\n",
    "remove = []\n",
    "for col in bonus_columns:\n",
    "    if col not in X.columns:\n",
    "#         print(f'YAYAYAYA: {col}')\n",
    "        filler = pd.Series(np.full(len(guitars),0), name=col)\n",
    "        fillers.append(filler)\n",
    "for col in X.columns:\n",
    "    if col not in bonus_columns:\n",
    "#         print(f'NUNUNUNU: {col}')\n",
    "        X.drop(col, axis=1, inplace=True)\n",
    "        \n",
    "fillers_df = pd.concat(fillers, axis=1)"
   ]
  },
  {
   "cell_type": "code",
   "execution_count": 34,
   "metadata": {},
   "outputs": [],
   "source": [
    "X_nontext = pd.concat([X, fillers_df], axis=1)"
   ]
  },
  {
   "cell_type": "code",
   "execution_count": 35,
   "metadata": {},
   "outputs": [],
   "source": [
    "infile = open('../pickles/saved_scaler','rb')\n",
    "scaler = pickle.load(infile)\n",
    "infile.close()"
   ]
  },
  {
   "cell_type": "code",
   "execution_count": 36,
   "metadata": {},
   "outputs": [
    {
     "name": "stderr",
     "output_type": "stream",
     "text": [
      "/anaconda3/envs/Bayes/lib/python3.6/site-packages/ipykernel_launcher.py:1: DataConversionWarning: Data with input dtype bool, uint8, int64 were all converted to float64 by StandardScaler.\n",
      "  \"\"\"Entry point for launching an IPython kernel.\n"
     ]
    }
   ],
   "source": [
    "X_nontext_scaled = pd.DataFrame(scaler.transform(X_nontext))"
   ]
  },
  {
   "cell_type": "code",
   "execution_count": 37,
   "metadata": {},
   "outputs": [],
   "source": [
    "stemmer = SnowballStemmer(\"english\")"
   ]
  },
  {
   "cell_type": "code",
   "execution_count": 38,
   "metadata": {},
   "outputs": [],
   "source": [
    "stopwords_list = stopwords.words('english') + list(string.punctuation)\n",
    "stopwords_list += [\"''\", '\"\"', '...', '``', \",\", \".\", \":\", \"'s\", \"--\",\"’\"]"
   ]
  },
  {
   "cell_type": "code",
   "execution_count": 39,
   "metadata": {},
   "outputs": [],
   "source": [
    "def assemble_guitar_document(axe):\n",
    "    document = axe.title + ' '\n",
    "    if axe.year != None:\n",
    "        document += (str(axe.year) + ' ')\n",
    "    if axe.material != None:\n",
    "        document += axe.material + ' '\n",
    "    if axe.model != None:\n",
    "        document += axe.model + ' ' \n",
    "    if axe.brand != None:\n",
    "        document += axe.brand + ' '\n",
    "    if axe.subtitle != None:\n",
    "        document += axe.subtitle + ' '\n",
    "    if axe.condition_description != None:\n",
    "        document += axe.condition_description + ' '\n",
    "    if axe.description != None:\n",
    "        document += axe.description\n",
    "    return document"
   ]
  },
  {
   "cell_type": "code",
   "execution_count": 40,
   "metadata": {},
   "outputs": [],
   "source": [
    "def process_doc(doc):\n",
    "    stopwords_removed = ''\n",
    "    tokens = nltk.word_tokenize(doc)\n",
    "    for i in range(len(tokens)):\n",
    "        if tokens[i].lower() not in stopwords_list and tokens[i] not in string.punctuation:\n",
    "            stopwords_removed += stemmer.stem(tokens[i]) + ' '\n",
    "    return stopwords_removed"
   ]
  },
  {
   "cell_type": "code",
   "execution_count": 41,
   "metadata": {},
   "outputs": [],
   "source": [
    "raw_corpus = [assemble_guitar_document(guitar).lower() for guitar in guitars]"
   ]
  },
  {
   "cell_type": "code",
   "execution_count": 42,
   "metadata": {},
   "outputs": [],
   "source": [
    "processed_text = pd.Series(list(map(process_doc, raw_corpus)), name = 'text')"
   ]
  },
  {
   "cell_type": "code",
   "execution_count": 43,
   "metadata": {},
   "outputs": [],
   "source": [
    "infile = open('../pickles/saved_vectorizer','rb')\n",
    "vectorizer = pickle.load(infile)\n",
    "infile.close()"
   ]
  },
  {
   "cell_type": "code",
   "execution_count": 44,
   "metadata": {},
   "outputs": [],
   "source": [
    "tfidf = vectorizer.transform(processed_text)\n",
    "tfidf_df = pd.DataFrame(tfidf.toarray(), columns=vectorizer.get_feature_names())"
   ]
  },
  {
   "cell_type": "code",
   "execution_count": 45,
   "metadata": {},
   "outputs": [],
   "source": [
    "X_ready = pd.concat([X_nontext, tfidf_df], axis=1)"
   ]
  },
  {
   "cell_type": "code",
   "execution_count": 47,
   "metadata": {},
   "outputs": [],
   "source": [
    "infile = open('../pickles/lasso_model','rb')\n",
    "lasso_model = pickle.load(infile)\n",
    "infile.close()"
   ]
  },
  {
   "cell_type": "code",
   "execution_count": 48,
   "metadata": {},
   "outputs": [],
   "source": [
    "y_preds = lasso_model.predict(X_ready)"
   ]
  },
  {
   "cell_type": "code",
   "execution_count": 49,
   "metadata": {},
   "outputs": [],
   "source": [
    "bxcx_lam = .4\n",
    "y_preds_inv = inv_boxcox(y_preds, bxcx_lam)"
   ]
  },
  {
   "cell_type": "markdown",
   "metadata": {},
   "source": [
    "But now...which ones could yield a respectable margin?"
   ]
  },
  {
   "cell_type": "code",
   "execution_count": 50,
   "metadata": {},
   "outputs": [],
   "source": [
    "predicted_df = pd.concat([pd.Series(y_preds_inv), pd.Series([guitar.initial_price + guitar.price_shipping for guitar in guitars]),\n",
    "                          pd.Series(y_preds_inv) / pd.Series([guitar.initial_price for guitar in guitars]),\n",
    "                          pd.Series([guitar.title for guitar in guitars]), \n",
    "                          pd.Series([guitar.url for guitar in guitars]), \n",
    "                         pd.Series([guitar.pic for guitar in guitars])],\n",
    "                         axis=1)\n",
    "\n",
    "predicted_df.columns = ['Estimate', 'Price', 'Ratio','Title','Link', 'Pic']"
   ]
  },
  {
   "cell_type": "code",
   "execution_count": 51,
   "metadata": {},
   "outputs": [],
   "source": [
    "highest_value = predicted_df.sort_values('Estimate', ascending=False)\n",
    "hv_10 = highest_value.iloc[:10,:]\n",
    "\n",
    "most_underrated = predicted_df.sort_values('Ratio', ascending=False)\n",
    "m_u = most_underrated.iloc[:10,:]"
   ]
  },
  {
   "cell_type": "code",
   "execution_count": 52,
   "metadata": {},
   "outputs": [
    {
     "data": {
      "text/html": [
       "<div>\n",
       "<style scoped>\n",
       "    .dataframe tbody tr th:only-of-type {\n",
       "        vertical-align: middle;\n",
       "    }\n",
       "\n",
       "    .dataframe tbody tr th {\n",
       "        vertical-align: top;\n",
       "    }\n",
       "\n",
       "    .dataframe thead th {\n",
       "        text-align: right;\n",
       "    }\n",
       "</style>\n",
       "<table border=\"1\" class=\"dataframe\">\n",
       "  <thead>\n",
       "    <tr style=\"text-align: right;\">\n",
       "      <th></th>\n",
       "      <th>Estimate</th>\n",
       "      <th>Price</th>\n",
       "      <th>Ratio</th>\n",
       "      <th>Title</th>\n",
       "      <th>Link</th>\n",
       "      <th>Pic</th>\n",
       "    </tr>\n",
       "  </thead>\n",
       "  <tbody>\n",
       "    <tr>\n",
       "      <th>1</th>\n",
       "      <td>995.105097</td>\n",
       "      <td>99.00</td>\n",
       "      <td>10.051567</td>\n",
       "      <td>SIX FLAGS CUSTOM AMERICAN FLAG ELECTRIC GUITAR</td>\n",
       "      <td>http://www.ebay.com/itm/SIX-FLAGS-CUSTOM-AMERI...</td>\n",
       "      <td>http://thumbs2.ebaystatic.com/m/mhsjHqKSVS1med...</td>\n",
       "    </tr>\n",
       "    <tr>\n",
       "      <th>8</th>\n",
       "      <td>973.053559</td>\n",
       "      <td>100.00</td>\n",
       "      <td>9.730536</td>\n",
       "      <td>Vantage Guitar With Fender 15G Amp And Chord</td>\n",
       "      <td>http://www.ebay.com/itm/Vantage-Guitar-Fender-...</td>\n",
       "      <td>http://thumbs2.ebaystatic.com/m/mz-xw9NJV2So5e...</td>\n",
       "    </tr>\n",
       "    <tr>\n",
       "      <th>34</th>\n",
       "      <td>969.595241</td>\n",
       "      <td>129.98</td>\n",
       "      <td>9.696922</td>\n",
       "      <td>Slick SL-52 Project No Pickups Xavier</td>\n",
       "      <td>http://www.ebay.com/itm/Slick-SL-52-Project-No...</td>\n",
       "      <td>http://thumbs4.ebaystatic.com/m/mNcfDTTRuknWja...</td>\n",
       "    </tr>\n",
       "    <tr>\n",
       "      <th>25</th>\n",
       "      <td>1057.763347</td>\n",
       "      <td>130.00</td>\n",
       "      <td>8.814695</td>\n",
       "      <td>Wudtone PRS DD Tremolo</td>\n",
       "      <td>http://www.ebay.com/itm/Wudtone-PRS-DD-Tremolo...</td>\n",
       "      <td>http://thumbs1.ebaystatic.com/m/mgt6Hgfkz1_8Hi...</td>\n",
       "    </tr>\n",
       "    <tr>\n",
       "      <th>12</th>\n",
       "      <td>856.362274</td>\n",
       "      <td>139.98</td>\n",
       "      <td>7.785819</td>\n",
       "      <td>Fender FA-135CE Electric Acoustic Guitar W/Roa...</td>\n",
       "      <td>http://www.ebay.com/itm/Fender-FA-135CE-Electr...</td>\n",
       "      <td>http://thumbs1.ebaystatic.com/m/my59PL5B8eHZO7...</td>\n",
       "    </tr>\n",
       "    <tr>\n",
       "      <th>7</th>\n",
       "      <td>804.769396</td>\n",
       "      <td>105.00</td>\n",
       "      <td>7.664470</td>\n",
       "      <td>Fender Standard Strat HSS with Locking Tremolo...</td>\n",
       "      <td>http://www.ebay.com/itm/Fender-Standard-Strat-...</td>\n",
       "      <td>http://thumbs2.ebaystatic.com/m/mXPq8C1Zc9S7Mk...</td>\n",
       "    </tr>\n",
       "    <tr>\n",
       "      <th>18</th>\n",
       "      <td>1002.303630</td>\n",
       "      <td>150.50</td>\n",
       "      <td>6.659825</td>\n",
       "      <td>WINDSONG Electric Guitar Semi Hollow Body H&amp;H ...</td>\n",
       "      <td>http://www.ebay.com/itm/WINDSONG-Electric-Guit...</td>\n",
       "      <td>http://thumbs1.ebaystatic.com/m/mH70HyCSe0AmCP...</td>\n",
       "    </tr>\n",
       "    <tr>\n",
       "      <th>33</th>\n",
       "      <td>1095.910089</td>\n",
       "      <td>200.00</td>\n",
       "      <td>6.446530</td>\n",
       "      <td>Samick Valley Arts Custom Pro Shop American Cl...</td>\n",
       "      <td>http://www.ebay.com/itm/Samick-Valley-Arts-Cus...</td>\n",
       "      <td>http://thumbs1.ebaystatic.com/m/mG_IQyn6yHSugu...</td>\n",
       "    </tr>\n",
       "    <tr>\n",
       "      <th>0</th>\n",
       "      <td>1095.910089</td>\n",
       "      <td>200.00</td>\n",
       "      <td>6.446530</td>\n",
       "      <td>Samick Valley Arts Custom Pro Shop American Cl...</td>\n",
       "      <td>http://www.ebay.com/itm/Samick-Valley-Arts-Cus...</td>\n",
       "      <td>http://thumbs1.ebaystatic.com/m/mG_IQyn6yHSugu...</td>\n",
       "    </tr>\n",
       "    <tr>\n",
       "      <th>32</th>\n",
       "      <td>992.255574</td>\n",
       "      <td>159.00</td>\n",
       "      <td>6.240601</td>\n",
       "      <td>Dean Michael Schenker Flying V Guitar Gibson S...</td>\n",
       "      <td>http://www.ebay.com/itm/Dean-Michael-Schenker-...</td>\n",
       "      <td>http://thumbs3.ebaystatic.com/m/mGVJV0if6_d7gr...</td>\n",
       "    </tr>\n",
       "  </tbody>\n",
       "</table>\n",
       "</div>"
      ],
      "text/plain": [
       "       Estimate   Price      Ratio  \\\n",
       "1    995.105097   99.00  10.051567   \n",
       "8    973.053559  100.00   9.730536   \n",
       "34   969.595241  129.98   9.696922   \n",
       "25  1057.763347  130.00   8.814695   \n",
       "12   856.362274  139.98   7.785819   \n",
       "7    804.769396  105.00   7.664470   \n",
       "18  1002.303630  150.50   6.659825   \n",
       "33  1095.910089  200.00   6.446530   \n",
       "0   1095.910089  200.00   6.446530   \n",
       "32   992.255574  159.00   6.240601   \n",
       "\n",
       "                                                Title  \\\n",
       "1     SIX FLAGS CUSTOM AMERICAN FLAG ELECTRIC GUITAR    \n",
       "8        Vantage Guitar With Fender 15G Amp And Chord   \n",
       "34             Slick SL-52 Project No Pickups Xavier    \n",
       "25                             Wudtone PRS DD Tremolo   \n",
       "12  Fender FA-135CE Electric Acoustic Guitar W/Roa...   \n",
       "7   Fender Standard Strat HSS with Locking Tremolo...   \n",
       "18  WINDSONG Electric Guitar Semi Hollow Body H&H ...   \n",
       "33  Samick Valley Arts Custom Pro Shop American Cl...   \n",
       "0   Samick Valley Arts Custom Pro Shop American Cl...   \n",
       "32  Dean Michael Schenker Flying V Guitar Gibson S...   \n",
       "\n",
       "                                                 Link  \\\n",
       "1   http://www.ebay.com/itm/SIX-FLAGS-CUSTOM-AMERI...   \n",
       "8   http://www.ebay.com/itm/Vantage-Guitar-Fender-...   \n",
       "34  http://www.ebay.com/itm/Slick-SL-52-Project-No...   \n",
       "25  http://www.ebay.com/itm/Wudtone-PRS-DD-Tremolo...   \n",
       "12  http://www.ebay.com/itm/Fender-FA-135CE-Electr...   \n",
       "7   http://www.ebay.com/itm/Fender-Standard-Strat-...   \n",
       "18  http://www.ebay.com/itm/WINDSONG-Electric-Guit...   \n",
       "33  http://www.ebay.com/itm/Samick-Valley-Arts-Cus...   \n",
       "0   http://www.ebay.com/itm/Samick-Valley-Arts-Cus...   \n",
       "32  http://www.ebay.com/itm/Dean-Michael-Schenker-...   \n",
       "\n",
       "                                                  Pic  \n",
       "1   http://thumbs2.ebaystatic.com/m/mhsjHqKSVS1med...  \n",
       "8   http://thumbs2.ebaystatic.com/m/mz-xw9NJV2So5e...  \n",
       "34  http://thumbs4.ebaystatic.com/m/mNcfDTTRuknWja...  \n",
       "25  http://thumbs1.ebaystatic.com/m/mgt6Hgfkz1_8Hi...  \n",
       "12  http://thumbs1.ebaystatic.com/m/my59PL5B8eHZO7...  \n",
       "7   http://thumbs2.ebaystatic.com/m/mXPq8C1Zc9S7Mk...  \n",
       "18  http://thumbs1.ebaystatic.com/m/mH70HyCSe0AmCP...  \n",
       "33  http://thumbs1.ebaystatic.com/m/mG_IQyn6yHSugu...  \n",
       "0   http://thumbs1.ebaystatic.com/m/mG_IQyn6yHSugu...  \n",
       "32  http://thumbs3.ebaystatic.com/m/mGVJV0if6_d7gr...  "
      ]
     },
     "execution_count": 52,
     "metadata": {},
     "output_type": "execute_result"
    }
   ],
   "source": [
    "hv_10\n",
    "m_u"
   ]
  },
  {
   "cell_type": "code",
   "execution_count": 53,
   "metadata": {},
   "outputs": [],
   "source": [
    "email = \"<h3>10 Most Underrated:</h3>\\n\"\n",
    "\n",
    "email += \"*******************************\\n\"\n",
    "\n",
    "for i in range(10):\n",
    "    email += f\"<a href = {m_u['Link'].values[i]}>\"\n",
    "    email += f\"\\n{m_u['Title'].values[i]}\\n\\n:\"\n",
    "    email += f\"<img src = {m_u['Pic'].values[i]}></img></a>\\n\"\n",
    "    email += f\"\\nHigh bid: ${m_u['Price'].values[i]}\\n\\n\"\n",
    "    email += \"*******************************\\n\"\n",
    "    \n",
    "email += '\\n<h3>10 Highest Potential Value:</h3>\\n'\n",
    "email += \"*******************************\\n\"\n",
    "    \n",
    "for i in range(10):\n",
    "    email += f\"<a href = {hv_10['Link'].values[i]}>\"\n",
    "    email += f\"\\n{hv_10['Title'].values[i]}\\n\\n\"\n",
    "    email += f\"<img src = {hv_10.Pic.values[i]}></img></a>\\n\"\n",
    "    email += f\"\\nHigh bid: ${hv_10['Price'].values[i]}\\n\\n\"\n",
    "    email += \"*******************************\\n\""
   ]
  },
  {
   "cell_type": "code",
   "execution_count": 55,
   "metadata": {},
   "outputs": [],
   "source": [
    "# print(email)"
   ]
  },
  {
   "cell_type": "code",
   "execution_count": null,
   "metadata": {},
   "outputs": [],
   "source": [
    "receiver = \"cinemarob1@gmail.com\"\n",
    "yag = yagmail.SMTP(\"gu1tarb1trag3@gmail.com\")\n",
    "yag.send(\n",
    "    to=receiver,\n",
    "    subject=f\"GuitArbitrage - Auctions Ending Within 2 Days\",\n",
    "    contents=email)"
   ]
  }
 ],
 "metadata": {
  "kernelspec": {
   "display_name": "Python3 (Bayes)",
   "language": "python",
   "name": "bayes"
  },
  "language_info": {
   "codemirror_mode": {
    "name": "ipython",
    "version": 3
   },
   "file_extension": ".py",
   "mimetype": "text/x-python",
   "name": "python",
   "nbconvert_exporter": "python",
   "pygments_lexer": "ipython3",
   "version": "3.6.6"
  }
 },
 "nbformat": 4,
 "nbformat_minor": 2
}
