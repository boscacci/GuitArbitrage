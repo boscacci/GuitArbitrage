{
 "cells": [
  {
   "cell_type": "code",
   "execution_count": 176,
   "metadata": {},
   "outputs": [],
   "source": [
    "import numpy as np\n",
    "import pandas as pd\n",
    "\n",
    "import nltk, string, os\n",
    "from nltk.corpus import stopwords\n",
    "from nltk import word_tokenize, FreqDist\n",
    "\n",
    "from sklearn.feature_extraction.text import TfidfVectorizer\n",
    "np.random.seed(0)"
   ]
  },
  {
   "cell_type": "code",
   "execution_count": 4,
   "metadata": {},
   "outputs": [],
   "source": [
    "from Axe_Object import Axe"
   ]
  },
  {
   "cell_type": "code",
   "execution_count": 5,
   "metadata": {},
   "outputs": [],
   "source": [
    "filenames = [name for name in os.listdir('axe_specs/') if not name.startswith('.')] # Ignores hidden files on mac"
   ]
  },
  {
   "cell_type": "code",
   "execution_count": 6,
   "metadata": {},
   "outputs": [
    {
     "data": {
      "text/plain": [
       "9557"
      ]
     },
     "execution_count": 6,
     "metadata": {},
     "output_type": "execute_result"
    }
   ],
   "source": [
    "axes = []\n",
    "for filename in filenames:\n",
    "    try:\n",
    "        this_axe = Axe(filename)\n",
    "        if \"LOT OF\" not in this_axe.title.upper()  and this_axe.price_usd > 110 and this_axe.price_usd < 750:\n",
    "            if this_axe.string_config and this_axe.string_config < 5:\n",
    "                continue\n",
    "            if this_axe.market != 'EBAY-US':\n",
    "                continue\n",
    "            if this_axe.year and this_axe.year > 2019:\n",
    "                continue\n",
    "            axes.append(this_axe)\n",
    "    except ValueError:\n",
    "        pass\n",
    "len(axes)"
   ]
  },
  {
   "cell_type": "code",
   "execution_count": 115,
   "metadata": {},
   "outputs": [],
   "source": [
    "def assemble_guitar_document(axe):\n",
    "    document = axe.title + ' '\n",
    "    if axe.year != None:\n",
    "        document += (str(axe.year) + ' ')*2\n",
    "    if axe.material != None:\n",
    "        document += axe.material + ' '\n",
    "    if axe.model != None:\n",
    "        document += axe.model + ' ' \n",
    "    if axe.brand != None:\n",
    "        document += axe.brand + ' '\n",
    "    if axe.subtitle != None:\n",
    "        document += axe.subtitle + ' '\n",
    "    if axe.condition_description != None:\n",
    "        document += axe.condition_description + ' '\n",
    "    if axe.description != None:\n",
    "        document += axe.description\n",
    "    return document"
   ]
  },
  {
   "cell_type": "code",
   "execution_count": 116,
   "metadata": {},
   "outputs": [],
   "source": [
    "raw_corpus = [assemble_guitar_document(axe).lower() for axe in axes]"
   ]
  },
  {
   "cell_type": "code",
   "execution_count": 169,
   "metadata": {},
   "outputs": [],
   "source": [
    "def process_doc(doc):\n",
    "    stopwords_removed = []\n",
    "    tokens = nltk.word_tokenize(doc)\n",
    "    for i in range(len(tokens)):\n",
    "        try:\n",
    "            if tokens[i].lower() not in stopwords_list and tokens[i+1] not in string.punctuation:\n",
    "                stopwords_removed.append((tokens[i].lower(), tokens[i+1].lower()))\n",
    "            elif tokens[i+1].lower() not in stopwords_list and tokens[i] not in string.punctuation:\n",
    "                    stopwords_removed.append((tokens[i].lower(), tokens[i+1].lower()))\n",
    "        except IndexError:\n",
    "            pass\n",
    "    return stopwords_removed"
   ]
  },
  {
   "cell_type": "code",
   "execution_count": 182,
   "metadata": {},
   "outputs": [],
   "source": [
    "stopwords_list = stopwords.words('english') + list(string.punctuation)\n",
    "stopwords_list += [\"''\", '\"\"', '...', '``', \",\", \".\", \":\", \"'s\", \"--\",\"’\"]"
   ]
  },
  {
   "cell_type": "code",
   "execution_count": 183,
   "metadata": {},
   "outputs": [],
   "source": [
    "processed_data = list(map(process_doc, raw_corpus))"
   ]
  },
  {
   "cell_type": "code",
   "execution_count": 184,
   "metadata": {},
   "outputs": [
    {
     "data": {
      "text/plain": [
       "262272"
      ]
     },
     "execution_count": 184,
     "metadata": {},
     "output_type": "execute_result"
    }
   ],
   "source": [
    "total_vocab = set()\n",
    "for bigram in processed_data:\n",
    "    total_vocab.update(bigram)\n",
    "len(total_vocab)"
   ]
  },
  {
   "cell_type": "code",
   "execution_count": 185,
   "metadata": {},
   "outputs": [],
   "source": [
    "docs_concat = []\n",
    "for doc in processed_data:\n",
    "    docs_concat += doc"
   ]
  },
  {
   "cell_type": "code",
   "execution_count": 186,
   "metadata": {},
   "outputs": [
    {
     "data": {
      "text/plain": [
       "[(('electric', 'guitar'), 7632),\n",
       " (('the', 'item'), 3459),\n",
       " (('this', 'guitar'), 3407),\n",
       " (('the', 'guitar'), 3397),\n",
       " (('les', 'paul'), 3346),\n",
       " (('guitar', 'is'), 2828),\n",
       " (('contact', 'us'), 2538),\n",
       " (('the', 'neck'), 2266),\n",
       " (('made', 'in'), 2035),\n",
       " (('please', 'contact'), 2014),\n",
       " (('comes', 'with'), 1915),\n",
       " (('any', 'questions'), 1862),\n",
       " (('gig', 'bag'), 1812),\n",
       " (('excellent', 'condition'), 1685),\n",
       " (('good', 'condition'), 1680),\n",
       " (('the', 'body'), 1480),\n",
       " (('very', 'good'), 1393),\n",
       " (('hard', 'case'), 1352),\n",
       " (('ship', 'to'), 1292),\n",
       " (('do', \"n't\"), 1249),\n",
       " (('the', 'original'), 1245),\n",
       " (('the', 'buyer'), 1238),\n",
       " (('in', 'good'), 1229),\n",
       " (('not', 'included'), 1228),\n",
       " (('for', 'sale'), 1217),\n",
       " (('must', 'be'), 1215),\n",
       " (('maple', 'neck'), 1176),\n",
       " (('the', 'pictures'), 1172),\n",
       " (('in', 'excellent'), 1171),\n",
       " (('the', 'back'), 1169),\n",
       " (('please', 'note'), 1149),\n",
       " (('shipping', 'charges'), 1137),\n",
       " (('neck', 'is'), 1136),\n",
       " (('guitar', 'with'), 1114),\n",
       " (('guitar', 'has'), 1083),\n",
       " (('thank', 'you'), 1082),\n",
       " (('free', 'to'), 1076),\n",
       " (('please', 'see'), 1039),\n",
       " (('charges', 'are'), 1018),\n",
       " (('the', 'auction'), 1018),\n",
       " (('in', 'great'), 1006),\n",
       " (('feel', 'free'), 1005),\n",
       " (('free', 'shipping'), 1004),\n",
       " (('truss', 'rod'), 988),\n",
       " (('and', 'sounds'), 972),\n",
       " (('prior', 'to'), 943),\n",
       " (('all', 'items'), 942),\n",
       " (('please', 'check'), 934),\n",
       " (('for', 'looking'), 930),\n",
       " (('lower', '48'), 913),\n",
       " (('included', 'in'), 908),\n",
       " (('the', 'best'), 902),\n",
       " (('set', 'up'), 902),\n",
       " (('be', 'shipped'), 894),\n",
       " (('the', 'photos'), 887),\n",
       " (('in', 'japan'), 876),\n",
       " (('as', 'well'), 873),\n",
       " (('item', 'is'), 871),\n",
       " (('epiphone', 'les'), 871),\n",
       " (('the', 'shipping'), 847),\n",
       " (('this', 'item'), 830),\n",
       " (('one', 'of'), 821),\n",
       " (('floyd', 'rose'), 812),\n",
       " (('to', 'make'), 806),\n",
       " (('items', 'are'), 804),\n",
       " (('bridge', 'pickup'), 803),\n",
       " (('shipping', 'costs'), 801),\n",
       " (('for', 'shipping'), 794),\n",
       " (('business', 'day'), 793),\n",
       " (('united', 'states'), 792),\n",
       " (('a', 'great'), 791),\n",
       " (('signs', 'of'), 790),\n",
       " (('is', 'used'), 784),\n",
       " (('neck', 'pickup'), 771),\n",
       " (('cost', 'of'), 769),\n",
       " (('days', 'of'), 766),\n",
       " (('fender', 'stratocaster'), 764),\n",
       " (('sounds', 'great'), 763),\n",
       " (('thanks', 'for'), 762),\n",
       " (('we', 'ship'), 759),\n",
       " (('back', 'of'), 759),\n",
       " (('seymour', 'duncan'), 756),\n",
       " (('great', 'condition'), 751),\n",
       " (('sales', 'tax'), 745),\n",
       " (('will', 'ship'), 744),\n",
       " (('best', 'to'), 740),\n",
       " (('before', 'bidding'), 737),\n",
       " (('not', 'ship'), 733),\n",
       " (('good', 'luck'), 728),\n",
       " (('the', 'bridge'), 727),\n",
       " (('48', 'states'), 727),\n",
       " (('check', 'out'), 721),\n",
       " (('to', 'pay'), 716),\n",
       " (('shipping', 'cost'), 715),\n",
       " (('your', 'purchase'), 712),\n",
       " (('3', 'days'), 691),\n",
       " (('sure', 'to'), 691),\n",
       " (('want', 'to'), 676),\n",
       " (('please', 'ask'), 676),\n",
       " (('shipping', 'and'), 675),\n",
       " (('neck', 'and'), 674),\n",
       " (('package', 'label'), 665),\n",
       " (('look', 'at'), 660),\n",
       " (('the', 'lower'), 658),\n",
       " (('to', 'play'), 658),\n",
       " (('responsible', 'for'), 657),\n",
       " (('an', 'item'), 655),\n",
       " (('your', 'item'), 653),\n",
       " (('the', 'frets'), 648),\n",
       " (('ebay', \"'s\"), 644),\n",
       " (('hard', 'shell'), 636),\n",
       " (('payment', 'is'), 626),\n",
       " (('the', 'cost'), 624),\n",
       " (('scratches', 'and'), 616),\n",
       " (('business', 'days'), 615),\n",
       " (('make', 'sure'), 614),\n",
       " (('you', 'may'), 614),\n",
       " (('solid', 'wood'), 611),\n",
       " (('plays', 'great'), 611),\n",
       " (('neck', 'with'), 608),\n",
       " (('the', 'right'), 606),\n",
       " (('we', 'offer'), 603),\n",
       " (('shipping', 'is'), 600),\n",
       " (('within', '3'), 598),\n",
       " (('shell', 'case'), 597),\n",
       " (('our', 'items'), 593),\n",
       " (('guitar', 'in'), 590),\n",
       " (('serial', 'number'), 589),\n",
       " (('ask', 'any'), 586),\n",
       " (('due', 'to'), 585),\n",
       " (('gibson', 'les'), 584),\n",
       " (('the', 'following'), 583),\n",
       " (('and', 'plays'), 583),\n",
       " (('only', 'ship'), 579),\n",
       " (('plays', 'and'), 577),\n",
       " (('sold', 'as'), 576),\n",
       " (('us', 'before'), 574),\n",
       " (('hardshell', 'case'), 573),\n",
       " (('no', 'reserve'), 573),\n",
       " (('please', 'do'), 571),\n",
       " (('shown', 'in'), 571),\n",
       " (('the', 'case'), 561),\n",
       " (('scale', 'length'), 560),\n",
       " (('may', 'have'), 560),\n",
       " (('i', \"'m\"), 558),\n",
       " (('bridge', 'and'), 558),\n",
       " (('the', 'time'), 557),\n",
       " (('stratocaster', 'fender'), 556),\n",
       " (('the', 'headstock'), 555),\n",
       " (('to', 'ask'), 554),\n",
       " (('all', 'original'), 554),\n",
       " (('very', 'nice'), 554),\n",
       " (('rosewood', 'fingerboard'), 553),\n",
       " (('note', 'that'), 551),\n",
       " (('brand', 'new'), 550),\n",
       " (('tested', 'and'), 550),\n",
       " (('number', 'of'), 543),\n",
       " (('sale', 'is'), 543),\n",
       " (('please', 'read'), 543),\n",
       " (('these', 'charges'), 540),\n",
       " (('need', 'to'), 538),\n",
       " (('the', 'first'), 538),\n",
       " (('well', 'as'), 537),\n",
       " (('like', 'new'), 537),\n",
       " (('mint', 'condition'), 534),\n",
       " (('to', 'us'), 534),\n",
       " (('the', 'package'), 534),\n",
       " (('see', 'the'), 532),\n",
       " (('maple', 'top'), 529),\n",
       " (('present', 'on'), 526),\n",
       " (('international', 'shipping'), 521),\n",
       " (('guitar', 'and'), 520),\n",
       " (('shipped', 'with'), 520),\n",
       " (('nut', 'width'), 519),\n",
       " (('to', 'get'), 519),\n",
       " (('mahogany', 'body'), 517),\n",
       " (('frets', 'are'), 516),\n",
       " (('contact', 'me'), 515),\n",
       " (('to', 'see'), 515),\n",
       " (('right', 'to'), 515),\n",
       " (('esp', 'ltd'), 513),\n",
       " (('condition', 'with'), 512),\n",
       " (('a', 'new'), 511),\n",
       " (('your', 'country'), 507),\n",
       " (('and', 'neck'), 507),\n",
       " (('condition', 'and'), 506),\n",
       " (('this', 'one'), 506),\n",
       " (('ready', 'to'), 505),\n",
       " (('shipping', 'to'), 505),\n",
       " (('with', 'confidence'), 503),\n",
       " (('is', 'straight'), 499),\n",
       " (('on', 'ebay'), 499),\n",
       " (('6', 'string'), 499),\n",
       " (('the', 'printed'), 498),\n",
       " (('printed', 'package'), 498),\n",
       " (('days', 'after'), 497),\n",
       " (('please', 'feel'), 497),\n",
       " (('the', 'finish'), 496),\n",
       " (('pay', 'for'), 494),\n",
       " (('case', 'is'), 494)]"
      ]
     },
     "execution_count": 186,
     "metadata": {},
     "output_type": "execute_result"
    }
   ],
   "source": [
    "articles_freqdist = FreqDist(docs_concat)\n",
    "articles_freqdist.most_common(200)"
   ]
  },
  {
   "cell_type": "code",
   "execution_count": 187,
   "metadata": {},
   "outputs": [],
   "source": [
    "vectorizer = TfidfVectorizer()"
   ]
  },
  {
   "cell_type": "code",
   "execution_count": null,
   "metadata": {},
   "outputs": [],
   "source": []
  }
 ],
 "metadata": {
  "kernelspec": {
   "display_name": "Python [conda env:Bayes]",
   "language": "python",
   "name": "conda-env-Bayes-py"
  },
  "language_info": {
   "codemirror_mode": {
    "name": "ipython",
    "version": 3
   },
   "file_extension": ".py",
   "mimetype": "text/x-python",
   "name": "python",
   "nbconvert_exporter": "python",
   "pygments_lexer": "ipython3",
   "version": "3.6.6"
  }
 },
 "nbformat": 4,
 "nbformat_minor": 2
}
