{
 "cells": [
  {
   "cell_type": "code",
   "execution_count": 1,
   "metadata": {},
   "outputs": [],
   "source": [
    "import requests\n",
    "import json"
   ]
  },
  {
   "cell_type": "markdown",
   "metadata": {},
   "source": [
    "### Query Params for eBay's \"Completed Listings\" API Endpoint"
   ]
  },
  {
   "cell_type": "code",
   "execution_count": 2,
   "metadata": {},
   "outputs": [],
   "source": [
    "API_KEY = 'RobertBo-cinemaro-PRD-171ca9e35-af8bdcbb' # Enter your API Key/\"App ID\" Here. Mine was 40 chars long."
   ]
  },
  {
   "cell_type": "code",
   "execution_count": 3,
   "metadata": {},
   "outputs": [],
   "source": [
    "# FILM_CAMS = '15230'\n",
    "ELEC_GUITARS = '33034' # Category code for electric guitars on eBay."
   ]
  },
  {
   "cell_type": "code",
   "execution_count": 4,
   "metadata": {},
   "outputs": [],
   "source": [
    "USA = 'EBAY-US' # USA Marketplace only. API seems to start returning stuff from other markets eventually anyhow"
   ]
  },
  {
   "cell_type": "code",
   "execution_count": 5,
   "metadata": {},
   "outputs": [],
   "source": [
    "USED = '3000' # Just the code for item condition \"used\". This is the focus of this project."
   ]
  },
  {
   "cell_type": "code",
   "execution_count": 6,
   "metadata": {},
   "outputs": [],
   "source": [
    "ITEM_FILTER_0 = f'itemFilter(0).name=Condition&itemFilter(0).value={USED}' # Only used guitars\n",
    "ITEM_FILTER_1 = f'itemFilter(1).name=HideDuplicateItems&itemFilter(1).value=true' # No duplicate listings\n",
    "ITEM_FILTER_2 = f'itemFilter(2).name=MinPrice&itemFilter(2).value=499' # Only items that sold for > this value\n",
    "ITEM_FILTER_3 = f'itemFilter(3).name=MaxQuantity&itemFilter(3).value=1' # No lots or batch sales. One axe at a time\n",
    "ITEM_FILTER_4 = f'itemFilter(4).name=SoldItemsOnly&itemFilter(4).value=true' # Only looking at listings that sold.\n",
    "ITEM_FILTER_5 = f'itemFilter(5).name=ListingType&itemFilter(5).value=Auction' # Only looking at auctions.\n",
    "ITEM_FILTER_6 = f'itemFilter(6).name=MaxPrice&itemFilter(6).value=10000' # Only items that sold for < this value"
   ]
  },
  {
   "cell_type": "code",
   "execution_count": 7,
   "metadata": {},
   "outputs": [],
   "source": [
    "FIND_COMPLETED = 'findCompletedItems' # This is the eBay API endpoint service we'll be querying."
   ]
  },
  {
   "cell_type": "markdown",
   "metadata": {},
   "source": [
    "### Actual Query Function"
   ]
  },
  {
   "cell_type": "markdown",
   "metadata": {},
   "source": [
    "Here we go:"
   ]
  },
  {
   "cell_type": "code",
   "execution_count": 8,
   "metadata": {},
   "outputs": [],
   "source": [
    "def find_completed(PAGE):\n",
    "    '''Make a request to the eBay API and return the JSON text of this page number'''\n",
    "    r = requests.get(f'https://svcs.ebay.com/services/search/FindingService/v1?'\n",
    "                 f'OPERATION-NAME={FIND_COMPLETED}&'\n",
    "                 f'X-EBAY-SOA-SECURITY-APPNAME={API_KEY}&'\n",
    "                 f'RESPONSE-DATA-FORMAT=JSON&' # This value can be altered if you're not into JSON responses\n",
    "                 f'REST-PAYLOAD&'\n",
    "                 f'GLOBAL-ID={USA}&' # seems to prioritize the value you enter but returns other stuff too\n",
    "                 f'categoryId={ELEC_GUITARS}&' # Product category goes here\n",
    "                 f'descriptionSearch=true&' # More verbose responses\n",
    "                 f'{ITEM_FILTER_0}&'\n",
    "                 f'{ITEM_FILTER_1}&'\n",
    "                 f'{ITEM_FILTER_2}&' # Filters defined previously\n",
    "                 f'{ITEM_FILTER_3}&'\n",
    "                 f'{ITEM_FILTER_4}&'\n",
    "                 f'{ITEM_FILTER_5}&'\n",
    "                 f'{ITEM_FILTER_6}&'\n",
    "                 f'paginationInput.pageNumber={str(PAGE)}&' # value to be looped through when collecting lotsa data\n",
    "                 f'outputSelector=PictureURLLarge') # Why not grab the thumbnail URLs too. Could be cool\n",
    "    return r.json()['findCompletedItemsResponse'][0]['searchResult'][0]['item']"
   ]
  },
  {
   "cell_type": "markdown",
   "metadata": {},
   "source": [
    "### Which of these fields might be useful for a regression project?\n",
    "\n",
    "* itemID, for passing to getSingleItem API\n",
    "\n",
    "\n",
    "* NLP: Title\n",
    "\n",
    "\n",
    "* CNN: Thumbnail images\n",
    "\n",
    "\n",
    "* scalar: handlingTime\n",
    "* scalar: Duration (derive from start/end cols)\n",
    "* scalar: __convertedCurrentPrice__ - THIS IS THE INDEPENDENT VAR\n",
    "* scalar: return time window\n",
    "\n",
    "\n",
    "* ordinal: postal zip code, for fun kepler viz\n",
    "* ordinal: Start day of week (derive from start col)\n",
    "* ordinal: End day of week (derive from end col)\n",
    "\n",
    "\n",
    "* 1-hot: Seller Country\n",
    "* 1-hot: ShippingType\n",
    "* 1-hot: expeditedShipping\n",
    "* 1-hot: Returns Accepted"
   ]
  },
  {
   "cell_type": "markdown",
   "metadata": {},
   "source": [
    "***"
   ]
  },
  {
   "cell_type": "markdown",
   "metadata": {},
   "source": [
    "### What can we only get from the single-item API (below)?\n",
    "\n",
    "* NLP: Description text\n",
    "* NLP: Detailed __Condition__ Description\n",
    "* NLP: SubTitle\n",
    "\n",
    "\n",
    "* Scalar: Length of description text (non-html tags)\n",
    "* Scalar: Number of images on eBay normal\n",
    "* Scalar: Year of manufacture\n",
    "* Scalar: Seller.FeedbackScore\n",
    "* Scalar: Seller.PositiveFeedbackPercent\n",
    "* Scalar: ReturnsWithin number of days\n",
    "* Scalar: len(ExcludeShipToLocation) aka how many countries excluded?\n",
    "\n",
    "\n",
    "* 1-hot (or NLP?): Brand\n",
    "* 1-hot (or NLP?): Model\n",
    "* 1-hot: Right/left handed\n",
    "* 1-hot: Body color\n",
    "* 1-hot: Body material\n",
    "* 1-hot: String Config (6-string, etc)\n",
    "* 1-hot: Body type (Solid / hollow, etc)\n",
    "* 1-hot: Soundboard Style (arch / flat top etc)\n",
    "* 1-hot: Country of manufacture\n",
    "* 1-hot: Case\n",
    "* 1-hot: NewBestOffer\n",
    "* 1-hot: AutoPay"
   ]
  },
  {
   "cell_type": "markdown",
   "metadata": {},
   "source": [
    "### Item-Specific Queries, for More Features"
   ]
  },
  {
   "cell_type": "markdown",
   "metadata": {},
   "source": [
    "Beware, you only get 5000 queries a day, so don't loop on this too hard until you're persisting data."
   ]
  },
  {
   "cell_type": "code",
   "execution_count": 9,
   "metadata": {},
   "outputs": [],
   "source": [
    "def get_specs(AXE_ID):\n",
    "    '''Return the specifics of a single eBay auction. String input.'''\n",
    "    r2 = requests.get('http://open.api.ebay.com/shopping?'\n",
    "                    f'callname=GetSingleItem&'\n",
    "                    f'responseencoding=JSON&'\n",
    "                    f'appid={API_KEY}&'\n",
    "                    f'siteid=0&' # USA Store\n",
    "                    f'version=967&' # What is this?\n",
    "                    f'ItemID={AXE_ID}&' # Assigned above\n",
    "                    f'IncludeSelector=Details,ItemSpecifics,TextDescription')\n",
    "    return r2.json()['Item']"
   ]
  },
  {
   "cell_type": "markdown",
   "metadata": {},
   "source": [
    "Seems like there's some variability between items when it comes to item specifics field."
   ]
  },
  {
   "cell_type": "markdown",
   "metadata": {},
   "source": [
    "### Persisting some Data for Analysis"
   ]
  },
  {
   "cell_type": "markdown",
   "metadata": {},
   "source": [
    "Just write first page of listing results to .json files:"
   ]
  },
  {
   "cell_type": "code",
   "execution_count": 10,
   "metadata": {},
   "outputs": [],
   "source": [
    "def persist_page_to_json(PAGE):\n",
    "    '''Saves a page of JSON responses to one json per axe'''\n",
    "    for i in range(len(PAGE)):\n",
    "        with open(\"axe_listings/axe_%s.json\" % (PAGE[i]['itemId'][0]), 'w') as f:  # writing JSON object\n",
    "            json.dump(PAGE[i], f)"
   ]
  },
  {
   "cell_type": "markdown",
   "metadata": {},
   "source": [
    "Now write one page of details to a JSON:"
   ]
  },
  {
   "cell_type": "code",
   "execution_count": 11,
   "metadata": {},
   "outputs": [],
   "source": [
    "def persist_spec_to_json(spec):\n",
    "    '''Writes one page of Axe Specs to one json'''\n",
    "    with open(\"axe_specs/axe_%s.json\" % (spec['ItemID']), 'w') as f:  # writing JSON object\n",
    "        json.dump(spec, f)\n",
    "    pass"
   ]
  },
  {
   "cell_type": "markdown",
   "metadata": {},
   "source": [
    "Okay, careful, this is where we start to hammer the eBay API a little bit."
   ]
  },
  {
   "cell_type": "code",
   "execution_count": 12,
   "metadata": {
    "scrolled": true
   },
   "outputs": [],
   "source": [
    "def slam_the_api(num_pages):\n",
    "    '''Slams the eBay API for i pages of AXE DATA'''\n",
    "    for i in range(1, num_pages+1):\n",
    "        page = find_completed(i)\n",
    "        persist_page_to_json(page)\n",
    "        for axe in page:\n",
    "            persist_spec_to_json(get_specs(axe['itemId'][0]))"
   ]
  },
  {
   "cell_type": "code",
   "execution_count": 14,
   "metadata": {},
   "outputs": [],
   "source": [
    "slam_the_api(5)"
   ]
  },
  {
   "cell_type": "code",
   "execution_count": null,
   "metadata": {},
   "outputs": [],
   "source": []
  }
 ],
 "metadata": {
  "kernelspec": {
   "display_name": "Python [conda env:Bayes]",
   "language": "python",
   "name": "conda-env-Bayes-py"
  },
  "language_info": {
   "codemirror_mode": {
    "name": "ipython",
    "version": 3
   },
   "file_extension": ".py",
   "mimetype": "text/x-python",
   "name": "python",
   "nbconvert_exporter": "python",
   "pygments_lexer": "ipython3",
   "version": "3.6.6"
  }
 },
 "nbformat": 4,
 "nbformat_minor": 2
}
