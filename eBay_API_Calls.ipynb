{
 "cells": [
  {
   "cell_type": "code",
   "execution_count": 2,
   "metadata": {},
   "outputs": [],
   "source": [
    "import requests"
   ]
  },
  {
   "cell_type": "markdown",
   "metadata": {},
   "source": [
    "### Query Params for eBay's \"Completed Listings\" API Endpoint"
   ]
  },
  {
   "cell_type": "code",
   "execution_count": 3,
   "metadata": {},
   "outputs": [],
   "source": [
    "API_KEY = 'RobertBo-cinemaro-PRD-171ca9e35-af8bdcbb' # Enter your API Key/\"App ID\" Here. Mine was 40 chars long."
   ]
  },
  {
   "cell_type": "code",
   "execution_count": 4,
   "metadata": {},
   "outputs": [],
   "source": [
    "# FILM_CAMS = '15230'\n",
    "ELEC_GUITARS = '33034' # Category code for electric guitars on eBay."
   ]
  },
  {
   "cell_type": "code",
   "execution_count": 5,
   "metadata": {},
   "outputs": [],
   "source": [
    "COUNTRY = 'EBAY-US' # USA Marketplace only. API seems to start returning stuff from other markets eventually anyhow"
   ]
  },
  {
   "cell_type": "code",
   "execution_count": 6,
   "metadata": {},
   "outputs": [],
   "source": [
    "USED = '3000' # Just the code for item condition \"used\". This is the focus of this project."
   ]
  },
  {
   "cell_type": "code",
   "execution_count": 7,
   "metadata": {},
   "outputs": [],
   "source": [
    "ITEM_FILTER_0 = f'itemFilter(0).name=Condition&itemFilter(0).value={USED}' # Only used guitars\n",
    "ITEM_FILTER_1 = f'itemFilter(1).name=HideDuplicateItems&itemFilter(1).value=true' # No duplicate listings\n",
    "ITEM_FILTER_2 = f'itemFilter(2).name=MinPrice&itemFilter(2).value=249' # Only items that sold for > this value\n",
    "ITEM_FILTER_3 = f'itemFilter(3).name=MaxQuantity&itemFilter(3).value=1' # No lots or batch sales. One axe at a time\n",
    "ITEM_FILTER_4 = f'itemFilter(4).name=SoldItemsOnly&itemFilter(4).value=true' # Only looking at listings that sold.\n",
    "ITEM_FILTER_5 = f'itemFilter(5).name=ListingType&itemFilter(5).value=Auction' # Only looking at auctions."
   ]
  },
  {
   "cell_type": "code",
   "execution_count": 8,
   "metadata": {},
   "outputs": [],
   "source": [
    "FIND_COMPLETED = 'findCompletedItems' # This is the eBay API endpoint service we'll be querying."
   ]
  },
  {
   "cell_type": "markdown",
   "metadata": {},
   "source": [
    "### Actual Query"
   ]
  },
  {
   "cell_type": "code",
   "execution_count": 9,
   "metadata": {},
   "outputs": [],
   "source": [
    "PAGE = str(3) # This value is currently static but will be looped when it's time to persist some data"
   ]
  },
  {
   "cell_type": "markdown",
   "metadata": {},
   "source": [
    "Here we go:"
   ]
  },
  {
   "cell_type": "code",
   "execution_count": null,
   "metadata": {},
   "outputs": [],
   "source": [
    "# r = requests.get(f'https://svcs.ebay.com/services/search/FindingService/v1?'\n",
    "#                  f'OPERATION-NAME={FIND_COMPLETED}&'\n",
    "#                  f'X-EBAY-SOA-SECURITY-APPNAME={API_KEY}&'\n",
    "#                  f'RESPONSE-DATA-FORMAT=JSON&' # This value can be altered if you're not into JSON responses\n",
    "#                  f'REST-PAYLOAD&'\n",
    "#                  f'GLOBAL-ID={COUNTRY}&' # seems to prioritize the value you enter but returns other stuff too\n",
    "#                  f'categoryId={ELEC_GUITARS}&' # Product category goes here\n",
    "#                  f'descriptionSearch=true&' # More verbose responses\n",
    "#                  f'{ITEM_FILTER_0}&'\n",
    "#                  f'{ITEM_FILTER_1}&'\n",
    "#                  f'{ITEM_FILTER_2}&' # Filters defined previously\n",
    "#                  f'{ITEM_FILTER_3}&'\n",
    "#                  f'{ITEM_FILTER_4}&'\n",
    "#                  f'{ITEM_FILTER_5}&'\n",
    "#                  f'paginationInput.pageNumber={PAGE}&' # value to be looped through when collecting lotsa data\n",
    "#                  f'outputSelector=PictureURLLarge') # Why not grab the thumbnail URLs too. Could be cool"
   ]
  },
  {
   "cell_type": "code",
   "execution_count": null,
   "metadata": {},
   "outputs": [],
   "source": [
    "listo = r.json()"
   ]
  },
  {
   "cell_type": "code",
   "execution_count": null,
   "metadata": {},
   "outputs": [],
   "source": [
    "listo['findCompletedItemsResponse'][0]['searchResult'][0]['@count'] # Number of listings returned by this query"
   ]
  },
  {
   "cell_type": "code",
   "execution_count": null,
   "metadata": {},
   "outputs": [],
   "source": [
    "item = listo['findCompletedItemsResponse'][0]['searchResult'][0]['item'][98] # Inspecting the last item of response\n",
    "item"
   ]
  },
  {
   "cell_type": "code",
   "execution_count": 10,
   "metadata": {},
   "outputs": [
    {
     "ename": "NameError",
     "evalue": "name 'item' is not defined",
     "output_type": "error",
     "traceback": [
      "\u001b[0;31m---------------------------------------------------------------------------\u001b[0m",
      "\u001b[0;31mNameError\u001b[0m                                 Traceback (most recent call last)",
      "\u001b[0;32m<ipython-input-10-38374fa6b808>\u001b[0m in \u001b[0;36m<module>\u001b[0;34m\u001b[0m\n\u001b[0;32m----> 1\u001b[0;31m \u001b[0mITEM_ID\u001b[0m \u001b[0;34m=\u001b[0m \u001b[0mitem\u001b[0m\u001b[0;34m[\u001b[0m\u001b[0;34m'itemId'\u001b[0m\u001b[0;34m]\u001b[0m\u001b[0;34m[\u001b[0m\u001b[0;36m0\u001b[0m\u001b[0;34m]\u001b[0m \u001b[0;31m# Just grabbing some item's ID to check it on the item-specific API (soon)\u001b[0m\u001b[0;34m\u001b[0m\u001b[0m\n\u001b[0m\u001b[1;32m      2\u001b[0m \u001b[0mITEM_ID\u001b[0m\u001b[0;34m\u001b[0m\u001b[0m\n",
      "\u001b[0;31mNameError\u001b[0m: name 'item' is not defined"
     ]
    }
   ],
   "source": [
    "ITEM_ID = item['itemId'][0] # Just grabbing some item's ID to check it on the item-specific API (soon)\n",
    "ITEM_ID"
   ]
  },
  {
   "cell_type": "markdown",
   "metadata": {},
   "source": [
    "### Which of these fields might be useful for a regression project?\n",
    "\n",
    "* itemID, for passing to getSingleItem API\n",
    "\n",
    "\n",
    "* NLP: Title\n",
    "* NLP: SubTitle\n",
    "\n",
    "\n",
    "* CNN: Thumbnail images\n",
    "\n",
    "\n",
    "* scalar: Shipping Cost\n",
    "* scalar: handlingTime\n",
    "* scalar: Duration (derive from start/end cols)\n",
    "* scalar: __convertedCurrentPrice__ - THIS IS THE INDEPENDENT VAR\n",
    "\n",
    "\n",
    "* 1-hot: Payment method\n",
    "* 1-hot: Seller Country\n",
    "* 1-hot: ShippingType\n",
    "* 1-hot: shipToLocations\n",
    "* 1-hot: expeditedShipping\n",
    "* 1-hot: oneDayShippingAvailable\n",
    "* 1-hot: bestOfferEnabled\n",
    "* 1-hot: Day of week (derive from start/end cols)\n",
    "* 1-hot: Returns Accepted\n",
    "* 1-hot: isMultiVariation (? What is that)\n",
    "* 1-hot: topRatedListing (? what is that)"
   ]
  },
  {
   "cell_type": "markdown",
   "metadata": {},
   "source": [
    "***"
   ]
  },
  {
   "cell_type": "markdown",
   "metadata": {},
   "source": [
    "### What can we only get from the single-item API (below)?\n",
    "\n",
    "* NLP: Description text\n",
    "* NLP: Detailed __Condition__ Description\n",
    "\n",
    "\n",
    "* Scalar: Length of description text (non-html tags)\n",
    "* Scalar: Number of images on eBay normal\n",
    "* Scalar: Year of manufacture\n",
    "* Scalar: Seller.FeedbackScore\n",
    "* Scalar: Seller.PositiveFeedbackPercent\n",
    "* Scalar: ReturnsWithin number of days\n",
    "* Scalar: len(ExcludeShipToLocation) aka how many countries excluded?\n",
    "\n",
    "\n",
    "* 1-hot (or NLP?): Brand\n",
    "* 1-hot (or NLP?): Model\n",
    "* 1-hot: Right/left handed\n",
    "* 1-hot: Body color\n",
    "* 1-hot: Body material\n",
    "* 1-hot: String Config (6-string, etc)\n",
    "* 1-hot: Body type (Solid / hollow, etc)\n",
    "* 1-hot: Soundboard Style (arch / flat top etc)\n",
    "* 1-hot: Country of manufacture\n",
    "* 1-hot: Case\n",
    "* 1-hot: NewBestOffer\n",
    "* 1-hot: AutoPay"
   ]
  },
  {
   "cell_type": "markdown",
   "metadata": {},
   "source": [
    "### Item-Specific Queries, for More Features"
   ]
  },
  {
   "cell_type": "markdown",
   "metadata": {},
   "source": [
    "Beware, you only get 5000 queries a day, so don't mash on this too hard."
   ]
  },
  {
   "cell_type": "code",
   "execution_count": null,
   "metadata": {},
   "outputs": [],
   "source": [
    "# r2 = requests.get('http://open.api.ebay.com/shopping?'\n",
    "#                     f'callname=GetSingleItem&'\n",
    "#                     f'responseencoding=JSON&'\n",
    "#                     f'appid={API_KEY}&'\n",
    "#                     f'siteid=0&' # USA Store\n",
    "#                     f'version=967&' # What is this?\n",
    "#                     f'ItemID={ITEM_ID}&' # Assigned above\n",
    "#                     f'IncludeSelector=Details,ItemSpecifics,TextDescription')"
   ]
  },
  {
   "cell_type": "markdown",
   "metadata": {},
   "source": [
    "Seems like there's some variability between items when it comes to item specifics field."
   ]
  },
  {
   "cell_type": "code",
   "execution_count": null,
   "metadata": {
    "scrolled": false
   },
   "outputs": [],
   "source": [
    "r2.json()['Item']"
   ]
  },
  {
   "cell_type": "code",
   "execution_count": null,
   "metadata": {},
   "outputs": [],
   "source": []
  }
 ],
 "metadata": {
  "kernelspec": {
   "display_name": "Python [conda env:Bayes]",
   "language": "python",
   "name": "conda-env-Bayes-py"
  },
  "language_info": {
   "codemirror_mode": {
    "name": "ipython",
    "version": 3
   },
   "file_extension": ".py",
   "mimetype": "text/x-python",
   "name": "python",
   "nbconvert_exporter": "python",
   "pygments_lexer": "ipython3",
   "version": "3.6.6"
  }
 },
 "nbformat": 4,
 "nbformat_minor": 2
}
